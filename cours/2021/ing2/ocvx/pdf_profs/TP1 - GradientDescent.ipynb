{
 "cells": [
  {
   "cell_type": "markdown",
   "metadata": {},
   "source": [
    "# TP I : Descentes de Gradient\n",
    "\n",
    "Ce TP vise à apporter les éléments nécessaires pour comprendre les implementations des descentes de gradients, du moins dans un premier cadre naïf. **C'est un *TP à trous* ; il s'agira de compléter ces trous pour un rendu au plus tard le dimanche 30 août 2020.**\n",
    "\n",
    "Voici un aperçu des points abordés lors de ce TP.\n",
    "\n",
    "- Un set de fonctions tests: comment se donne-t-on une fonction numérique? \n",
    "- Calculer le gradient d'une fonction: coder une solution en dur ou calcul approché?\n",
    "- La classe GD: une classe qui sert d'interface pour toutes les descentes qu'on souhaite implémenter. \n",
    "- La Descente de Gradient :\n",
    "    - Calcul du pas : pas constant, *Backtracking*\n",
    "    - Choix de norme : la classique, la norme $1$\n",
    "    - Sensibilité aux points initiaux\n",
    "    - Sensibilité aux nombres de conditionnement\n",
    "    - Accélération : Momentum, Nesterov, Adam.\n",
    "- Cas d'application classique: la régression linéaire.\n",
    "- La Méthode de Newton : \n",
    "    - La classe MN\n",
    "    - Comparaison à la GD.\n",
    "- Face aux contraintes d'égalité.\n"
   ]
  },
  {
   "cell_type": "markdown",
   "metadata": {},
   "source": [
    "## Attendus de rendu\n",
    "\n",
    "Vous êtes invités à compléter ce TP et à le prolonger par le travail qui vous est suggéré. Votre rendu sera jugé à l'aune de\n",
    "\n",
    "- votre capacité à produire des algorithmes valides, répondant à la question posée\n",
    "- l'étude effectuée concernant la sensibilité de vos algorithmes aux hyperparamètres / conditions initiales\n",
    "- l'analyse comparative proposée quant aux différentes implémentations suggérées \n",
    "- les stress-tests auxquels vous aurez confrontés vos implémentations. \n",
    "\n",
    "On portera une attention particulière à la *généricité* de votre réponse ; tout comme cela vous est suggéré par la suite on attendra de vous d'appuyer vos affirmations par suffisamment de tests et une appréciation pour les limites de votre analyse.\n",
    "\n",
    "Ce TP est à rendre par **groupes de 3** et exceptionnellement **2**. Il sera complété d'une soutenance portant sur l'ensemble des TPs."
   ]
  },
  {
   "cell_type": "markdown",
   "metadata": {},
   "source": [
    "# Au travail!"
   ]
  },
  {
   "cell_type": "code",
   "execution_count": null,
   "metadata": {},
   "outputs": [],
   "source": [
    "import warnings\n",
    "import math\n",
    "import numpy as np"
   ]
  },
  {
   "cell_type": "markdown",
   "metadata": {},
   "source": [
    "## Un set de fonctions tests\n",
    "\n",
    "Il y a différentes facons de se donner une fonction numérique en machine :\n",
    "\n",
    "- Symboliquement : on se donne une expression symbolique représentant des sommes, différences, produits, quotients et composées de fonctions usuelles.  Dans ce cadre, l'opération de dérivation est symbolique et les dérivées obtenues par ce biais sont exactes. Une opération d'évaluation est nécessaire pour passer de l'écriture symbolique d'une fonction au calcul de la valeur qu'elle prend en un point. Vous pouvez vous attarder sur la bibliothèque `sympy` sous python, pour plus de détails.\n",
    "\n",
    "- Numériquement : on envisage une fonction au sens algorithmique du terme, la particularité étant qu'elle a des entrées `floats` et une sortie du même type. Des approximations des fonctions usuelles sont implémentées dans les bibliothèques `math` et `numpy` de python. Dans un soucis de vectorialisation des opérations mathématiques, c'est la seconde bibliothèque qui est utilisée. Évaluer une fonction en un point consiste à appeler celle-ci avec les bonnes entrées flottantes. La dérivée d'une fonction en ce sens est une fonction au même sens qui s'exrime pour une entrée donnée à l'aide d'appels à la fonction de départ. \n",
    "\n",
    "- Par approximation : on se préoccupe nullement de la valeur de la fonction en tout point, il nous suffit d'avoir une liste de couples (entrée, sortie) ou encore (point, image) composées de flottants. Dans ce cas on approche les dérivées par les tangentes des droites joignants deux points successifs. \n",
    "\n",
    "Dans ce TP notre choix s'arrête sur la plus intuitives des démarches ; l'aspect *fonction au sens informatique du terme*. Vous êtes invités, si vous le souhaitez, à explorer les autres représentations et éventuellement les comparer à celui-ci."
   ]
  },
  {
   "cell_type": "markdown",
   "metadata": {},
   "source": [
    "### Structure de données\n",
    "\n",
    "On va se donner un ensemble de familles de fonctions ; une famille de fonctions est donnée par une classe qui wrap les attributs:\n",
    "\n",
    "- `name` : une `str` qui contient le nom de la fonction. \n",
    "- `convex` : `bool` spécifiant si la famille de fonction est convexe ou non.\n",
    "- `dim` : `int` la dimension de l'espace de départ.\n",
    "- `nb_params` : nombre de paramètres de la famille.\n",
    "- `value` : une fonction qui prend en entrée un `numpy` array et renvoie un `float` en sortie.\n",
    "- `grad` : fonction gradient de `function`.\n",
    "- `hess` : fonction hessienne de `function`.\n",
    "- `HCN` : fonction nombre de conditionnement de la hessienne de `function`.\n"
   ]
  },
  {
   "cell_type": "code",
   "execution_count": null,
   "metadata": {},
   "outputs": [],
   "source": [
    "class test_family():\n",
    "    \n",
    "    def __init__(self, name, value, dim, nb_params, convex=None, grad=None, hess=None, HCN=None):\n",
    "        self.name = name\n",
    "        self.value = value\n",
    "        self.dim = dim\n",
    "        self.nb_params = nb_params\n",
    "        self.convex = convex\n",
    "        self.grad = grad\n",
    "        self.hess = hess\n",
    "        self.HCN = HCN"
   ]
  },
  {
   "cell_type": "markdown",
   "metadata": {},
   "source": [
    "### Fonctions du set de test"
   ]
  },
  {
   "cell_type": "code",
   "execution_count": null,
   "metadata": {},
   "outputs": [],
   "source": [
    "from matplotlib import pyplot as plt\n",
    "import seaborn as sns"
   ]
  },
  {
   "cell_type": "code",
   "execution_count": null,
   "metadata": {},
   "outputs": [],
   "source": [
    "sns.set_style(\"whitegrid\")"
   ]
  },
  {
   "cell_type": "markdown",
   "metadata": {},
   "source": [
    "1. Définir des familles de fonctions *convexes* sur $\\mathbb{R}$ ayant un nombre de conditionnement uniquement dépendant des paramètres de la famille.  "
   ]
  },
  {
   "cell_type": "code",
   "execution_count": null,
   "metadata": {},
   "outputs": [],
   "source": [
    "quad_I_d = {\n",
    "    \"name\": \"quadratic_1\",\n",
    "    \"dim\" : 1,\n",
    "    \"nb_params\" : 1,\n",
    "    \"convex\" : True,\n",
    "    \"value\" : (lambda x, gamma: gamma*(x**2) + x + 1),\n",
    "    \"grad\"  : (lambda x, gamma: 2*gamma*x + 1),\n",
    "    \"hess\"  : (lambda x, gamma: 2*gamma),\n",
    "    \"HCN\"   : (lambda x, gamma: 1 ) \n",
    "}\n",
    "\n",
    "quad_I = test_family(**quad_I_d)"
   ]
  },
  {
   "cell_type": "code",
   "execution_count": null,
   "metadata": {},
   "outputs": [],
   "source": [
    "fig, ax = plt.subplots(figsize=(16, 9))\n",
    "x = np.linspace(-10, 10, 400)\n",
    "ax.set_ylim(-1, 50)\n",
    "for gamma in range(5, 50, 5):\n",
    "    ax.plot(x, quad_I.value(x, gamma), label=\"gamma: {}\".format(gamma))\n",
    "ax.set_title(\"Famille quadratiques en dimension 1\")\n",
    "ax.legend()"
   ]
  },
  {
   "cell_type": "code",
   "execution_count": null,
   "metadata": {},
   "outputs": [],
   "source": [
    "cubic_I_d = { \n",
    "    \"name\": \"cubic_1\",\n",
    "    \"dim\" : 1,\n",
    "    \"nb_params\" : 1,\n",
    "    \"convex\" : False,\n",
    "    \"value\" : (lambda x, gamma: x**3 + gamma*x**2 + x + 1),\n",
    "    \"grad\"  : (lambda x, gamma: 3*x**2 + 2*gamma*x + 1),\n",
    "    \"hess\"  : (lambda x, gamma: 6*x + 2*gamma),\n",
    "    \"HCN\"   : (lambda x, gamma: 1 ) \n",
    "}\n",
    "\n",
    "cubic_I = test_family(**cubic_I_d)"
   ]
  },
  {
   "cell_type": "code",
   "execution_count": null,
   "metadata": {},
   "outputs": [],
   "source": [
    "fig, ax = plt.subplots(figsize=(16, 9))\n",
    "x = np.linspace(-10, 10, 400)\n",
    "ax.set_ylim(-1, 100)\n",
    "for gamma in range(0, 11, 1):\n",
    "    ax.plot(x, cubic_I.value(x, gamma), label=\"gamma: {}\".format(gamma))\n",
    "ax.set_title(\"Famille cubique en dimension 1\")\n",
    "ax.legend()"
   ]
  },
  {
   "cell_type": "code",
   "execution_count": null,
   "metadata": {},
   "outputs": [],
   "source": [
    "exp_I_d = {\n",
    "    \"name\": \"exp_1\",\n",
    "    \"dim\" : 1,\n",
    "    \"nb_params\" : 1,\n",
    "    \"convex\" : True ,\n",
    "    \"value\" : (lambda x, gamma: np.exp(gamma*x) + np.exp(-gamma*x)),\n",
    "    \"grad\"  : (lambda x, gamma: gamma*(np.exp(gamma*x) - np.exp(-gamma*x))),\n",
    "    \"hess\"  : (lambda x, gamma: (gamma**2)*(np.exp(gamma*x) + np.exp(-gamma*x))),\n",
    "    \"HCN\"   : (lambda x, gamma: 1 )    \n",
    "}\n",
    "\n",
    "exp_I = test_family(**exp_I_d)"
   ]
  },
  {
   "cell_type": "code",
   "execution_count": null,
   "metadata": {},
   "outputs": [],
   "source": [
    "fig, ax = plt.subplots(figsize=(16, 9))\n",
    "x = np.linspace(-10, 10, 400)\n",
    "ax.set_ylim(-1, 100)\n",
    "params = np.linspace(0, 5, 20)\n",
    "for gamma in params:\n",
    "    ax.plot(x, exp_I.value(x, gamma), label=\"gamma: {}\".format(gamma))\n",
    "ax.set_title(\"Famille en cosinus hyperbolique en dimension 1\")\n",
    "ax.legend()"
   ]
  },
  {
   "cell_type": "code",
   "execution_count": null,
   "metadata": {},
   "outputs": [],
   "source": [
    "multi_sinks_d = {\n",
    "    \"name\": \"multi_sinks_1\",\n",
    "    \"dim\" : 1,\n",
    "    \"nb_params\" : 1,\n",
    "    \"convex\" : False ,\n",
    "    \"value\" : (lambda x, gamma: 20*np.cos(x**2) + (gamma * x**2)),\n",
    "    \"grad\"  : (lambda x, gamma: np.sin(x) + 2*gamma*x),\n",
    "    \"hess\"  : (lambda x, gamma: np.cos(x) + 2*gamma),\n",
    "    \"HCN\"   : (lambda x, gamma: 1 )  \n",
    "}\n",
    "\n",
    "multi_sinks = test_family(**multi_sinks_d)"
   ]
  },
  {
   "cell_type": "code",
   "execution_count": null,
   "metadata": {},
   "outputs": [],
   "source": [
    "fig, ax = plt.subplots(figsize=(16, 9))\n",
    "x = np.linspace(-10, 10, 400)\n",
    "ax.set_ylim(-100, 1000)\n",
    "for gamma in range(1, 11, 1):\n",
    "    ax.plot(x, multi_sinks.value(x, gamma), label=\"gamma: {}\".format(gamma))\n",
    "ax.set_title(\"Famille multi-puits en dimension 1\")\n",
    "ax.legend()"
   ]
  },
  {
   "cell_type": "markdown",
   "metadata": {},
   "source": [
    "2. Faire de même avec des fonctions sur $\\mathbb{R}^2$."
   ]
  },
  {
   "cell_type": "code",
   "execution_count": null,
   "metadata": {},
   "outputs": [],
   "source": [
    "quad_II_d = {\n",
    "    \"name\": \"quadric_2\",\n",
    "    \"dim\" : 2,\n",
    "    \"nb_params\" : 1,\n",
    "    \"convex\" : True ,\n",
    "    \"value\" : (lambda x, gamma: x[:, 0]**2 + gamma*x[:, 1]**2),\n",
    "    \"grad\"  : (lambda x, gamma: np.array([2*x[:, 0], 2*gamma*x[:, 1]]).reshape(1, -1)),\n",
    "    \"hess\"  : (lambda x, gamma: np.diag([2, 2*gamma])),\n",
    "    \"HCN\"   : (lambda x, gamma: gamma)\n",
    "}\n",
    "\n",
    "quad_II = test_family(**quad_II_d)"
   ]
  },
  {
   "cell_type": "code",
   "execution_count": null,
   "metadata": {},
   "outputs": [],
   "source": [
    "quad_II_d[\"grad\"](np.array([[5, 5]]), 1)"
   ]
  },
  {
   "cell_type": "code",
   "execution_count": null,
   "metadata": {
    "scrolled": false
   },
   "outputs": [],
   "source": [
    "nb_pts, x_mi, x_ma, y_mi, y_ma = 200, -2, 2, -2, 2\n",
    "fig, ax = plt.subplots(2, 1, figsize=(20, 40))\n",
    "x, y = np.linspace(x_mi, x_ma, nb_pts), np.linspace(x_mi, x_ma, nb_pts)\n",
    "X, Y = np.meshgrid(x, y)\n",
    "## Reshaping X, Y for proper evaluation by input function\n",
    "x_y = np.vstack([X.reshape(1, -1), Y.reshape(1, -1)]).reshape(1, 2, -1)\n",
    "for i in [0, 1]:\n",
    "    ax[i].set_xlim(x_mi, x_ma)\n",
    "    ax[i].set_ylim(y_mi, y_ma)\n",
    "ax[0].contour(X, Y, quad_II.value(x_y, 10).reshape(nb_pts, -1), 15)\n",
    "ax[1].contour(X, Y, quad_II.value(x_y, 1).reshape(nb_pts, -1), 15)"
   ]
  },
  {
   "cell_type": "markdown",
   "metadata": {},
   "source": [
    "3. Construire des familles de fonctions tests de dimensions de plus en plus grandes en fonction du paramètre. "
   ]
  },
  {
   "cell_type": "code",
   "execution_count": null,
   "metadata": {},
   "outputs": [],
   "source": []
  },
  {
   "cell_type": "markdown",
   "metadata": {},
   "source": [
    "4. Construire une `test_list` contenant la liste des familles de fonctions tests crées jusque là."
   ]
  },
  {
   "cell_type": "code",
   "execution_count": null,
   "metadata": {},
   "outputs": [],
   "source": [
    "test_list = [quad_I, cubic_I, exp_I, multi_sinks, quad_II]"
   ]
  },
  {
   "cell_type": "markdown",
   "metadata": {
    "collapsed": true
   },
   "source": [
    "## Différencier une fonction\n",
    "\n",
    "Pour calculer le gradient d'une fonction on a déjà besoin de savoir calculer la dérivée d'une fonction réelle. On s'intéresse à cette question dans cette section. Le point central est le fait qu'approcher numériquement la dérivée d'une fonction réelle est *prone* aux erreurs numériques ; on est souvent dans une meilleure posture lorsque l'on a une expression explicite pour le gradient d'une fonction."
   ]
  },
  {
   "cell_type": "markdown",
   "metadata": {},
   "source": [
    "### L'approche naïve"
   ]
  },
  {
   "cell_type": "markdown",
   "metadata": {
    "collapsed": true
   },
   "source": [
    "On rappelle que pour une fonction numérique le nombre dérivée d'une fonction $f : \\mathbb{R} \\to \\mathbb{R}$ en un point $x \\in \\mathbb{R}$ est donnée par la limite :\n",
    "\n",
    "$$ f'(x) = \\lim_{h \\to 0} \\frac{f(x+h)-f(x)}{h} $$\n",
    "\n",
    "quand celle-ci existe. D'un point de vue numérique une assez petite valeur $h$ donne un quotient suffisamment proche du nombre dérivée que l'on cherche. Ainsi pour $h$ assez petit on approche $f'(x)$ par \n",
    "\n",
    "$$ f'(x) \\simeq \\frac{f(x + h) - f(x)}{h} .$$\n",
    "\n",
    "L'erreur à l'approximation est en $o(1)$ en $0$. "
   ]
  },
  {
   "cell_type": "markdown",
   "metadata": {},
   "source": [
    "1. Coder une fonction `partial_` qui calcule la dérivée partielle d'une fonction à plusieurs variables en utilisant la démarche précédente."
   ]
  },
  {
   "cell_type": "code",
   "execution_count": null,
   "metadata": {},
   "outputs": [],
   "source": [
    "def partial_(f, x, i=0, dx=1e-6):\n",
    "    \"\"\"Computes i-th partial derivative of f at point x.\n",
    "    \n",
    "    Args:\n",
    "        f: objective function.\n",
    "        x: point at which partial derivative is computed.\n",
    "        i: coordinate along which derivative is computed.\n",
    "        dx: slack for finite difference.\n",
    "        \n",
    "    Output:\n",
    "        (float)\n",
    "\n",
    "    \"\"\"\n",
    "    x = x.reshape(1, -1)\n",
    "    h = np.zeros(x.shape)\n",
    "    h[0, i] = dx\n",
    "    return (f(x + h) - f(x)) / dx"
   ]
  },
  {
   "cell_type": "markdown",
   "metadata": {},
   "source": [
    "2. Tester votre fonction sur un exmple dont vous connaissez la dérivée partielle et comparer vos résutlats."
   ]
  },
  {
   "cell_type": "code",
   "execution_count": null,
   "metadata": {},
   "outputs": [],
   "source": [
    "partial_(lambda x: np.exp(x), np.array([100]))"
   ]
  },
  {
   "cell_type": "code",
   "execution_count": null,
   "metadata": {},
   "outputs": [],
   "source": [
    "np.exp(np.array([100]))"
   ]
  },
  {
   "cell_type": "markdown",
   "metadata": {},
   "source": [
    "**La différence est *petite* ou *grande*?**"
   ]
  },
  {
   "cell_type": "markdown",
   "metadata": {},
   "source": [
    "### Une démarche un peu moins naïve"
   ]
  },
  {
   "cell_type": "markdown",
   "metadata": {
    "collapsed": true
   },
   "source": [
    "On peut en réalité faire un peu mieux ; le nombre dérivée est également la limite \n",
    "\n",
    "$$ f'(x) = \\lim_{h \\to 0} \\frac{f(x+h)-f(x-h)}{2h} $$.\n",
    "\n",
    "On approche donc $f'(x)$ par \n",
    "\n",
    "$$f'(x) \\simeq \\frac{f(x+h)-f(x-h)}{2h}$$.\n",
    "\n",
    "La différence avec la première approximation résulte de l'écriture du DL du numérateur de cette seconde écriture (en supposant $f$ deux fois différentiable:\n",
    "\n",
    "$$f(x + h) - f(x - h) = (f(x) + hf'(x) + \\frac{h^2}{2}f''(x) + o(h^2)) - (f(x) - hf'(x) + \\frac{h^2}{2} f''(x) + o(h^2))$$\n",
    "\n",
    "Et donc:\n",
    "\n",
    "$$f(x + h) - f(x - h) = 2hf'(x) + o(h^2)$$.\n",
    "\n",
    "On trouve que l'erreur d'approximation dans le second cas est désormais $o(h)$ ; ce qui est supposé être une meilleure approximation que dans le premier cas.\n",
    "\n",
    "**Remarque : si l'on souhaite faire un calcul précis de l'erreur dans l'approximation de la dérivée de $f$ en un point on s'y prendrait pas tout à fait comme cela, nous ne donnons ici qu'une vague idée de la différence entre les deux démarches précédentes.**"
   ]
  },
  {
   "cell_type": "markdown",
   "metadata": {},
   "source": [
    "1. Utiliser la démarche précédente pour approcher la dérivée partielle d'une fonction en un point. Cette fonction sera notée `partial`."
   ]
  },
  {
   "cell_type": "code",
   "execution_count": null,
   "metadata": {},
   "outputs": [],
   "source": [
    "def partial(f, x, i=0, dx=1e-6):\n",
    "    \"\"\"Computes i-th partial derivative of f at point x.\n",
    "    \n",
    "    Args:\n",
    "        f: objective function.\n",
    "        x: point at which partial derivative is computed.\n",
    "        i: coordinate along which derivative is computed.\n",
    "        dx: slack for finite difference.\n",
    "        \n",
    "    Output:\n",
    "        (float)\n",
    "\n",
    "    \"\"\"\n",
    "    x = x.reshape(1, -1)\n",
    "    h = np.zeros(x.shape)\n",
    "    h[0, i] = dx\n",
    "    return (f(x + h) - f(x - h)) / (2*dx)"
   ]
  },
  {
   "cell_type": "markdown",
   "metadata": {},
   "source": [
    "2. Comparer `partial` à `partial_` et à l'expression exacte de la dérivée partielle d'une fonction de votre choix. "
   ]
  },
  {
   "cell_type": "code",
   "execution_count": null,
   "metadata": {},
   "outputs": [],
   "source": [
    "partial(lambda x: np.exp(x), np.array([100]))"
   ]
  },
  {
   "cell_type": "code",
   "execution_count": null,
   "metadata": {},
   "outputs": [],
   "source": [
    "np.exp(np.array([100]))"
   ]
  },
  {
   "cell_type": "markdown",
   "metadata": {},
   "source": [
    "Il est possible de raffiner d'avantage l'estimation de la dérivée d'une fonction en un point. On se contente de ces deux premières approches simples. Pour plus de détail vous pouvez vous référer au cours d'Analyse numérique de J-P. Demailly."
   ]
  },
  {
   "cell_type": "markdown",
   "metadata": {},
   "source": [
    "4. Effectuer des tests plus larges sur les divergences des différents schémas d'approximation précédents."
   ]
  },
  {
   "cell_type": "markdown",
   "metadata": {},
   "source": [
    "### Le calcul du gradient"
   ]
  },
  {
   "cell_type": "markdown",
   "metadata": {},
   "source": [
    "On sait déjà par la démarche précédente que l'approximation numérique de la dérivée partielle d'une fonction en un point sera difficilement meilleure qu'une expression exacte. Parfois on n'est pas en mesure de trouver facilement et à la main la dérivée partielle d'une fonction ; on se garde donc la possibilité de calculer numériquement le gradient d'une fonction."
   ]
  },
  {
   "cell_type": "markdown",
   "metadata": {},
   "source": [
    "- Écrire une fonction `gradient` qui renvoie le gradient d'une fonction en un point."
   ]
  },
  {
   "cell_type": "code",
   "execution_count": null,
   "metadata": {},
   "outputs": [],
   "source": [
    "def gradient(f, x, dx=1e-6):\n",
    "    \"\"\"Computes gradient of f at point x.\n",
    "    \n",
    "    Args:\n",
    "        f: objective function.\n",
    "        x: point at which gradient is computed.\n",
    "        dx: slack for finite difference of partial derivatives.\n",
    "        \n",
    "    Output:\n",
    "        (ndarray) of size domain of f.\n",
    "        \n",
    "    \"\"\"\n",
    "    x = x.reshape(1, -1)\n",
    "    dim = x.shape[1]\n",
    "    return np.array([partial(f, x, i, dx) for i in range(dim)]).reshape(1, -1)"
   ]
  },
  {
   "cell_type": "code",
   "execution_count": null,
   "metadata": {},
   "outputs": [],
   "source": [
    "gradient(lambda x: x[0, 0]**5 + x[0, 1]*2, np.array([1, 10]))"
   ]
  },
  {
   "cell_type": "markdown",
   "metadata": {},
   "source": [
    "## La classe `GD`\n",
    "\n",
    "La classe correspond à l'interface par laquelle on va implémenter et comparer les différentes variantes des descentes de gradients. L'objectif de cette section est de remplir les différents composants de calcul du principe qu'on a vu en cours. "
   ]
  },
  {
   "cell_type": "code",
   "execution_count": null,
   "metadata": {},
   "outputs": [],
   "source": [
    "class GD():\n",
    "    \"\"\"Gradient Descent Object.\n",
    "    \n",
    "    Implements gradient descent aiming to compute optimal objective \n",
    "    value of convex functions and local optimal ones of none \n",
    "    convex functions.\n",
    "    \n",
    "    \"\"\"    \n",
    "    def __init__(self, ddir=None, rate=None, decay=None, tol=None, max_iter=None):\n",
    "        \"\"\"        \n",
    "        Instantiates a GD object.\n",
    "    \n",
    "        Attributes:\n",
    "        ddir: function computing descent direction.\n",
    "        rate: function computing learning rate ; takes in\n",
    "              - x (ndarray): current iterate\n",
    "              - f (function): objective function\n",
    "              - dir_x (ndarray) : descent direction\n",
    "              - grad (function) : gradient function\n",
    "              - nb_iter (int): number of iterations.\n",
    "              - eta (float): hyper-parameter.\n",
    "        decay: function computing decay.\n",
    "        tol: slack tolerance.\n",
    "        max_iter: upper bound on number of iterations.\n",
    "    \n",
    "        \"\"\"\n",
    "        self.ddir = ddir if ddir else (lambda x, f, grad, tol: - grad(x, f, tol))\n",
    "        self.rate = rate if rate else (lambda x, f, dir_x, grad, nb_iter, eta : 0.01)\n",
    "        self.decay = decay if decay else (lambda x, f, grad, tol: np.linalg.norm(grad(x, f, tol)))\n",
    "        self.tol = tol if tol else 1e-6\n",
    "        self.max_iter = max_iter if max_iter else 1000\n",
    "    \n",
    "    def __call__(self, x, f, grad, verbose=False):\n",
    "        \"\"\"Calling gradient descent object with specific starting point and optimal function.\n",
    "        \n",
    "        Args:\n",
    "            x: initial starting point for descent.\n",
    "            f: objective function of optimisation problem.\n",
    "            grad: function outputing gradient value of function f at a given point.\n",
    "        \n",
    "        Output:\n",
    "            (float) sub-optimal value up to tolerance if execution is proper.\n",
    "            (ndarray) list of gradient descent iterates.\n",
    "            (ndarray) list of graidents of iterates.\n",
    "            (int) number of iterations.\n",
    "            \n",
    "        \"\"\"\n",
    "        x = x.reshape(1, -1)\n",
    "        eta = 0\n",
    "        n_iter = 0\n",
    "\n",
    "        dir_x = self.ddir(x, f, grad, self.tol)\n",
    "        rate_ = self.rate(x, f, dir_x, grad, n_iter, eta)\n",
    "        delta_x = rate_ * dir_x\n",
    "        iters, iters_dir = x, delta_x\n",
    "        \n",
    "        decay_x = self.decay(x, f, grad, self.tol)\n",
    "        while decay_x > self.tol and n_iter < self.max_iter:\n",
    "            ## Deciding on direction\n",
    "            dir_x = self.ddir(x, f, grad, self.tol)\n",
    "            rate_ = self.rate(x, f, dir_x, grad, n_iter, eta)\n",
    "            delta_x =  rate_ * dir_x\n",
    "            \n",
    "            # Storing iterates\n",
    "            iters = np.vstack([iters, x])\n",
    "            \n",
    "            ## Updating iterate\n",
    "            x = x + delta_x\n",
    "            \n",
    "            ## Storing directions\n",
    "            iters_dir = np.vstack([iters_dir, delta_x])\n",
    "            \n",
    "            ## Computing decay\n",
    "            decay_x = self.decay(x, f, grad, self.tol)\n",
    "            \n",
    "            ## Updating iteration number\n",
    "            n_iter += 1\n",
    "            \n",
    "        if decay_x > self.tol:\n",
    "            warnings.warn(\"Decay didn't get under tolerance rate.\", RuntimeWarning)\n",
    "        \n",
    "        if verbose:\n",
    "            msg = \" Iteration nu. = {}\\n approx. = {}\\n ob value = {}\\n and decay = {}.\"\n",
    "            print(msg.format(n_iter, x.flatten(), f(x), decay_x))\n",
    "        \n",
    "        return (x, iters, iters_dir, n_iter) "
   ]
  },
  {
   "cell_type": "markdown",
   "metadata": {},
   "source": [
    "### GD dans le cas d'un pas constant"
   ]
  },
  {
   "cell_type": "markdown",
   "metadata": {},
   "source": [
    "Pour être en mesure de faire nos premiers tests d'utilisation de `GD` il nous faut encore se préoccuper des quelques hyperparamètres à fixer. On commence en un premier temps par tester la descente de gradient classique à pas constants.\n",
    " "
   ]
  },
  {
   "cell_type": "markdown",
   "metadata": {},
   "source": [
    "1. Mettre les valeurs par défaut pour les attributs de `GD` de facon à obtenir une descente de gradients classique à pas constant et une condition d'arrêt donnée par le fait que le gradient en un point tombe en-deça d'un certain seuil de tolérance."
   ]
  },
  {
   "cell_type": "markdown",
   "metadata": {},
   "source": [
    "*Fait pour vous dans la GD, plus haut.*"
   ]
  },
  {
   "cell_type": "markdown",
   "metadata": {},
   "source": [
    "2. Tester cette descente de gradient classique sur les différentes fonctions tests. Répertorier dans un tableau le point initial de chaque descente, le nombre d'itérations, le pas choisi et la valeur objectif obtenue."
   ]
  },
  {
   "cell_type": "markdown",
   "metadata": {},
   "source": [
    "Cherchons d'abord à manipuler la classe qu'on vient de construire"
   ]
  },
  {
   "cell_type": "code",
   "execution_count": null,
   "metadata": {},
   "outputs": [],
   "source": [
    "GD_default = GD()"
   ]
  },
  {
   "cell_type": "code",
   "execution_count": null,
   "metadata": {},
   "outputs": [],
   "source": [
    "op_pt, iters, iters_dir, n_iter = GD_default(np.array([10]), (lambda x : quad_I.value (x, 2)), \n",
    "                                             (lambda x, f, tol : quad_I.grad (x, 2)), True)"
   ]
  },
  {
   "cell_type": "markdown",
   "metadata": {},
   "source": [
    "On peut visualiser dans lors de l'optimisation de problèmes de petites dimensions les itérés de la descente. `matplotlib` est là pour  vous aider dans votre démarche."
   ]
  },
  {
   "cell_type": "code",
   "execution_count": null,
   "metadata": {},
   "outputs": [],
   "source": [
    "fig, ax = plt.subplots(figsize=(16, 10))\n",
    "f = lambda x: quad_I.value (x, 1)\n",
    "x = np.linspace(-10, 10, 400)\n",
    "ax.set_ylim(-50, 400)\n",
    "ax.plot(x, f(x), \"k-\", label=\"Objective function\")\n",
    "# reshaping iters for input\n",
    "iters_reshape = iters.reshape(iters.shape[0], 1)\n",
    "ax.plot(iters_reshape, f(iters_reshape), 'r.', label=\"Iterates\")\n",
    "ax.quiver(iters_reshape, f(iters_reshape), iters_dir, -1, \n",
    "          color='r', scale=None, width=0.002, headwidth=5, headlength=10)\n",
    "ax.set_title(\"Gradient Descent in dimensin 1.\")\n",
    "ax.legend()"
   ]
  },
  {
   "cell_type": "markdown",
   "metadata": {},
   "source": [
    "On se contente ici de travailler avec les fonctions tests de dimension $1$. **À vous de généraliser.**"
   ]
  },
  {
   "cell_type": "code",
   "execution_count": null,
   "metadata": {},
   "outputs": [],
   "source": [
    "test_list_d1 = [test_family for test_family in test_list if test_family.dim == 1]"
   ]
  },
  {
   "cell_type": "code",
   "execution_count": null,
   "metadata": {},
   "outputs": [],
   "source": [
    "init_pt = np.array([1])"
   ]
  },
  {
   "cell_type": "code",
   "execution_count": null,
   "metadata": {},
   "outputs": [],
   "source": [
    "gamma = 1"
   ]
  },
  {
   "cell_type": "code",
   "execution_count": null,
   "metadata": {},
   "outputs": [],
   "source": [
    "cst_rate = 0.02"
   ]
  },
  {
   "cell_type": "code",
   "execution_count": null,
   "metadata": {},
   "outputs": [],
   "source": [
    "import pandas as pd"
   ]
  },
  {
   "cell_type": "code",
   "execution_count": null,
   "metadata": {},
   "outputs": [],
   "source": [
    "GD_test_summary = pd.DataFrame(columns=[\"init_pt\", \"rate\", \"optimal_pt\", \"nb_iter\"])\n",
    "GD_list = {}\n",
    "for t_function in test_list_d1:\n",
    "    idt = 0\n",
    "    GD_list[t_function.name] = GD(rate = lambda x, f, dir_x, grad, nb_iter, eta : cst_rate)\n",
    "    opt_pt, _, _, n_iter = GD_list[t_function.name](init_pt, \n",
    "                                                    (lambda x: t_function.value (x, gamma)), \n",
    "                                                    (lambda x, f, tol : t_function.grad(x, gamma)))\n",
    "    naming_format = \"{}_{}\".format(t_function.name, idt)\n",
    "    GD_test_summary.loc[naming_format] = pd.Series({\"init_pt\": init_pt, \n",
    "                                                     \"rate\": GD_list[t_function.name].rate (*[None]*6), \n",
    "                                                     \"optimal_pt\": opt_pt, \n",
    "                                                     \"nb_iter\": n_iter})\n",
    "    idt += 1\n",
    "GD_test_summary"
   ]
  },
  {
   "cell_type": "markdown",
   "metadata": {},
   "source": [
    "3. Étudier pour un sous-ensemble de votre choix la relation entre le pas de la descente et le nombre d'itérations. Prendre soins de bien vérifier que vous avez convergence."
   ]
  },
  {
   "cell_type": "code",
   "execution_count": null,
   "metadata": {},
   "outputs": [],
   "source": [
    "init_pt = np.array([10])"
   ]
  },
  {
   "cell_type": "code",
   "execution_count": null,
   "metadata": {},
   "outputs": [],
   "source": [
    "gammas = np.linspace(1, 10, 10)"
   ]
  },
  {
   "cell_type": "code",
   "execution_count": null,
   "metadata": {},
   "outputs": [],
   "source": [
    "cst_rates = np.linspace(0.01, 0.5, 200)"
   ]
  },
  {
   "cell_type": "code",
   "execution_count": null,
   "metadata": {},
   "outputs": [],
   "source": [
    "GD_rate_iter = pd.DataFrame(columns=[\"gamma\", \"rate\", \"optimal_pt\", \"optimal_val\", \"nb_iter\"])\n",
    "GD_list_ri = {}\n",
    "for t_function in test_list_d1:\n",
    "    for gamma in gammas:\n",
    "        idt = 0\n",
    "        for cst_rate in cst_rates:\n",
    "            GD_list_ri[t_function.name] = GD(rate = lambda x, f, dir_x, grad, nb_iter, eta : cst_rate)\n",
    "            opt_pt, _, _, n_iter = GD_list_ri[t_function.name](init_pt, \n",
    "                                                               (lambda x: t_function.value (x, gamma)), \n",
    "                                                               (lambda x, f, tol : t_function.grad(x, gamma)))\n",
    "            naming_format = \"{}_{}_{}\".format(t_function.name, idt, gamma)\n",
    "            GD_rate_iter.loc[naming_format] = pd.Series({\"gamma\": gamma, \n",
    "                                                         \"rate\": GD_list_ri[t_function.name].rate (*[None]*6), \n",
    "                                                         \"optimal_pt\": opt_pt,\n",
    "                                                         \"optimal_val\": t_function.value(opt_pt, gamma),\n",
    "                                                         \"nb_iter\": n_iter})\n",
    "            idt += 1"
   ]
  },
  {
   "cell_type": "code",
   "execution_count": null,
   "metadata": {},
   "outputs": [],
   "source": [
    "list_of_test_types = [\"quadratic\", \"cubic\", \"exp\", \"multisinks\"]"
   ]
  },
  {
   "cell_type": "code",
   "execution_count": null,
   "metadata": {
    "scrolled": false
   },
   "outputs": [],
   "source": [
    "nb_figures = 2*len(gammas)\n",
    "fig, ax = plt.subplots(nb_figures, 1, figsize=(16, 5*nb_figures))\n",
    "selection = GD_rate_iter.index.str.contains(\"quadratic\", regex=False)\n",
    "i = 0\n",
    "for gamma in gammas:\n",
    "    df_selected = GD_rate_iter[(selection) & (GD_rate_iter[\"gamma\"] == gamma)]\n",
    "    ax[i].plot(df_selected[\"rate\"], df_selected[\"nb_iter\"])\n",
    "    ax[i].set_xlim(0, 0.5)\n",
    "    ax[i+1].plot(df_selected[\"rate\"], df_selected[\"optimal_val\"], \"r\")\n",
    "    ax[i+1].set_ylim(-1, 100)\n",
    "    ax[i+1].set_xlim(0, 0.5)\n",
    "    ax[i].set_title(\"Gradient Descent in dimensin 1 for gamma = {}.\".format(gamma))\n",
    "    ax[i].legend()\n",
    "    i += 2"
   ]
  },
  {
   "cell_type": "markdown",
   "metadata": {},
   "source": [
    "4. Étudier la relation entre la vitesse de convergence et le point initial de votre descente dans le cas des fonctions numériques."
   ]
  },
  {
   "cell_type": "code",
   "execution_count": null,
   "metadata": {},
   "outputs": [],
   "source": []
  },
  {
   "cell_type": "markdown",
   "metadata": {},
   "source": [
    "### GD dans le cas de *backtracking*"
   ]
  },
  {
   "cell_type": "markdown",
   "metadata": {},
   "source": [
    "Vous devriez avoir constatés que le choix du pas de descente dans le cas constant est crucial pour garantir la convergence de l'algorithme de descente. Dans cette section on s'intéresse à un calcul adaptatif du pas de descente qui permet de mieux garantir la convergence de notre algo. Le désavatage est le temps que prend désormais chaque itération pour s'exécuter."
   ]
  },
  {
   "cell_type": "markdown",
   "metadata": {},
   "source": [
    "1. Écrire une fonction `backtracking` qui permet de calculer le pas par *backtracking* à une itération donnée. Pour rappel le *backtracking* a deux hyper-paramètre $\\alpha$ et $\\beta$ respectivement mis par défaut à $0.01$ et $0.08$."
   ]
  },
  {
   "cell_type": "code",
   "execution_count": null,
   "metadata": {},
   "outputs": [],
   "source": [
    "class backtracking():\n",
    "    \n",
    "    def __init__(self, alpha=0.01, beta=0.8, max_iter=100):\n",
    "        self.alpha = alpha\n",
    "        self.beta = beta\n",
    "        self.max_iter = max_iter\n",
    "        \n",
    "    def __call__(self, x, f, dir_x, grad, n_iter, eta, tol=1e-6):\n",
    "        n_while = 0\n",
    "        t = 1\n",
    "        x = x.reshape(1, -1)\n",
    "        grad_f = grad(x, f, tol)\n",
    "        while f(x + t * dir_x) > f(x) + self.alpha * t * grad_f.dot(dir_x.T) and n_while < self.max_iter:\n",
    "            t = self.beta * t\n",
    "            n_while += 1\n",
    "        return t"
   ]
  },
  {
   "cell_type": "markdown",
   "metadata": {},
   "source": [
    "2. Comparer la GD par backtracking aux tests effectués jusqu'à présent dans le cas d'une GD à pas constant (à vous de réfléchir à ce que vous voulez comparer)."
   ]
  },
  {
   "cell_type": "code",
   "execution_count": null,
   "metadata": {},
   "outputs": [],
   "source": [
    "bt_rate = backtracking()"
   ]
  },
  {
   "cell_type": "code",
   "execution_count": null,
   "metadata": {},
   "outputs": [],
   "source": [
    "gammas"
   ]
  },
  {
   "cell_type": "code",
   "execution_count": null,
   "metadata": {},
   "outputs": [],
   "source": [
    "GD_ri_bt = pd.DataFrame(columns=[\"gamma\", \"rate\", \"optimal_pt\", \"optimal_val\", \"nb_iter\"])\n",
    "GD_list_bt = {}\n",
    "for t_function in test_list_d1:\n",
    "    for gamma in gammas:\n",
    "        GD_list_bt[t_function.name] = GD(rate = bt_rate)\n",
    "        opt_pt, _, _, n_iter = GD_list_bt[t_function.name](init_pt, \n",
    "                                                           (lambda x: t_function.value (x, gamma)), \n",
    "                                                           (lambda x, f, tol : t_function.grad(x, gamma)))\n",
    "        naming_format = \"{}_{}\".format(t_function.name, gamma)\n",
    "        GD_ri_bt.loc[naming_format] = pd.Series({ \"gamma\": gamma, \n",
    "                                                  \"rate\" : \"backtracking\",\n",
    "                                                  \"optimal_pt\": opt_pt,\n",
    "                                                  \"optimal_val\": t_function.value(opt_pt, gamma),\n",
    "                                                  \"nb_iter\": n_iter })\n",
    "GD_ri_bt"
   ]
  },
  {
   "cell_type": "markdown",
   "metadata": {},
   "source": [
    "### Changer de direction de descente\n",
    "\n",
    "On a explicité en cours trois types de descentes : \n",
    "\n",
    " - La déscente standard : la direction de descente est celle du gradient, ce qu'on vient de regarder.\n",
    " - La déscente de plus forte pente dans le cas de la norme $\\ell_1$ : la direction de descente suit le vecteur de la base canonique de plus grande dérivée partielle en valeur absolue.\n",
    " - L'algorithme de Newton où il s'agit de calculer l'inverse des hessiennes au point courant. \n",
    " \n",
    "*L'algorithme de Newton sera abordé dans une section à part.* On va donc se concentrer pour commencer sur le cas de descente en norme $\\ell_1$. \n",
    " "
   ]
  },
  {
   "cell_type": "markdown",
   "metadata": {},
   "source": [
    "1. Écrire une fonction `dsgd` qui calcule la direction de descente de plus forte pente dans le cas de la norme $\\ell_1$. "
   ]
  },
  {
   "cell_type": "code",
   "execution_count": null,
   "metadata": {},
   "outputs": [],
   "source": [
    "def dsgd(x, f, grad, tol):\n",
    "    x = x.reshape(1, -1)\n",
    "    dim = x.shape[1]\n",
    "    sdescent = np.array([0]*dim, dtype=float).reshape(1, -1)\n",
    "    grad_f = grad(x, f, tol)\n",
    "    abs_grad = np.abs(grad_f)\n",
    "    imax_diff = np.argmax(abs_grad) \n",
    "    sdescent[0, imax_diff] = grad_f[0, imax_diff]\n",
    "    return (- sdescent)      "
   ]
  },
  {
   "cell_type": "markdown",
   "metadata": {},
   "source": [
    "2. Comparer la descente de gradient $\\ell_1$ à la descente classique."
   ]
  },
  {
   "cell_type": "markdown",
   "metadata": {},
   "source": [
    "Effectuer une telle comparaison en dimension $1$ n'a pas de sens (pourquoi?). On fait donc une partie de l'étude précédente en dimension $2$ pour avoir un référentiel de comparaison."
   ]
  },
  {
   "cell_type": "code",
   "execution_count": null,
   "metadata": {},
   "outputs": [],
   "source": [
    "test_list_d2 = [test_family for test_family in test_list if test_family.dim == 2]"
   ]
  },
  {
   "cell_type": "code",
   "execution_count": null,
   "metadata": {},
   "outputs": [],
   "source": [
    "init_pt_d2 = np.array([[2, 2]])"
   ]
  },
  {
   "cell_type": "code",
   "execution_count": null,
   "metadata": {},
   "outputs": [],
   "source": [
    "GD_ri_2 = pd.DataFrame(columns=[\"gamma\", \"rate\", \"optimal_pt\", \"optimal_val\", \"nb_iter\", \"iters\", \"iters_dir\"])\n",
    "GD_list_2 = {}\n",
    "for t_function in test_list_d2:\n",
    "    for gamma in gammas:\n",
    "        GD_list_2[t_function.name] = GD(rate = lambda x, f, dir_x, grad, nb_iter, eta : 0.1)\n",
    "        opt_pt, iters, iters_dir, n_iter = GD_list_2[t_function.name](init_pt_d2, \n",
    "                                                     (lambda x: t_function.value (x, gamma)), \n",
    "                                                     (lambda x, f, tol : t_function.grad(x, gamma)))\n",
    "        naming_format = \"{}_{}\".format(t_function.name, gamma)\n",
    "        GD_ri_2.loc[naming_format] = pd.Series({ \"gamma\": gamma, \n",
    "                                                 \"rate\" : 0.01,\n",
    "                                                 \"optimal_pt\": opt_pt,\n",
    "                                                 \"optimal_val\": t_function.value(opt_pt, gamma),\n",
    "                                                 \"nb_iter\": n_iter,\n",
    "                                                 \"iters\": iters,\n",
    "                                                 \"iters_dir\": iters_dir})\n",
    "GD_ri_2.loc[:, \"gamma\": \"nb_iter\"]"
   ]
  },
  {
   "cell_type": "code",
   "execution_count": null,
   "metadata": {
    "scrolled": false
   },
   "outputs": [],
   "source": [
    "nb_pts, x_mi, x_ma, y_mi, y_ma = 200, -2, 2, -2, 2\n",
    "fig, ax = plt.subplots(2, 1, figsize=(15, 30))\n",
    "x, y = np.linspace(x_mi, x_ma, nb_pts), np.linspace(x_mi, x_ma, nb_pts)\n",
    "X, Y = np.meshgrid(x, y)\n",
    "## Reshaping X, Y for proper evaluation by input function\n",
    "x_y = np.vstack([X.reshape(1, -1), Y.reshape(1, -1)]).reshape(1, 2, -1)\n",
    "## Plotting level curves for extreme cases\n",
    "extreme_cases = [gammas[0], gammas[-1]]\n",
    "for i in range(len(extreme_cases)):\n",
    "    ax[i].set_xlim(x_mi, x_ma)\n",
    "    ax[i].set_ylim(y_mi, y_ma)\n",
    "    ax[i].contour(X, Y, test_list_d2[0].value(x_y, gammas[i]).reshape(nb_pts, -1), 15)\n",
    "    ax[i].quiver(GD_ri_2.loc[\"quadric_2_{}\".format(gammas[i]), \"iters\"][:, 0], \n",
    "                 GD_ri_2.loc[\"quadric_2_{}\".format(gammas[i]), \"iters\"][:, 1], \n",
    "                 GD_ri_2.loc[\"quadric_2_{}\".format(gammas[i]), \"iters_dir\"][:, 0], \n",
    "                 GD_ri_2.loc[\"quadric_2_{}\".format(gammas[i]), \"iters_dir\"][:, 1],\n",
    "                 color='b', scale=6, width=0.002, headwidth=4, headlength=5)\n",
    "    ax[i].plot(GD_ri_2.loc[\"quadric_2_{}\".format(gammas[i]), \"iters\"][:, 0], \n",
    "               GD_ri_2.loc[\"quadric_2_{}\".format(gammas[i]), \"iters\"][:, 1],\n",
    "               'b.')"
   ]
  },
  {
   "cell_type": "code",
   "execution_count": null,
   "metadata": {},
   "outputs": [],
   "source": [
    "GD_ri_1 = pd.DataFrame(columns=[\"gamma\", \"rate\", \"optimal_pt\", \"optimal_val\", \"nb_iter\", \"iters\", \"iters_dir\"])\n",
    "GD_list_1 = {}\n",
    "for t_function in test_list_d2:\n",
    "    for gamma in gammas:\n",
    "        GD_list_1[t_function.name] = GD(ddir = dsgd, \n",
    "                                        rate = lambda x, f, dir_x, grad, nb_iter, eta : 0.1)\n",
    "        opt_pt, iters, iters_dir, n_iter = GD_list_1[t_function.name](init_pt_d2, \n",
    "                                                     (lambda x: t_function.value (x, gamma)), \n",
    "                                                     (lambda x, f, tol : t_function.grad(x, gamma)))\n",
    "        naming_format = \"{}_{}\".format(t_function.name, gamma)\n",
    "        GD_ri_1.loc[naming_format] = pd.Series({ \"gamma\": gamma, \n",
    "                                                 \"rate\" : 0.01,\n",
    "                                                 \"optimal_pt\": opt_pt,\n",
    "                                                 \"optimal_val\": t_function.value(opt_pt, gamma),\n",
    "                                                 \"nb_iter\": n_iter,\n",
    "                                                 \"iters\": iters,\n",
    "                                                 \"iters_dir\": iters_dir})\n",
    "GD_ri_1.loc[:, \"gamma\": \"nb_iter\"]"
   ]
  },
  {
   "cell_type": "code",
   "execution_count": null,
   "metadata": {},
   "outputs": [],
   "source": [
    "nb_pts, x_mi, x_ma, y_mi, y_ma = 200, -2, 2, -2, 2\n",
    "fig, ax = plt.subplots(2, 1, figsize=(15, 30))\n",
    "x, y = np.linspace(x_mi, x_ma, nb_pts), np.linspace(x_mi, x_ma, nb_pts)\n",
    "X, Y = np.meshgrid(x, y)\n",
    "## Reshaping X, Y for proper evaluation by input function\n",
    "x_y = np.vstack([X.reshape(1, -1), Y.reshape(1, -1)]).reshape(1, 2, -1)\n",
    "## Plotting level curves for extreme cases\n",
    "extreme_cases = [gammas[0], gammas[-1]]\n",
    "for i in range(len(extreme_cases)):\n",
    "    ax[i].set_xlim(x_mi, x_ma)\n",
    "    ax[i].set_ylim(y_mi, y_ma)\n",
    "    ax[i].contour(X, Y, test_list_d2[0].value(x_y, gammas[i]).reshape(nb_pts, -1), 15)\n",
    "    ax[i].quiver(GD_ri_1.loc[\"quadric_2_{}\".format(gammas[i]), \"iters\"][:, 0], \n",
    "                 GD_ri_1.loc[\"quadric_2_{}\".format(gammas[i]), \"iters\"][:, 1], \n",
    "                 GD_ri_1.loc[\"quadric_2_{}\".format(gammas[i]), \"iters_dir\"][:, 0], \n",
    "                 GD_ri_1.loc[\"quadric_2_{}\".format(gammas[i]), \"iters_dir\"][:, 1],\n",
    "                 color='b', scale=6, width=0.002, headwidth=4, headlength=5)\n",
    "    ax[i].plot(GD_ri_1.loc[\"quadric_2_{}\".format(gammas[i]), \"iters\"][:, 0], \n",
    "               GD_ri_1.loc[\"quadric_2_{}\".format(gammas[i]), \"iters\"][:, 1],\n",
    "               'b.')"
   ]
  },
  {
   "cell_type": "markdown",
   "metadata": {},
   "source": [
    "On en vient désormais à comparer ces deux algos. Vu que les mise-à-jour internes semble demander le même nombre d'itérations il est raisonnable de s'intéresser en premier temps au nombre d'itérations."
   ]
  },
  {
   "cell_type": "code",
   "execution_count": null,
   "metadata": {},
   "outputs": [],
   "source": [
    "fig, ax = plt.subplots(figsize=(16, 9))\n",
    "ax.set_xlim(0, 11)\n",
    "ax.set_ylim(-1, 1000)\n",
    "ax.plot(GD_ri_2[\"gamma\"], GD_ri_2[\"nb_iter\"], label=\"l2\")\n",
    "ax.plot(GD_ri_1[\"gamma\"], GD_ri_1[\"nb_iter\"], \"r\", label=\"l1\")\n",
    "ax.set_title(\"Comparing number of iterates of l1 and l2 gradient descents against gamma values\")\n",
    "ax.legend()"
   ]
  },
  {
   "cell_type": "markdown",
   "metadata": {},
   "source": [
    "## Sensibilité de GD aux conditionnements de la hessienne"
   ]
  },
  {
   "cell_type": "markdown",
   "metadata": {},
   "source": [
    "On s'intéresse dans cette section au comportement de la descente de gradients vis-à-vis de la géométrie locale de l'itéré courant. Cette étude va vous permettre de comprendre en quoi le manque de symétrie locale des fonctions objectifs rend plus lente la convergence de la descente de gradient."
   ]
  },
  {
   "cell_type": "markdown",
   "metadata": {},
   "source": [
    "1. En utilisant la GD classique à pas constant tracer dans les cas de nombres de conditionnements qui ne dépendent que des paramètres de vos familles tests ce nombre contre le nombre d'itérations de la GD."
   ]
  },
  {
   "cell_type": "code",
   "execution_count": null,
   "metadata": {},
   "outputs": [],
   "source": []
  },
  {
   "cell_type": "markdown",
   "metadata": {},
   "source": [
    "2. Faire de même avec le cas de *backtracking*"
   ]
  },
  {
   "cell_type": "code",
   "execution_count": null,
   "metadata": {},
   "outputs": [],
   "source": []
  },
  {
   "cell_type": "markdown",
   "metadata": {},
   "source": [
    "3. Que constatez-vous?"
   ]
  },
  {
   "cell_type": "code",
   "execution_count": null,
   "metadata": {},
   "outputs": [],
   "source": []
  },
  {
   "cell_type": "markdown",
   "metadata": {},
   "source": [
    "## Accélérations"
   ]
  },
  {
   "cell_type": "markdown",
   "metadata": {},
   "source": [
    "Il y a des stratégies standards d'accélération de descente de gradients ; on en invente même tous les ans. Il n'y a pas nécessairement de relation d'ordre entre celles-ci, certaines sont plus adaptées que d'autres à des problèmes spécifiques et inversement. On propose d'en implémenter $3$ ici, il s'agit en particulier d'un travail bibliographique (simple)."
   ]
  },
  {
   "cell_type": "markdown",
   "metadata": {},
   "source": [
    "1. Implémenter la *Momentum Optimisation*. Cherchez à en comprendre le sens."
   ]
  },
  {
   "cell_type": "code",
   "execution_count": null,
   "metadata": {},
   "outputs": [],
   "source": []
  },
  {
   "cell_type": "markdown",
   "metadata": {},
   "source": [
    "2. Implémenter la *Nesterov Optimisation*. Cherchez à en comprendre le sens."
   ]
  },
  {
   "cell_type": "code",
   "execution_count": null,
   "metadata": {},
   "outputs": [],
   "source": []
  },
  {
   "cell_type": "markdown",
   "metadata": {},
   "source": [
    "3. Implémenter la *Adam Optimisation*. Cherchez à en comprendre le sens."
   ]
  },
  {
   "cell_type": "code",
   "execution_count": null,
   "metadata": {},
   "outputs": [],
   "source": []
  },
  {
   "cell_type": "markdown",
   "metadata": {},
   "source": [
    "4. Comparer les descentes de gradient pour chacune des optimisations précédentes."
   ]
  },
  {
   "cell_type": "code",
   "execution_count": null,
   "metadata": {},
   "outputs": [],
   "source": []
  },
  {
   "cell_type": "markdown",
   "metadata": {},
   "source": [
    "## Méthode de Newton"
   ]
  },
  {
   "cell_type": "markdown",
   "metadata": {},
   "source": [
    "1. Implémenter la méthode de Newton."
   ]
  },
  {
   "cell_type": "code",
   "execution_count": null,
   "metadata": {},
   "outputs": [],
   "source": []
  },
  {
   "cell_type": "markdown",
   "metadata": {},
   "source": [
    "2. Qu'est-ce qu'un exemple pertinent pour comparer la méthode de Newton au méthode de descente vu précédemment?"
   ]
  },
  {
   "cell_type": "code",
   "execution_count": null,
   "metadata": {},
   "outputs": [],
   "source": []
  },
  {
   "cell_type": "markdown",
   "metadata": {},
   "source": [
    "3. Comparer la méthode de Newton aux descentes précédentes."
   ]
  },
  {
   "cell_type": "code",
   "execution_count": null,
   "metadata": {},
   "outputs": [],
   "source": []
  },
  {
   "cell_type": "markdown",
   "metadata": {},
   "source": [
    "## Cas pratique : la régression (YAT)"
   ]
  },
  {
   "cell_type": "markdown",
   "metadata": {},
   "source": [
    "Dans cette section on attend de vous que vous implémtentier une régression linéaire (puis polynomiale) à la main. Il revient à vous d'effectuer l'étude bibliographique (ou de revoir les documents à votre disposition dans le cours et / ou mon git) pour éventuellement vous aider. À vous de pousser cette étude là où vous souhaitez ; j'attends de vous que vous puissiez entrevoir le besoin de régularisation, sujet abordé en second TP."
   ]
  },
  {
   "cell_type": "code",
   "execution_count": null,
   "metadata": {},
   "outputs": [],
   "source": []
  }
 ],
 "metadata": {
  "kernelspec": {
   "display_name": "Python 3",
   "language": "python",
   "name": "python3"
  },
  "language_info": {
   "codemirror_mode": {
    "name": "ipython",
    "version": 3
   },
   "file_extension": ".py",
   "mimetype": "text/x-python",
   "name": "python",
   "nbconvert_exporter": "python",
   "pygments_lexer": "ipython3",
   "version": "3.6.9"
  }
 },
 "nbformat": 4,
 "nbformat_minor": 2
}

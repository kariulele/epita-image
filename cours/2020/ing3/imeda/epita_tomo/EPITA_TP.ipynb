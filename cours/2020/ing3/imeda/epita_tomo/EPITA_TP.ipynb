{
 "cells": [
  {
   "cell_type": "code",
   "execution_count": null,
   "metadata": {},
   "outputs": [],
   "source": [
    "pip install prox-TV"
   ]
  },
  {
   "cell_type": "code",
   "execution_count": null,
   "metadata": {},
   "outputs": [],
   "source": [
    "import numpy as np\n",
    "import matplotlib.pyplot as plt\n",
    "from skimage.io import imread\n",
    "#from skimage.data import shepp_logan_phantom\n",
    "from skimage.transform import radon, rescale\n",
    "from skimage.transform import iradon\n",
    "from skimage.draw import circle, line, rectangle\n",
    "import prox_tv as ptv"
   ]
  },
  {
   "cell_type": "code",
   "execution_count": null,
   "metadata": {},
   "outputs": [],
   "source": [
    "# Soft-thresholding operator\n",
    "# This is the proximal operator for the L1-norm:\n",
    "# prox[w*||.||_1](x) = softT(x,w)\n",
    "def softT(x,w):\n",
    "    below = np.where(np.abs(x) <= w)\n",
    "    above = np.where(np.abs(x) > w)\n",
    "    x[below] = 0\n",
    "    x[above] -= np.sign(x[above])*w\n",
    "    return x"
   ]
  },
  {
   "cell_type": "code",
   "execution_count": null,
   "metadata": {},
   "outputs": [],
   "source": [
    "# Define iFBP parameters, such as...\n",
    "# ... the number of iterations\n",
    "Niter = 50\n",
    "# ... the subsampling factor...\n",
    "ssf = 2\n",
    "# ... the reconstruction behavior...\n",
    "# (options are: FBP, SBP)\n",
    "case = 'FBP'\n",
    "# ... and the regularization\n",
    "# (options are: ST, TV)\n",
    "filt = 'ST'\n",
    "# Also, define the number of iterations between two fig refreshes\n",
    "stepViz = 10\n",
    "# And the window width for error images\n",
    "eww = 100\n",
    "# And standard displays\n",
    "vmin, vmax = -100, 100\n",
    "#vmin, vmax = 800, 1200"
   ]
  },
  {
   "cell_type": "code",
   "execution_count": null,
   "metadata": {},
   "outputs": [],
   "source": [
    "# Define parameters depending on the case, such as...\n",
    "# ... the gradient step...\n",
    "t = {'SBP': 0.008, 'FBP': 0.7}\n",
    "# ... the reconstruction filter in radon function...\n",
    "filter = {'SBP': None, 'FBP': 'ramp'}\n",
    "# ... the min and max regularization values...\n",
    "#lmax={'SBP': 800, 'FBP': 0}\n",
    "#lmax={'SBP': 800, 'FBP': 500}\n",
    "lmax={'SBP': 800, 'FBP': 50}\n",
    "lmin={'SBP': 0. , 'FBP': 0  }\n",
    "# We also define the regularizer either as the TV filter or the ST operator\n",
    "regularizer={'TV':ptv.tv1_2d, 'ST':softT}"
   ]
  },
  {
   "cell_type": "code",
   "execution_count": null,
   "metadata": {},
   "outputs": [],
   "source": [
    "# Load example image\n",
    "#image = np.fromfile(\"./brainCT_slc115.raw\", dtype=np.float32).reshape((512,512))\n",
    "# Or alternatively, load an empty image\n",
    "image = np.zeros((512,512))"
   ]
  },
  {
   "cell_type": "code",
   "execution_count": null,
   "metadata": {},
   "outputs": [],
   "source": [
    "# Add synthetic elements to this image, such as...\n",
    "# ... vessels...\n",
    "rr, cc = circle(200,145,9,image.shape)\n",
    "image[rr,cc] += 8000.0\n",
    "rr, cc = circle(150,180,5,image.shape)\n",
    "image[rr,cc] += 8000.0\n",
    "\n",
    "# ... small hyperdensities (bleeding)...\n",
    "rr, cc = circle(250,330,40,image.shape)\n",
    "image[rr,cc] += 10.0\n",
    "\n",
    "# ... or small hypodensities (infarcts)\n",
    "rr, cc = circle(300,150,30,image.shape)\n",
    "image[rr,cc] -= 30.0"
   ]
  },
  {
   "cell_type": "code",
   "execution_count": null,
   "metadata": {},
   "outputs": [],
   "source": [
    "# Rescale the image for computation speed\n",
    "# (and to smooth out additional structures)\n",
    "#image = rescale(image, scale=0.35, mode='reflect', multichannel=False)\n",
    "image = rescale(image, scale=0.5, mode='reflect', multichannel=False)\n",
    "\n",
    "# Add high-contrasted lines with different spacing\n",
    "# to analyse the spatial resolution\n",
    "rr, cc = line(108,108,112,118)\n",
    "image[rr,cc] += 2000.0\n",
    "rr += 2\n",
    "image[rr,cc] += 2000.0\n",
    "rr += 3\n",
    "image[rr,cc] += 2000.0\n",
    "rr += 4\n",
    "image[rr,cc] += 2000.0\n",
    "rr += 5\n",
    "image[rr,cc] += 2000.0\n",
    "rr += 6\n",
    "image[rr,cc] += 2000.0"
   ]
  },
  {
   "cell_type": "code",
   "execution_count": null,
   "metadata": {},
   "outputs": [],
   "source": [
    "# Display the image\n",
    "plt.figure(figsize=(10,10))\n",
    "plt.imshow(image, cmap=plt.cm.Greys_r, vmin=vmin, vmax=vmax)"
   ]
  },
  {
   "cell_type": "code",
   "execution_count": null,
   "metadata": {},
   "outputs": [],
   "source": [
    "# Choose a number of projections\n",
    "# Empirically, a full angular sampling corresponds to\n",
    "# N ~ image height/width\n",
    "N = max(image.shape) / ssf\n",
    "print(\"Number of projections: \"+str(N))\n",
    "print(\"Angular spacing: \"+str(round(180.0/N,3))+\" deg\")"
   ]
  },
  {
   "cell_type": "code",
   "execution_count": null,
   "metadata": {},
   "outputs": [],
   "source": [
    "# Define angular range and start/stop positions\n",
    "# Acquisitions are assumed to be equally spaced\n",
    "theta_min = 0.25*np.pi\n",
    "theta_max = 180.0+theta_min\n",
    "theta = np.linspace(theta_min, theta_max, N, endpoint=False)\n",
    "\n",
    "# Compute sinogram with the Radon transform\n",
    "sinogram = radon(image, theta=theta, circle=True)\n",
    "\n",
    "plt.imshow(sinogram.T, cmap=plt.cm.Greys_r, extent=(theta_min, theta_max, 0, sinogram.shape[0]), aspect='auto')"
   ]
  },
  {
   "cell_type": "code",
   "execution_count": null,
   "metadata": {},
   "outputs": [],
   "source": [
    "# Compute the circular FOV mask\n",
    "w = sinogram.shape[0]\n",
    "rr, cc = circle(0.5*(image.shape[0]-1.0),0.5*(image.shape[1]-1.0),0.5*(w-1.0),image.shape)\n",
    "mask = np.zeros(image.shape)\n",
    "mask[rr,cc] = 1.0"
   ]
  },
  {
   "cell_type": "code",
   "execution_count": null,
   "metadata": {},
   "outputs": [],
   "source": [
    "simple_backprojection = iradon(sinogram, theta=theta, circle=True, filter=filter['SBP']) / N\n",
    "# Display the image\n",
    "plt.figure(figsize=(10,10))\n",
    "plt.imshow(simple_backprojection, cmap=plt.cm.Greys_r, vmin=0, vmax=1500*ssf)"
   ]
  },
  {
   "cell_type": "code",
   "execution_count": null,
   "metadata": {},
   "outputs": [],
   "source": [
    "fbp_init = iradon(sinogram, theta=theta, circle=True, filter=filter[case])\n",
    "# Display the image\n",
    "plt.figure(figsize=(10,10))\n",
    "plt.imshow(fbp_init, cmap=plt.cm.Greys_r, vmin=vmin, vmax=vmax)"
   ]
  },
  {
   "cell_type": "code",
   "execution_count": null,
   "metadata": {},
   "outputs": [],
   "source": [
    "# Initialize image for iFBP\n",
    "reconstruction_fbp = regularizer[filt](fbp_init,lmax[case])\n",
    "# Record error image\n",
    "err_init = fbp_init-image\n",
    "# Display\n",
    "plt.figure(figsize=(25,10))\n",
    "plt.subplot(121)\n",
    "plt.imshow(reconstruction_fbp, cmap=plt.cm.Greys_r, vmin=vmin, vmax=vmax)\n",
    "plt.subplot(122)\n",
    "plt.imshow(err_init, cmap=plt.cm.Greys_r, vmin=-0.5*eww, vmax=0.5*eww)"
   ]
  },
  {
   "cell_type": "code",
   "execution_count": null,
   "metadata": {},
   "outputs": [],
   "source": [
    "# Compute one-step of gradient descent\n",
    "def one_step_gd(f,p,step):\n",
    "    return f - step * iradon(radon(f, theta=theta, circle=True) - p, theta=theta, circle=True, filter=filter[case])\n",
    "\n",
    "    ### end of code"
   ]
  },
  {
   "cell_type": "code",
   "execution_count": null,
   "metadata": {},
   "outputs": [],
   "source": [
    "# Run gradient descent\n",
    "for k in range(Niter):\n",
    "    \n",
    "\n",
    "    ### end of code\n",
    "    print(\"Iteration \"+str(k+1)+\"/\"+str(Niter))"
   ]
  },
  {
   "cell_type": "code",
   "execution_count": null,
   "metadata": {},
   "outputs": [],
   "source": [
    "err = reconstruction_fbp - image\n",
    "# Display\n",
    "plt.figure(figsize=(35,10))\n",
    "plt.subplot(131)\n",
    "plt.imshow(fbp_init, cmap=plt.cm.Greys_r, vmin=vmin, vmax=vmax)\n",
    "plt.subplot(132)\n",
    "plt.imshow(reconstruction_fbp, cmap=plt.cm.Greys_r, vmin=vmin, vmax=vmax)\n",
    "plt.subplot(133)\n",
    "plt.imshow(err, cmap=plt.cm.Greys_r, vmin=-0.5*eww, vmax=0.5*eww)"
   ]
  },
  {
   "cell_type": "code",
   "execution_count": null,
   "metadata": {},
   "outputs": [],
   "source": [
    "lambd = np.linspace(lmax[case],lmin[case],Niter)\n",
    "print(lambd)\n",
    "MSE_vec = np.array([np.nan for k in range(Niter)])"
   ]
  },
  {
   "cell_type": "code",
   "execution_count": null,
   "metadata": {},
   "outputs": [],
   "source": [
    "for k in range(Niter):\n",
    "    ### your code here\n",
    "    reconstruction_fbp = one_step_gd(reconstruction_fbp, sinogram, t[case])\n",
    "    reconstruction_fbp = regularizer[filt](reconstruction_fbp, lambd[k] * t[case])\n",
    "    reconstruction_fbp *= mask\n",
    "    \n",
    "    ### end of code\n",
    "    err_cur = reconstruction_fbp-image\n",
    "    MSE_vec[k] = round(((err_cur)**2).mean(),5)\n",
    "    print(str(k+1)+\"\\t\"+str(lambd[k])+\"\\t\"+str(MSE_vec[k]))\n",
    "    if (k+1)%stepViz==0:\n",
    "            plt.figure(figsize=(25,10))\n",
    "            plt.subplot(121)\n",
    "            plt.title(\"MSE\")\n",
    "            plt.plot([1+n for n in range(Niter)],MSE_vec)\n",
    "            plt.subplot(122)\n",
    "            plt.title(\"Iteration \"+str(k+1)+\"\\nMSE = \"+str(MSE_vec[k]))\n",
    "            plt.imshow(reconstruction_fbp, cmap=plt.cm.Greys_r, vmin=vmin, vmax=vmax)\n",
    "            plt.pause(0.05)"
   ]
  },
  {
   "cell_type": "code",
   "execution_count": null,
   "metadata": {},
   "outputs": [],
   "source": [
    "# Display\n",
    "plt.figure(figsize=(35,10))\n",
    "plt.subplot(131)\n",
    "plt.imshow(fbp_init, cmap=plt.cm.Greys_r, vmin=vmin, vmax=vmax)\n",
    "plt.subplot(132)\n",
    "plt.imshow(reconstruction_fbp, cmap=plt.cm.Greys_r, vmin=vmin, vmax=vmax)\n",
    "plt.subplot(133)\n",
    "plt.imshow(reconstruction_fbp-image, cmap=plt.cm.Greys_r, vmin=-0.5*eww, vmax=0.5*eww)"
   ]
  },
  {
   "cell_type": "code",
   "execution_count": null,
   "metadata": {},
   "outputs": [],
   "source": []
  }
 ],
 "metadata": {
  "kernelspec": {
   "display_name": "Python 3",
   "language": "python",
   "name": "python3"
  },
  "language_info": {
   "codemirror_mode": {
    "name": "ipython",
    "version": 3
   },
   "file_extension": ".py",
   "mimetype": "text/x-python",
   "name": "python",
   "nbconvert_exporter": "python",
   "pygments_lexer": "ipython3",
   "version": "3.8.1"
  }
 },
 "nbformat": 4,
 "nbformat_minor": 2
}

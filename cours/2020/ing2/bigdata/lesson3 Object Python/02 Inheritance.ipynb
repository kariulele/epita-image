{
 "cells": [
  {
   "cell_type": "markdown",
   "metadata": {},
   "source": [
    "Inherance allows you to specify a class without rewrite everything.\n",
    "\n",
    "Imagine you write a 3D modeler program, you are going to need points, cubes, sphere, rectangles and many other shape. Each shape should be a object and all shapes should have some properties like position, dimension, name."
   ]
  },
  {
   "cell_type": "code",
   "execution_count": 50,
   "metadata": {},
   "outputs": [
    {
     "name": "stdout",
     "output_type": "stream",
     "text": [
      "Rectangle [0, 0] 3 2 6\n"
     ]
    }
   ],
   "source": [
    "class Shape:\n",
    "    def __init__(self, dimension, position = [0,0], name = None):\n",
    "        self.dimension = dimension\n",
    "        self.position = position\n",
    "        if dimension is 3 and len(position) is 2:\n",
    "            self.position.append(0)\n",
    "        self.name = name\n",
    "        \n",
    "class Rectangle(Shape):\n",
    "    def __init__(self, width, length):\n",
    "        super().__init__(2, name = \"Rectangle\" )    # super() is the class we inherite from\n",
    "        self.width = width\n",
    "        self.length = length\n",
    "        \n",
    "    def surface(self):\n",
    "        return self.width * self.length\n",
    "        \n",
    "r = Rectangle(3,2)\n",
    "print(r.name, r.position, r.width, r.length)"
   ]
  },
  {
   "cell_type": "markdown",
   "metadata": {},
   "source": [
    "**A child class inheritate of all attributes of its parent** however attributes must exist!\n",
    "\n",
    "* a Shape object has an attribute `dimension` only if the Shape `__init__` method is called\n",
    "* any class which inheritates from Rectangle inheritates its method surface() however it can redefine it locally (usefull to specialize it).\n",
    "\n",
    "Of course we can inherate as many time as we want:"
   ]
  },
  {
   "cell_type": "code",
   "execution_count": 52,
   "metadata": {},
   "outputs": [
    {
     "name": "stdout",
     "output_type": "stream",
     "text": [
      "Square [0, 0] 5 5\n",
      "25\n"
     ]
    }
   ],
   "source": [
    "class Square(Rectangle):\n",
    "    def __init__(self, width):\n",
    "        super().__init__(width, width)\n",
    "        self.name = \"Square\"\n",
    "        \n",
    "q = Square(5)\n",
    "print(q.name, q.position, q.width, q.length)  # we keep q.length because we decide all 2D shapes have a length\n",
    "print(q.surface())"
   ]
  },
  {
   "cell_type": "markdown",
   "metadata": {},
   "source": [
    "# Double inheritance\n",
    "\n",
    "Let see how we inherate from more than one class and what are the issues."
   ]
  },
  {
   "cell_type": "code",
   "execution_count": 54,
   "metadata": {},
   "outputs": [
    {
     "name": "stdout",
     "output_type": "stream",
     "text": [
      "defined in A, I am a <class '__main__.C1'>\n",
      "defined in B, I am a <class '__main__.C2'>\n"
     ]
    }
   ],
   "source": [
    "class A(object): # the mother of all classes is object, better to show it explicitly\n",
    "    def myclass(self):\n",
    "        print(\"defined in A, I am a\", self.__class__)\n",
    "\n",
    "class B(object):\n",
    "    def myclass(self):\n",
    "        print(\"defined in B, I am a\", self.__class__)\n",
    "\n",
    "class C1(A,B):  # double inheritance\n",
    "    pass        # which method myclass will it use?\n",
    "\n",
    "class C2(B,A):\n",
    "    pass\n",
    "    \n",
    "c = C1()\n",
    "c.myclass()\n",
    "c = C2()\n",
    "c.myclass()"
   ]
  },
  {
   "cell_type": "code",
   "execution_count": 47,
   "metadata": {},
   "outputs": [
    {
     "name": "stdout",
     "output_type": "stream",
     "text": [
      "defined in C, I am a <class '__main__.D'>\n"
     ]
    }
   ],
   "source": [
    "# The diamond problem\n",
    "#\n",
    "# Which method of A, B and C will D use if not redefined?\n",
    "#\n",
    "#         A\n",
    "#        / \\\n",
    "#       B  C\n",
    "#        \\/\n",
    "#        D\n",
    "\n",
    "class A(object):\n",
    "    def myclass(self):\n",
    "        print(\"defined in A, I am a\", self.__class__)\n",
    "\n",
    "class B(A):\n",
    "    pass\n",
    "\n",
    "class C(A):\n",
    "    def myclass(self):     # we redefine method inheritates from A\n",
    "        print(\"defined in C, I am a\", self.__class__)\n",
    "\n",
    "class D(B,C):  # double inheritance\n",
    "    pass\n",
    "\n",
    "d = D()\n",
    "d.myclass()"
   ]
  },
  {
   "cell_type": "markdown",
   "metadata": {},
   "source": [
    "To choose which methods the last class shoud use, Python uses two constraints: \n",
    "\n",
    "* **children precede their parents** \n",
    "* **children are kept in the order specified in the tuple of base classes**\n",
    "\n",
    "Hence D has 2 parents but only C defines myclass method, therefore it uses C methods even if B has also this method inheritated from A because it is defined in A and children precede their parents.\n",
    "\n",
    "If C did not heritated from A, then B and C whould have been compared without looking at parents and it would be B methods which would be used:"
   ]
  },
  {
   "cell_type": "code",
   "execution_count": 49,
   "metadata": {},
   "outputs": [
    {
     "name": "stdout",
     "output_type": "stream",
     "text": [
      "defined in A, I am a <class '__main__.D'>\n"
     ]
    }
   ],
   "source": [
    "class C(object):\n",
    "    def myclass(self):\n",
    "        print(\"defined in C, I am a\", self.__class__)\n",
    "\n",
    "class D(B,C):\n",
    "    pass\n",
    "\n",
    "d = D()\n",
    "d.myclass()"
   ]
  },
  {
   "cell_type": "markdown",
   "metadata": {
    "collapsed": true,
    "variables": {
     " PreviousNext(\"01 Classes and objects.ipynb\", \"03 Scope.ipynb\")": "&nbsp; &nbsp; &nbsp; &nbsp; &nbsp; &nbsp; &nbsp; &nbsp; &nbsp; &nbsp; &nbsp; &nbsp; &nbsp; &nbsp; &nbsp; &nbsp; &nbsp; &nbsp; &nbsp; &nbsp; &nbsp; &nbsp; &nbsp; &nbsp; &nbsp; &nbsp; &nbsp; &nbsp; &nbsp; &nbsp; &nbsp; &nbsp; &nbsp; &nbsp; &nbsp; &nbsp; &nbsp; &nbsp; &nbsp; &nbsp; &nbsp; &nbsp; &nbsp; &nbsp; &nbsp; &nbsp; &nbsp; &nbsp; &nbsp; &nbsp; &nbsp; &nbsp; &nbsp; &nbsp; &nbsp; &nbsp; &nbsp; &nbsp; &nbsp; &nbsp; &nbsp; &nbsp; &nbsp; &nbsp; &nbsp; &nbsp; &nbsp; &nbsp; &nbsp; &nbsp; &nbsp; &nbsp; &nbsp; &nbsp; &nbsp; &nbsp; &nbsp; &nbsp; &nbsp; &nbsp; &nbsp; &nbsp; &nbsp; &nbsp; &nbsp; &nbsp; &nbsp; &nbsp; &nbsp; &nbsp; &nbsp; &nbsp; &nbsp; &nbsp; &nbsp; &nbsp; &nbsp; &nbsp; &nbsp; &nbsp; &nbsp; &nbsp; &nbsp; &nbsp; &nbsp; &nbsp; &nbsp; &nbsp; &nbsp; &nbsp; &nbsp; &nbsp; &nbsp; &nbsp; &nbsp; &nbsp; &nbsp; &nbsp; &nbsp; &nbsp; &nbsp; &nbsp; &nbsp; &nbsp; &nbsp; &nbsp; &nbsp; &nbsp; &nbsp; &nbsp; &nbsp; &nbsp; &nbsp; &nbsp; &nbsp; &nbsp; &nbsp; &nbsp; &nbsp; &nbsp; &nbsp; &nbsp; &nbsp; &nbsp; &nbsp; &nbsp; &nbsp; &nbsp; &nbsp; &nbsp; &nbsp; &nbsp; &nbsp; &nbsp; &nbsp; &nbsp; &nbsp; &nbsp; &nbsp; &nbsp; &nbsp; &nbsp; &nbsp; &nbsp; &nbsp; &nbsp; &nbsp; &nbsp; &nbsp; &nbsp; &nbsp; &nbsp; &nbsp; &nbsp; &nbsp; &nbsp; &nbsp; &nbsp; &nbsp; &nbsp; &nbsp; &nbsp; &nbsp; &nbsp; &nbsp; &nbsp; &nbsp; &nbsp; &nbsp; &nbsp; &nbsp; &nbsp; &nbsp; &nbsp; &nbsp; &nbsp; &nbsp; &nbsp; &nbsp; &nbsp; <br/><center><a href=\"01 Classes and objects.ipynb\">01 Classes and objects</a>&nbsp; ← <a href=\"http://python3.mooc.lrde.epita.fr:8888/tree/lesson3 Object Python\" style=\"text-decoration:none\"> △ </a> → &nbsp;<a href=\"03 Scope.ipynb\">03 Scope</a></center><br/>&nbsp;"
    }
   },
   "source": [
    "{{ PreviousNext(\"01 Classes and objects.ipynb\", \"03 Scope.ipynb\")}}"
   ]
  }
 ],
 "metadata": {
  "kernelspec": {
   "display_name": "Python 3",
   "language": "python",
   "name": "python3"
  },
  "language_info": {
   "codemirror_mode": {
    "name": "ipython",
    "version": 3
   },
   "file_extension": ".py",
   "mimetype": "text/x-python",
   "name": "python",
   "nbconvert_exporter": "python",
   "pygments_lexer": "ipython3",
   "version": "3.6.6"
  },
  "nbTranslate": {
   "displayLangs": [
    "en",
    "fr"
   ],
   "hotkey": "alt-t",
   "langInMainMenu": true,
   "sourceLang": "fr",
   "targetLang": "en",
   "useGoogleTranslate": true
  }
 },
 "nbformat": 4,
 "nbformat_minor": 1
}

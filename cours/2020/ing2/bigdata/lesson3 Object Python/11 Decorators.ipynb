{
 "cells": [
  {
   "cell_type": "markdown",
   "metadata": {},
   "source": [
    "We already have seen decorators like `@staticmethod` to define a method as static or `@pytest.fixture` to define values in Pytest.\n",
    "\n",
    "Decorators are wrappers which get a function and return a modified version of the function however see them as tricks to make coding easier :-). There are plenty of them since anyone can make new ones (if you are curious, see [here](https://realpython.com/blog/python/primer-on-python-decorators/)). Following are the main core decorators.\n"
   ]
  },
  {
   "cell_type": "markdown",
   "metadata": {},
   "source": [
    "## Properties, getters and setters\n",
    "\n",
    "An object variable can be changed directly :"
   ]
  },
  {
   "cell_type": "code",
   "execution_count": 1,
   "metadata": {},
   "outputs": [
    {
     "name": "stdout",
     "output_type": "stream",
     "text": [
      "Maxime\n",
      "Bobby\n"
     ]
    }
   ],
   "source": [
    "class Dog:\n",
    "    def __init__(self,name):\n",
    "        self.name = name\n",
    "\n",
    "max = Dog(\"Maxime\")\n",
    "print(max.name)\n",
    "max.name = \"Bobby\"\n",
    "print(max.name)"
   ]
  },
  {
   "cell_type": "markdown",
   "metadata": {},
   "source": [
    "Sometime you want to check that the new value for an object variable is ok. For example you may want to check that a length is positive or that a new Dog has not the same name than another one. To do so you should use methods :"
   ]
  },
  {
   "cell_type": "code",
   "execution_count": 2,
   "metadata": {},
   "outputs": [
    {
     "name": "stdout",
     "output_type": "stream",
     "text": [
      "['Maxime', 'Bobby']\n"
     ]
    }
   ],
   "source": [
    "class Dog:\n",
    "    _all_names = []  # class variable, shared by all objects of this class\n",
    "    \n",
    "    def __init__(self, name):\n",
    "        self.name(name)  # call the method name(self,name)\n",
    "        \n",
    "    def name(self, name):\n",
    "        if name in self._all_names:\n",
    "            raise Exception(\"Name already used\")\n",
    "        else:\n",
    "            self.name = name\n",
    "            self._all_names.append(name)  # _all_names is a class variable \n",
    "                                          # but it can also be called from the object            \n",
    "max = Dog(\"Maxime\")\n",
    "bob = Dog(\"Bobby\")\n",
    "print(Dog._all_names)\n",
    "bob.name = \"Maxime\"   # now we have 2 Maxime..."
   ]
  },
  {
   "cell_type": "markdown",
   "metadata": {},
   "source": [
    "This is fine except if you want to change the name after the creation of the object since:\n",
    "\n",
    "* you still can do `bob.name = \"Maxime\"` and now we have 2 Maxime !\n",
    "* you should do `bob.name(\"Maxime\")` which will check and is fine but not the natural way\n",
    "\n",
    "Therefore **we want to do `bob.name = \"Maxime\"` with the checking**. The decorators @property and @setter are done for that:"
   ]
  },
  {
   "cell_type": "code",
   "execution_count": 3,
   "metadata": {},
   "outputs": [
    {
     "name": "stdout",
     "output_type": "stream",
     "text": [
      "Bobby\n"
     ]
    },
    {
     "ename": "Exception",
     "evalue": "Name already used",
     "output_type": "error",
     "traceback": [
      "\u001b[0;31m---------------------------------------------------------------------------\u001b[0m",
      "\u001b[0;31mException\u001b[0m                                 Traceback (most recent call last)",
      "\u001b[0;32m<ipython-input-3-73bce9ec8ae8>\u001b[0m in \u001b[0;36m<module>\u001b[0;34m()\u001b[0m\n\u001b[1;32m     20\u001b[0m \u001b[0mbob\u001b[0m \u001b[0;34m=\u001b[0m \u001b[0mDog\u001b[0m\u001b[0;34m(\u001b[0m\u001b[0;34m\"Bobby\"\u001b[0m\u001b[0;34m)\u001b[0m\u001b[0;34m\u001b[0m\u001b[0m\n\u001b[1;32m     21\u001b[0m \u001b[0mprint\u001b[0m\u001b[0;34m(\u001b[0m\u001b[0mbob\u001b[0m\u001b[0;34m.\u001b[0m\u001b[0mname\u001b[0m\u001b[0;34m)\u001b[0m       \u001b[0;31m# uses bob.name()\u001b[0m\u001b[0;34m\u001b[0m\u001b[0m\n\u001b[0;32m---> 22\u001b[0;31m \u001b[0mbob\u001b[0m\u001b[0;34m.\u001b[0m\u001b[0mname\u001b[0m \u001b[0;34m=\u001b[0m \u001b[0;34m\"Maxime\"\u001b[0m   \u001b[0;31m# call bob.name(\"Maxime\") which check if Maxime is used\u001b[0m\u001b[0;34m\u001b[0m\u001b[0m\n\u001b[0m",
      "\u001b[0;32m<ipython-input-3-73bce9ec8ae8>\u001b[0m in \u001b[0;36mname\u001b[0;34m(self, name)\u001b[0m\n\u001b[1;32m     12\u001b[0m     \u001b[0;32mdef\u001b[0m \u001b[0mname\u001b[0m\u001b[0;34m(\u001b[0m\u001b[0mself\u001b[0m\u001b[0;34m,\u001b[0m \u001b[0mname\u001b[0m\u001b[0;34m)\u001b[0m\u001b[0;34m:\u001b[0m\u001b[0;34m\u001b[0m\u001b[0m\n\u001b[1;32m     13\u001b[0m         \u001b[0;32mif\u001b[0m \u001b[0mname\u001b[0m \u001b[0;32min\u001b[0m \u001b[0mself\u001b[0m\u001b[0;34m.\u001b[0m\u001b[0m_all_names\u001b[0m\u001b[0;34m:\u001b[0m\u001b[0;34m\u001b[0m\u001b[0m\n\u001b[0;32m---> 14\u001b[0;31m             \u001b[0;32mraise\u001b[0m \u001b[0mException\u001b[0m\u001b[0;34m(\u001b[0m\u001b[0;34m\"Name already used\"\u001b[0m\u001b[0;34m)\u001b[0m\u001b[0;34m\u001b[0m\u001b[0m\n\u001b[0m\u001b[1;32m     15\u001b[0m         \u001b[0;32melse\u001b[0m\u001b[0;34m:\u001b[0m\u001b[0;34m\u001b[0m\u001b[0m\n\u001b[1;32m     16\u001b[0m             \u001b[0mself\u001b[0m\u001b[0;34m.\u001b[0m\u001b[0m_name\u001b[0m \u001b[0;34m=\u001b[0m \u001b[0mname\u001b[0m    \u001b[0;31m# the variable is now private : _name\u001b[0m\u001b[0;34m\u001b[0m\u001b[0m\n",
      "\u001b[0;31mException\u001b[0m: Name already used"
     ]
    }
   ],
   "source": [
    "class Dog:\n",
    "    _all_names = []\n",
    "    \n",
    "    def __init__(self, name):\n",
    "        self.name = name       # call name(name)\n",
    "    \n",
    "    @property       # this is a decorator, it starts with @ and is just before a function\n",
    "    def name(self):\n",
    "        return self._name\n",
    "    \n",
    "    @name.setter\n",
    "    def name(self, name):\n",
    "        if name in self._all_names:\n",
    "            raise Exception(\"Name already used\")\n",
    "        else:\n",
    "            self._name = name    # the variable is now private : _name\n",
    "            self._all_names.append(name)\n",
    "            \n",
    "max = Dog(\"Maxime\")\n",
    "bob = Dog(\"Bobby\")\n",
    "print(bob.name)       # uses bob.name()\n",
    "bob.name = \"Maxime\"   # call bob.name(\"Maxime\") which check if Maxime is used"
   ]
  },
  {
   "cell_type": "markdown",
   "metadata": {
    "collapsed": true
   },
   "source": [
    "### Decorator deleter\n",
    "\n",
    "A third decorator can be linked to a variable which is how to delete it.\n",
    "\n",
    "In our case when an object is deleted we need to remove its name from `_all_names` so another dog can have the same name later."
   ]
  },
  {
   "cell_type": "code",
   "execution_count": 4,
   "metadata": {},
   "outputs": [
    {
     "name": "stdout",
     "output_type": "stream",
     "text": [
      "name deleter called\n",
      "[]\n"
     ]
    }
   ],
   "source": [
    "class Dog():\n",
    "    _all_names = []\n",
    "    \n",
    "    def __init__(self, name):\n",
    "        self.name = name        # call name(name)\n",
    "    \n",
    "    def __del__(self):\n",
    "        del self.name           # call deleter of name\n",
    "    \n",
    "    @property\n",
    "    def name(self):\n",
    "        return self._name\n",
    "    \n",
    "    @name.setter\n",
    "    def name(self, name):\n",
    "        if name in Dog._all_names:\n",
    "            raise Exception(\"Name already used\")\n",
    "        else:\n",
    "            self._name = name   # here is where we store the name in the private variable _name\n",
    "            Dog._all_names.append(name)\n",
    "\n",
    "    @name.deleter\n",
    "    def name(self):\n",
    "        print('name deleter called')\n",
    "        Dog._all_names.remove(self._name)\n",
    "\n",
    "max = Dog(\"Maxime\")\n",
    "del max\n",
    "print(Dog._all_names)"
   ]
  },
  {
   "cell_type": "markdown",
   "metadata": {},
   "source": [
    "There is another way to define properties. You define 3 fonctions, the getter, the setter and the deleter, and give them to the builtin function `property()`:"
   ]
  },
  {
   "cell_type": "code",
   "execution_count": 5,
   "metadata": {},
   "outputs": [
    {
     "name": "stdout",
     "output_type": "stream",
     "text": [
      "Toto\n",
      "['Maxime', 'Toto']\n"
     ]
    }
   ],
   "source": [
    "class Dog:\n",
    "    _all_names = []\n",
    "    \n",
    "    def __init__(self, name):\n",
    "        self.name = name\n",
    "\n",
    "    def __del__(self):\n",
    "        del self.name \n",
    "        \n",
    "    def _get_name(self):\n",
    "        return self._name\n",
    "    \n",
    "    def _set_name(self, name):\n",
    "        if name in self._all_names:\n",
    "            raise Exception(\"Name already used\")\n",
    "        else:\n",
    "            self._name = name\n",
    "            self._all_names.append(name)\n",
    "            \n",
    "    def _del_name(self):\n",
    "        Dog._all_names.remove(self.name)\n",
    "        \n",
    "    name = property(_get_name, _set_name, _del_name)  # it looks like a class variable \n",
    "                                                      # but it is must be seen as a object variable\n",
    "    \n",
    "max = Dog(\"Maxime\")\n",
    "max.name = \"Toto\"\n",
    "print(max.name)\n",
    "print(Dog._all_names)  # oops, there is still a dog Maxime"
   ]
  },
  {
   "cell_type": "markdown",
   "metadata": {},
   "source": [
    "__Exercice__ : modify the class Dog to correct the bug."
   ]
  },
  {
   "cell_type": "markdown",
   "metadata": {
    "collapsed": true
   },
   "source": [
    "# @classmethod\n",
    "\n",
    "A method is a function of an object, a static method is a function of a class, a class method is also a function of a class used to create objects like `__init__()` does. It is usefull when you want different ways to build the same kind of objects."
   ]
  },
  {
   "cell_type": "code",
   "execution_count": 6,
   "metadata": {},
   "outputs": [
    {
     "name": "stdout",
     "output_type": "stream",
     "text": [
      "2014\n"
     ]
    }
   ],
   "source": [
    "class Date:\n",
    "    \n",
    "    def __init__(self, day, month, year):\n",
    "        self.day = day\n",
    "        self.month = month\n",
    "        self.year = year\n",
    "        \n",
    "    @classmethod\n",
    "    def from_string(cls, date_as_string):  # the first parameter of a class method\n",
    "                                           # is the class itself\n",
    "        \"\"\"\n",
    "        Convert string 'dd-mm-yyyy' to Date object.\n",
    "        \"\"\"\n",
    "        day, month, year = map(int, date_as_string.split('-'))\n",
    "        return cls(day, month, year)\n",
    "    \n",
    "d = Date.from_string(\"12-03-2014\")\n",
    "print(d.year)"
   ]
  },
  {
   "cell_type": "markdown",
   "metadata": {},
   "source": [
    "We have to do that because Python does not have overloading like C++ does. With overloading you can define many methods with the same name as long their arguments have different signature (meaning number of argument and their type). Since Python do not specify type of argument it makes difficult (useless) to have overloading. Therefore there is only one method `__init__`.\n",
    "\n",
    "By the way, for those who want to do overloading, there is a module which allow to do overloading with a decorator `@overload` : https://pypi.python.org/pypi/overload/ (pip install overload)"
   ]
  },
  {
   "cell_type": "markdown",
   "metadata": {},
   "source": [
    "# More\n",
    "\n",
    "You can imagine many more decorators\n",
    "\n",
    "* to time a function\n",
    "* to log\n",
    "* to memoize (i.e. cache last value returned for each args so you have the result immediatly)\n",
    "* check hardware (net, IO) before running function\n",
    "\n",
    "This [PythonDecoratorLibrary](https://wiki.python.org/moin/PythonDecoratorLibrary) has more."
   ]
  },
  {
   "cell_type": "markdown",
   "metadata": {
    "variables": {
     " PreviousNext(\"10 Magic methods.ipynb\", \"../lesson4 Numpy/np01 Numpy Introduction.ipynb\")": "&nbsp; &nbsp; &nbsp; &nbsp; &nbsp; &nbsp; &nbsp; &nbsp; &nbsp; &nbsp; &nbsp; &nbsp; &nbsp; &nbsp; &nbsp; &nbsp; &nbsp; &nbsp; &nbsp; &nbsp; &nbsp; &nbsp; &nbsp; &nbsp; &nbsp; &nbsp; &nbsp; &nbsp; &nbsp; &nbsp; &nbsp; &nbsp; &nbsp; &nbsp; &nbsp; &nbsp; &nbsp; &nbsp; &nbsp; &nbsp; &nbsp; &nbsp; &nbsp; &nbsp; &nbsp; &nbsp; &nbsp; &nbsp; &nbsp; &nbsp; &nbsp; &nbsp; &nbsp; &nbsp; &nbsp; &nbsp; &nbsp; &nbsp; &nbsp; &nbsp; &nbsp; &nbsp; &nbsp; &nbsp; &nbsp; &nbsp; &nbsp; &nbsp; &nbsp; &nbsp; &nbsp; &nbsp; &nbsp; &nbsp; &nbsp; &nbsp; &nbsp; &nbsp; &nbsp; &nbsp; &nbsp; &nbsp; &nbsp; &nbsp; &nbsp; &nbsp; &nbsp; &nbsp; &nbsp; &nbsp; &nbsp; &nbsp; &nbsp; &nbsp; &nbsp; &nbsp; &nbsp; &nbsp; &nbsp; &nbsp; &nbsp; &nbsp; &nbsp; &nbsp; &nbsp; &nbsp; &nbsp; &nbsp; &nbsp; &nbsp; &nbsp; &nbsp; &nbsp; &nbsp; &nbsp; &nbsp; &nbsp; &nbsp; &nbsp; &nbsp; &nbsp; &nbsp; &nbsp; &nbsp; &nbsp; &nbsp; &nbsp; &nbsp; &nbsp; &nbsp; &nbsp; &nbsp; &nbsp; &nbsp; &nbsp; &nbsp; &nbsp; &nbsp; &nbsp; &nbsp; &nbsp; &nbsp; &nbsp; &nbsp; &nbsp; &nbsp; &nbsp; &nbsp; &nbsp; &nbsp; &nbsp; &nbsp; &nbsp; &nbsp; &nbsp; &nbsp; &nbsp; &nbsp; &nbsp; &nbsp; &nbsp; &nbsp; &nbsp; &nbsp; &nbsp; &nbsp; &nbsp; &nbsp; &nbsp; &nbsp; &nbsp; &nbsp; &nbsp; &nbsp; &nbsp; &nbsp; &nbsp; &nbsp; &nbsp; &nbsp; &nbsp; &nbsp; &nbsp; &nbsp; &nbsp; &nbsp; &nbsp; &nbsp; &nbsp; &nbsp; &nbsp; &nbsp; &nbsp; &nbsp; &nbsp; &nbsp; &nbsp; &nbsp; &nbsp; &nbsp; <br/><center><a href=\"10 Magic methods.ipynb\">10 Magic methods</a>&nbsp; ← <a href=\"http://python3.mooc.lrde.epita.fr:8888/tree/lesson3 Object Python\" style=\"text-decoration:none\"> △ </a> → &nbsp;<a href=\"../lesson4 Numpy/np01 Numpy Introduction.ipynb\">np01 Numpy Introduction</a></center><br/>&nbsp;"
    }
   },
   "source": [
    "{{ PreviousNext(\"10 Magic methods.ipynb\", \"../lesson4 Numpy/np01 Numpy Introduction.ipynb\")}}"
   ]
  }
 ],
 "metadata": {
  "kernelspec": {
   "display_name": "Python 3",
   "language": "python",
   "name": "python3"
  },
  "language_info": {
   "codemirror_mode": {
    "name": "ipython",
    "version": 3
   },
   "file_extension": ".py",
   "mimetype": "text/x-python",
   "name": "python",
   "nbconvert_exporter": "python",
   "pygments_lexer": "ipython3",
   "version": "3.6.6"
  },
  "nbTranslate": {
   "displayLangs": [
    "en",
    "fr"
   ],
   "hotkey": "alt-t",
   "langInMainMenu": true,
   "sourceLang": "fr",
   "targetLang": "en",
   "useGoogleTranslate": true
  }
 },
 "nbformat": 4,
 "nbformat_minor": 1
}

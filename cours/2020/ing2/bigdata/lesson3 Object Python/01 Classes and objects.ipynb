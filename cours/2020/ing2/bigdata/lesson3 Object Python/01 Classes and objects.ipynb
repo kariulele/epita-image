{
 "cells": [
  {
   "cell_type": "markdown",
   "metadata": {},
   "source": [
    "# Classes\n",
    "\n",
    "Here is a class:"
   ]
  },
  {
   "cell_type": "code",
   "execution_count": 8,
   "metadata": {},
   "outputs": [],
   "source": [
    "class Dog:\n",
    "    species = \"canis lupus\"\n",
    "    \n",
    "    def __init__(self, name):\n",
    "        self.name = name\n",
    "    \n",
    "    def sound(self):\n",
    "        return \"Woof, I am \" + self.name"
   ]
  },
  {
   "cell_type": "markdown",
   "metadata": {},
   "source": [
    "Classes are entities used to pack related data and functions together. They allow to organise projects in smaller entities than the project itself which provides the following advantages:\n",
    "\n",
    "* classes are concepts and concepts help humans to understand what they do\n",
    "* classes encapsulate data and allows data hiding\n",
    "* debugging is easier since you can debug class by class \n",
    "* classes are safe because easier to debug and to test than a whole program (and using safe componnent leads to safe programs)\n",
    "* classes can be reused in other projects\n",
    "\n",
    "It worth to take time to think about a class. \n",
    "\n",
    "* What is a Dog? \n",
    "* What will I need from that class? \n",
    "* It is generic enough to be reused in another project? \n",
    "* Can someone else understand it and extend it?\n",
    "\n",
    "## Objects\n",
    "\n",
    "**A class is a mold to make objects**. To make an object you just have to call the class name with argument if the initialize methods needs some.\n",
    "\n",
    "An object can use data and functions of the class:"
   ]
  },
  {
   "cell_type": "code",
   "execution_count": 9,
   "metadata": {},
   "outputs": [
    {
     "name": "stdout",
     "output_type": "stream",
     "text": [
      "Maximus says \"Woof, I am Maximus\"\n",
      "He is a canis lupus\n",
      "BTW all dogs are canis lupus\n"
     ]
    }
   ],
   "source": [
    "max = Dog('Maximus')\n",
    "\n",
    "print('%s says \"%s\"' % (max.name, max.sound()))  # Object attributes are called with a dot\n",
    "print(\"He is a\", max.species)                    # between the object name and its attribute\n",
    "print(\"BTW all dogs are\", Dog.species)           # Same for class attributes"
   ]
  },
  {
   "cell_type": "markdown",
   "metadata": {},
   "source": [
    "## Vocabulary\n",
    "\n",
    "To be able to talk about classes and object let define a vocabulary introduced as comment in this class Dog:"
   ]
  },
  {
   "cell_type": "code",
   "execution_count": 14,
   "metadata": {
    "collapsed": true
   },
   "outputs": [],
   "source": [
    "class Dog:\n",
    "    race = \"canis lupus\"      # race is a class variable\n",
    "    \n",
    "    def __init__(self, name): # __init__ is the constructor\n",
    "        self.name = name      # self.name is an object variable\n",
    "    \n",
    "    def sound(self):          # sound is a method (a method is a function of an object)\n",
    "        return \"Woof, I am \" + self.name"
   ]
  },
  {
   "cell_type": "markdown",
   "metadata": {},
   "source": [
    "**The main trick is that `self` refers to the object**. It is not mandatory to used the word `self` but it is a convention that I strongly advice to use. The object by definition is the first argument of methods.\n",
    "\n",
    "If it involve `self` then it is **related to the object** and we have:\n",
    "\n",
    "* **instance variables** (also called object variable)\n",
    "* **methods** which are functions \n",
    "\n",
    "If it does not invole `self` then it is **related to the class** itself and we have:\n",
    "\n",
    "* **class variables**\n",
    "* **static methods** (static since they are the same for all objects)\n",
    "\n",
    "All these things are **attributes** of the class and objects. Python says everything which is after a dot `.` is an attribute.\n",
    "\n",
    "To summarize:\n",
    "\n",
    "| type | variable name | function name |\n",
    "|------|----------|----------|\n",
    "| object | instance variable | method |\n",
    "| class  | class variable    | static method |"
   ]
  },
  {
   "cell_type": "markdown",
   "metadata": {},
   "source": [
    "### Static method\n",
    "\n",
    "A static method can be made by two way:\n",
    "\n",
    "* a function defined inside the class without arguments\n",
    "* a function decorated by `@staticmethod` (better way, easier to see it is static)"
   ]
  },
  {
   "cell_type": "code",
   "execution_count": 11,
   "metadata": {},
   "outputs": [],
   "source": [
    "class Dog:\n",
    "    _classification = ['Animalia',\n",
    "                      'Chordata',\n",
    "                      'Synapsida',\n",
    "                      'Mammalia',\n",
    "                      'Carnivora',\n",
    "                      'Caniformia',\n",
    "                      'Canidae',\n",
    "                      'Canis',\n",
    "                      'Canis lupus',\n",
    "                      'Canis lupus familiaris']\n",
    "    \n",
    "    @staticmethod\n",
    "    def classification(level):   # no reference to self, the object\n",
    "        return Dog._classification[-level:]"
   ]
  },
  {
   "cell_type": "code",
   "execution_count": 12,
   "metadata": {},
   "outputs": [
    {
     "data": {
      "text/plain": [
       "['Canis', 'Canis lupus', 'Canis lupus familiaris']"
      ]
     },
     "execution_count": 12,
     "metadata": {},
     "output_type": "execute_result"
    }
   ],
   "source": [
    "Dog.classification(3)"
   ]
  },
  {
   "cell_type": "markdown",
   "metadata": {},
   "source": [
    "Static methods can be called from objects too:"
   ]
  },
  {
   "cell_type": "code",
   "execution_count": 13,
   "metadata": {},
   "outputs": [
    {
     "data": {
      "text/plain": [
       "['Caniformia', 'Canidae', 'Canis', 'Canis lupus', 'Canis lupus familiaris']"
      ]
     },
     "execution_count": 13,
     "metadata": {},
     "output_type": "execute_result"
    }
   ],
   "source": [
    "max = Dog()\n",
    "max.classification(5)"
   ]
  },
  {
   "cell_type": "markdown",
   "metadata": {
    "collapsed": true,
    "variables": {
     " PreviousNext(\"../lesson2 Deeper in Python/12 xml.ipynb\", \"02 Inheritance.ipynb\")": "&nbsp; &nbsp; &nbsp; &nbsp; &nbsp; &nbsp; &nbsp; &nbsp; &nbsp; &nbsp; &nbsp; &nbsp; &nbsp; &nbsp; &nbsp; &nbsp; &nbsp; &nbsp; &nbsp; &nbsp; &nbsp; &nbsp; &nbsp; &nbsp; &nbsp; &nbsp; &nbsp; &nbsp; &nbsp; &nbsp; &nbsp; &nbsp; &nbsp; &nbsp; &nbsp; &nbsp; &nbsp; &nbsp; &nbsp; &nbsp; &nbsp; &nbsp; &nbsp; &nbsp; &nbsp; &nbsp; &nbsp; &nbsp; &nbsp; &nbsp; &nbsp; &nbsp; &nbsp; &nbsp; &nbsp; &nbsp; &nbsp; &nbsp; &nbsp; &nbsp; &nbsp; &nbsp; &nbsp; &nbsp; &nbsp; &nbsp; &nbsp; &nbsp; &nbsp; &nbsp; &nbsp; &nbsp; &nbsp; &nbsp; &nbsp; &nbsp; &nbsp; &nbsp; &nbsp; &nbsp; &nbsp; &nbsp; &nbsp; &nbsp; &nbsp; &nbsp; &nbsp; &nbsp; &nbsp; &nbsp; &nbsp; &nbsp; &nbsp; &nbsp; &nbsp; &nbsp; &nbsp; &nbsp; &nbsp; &nbsp; &nbsp; &nbsp; &nbsp; &nbsp; &nbsp; &nbsp; &nbsp; &nbsp; &nbsp; &nbsp; &nbsp; &nbsp; &nbsp; &nbsp; &nbsp; &nbsp; &nbsp; &nbsp; &nbsp; &nbsp; &nbsp; &nbsp; &nbsp; &nbsp; &nbsp; &nbsp; &nbsp; &nbsp; &nbsp; &nbsp; &nbsp; &nbsp; &nbsp; &nbsp; &nbsp; &nbsp; &nbsp; &nbsp; &nbsp; &nbsp; &nbsp; &nbsp; &nbsp; &nbsp; &nbsp; &nbsp; &nbsp; &nbsp; &nbsp; &nbsp; &nbsp; &nbsp; &nbsp; &nbsp; &nbsp; &nbsp; &nbsp; &nbsp; &nbsp; &nbsp; &nbsp; &nbsp; &nbsp; &nbsp; &nbsp; &nbsp; &nbsp; &nbsp; &nbsp; &nbsp; &nbsp; &nbsp; &nbsp; &nbsp; &nbsp; &nbsp; &nbsp; &nbsp; &nbsp; &nbsp; &nbsp; &nbsp; &nbsp; &nbsp; &nbsp; &nbsp; &nbsp; &nbsp; &nbsp; &nbsp; &nbsp; &nbsp; &nbsp; &nbsp; &nbsp; &nbsp; &nbsp; &nbsp; &nbsp; &nbsp; <br/><center><a href=\"../lesson2 Deeper in Python/12 xml.ipynb\">12 xml</a>&nbsp; ← <a href=\"http://python3.mooc.lrde.epita.fr:8888/tree/lesson3 Object Python\" style=\"text-decoration:none\"> △ </a> → &nbsp;<a href=\"02 Inheritance.ipynb\">02 Inheritance</a></center><br/>&nbsp;"
    }
   },
   "source": [
    "{{ PreviousNext(\"../lesson2 Deeper in Python/12 xml.ipynb\", \"02 Inheritance.ipynb\")}}"
   ]
  }
 ],
 "metadata": {
  "kernelspec": {
   "display_name": "Python 3",
   "language": "python",
   "name": "python3"
  },
  "language_info": {
   "codemirror_mode": {
    "name": "ipython",
    "version": 3
   },
   "file_extension": ".py",
   "mimetype": "text/x-python",
   "name": "python",
   "nbconvert_exporter": "python",
   "pygments_lexer": "ipython3",
   "version": "3.6.6"
  },
  "nbTranslate": {
   "displayLangs": [],
   "hotkey": "alt-t",
   "langInMainMenu": true,
   "sourceLang": "fr",
   "targetLang": "en",
   "useGoogleTranslate": true
  }
 },
 "nbformat": 4,
 "nbformat_minor": 1
}

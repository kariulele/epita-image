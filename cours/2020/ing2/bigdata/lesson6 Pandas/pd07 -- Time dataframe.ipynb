{
 "cells": [
  {
   "cell_type": "markdown",
   "metadata": {
    "lang": "en"
   },
   "source": [
    "# Time series\n",
    "\n",
    "A time series is a series with dates as index.\n",
    "\n",
    "   1. [Creation & use](#creation)\n",
    "   2. [Data manipulation](#manipulation)\n",
    "   3. [Examples](#examples)\n",
    "\n",
    "Note: see what is a date/time in Python if you haven't: [Introduction to DateTime](../lesson2 Deeper in Python/21 datetime.ipynb)\n",
    "\n",
    "Ref: http://pandas.pydata.org/pandas-docs/stable/timeseries.html"
   ]
  },
  {
   "cell_type": "markdown",
   "metadata": {
    "lang": "fr"
   },
   "source": [
    "# Tableaux chronologiques\n",
    "\n",
    "On peut choisir d'indexer son tableau par un index chronologique. Dans ce cas certaines opérations\n",
    "liées au temps deviennent possibles.\n",
    "\n",
    "Note: regardez ce qu'est une date/heure dans Python si vous ne l'avez pas encore fait : [Introduction à DateTime](../lesson2 Deeper in Python/21 datetime.ipynb)"
   ]
  },
  {
   "cell_type": "markdown",
   "metadata": {
    "lang": "en"
   },
   "source": [
    "<a id='creation'></a>\n",
    "## Creation and uses\n",
    "\n",
    "Dates are ordered and can be given in a list of dates, as any index, or  with the methods `pd.date_range(start, end, periode, frequence)` where \n",
    "\n",
    "* you should choose between end and period, period being the number of iteration\n",
    "* frequence is define by these acronymes:\n",
    "\n",
    "```\n",
    "B    business day frequency\n",
    "C    custom business day frequency (experimental)\n",
    "D    calendar day frequency\n",
    "W    weekly frequency\n",
    "M    month end frequency\n",
    "BM   business month end frequency\n",
    "CBM  custom business month end frequency\n",
    "MS   month start frequency\n",
    "BMS  business month start frequency\n",
    "CBMS custom business month start frequency\n",
    "Q    quarter end frequency\n",
    "BQ   business quarter end frequency\n",
    "QS   quarter start frequency\n",
    "BQS  business quarter start frequency\n",
    "A    year end frequency\n",
    "BA   business year end frequency\n",
    "AS   year start frequency\n",
    "BAS  business year start frequency\n",
    "BH   business hour frequency\n",
    "H    hourly frequency\n",
    "T, min minutely frequency\n",
    "S      secondly frequency\n",
    "L, ms  milliseconds\n",
    "U, us  microseconds\n",
    "N      nanoseconds\n",
    "```\n",
    "\n",
    "see http://pandas.pydata.org/pandas-docs/stable/timeseries.html"
   ]
  },
  {
   "cell_type": "markdown",
   "metadata": {
    "lang": "fr"
   },
   "source": [
    "<a id='creation'></a>\n",
    "## Création et utilisation\n",
    "\n",
    "Les dates sont ordonnées et peuvent être données dans une liste de dates, sous forme d’index, ou avec la méthode\n",
    "\n",
    "`pd.date_range (début, fin, période, fréquence)`\n",
    "\n",
    "où vous devez choisir entre fin et période, la période étant le nombre d'itérations\n",
    "\n",
    "La fréquence est définie par ces codes (attention, ils sont différents de ceux de Numpy datetime) :\n",
    "\n",
    "```\n",
    "B        jours ouvrables\n",
    "C        jours ouvrables personnalisée (à titre expérimental)\n",
    "J        jour\n",
    "W        hebdomadaire\n",
    "M        mensuel\n",
    "BM       mois des affaires\n",
    "CBM      mois d'activité personnalisée\n",
    "MS       début de mois\n",
    "BMS      début de mois d'activité\n",
    "CBMS     début de mois d'activité personnalisée\n",
    "Q        fin de trimestre\n",
    "BQ       trimestre d’affaires\n",
    "QS       début de trimestre\n",
    "BQS      début du trimestre d'activité\n",
    "A        fin d'année\n",
    "BA       fin d'année d'exercice\n",
    "AS       début d'année \n",
    "BAS      année de début d'exercice\n",
    "BH       heure professionel\n",
    "H        heure\n",
    "T, min   minute\n",
    "S        seconde\n",
    "L, ms    millisecondes\n",
    "U, us    microsecondes\n",
    "N        nanosecondes\n",
    "```"
   ]
  },
  {
   "cell_type": "code",
   "execution_count": 1,
   "metadata": {},
   "outputs": [],
   "source": [
    "import numpy as np\n",
    "import pandas as pd\n",
    "np.random.seed(1)"
   ]
  },
  {
   "cell_type": "code",
   "execution_count": 2,
   "metadata": {},
   "outputs": [
    {
     "data": {
      "text/plain": [
       "DatetimeIndex(['2016-08-29', '2016-08-30', '2016-08-31', '2016-09-01',\n",
       "               '2016-09-02', '2016-09-05', '2016-09-06'],\n",
       "              dtype='datetime64[ns]', freq='B')"
      ]
     },
     "execution_count": 2,
     "metadata": {},
     "output_type": "execute_result"
    }
   ],
   "source": [
    "dates = pd.date_range('2016-08-28', '2016-09-06', freq='B') # begin, end, only business days\n",
    "dates"
   ]
  },
  {
   "cell_type": "markdown",
   "metadata": {},
   "source": [
    "Avec cet index on peut créer un tableau chronologique :"
   ]
  },
  {
   "cell_type": "markdown",
   "metadata": {
    "lang": "en"
   },
   "source": [
    "It is easy to extract parts of a TimeSeries:"
   ]
  },
  {
   "cell_type": "code",
   "execution_count": 3,
   "metadata": {},
   "outputs": [
    {
     "data": {
      "text/html": [
       "<div>\n",
       "<style scoped>\n",
       "    .dataframe tbody tr th:only-of-type {\n",
       "        vertical-align: middle;\n",
       "    }\n",
       "\n",
       "    .dataframe tbody tr th {\n",
       "        vertical-align: top;\n",
       "    }\n",
       "\n",
       "    .dataframe thead th {\n",
       "        text-align: right;\n",
       "    }\n",
       "</style>\n",
       "<table border=\"1\" class=\"dataframe\">\n",
       "  <thead>\n",
       "    <tr style=\"text-align: right;\">\n",
       "      <th></th>\n",
       "      <th>temperature</th>\n",
       "      <th>pression</th>\n",
       "    </tr>\n",
       "  </thead>\n",
       "  <tbody>\n",
       "    <tr>\n",
       "      <th>2016-08-29</th>\n",
       "      <td>23</td>\n",
       "      <td>1.039658</td>\n",
       "    </tr>\n",
       "    <tr>\n",
       "      <th>2016-08-30</th>\n",
       "      <td>24</td>\n",
       "      <td>1.038791</td>\n",
       "    </tr>\n",
       "    <tr>\n",
       "      <th>2016-08-31</th>\n",
       "      <td>20</td>\n",
       "      <td>1.066975</td>\n",
       "    </tr>\n",
       "    <tr>\n",
       "      <th>2016-09-01</th>\n",
       "      <td>21</td>\n",
       "      <td>1.093554</td>\n",
       "    </tr>\n",
       "    <tr>\n",
       "      <th>2016-09-02</th>\n",
       "      <td>23</td>\n",
       "      <td>1.084631</td>\n",
       "    </tr>\n",
       "    <tr>\n",
       "      <th>2016-09-05</th>\n",
       "      <td>20</td>\n",
       "      <td>1.031327</td>\n",
       "    </tr>\n",
       "    <tr>\n",
       "      <th>2016-09-06</th>\n",
       "      <td>20</td>\n",
       "      <td>1.052455</td>\n",
       "    </tr>\n",
       "  </tbody>\n",
       "</table>\n",
       "</div>"
      ],
      "text/plain": [
       "            temperature  pression\n",
       "2016-08-29           23  1.039658\n",
       "2016-08-30           24  1.038791\n",
       "2016-08-31           20  1.066975\n",
       "2016-09-01           21  1.093554\n",
       "2016-09-02           23  1.084631\n",
       "2016-09-05           20  1.031327\n",
       "2016-09-06           20  1.052455"
      ]
     },
     "execution_count": 3,
     "metadata": {},
     "output_type": "execute_result"
    }
   ],
   "source": [
    "tdf1 = pd.DataFrame({'temperature': 20 + np.random.randint(0,5,7),\n",
    "                     'pression'   : 1 + np.random.random(7)/10 },\n",
    "                    index=dates)\n",
    "tdf1"
   ]
  },
  {
   "cell_type": "markdown",
   "metadata": {},
   "source": [
    "Comme pour les tableaux usuels on peut selectionner les parties qui nous intéresse avec `loc` et les filtres\n",
    "mais il est également possible de contraindre les dates :"
   ]
  },
  {
   "cell_type": "code",
   "execution_count": 4,
   "metadata": {},
   "outputs": [
    {
     "data": {
      "text/html": [
       "<div>\n",
       "<style scoped>\n",
       "    .dataframe tbody tr th:only-of-type {\n",
       "        vertical-align: middle;\n",
       "    }\n",
       "\n",
       "    .dataframe tbody tr th {\n",
       "        vertical-align: top;\n",
       "    }\n",
       "\n",
       "    .dataframe thead th {\n",
       "        text-align: right;\n",
       "    }\n",
       "</style>\n",
       "<table border=\"1\" class=\"dataframe\">\n",
       "  <thead>\n",
       "    <tr style=\"text-align: right;\">\n",
       "      <th></th>\n",
       "      <th>temperature</th>\n",
       "      <th>pression</th>\n",
       "    </tr>\n",
       "  </thead>\n",
       "  <tbody>\n",
       "    <tr>\n",
       "      <th>2016-08-29</th>\n",
       "      <td>23</td>\n",
       "      <td>1.039658</td>\n",
       "    </tr>\n",
       "    <tr>\n",
       "      <th>2016-08-30</th>\n",
       "      <td>24</td>\n",
       "      <td>1.038791</td>\n",
       "    </tr>\n",
       "    <tr>\n",
       "      <th>2016-08-31</th>\n",
       "      <td>20</td>\n",
       "      <td>1.066975</td>\n",
       "    </tr>\n",
       "  </tbody>\n",
       "</table>\n",
       "</div>"
      ],
      "text/plain": [
       "            temperature  pression\n",
       "2016-08-29           23  1.039658\n",
       "2016-08-30           24  1.038791\n",
       "2016-08-31           20  1.066975"
      ]
     },
     "execution_count": 4,
     "metadata": {},
     "output_type": "execute_result"
    }
   ],
   "source": [
    "tdf1.loc['2016-08']  # just August"
   ]
  },
  {
   "cell_type": "code",
   "execution_count": 5,
   "metadata": {},
   "outputs": [
    {
     "data": {
      "text/html": [
       "<div>\n",
       "<style scoped>\n",
       "    .dataframe tbody tr th:only-of-type {\n",
       "        vertical-align: middle;\n",
       "    }\n",
       "\n",
       "    .dataframe tbody tr th {\n",
       "        vertical-align: top;\n",
       "    }\n",
       "\n",
       "    .dataframe thead th {\n",
       "        text-align: right;\n",
       "    }\n",
       "</style>\n",
       "<table border=\"1\" class=\"dataframe\">\n",
       "  <thead>\n",
       "    <tr style=\"text-align: right;\">\n",
       "      <th></th>\n",
       "      <th>temperature</th>\n",
       "      <th>pression</th>\n",
       "    </tr>\n",
       "  </thead>\n",
       "  <tbody>\n",
       "    <tr>\n",
       "      <th>2016-09-05</th>\n",
       "      <td>20</td>\n",
       "      <td>1.031327</td>\n",
       "    </tr>\n",
       "    <tr>\n",
       "      <th>2016-09-06</th>\n",
       "      <td>20</td>\n",
       "      <td>1.052455</td>\n",
       "    </tr>\n",
       "  </tbody>\n",
       "</table>\n",
       "</div>"
      ],
      "text/plain": [
       "            temperature  pression\n",
       "2016-09-05           20  1.031327\n",
       "2016-09-06           20  1.052455"
      ]
     },
     "execution_count": 5,
     "metadata": {},
     "output_type": "execute_result"
    }
   ],
   "source": [
    "tdf1.loc['2016-09-03':]  # after that date even if the date is not in the index"
   ]
  },
  {
   "cell_type": "markdown",
   "metadata": {},
   "source": [
    "<a id='manipulation'></a>\n",
    "## Manipulation"
   ]
  },
  {
   "cell_type": "markdown",
   "metadata": {},
   "source": [
    "###  Boucher les trous\n",
    "\n",
    "Soit deux sources d'information incomplète, utilisons les méthodes que l'on a déjà vu pour boucher les trous."
   ]
  },
  {
   "cell_type": "code",
   "execution_count": 6,
   "metadata": {},
   "outputs": [
    {
     "data": {
      "text/html": [
       "<div>\n",
       "<style scoped>\n",
       "    .dataframe tbody tr th:only-of-type {\n",
       "        vertical-align: middle;\n",
       "    }\n",
       "\n",
       "    .dataframe tbody tr th {\n",
       "        vertical-align: top;\n",
       "    }\n",
       "\n",
       "    .dataframe thead th {\n",
       "        text-align: right;\n",
       "    }\n",
       "</style>\n",
       "<table border=\"1\" class=\"dataframe\">\n",
       "  <thead>\n",
       "    <tr style=\"text-align: right;\">\n",
       "      <th></th>\n",
       "      <th>temperature</th>\n",
       "      <th>pression</th>\n",
       "    </tr>\n",
       "  </thead>\n",
       "  <tbody>\n",
       "    <tr>\n",
       "      <th>2016-08-31</th>\n",
       "      <td>20</td>\n",
       "      <td>1.066975</td>\n",
       "    </tr>\n",
       "    <tr>\n",
       "      <th>2016-09-02</th>\n",
       "      <td>23</td>\n",
       "      <td>1.084631</td>\n",
       "    </tr>\n",
       "    <tr>\n",
       "      <th>2016-09-05</th>\n",
       "      <td>20</td>\n",
       "      <td>1.031327</td>\n",
       "    </tr>\n",
       "    <tr>\n",
       "      <th>2016-09-06</th>\n",
       "      <td>20</td>\n",
       "      <td>1.052455</td>\n",
       "    </tr>\n",
       "  </tbody>\n",
       "</table>\n",
       "</div>"
      ],
      "text/plain": [
       "            temperature  pression\n",
       "2016-08-31           20  1.066975\n",
       "2016-09-02           23  1.084631\n",
       "2016-09-05           20  1.031327\n",
       "2016-09-06           20  1.052455"
      ]
     },
     "metadata": {},
     "output_type": "display_data"
    },
    {
     "data": {
      "text/html": [
       "<div>\n",
       "<style scoped>\n",
       "    .dataframe tbody tr th:only-of-type {\n",
       "        vertical-align: middle;\n",
       "    }\n",
       "\n",
       "    .dataframe tbody tr th {\n",
       "        vertical-align: top;\n",
       "    }\n",
       "\n",
       "    .dataframe thead th {\n",
       "        text-align: right;\n",
       "    }\n",
       "</style>\n",
       "<table border=\"1\" class=\"dataframe\">\n",
       "  <thead>\n",
       "    <tr style=\"text-align: right;\">\n",
       "      <th></th>\n",
       "      <th>temperature</th>\n",
       "    </tr>\n",
       "  </thead>\n",
       "  <tbody>\n",
       "    <tr>\n",
       "      <th>2016-08-29</th>\n",
       "      <td>23</td>\n",
       "    </tr>\n",
       "    <tr>\n",
       "      <th>2016-08-30</th>\n",
       "      <td>24</td>\n",
       "    </tr>\n",
       "    <tr>\n",
       "      <th>2016-08-31</th>\n",
       "      <td>20</td>\n",
       "    </tr>\n",
       "    <tr>\n",
       "      <th>2016-09-01</th>\n",
       "      <td>21</td>\n",
       "    </tr>\n",
       "    <tr>\n",
       "      <th>2016-09-02</th>\n",
       "      <td>23</td>\n",
       "    </tr>\n",
       "  </tbody>\n",
       "</table>\n",
       "</div>"
      ],
      "text/plain": [
       "            temperature\n",
       "2016-08-29           23\n",
       "2016-08-30           24\n",
       "2016-08-31           20\n",
       "2016-09-01           21\n",
       "2016-09-02           23"
      ]
     },
     "metadata": {},
     "output_type": "display_data"
    }
   ],
   "source": [
    "tdf2 = tdf1.copy()\n",
    "tdf1.drop(tdf1.index[[0,1,3]], inplace=True)   # we remove some data\n",
    "tdf2.drop(tdf2.index[[5,6]], inplace=True)         # more data removed\n",
    "tdf2.drop(columns='pression', inplace=True)\n",
    "display(tdf1, tdf2)"
   ]
  },
  {
   "cell_type": "code",
   "execution_count": 7,
   "metadata": {},
   "outputs": [
    {
     "data": {
      "text/html": [
       "<div>\n",
       "<style scoped>\n",
       "    .dataframe tbody tr th:only-of-type {\n",
       "        vertical-align: middle;\n",
       "    }\n",
       "\n",
       "    .dataframe tbody tr th {\n",
       "        vertical-align: top;\n",
       "    }\n",
       "\n",
       "    .dataframe thead th {\n",
       "        text-align: right;\n",
       "    }\n",
       "</style>\n",
       "<table border=\"1\" class=\"dataframe\">\n",
       "  <thead>\n",
       "    <tr style=\"text-align: right;\">\n",
       "      <th></th>\n",
       "      <th>temperature</th>\n",
       "      <th>pression</th>\n",
       "    </tr>\n",
       "  </thead>\n",
       "  <tbody>\n",
       "    <tr>\n",
       "      <th>2016-08-29</th>\n",
       "      <td>23</td>\n",
       "      <td>NaN</td>\n",
       "    </tr>\n",
       "    <tr>\n",
       "      <th>2016-08-30</th>\n",
       "      <td>24</td>\n",
       "      <td>NaN</td>\n",
       "    </tr>\n",
       "    <tr>\n",
       "      <th>2016-08-31</th>\n",
       "      <td>20</td>\n",
       "      <td>1.066975</td>\n",
       "    </tr>\n",
       "    <tr>\n",
       "      <th>2016-09-01</th>\n",
       "      <td>21</td>\n",
       "      <td>NaN</td>\n",
       "    </tr>\n",
       "    <tr>\n",
       "      <th>2016-09-02</th>\n",
       "      <td>23</td>\n",
       "      <td>1.084631</td>\n",
       "    </tr>\n",
       "    <tr>\n",
       "      <th>2016-09-05</th>\n",
       "      <td>20</td>\n",
       "      <td>1.031327</td>\n",
       "    </tr>\n",
       "    <tr>\n",
       "      <th>2016-09-06</th>\n",
       "      <td>20</td>\n",
       "      <td>1.052455</td>\n",
       "    </tr>\n",
       "  </tbody>\n",
       "</table>\n",
       "</div>"
      ],
      "text/plain": [
       "            temperature  pression\n",
       "2016-08-29           23       NaN\n",
       "2016-08-30           24       NaN\n",
       "2016-08-31           20  1.066975\n",
       "2016-09-01           21       NaN\n",
       "2016-09-02           23  1.084631\n",
       "2016-09-05           20  1.031327\n",
       "2016-09-06           20  1.052455"
      ]
     },
     "execution_count": 7,
     "metadata": {},
     "output_type": "execute_result"
    }
   ],
   "source": [
    "tdf1.merge(tdf2, on='temperature', how='outer', right_index=True, left_index=True)  # merge on indexes + col temperature"
   ]
  },
  {
   "cell_type": "markdown",
   "metadata": {},
   "source": [
    "Si les deux sources de données ne sont pas d'accord sur une valeur, que se passe-t-il ?"
   ]
  },
  {
   "cell_type": "code",
   "execution_count": 8,
   "metadata": {},
   "outputs": [
    {
     "data": {
      "text/html": [
       "<div>\n",
       "<style scoped>\n",
       "    .dataframe tbody tr th:only-of-type {\n",
       "        vertical-align: middle;\n",
       "    }\n",
       "\n",
       "    .dataframe tbody tr th {\n",
       "        vertical-align: top;\n",
       "    }\n",
       "\n",
       "    .dataframe thead th {\n",
       "        text-align: right;\n",
       "    }\n",
       "</style>\n",
       "<table border=\"1\" class=\"dataframe\">\n",
       "  <thead>\n",
       "    <tr style=\"text-align: right;\">\n",
       "      <th></th>\n",
       "      <th>temperature</th>\n",
       "      <th>pression</th>\n",
       "    </tr>\n",
       "  </thead>\n",
       "  <tbody>\n",
       "    <tr>\n",
       "      <th>2016-08-29</th>\n",
       "      <td>23</td>\n",
       "      <td>NaN</td>\n",
       "    </tr>\n",
       "    <tr>\n",
       "      <th>2016-08-30</th>\n",
       "      <td>24</td>\n",
       "      <td>NaN</td>\n",
       "    </tr>\n",
       "    <tr>\n",
       "      <th>2016-08-31</th>\n",
       "      <td>19</td>\n",
       "      <td>1.066975</td>\n",
       "    </tr>\n",
       "    <tr>\n",
       "      <th>2016-09-01</th>\n",
       "      <td>21</td>\n",
       "      <td>NaN</td>\n",
       "    </tr>\n",
       "    <tr>\n",
       "      <th>2016-09-02</th>\n",
       "      <td>23</td>\n",
       "      <td>1.084631</td>\n",
       "    </tr>\n",
       "    <tr>\n",
       "      <th>2016-09-05</th>\n",
       "      <td>20</td>\n",
       "      <td>1.031327</td>\n",
       "    </tr>\n",
       "    <tr>\n",
       "      <th>2016-09-06</th>\n",
       "      <td>20</td>\n",
       "      <td>1.052455</td>\n",
       "    </tr>\n",
       "  </tbody>\n",
       "</table>\n",
       "</div>"
      ],
      "text/plain": [
       "            temperature  pression\n",
       "2016-08-29           23       NaN\n",
       "2016-08-30           24       NaN\n",
       "2016-08-31           19  1.066975\n",
       "2016-09-01           21       NaN\n",
       "2016-09-02           23  1.084631\n",
       "2016-09-05           20  1.031327\n",
       "2016-09-06           20  1.052455"
      ]
     },
     "execution_count": 8,
     "metadata": {},
     "output_type": "execute_result"
    }
   ],
   "source": [
    "tdf1.loc['2016-08-31','temperature'] = 19\n",
    "tdf1 = tdf1.merge(tdf2, on='temperature', how='outer', right_index=True, left_index=True)\n",
    "tdf1"
   ]
  },
  {
   "cell_type": "markdown",
   "metadata": {},
   "source": [
    "On constate que la nouvelle donnée s'est imposée car :\n",
    "\n",
    "* on fait la fusion sur les index qui eux sont cohérents\n",
    "* la fusion est guidée par `tdf1` qui appelle la méthode `merge`\n"
   ]
  },
  {
   "cell_type": "markdown",
   "metadata": {},
   "source": [
    "### Interpolation\n",
    "\n",
    "Comme avec Numpy, l'interpolation peut être faite en prenant en compte les dates et donc l'écart entre 2 dates successives."
   ]
  },
  {
   "cell_type": "code",
   "execution_count": 9,
   "metadata": {},
   "outputs": [
    {
     "data": {
      "text/html": [
       "<div>\n",
       "<style scoped>\n",
       "    .dataframe tbody tr th:only-of-type {\n",
       "        vertical-align: middle;\n",
       "    }\n",
       "\n",
       "    .dataframe tbody tr th {\n",
       "        vertical-align: top;\n",
       "    }\n",
       "\n",
       "    .dataframe thead th {\n",
       "        text-align: right;\n",
       "    }\n",
       "</style>\n",
       "<table border=\"1\" class=\"dataframe\">\n",
       "  <thead>\n",
       "    <tr style=\"text-align: right;\">\n",
       "      <th></th>\n",
       "      <th>temperature</th>\n",
       "      <th>pression</th>\n",
       "    </tr>\n",
       "  </thead>\n",
       "  <tbody>\n",
       "    <tr>\n",
       "      <th>2016-08-29</th>\n",
       "      <td>23</td>\n",
       "      <td>NaN</td>\n",
       "    </tr>\n",
       "    <tr>\n",
       "      <th>2016-08-30</th>\n",
       "      <td>24</td>\n",
       "      <td>NaN</td>\n",
       "    </tr>\n",
       "    <tr>\n",
       "      <th>2016-08-31</th>\n",
       "      <td>19</td>\n",
       "      <td>1.066975</td>\n",
       "    </tr>\n",
       "    <tr>\n",
       "      <th>2016-09-01</th>\n",
       "      <td>21</td>\n",
       "      <td>1.075803</td>\n",
       "    </tr>\n",
       "    <tr>\n",
       "      <th>2016-09-02</th>\n",
       "      <td>23</td>\n",
       "      <td>1.084631</td>\n",
       "    </tr>\n",
       "    <tr>\n",
       "      <th>2016-09-05</th>\n",
       "      <td>20</td>\n",
       "      <td>1.031327</td>\n",
       "    </tr>\n",
       "    <tr>\n",
       "      <th>2016-09-06</th>\n",
       "      <td>20</td>\n",
       "      <td>1.052455</td>\n",
       "    </tr>\n",
       "  </tbody>\n",
       "</table>\n",
       "</div>"
      ],
      "text/plain": [
       "            temperature  pression\n",
       "2016-08-29           23       NaN\n",
       "2016-08-30           24       NaN\n",
       "2016-08-31           19  1.066975\n",
       "2016-09-01           21  1.075803\n",
       "2016-09-02           23  1.084631\n",
       "2016-09-05           20  1.031327\n",
       "2016-09-06           20  1.052455"
      ]
     },
     "execution_count": 9,
     "metadata": {},
     "output_type": "execute_result"
    }
   ],
   "source": [
    "tdf1.interpolate(method='time')"
   ]
  },
  {
   "cell_type": "markdown",
   "metadata": {},
   "source": [
    "Il est également possible de changer l'index et de demander de recalculer les valeurs sur le nouvel index."
   ]
  },
  {
   "cell_type": "code",
   "execution_count": 10,
   "metadata": {},
   "outputs": [
    {
     "data": {
      "text/html": [
       "<div>\n",
       "<style scoped>\n",
       "    .dataframe tbody tr th:only-of-type {\n",
       "        vertical-align: middle;\n",
       "    }\n",
       "\n",
       "    .dataframe tbody tr th {\n",
       "        vertical-align: top;\n",
       "    }\n",
       "\n",
       "    .dataframe thead th {\n",
       "        text-align: right;\n",
       "    }\n",
       "</style>\n",
       "<table border=\"1\" class=\"dataframe\">\n",
       "  <thead>\n",
       "    <tr style=\"text-align: right;\">\n",
       "      <th></th>\n",
       "      <th>temperature</th>\n",
       "      <th>pression</th>\n",
       "    </tr>\n",
       "  </thead>\n",
       "  <tbody>\n",
       "    <tr>\n",
       "      <th>2016-08-29 00:00:00</th>\n",
       "      <td>23.0</td>\n",
       "      <td>NaN</td>\n",
       "    </tr>\n",
       "    <tr>\n",
       "      <th>2016-08-30 06:00:00</th>\n",
       "      <td>23.0</td>\n",
       "      <td>NaN</td>\n",
       "    </tr>\n",
       "    <tr>\n",
       "      <th>2016-08-31 12:00:00</th>\n",
       "      <td>23.0</td>\n",
       "      <td>NaN</td>\n",
       "    </tr>\n",
       "    <tr>\n",
       "      <th>2016-09-01 18:00:00</th>\n",
       "      <td>23.0</td>\n",
       "      <td>NaN</td>\n",
       "    </tr>\n",
       "    <tr>\n",
       "      <th>2016-09-03 00:00:00</th>\n",
       "      <td>23.0</td>\n",
       "      <td>NaN</td>\n",
       "    </tr>\n",
       "    <tr>\n",
       "      <th>2016-09-04 06:00:00</th>\n",
       "      <td>23.0</td>\n",
       "      <td>NaN</td>\n",
       "    </tr>\n",
       "    <tr>\n",
       "      <th>2016-09-05 12:00:00</th>\n",
       "      <td>23.0</td>\n",
       "      <td>NaN</td>\n",
       "    </tr>\n",
       "  </tbody>\n",
       "</table>\n",
       "</div>"
      ],
      "text/plain": [
       "                     temperature  pression\n",
       "2016-08-29 00:00:00         23.0       NaN\n",
       "2016-08-30 06:00:00         23.0       NaN\n",
       "2016-08-31 12:00:00         23.0       NaN\n",
       "2016-09-01 18:00:00         23.0       NaN\n",
       "2016-09-03 00:00:00         23.0       NaN\n",
       "2016-09-04 06:00:00         23.0       NaN\n",
       "2016-09-05 12:00:00         23.0       NaN"
      ]
     },
     "execution_count": 10,
     "metadata": {},
     "output_type": "execute_result"
    }
   ],
   "source": [
    "tdf1.resample('30H').interpolate(method='time')"
   ]
  },
  {
   "cell_type": "markdown",
   "metadata": {},
   "source": [
    "Ce qui n'est pas le résultat attendu (ni pour la température, ni pour la pression). Pandas a un bug ([référencé](https://github.com/pandas-dev/pandas/issues?utf8=%E2%9C%93&q=is%3Aissue+is%3Aopen+label%3ATimeseries++label%3ABug) avec d'autres)\n",
    "aussi en attendant sa correction voici une longue méthode pour avoir le bon résultat :"
   ]
  },
  {
   "cell_type": "code",
   "execution_count": 11,
   "metadata": {},
   "outputs": [
    {
     "data": {
      "text/html": [
       "<div>\n",
       "<style scoped>\n",
       "    .dataframe tbody tr th:only-of-type {\n",
       "        vertical-align: middle;\n",
       "    }\n",
       "\n",
       "    .dataframe tbody tr th {\n",
       "        vertical-align: top;\n",
       "    }\n",
       "\n",
       "    .dataframe thead th {\n",
       "        text-align: right;\n",
       "    }\n",
       "</style>\n",
       "<table border=\"1\" class=\"dataframe\">\n",
       "  <thead>\n",
       "    <tr style=\"text-align: right;\">\n",
       "      <th></th>\n",
       "      <th>temperature</th>\n",
       "      <th>pression</th>\n",
       "    </tr>\n",
       "  </thead>\n",
       "  <tbody>\n",
       "    <tr>\n",
       "      <th>2016-08-29 00:00:00</th>\n",
       "      <td>23.00</td>\n",
       "      <td>NaN</td>\n",
       "    </tr>\n",
       "    <tr>\n",
       "      <th>2016-08-30 00:00:00</th>\n",
       "      <td>24.00</td>\n",
       "      <td>NaN</td>\n",
       "    </tr>\n",
       "    <tr>\n",
       "      <th>2016-08-30 06:00:00</th>\n",
       "      <td>22.75</td>\n",
       "      <td>NaN</td>\n",
       "    </tr>\n",
       "    <tr>\n",
       "      <th>2016-08-31 00:00:00</th>\n",
       "      <td>19.00</td>\n",
       "      <td>1.066975</td>\n",
       "    </tr>\n",
       "    <tr>\n",
       "      <th>2016-08-31 12:00:00</th>\n",
       "      <td>20.00</td>\n",
       "      <td>1.071389</td>\n",
       "    </tr>\n",
       "    <tr>\n",
       "      <th>2016-09-01 00:00:00</th>\n",
       "      <td>21.00</td>\n",
       "      <td>1.075803</td>\n",
       "    </tr>\n",
       "    <tr>\n",
       "      <th>2016-09-01 18:00:00</th>\n",
       "      <td>22.50</td>\n",
       "      <td>1.082424</td>\n",
       "    </tr>\n",
       "    <tr>\n",
       "      <th>2016-09-02 00:00:00</th>\n",
       "      <td>23.00</td>\n",
       "      <td>1.084631</td>\n",
       "    </tr>\n",
       "    <tr>\n",
       "      <th>2016-09-03 00:00:00</th>\n",
       "      <td>22.00</td>\n",
       "      <td>1.066863</td>\n",
       "    </tr>\n",
       "    <tr>\n",
       "      <th>2016-09-04 06:00:00</th>\n",
       "      <td>20.75</td>\n",
       "      <td>1.044653</td>\n",
       "    </tr>\n",
       "    <tr>\n",
       "      <th>2016-09-05 00:00:00</th>\n",
       "      <td>20.00</td>\n",
       "      <td>1.031327</td>\n",
       "    </tr>\n",
       "    <tr>\n",
       "      <th>2016-09-05 12:00:00</th>\n",
       "      <td>20.00</td>\n",
       "      <td>1.041891</td>\n",
       "    </tr>\n",
       "    <tr>\n",
       "      <th>2016-09-06 00:00:00</th>\n",
       "      <td>20.00</td>\n",
       "      <td>1.052455</td>\n",
       "    </tr>\n",
       "  </tbody>\n",
       "</table>\n",
       "</div>"
      ],
      "text/plain": [
       "                     temperature  pression\n",
       "2016-08-29 00:00:00        23.00       NaN\n",
       "2016-08-30 00:00:00        24.00       NaN\n",
       "2016-08-30 06:00:00        22.75       NaN\n",
       "2016-08-31 00:00:00        19.00  1.066975\n",
       "2016-08-31 12:00:00        20.00  1.071389\n",
       "2016-09-01 00:00:00        21.00  1.075803\n",
       "2016-09-01 18:00:00        22.50  1.082424\n",
       "2016-09-02 00:00:00        23.00  1.084631\n",
       "2016-09-03 00:00:00        22.00  1.066863\n",
       "2016-09-04 06:00:00        20.75  1.044653\n",
       "2016-09-05 00:00:00        20.00  1.031327\n",
       "2016-09-05 12:00:00        20.00  1.041891\n",
       "2016-09-06 00:00:00        20.00  1.052455"
      ]
     },
     "metadata": {},
     "output_type": "display_data"
    },
    {
     "data": {
      "text/html": [
       "<div>\n",
       "<style scoped>\n",
       "    .dataframe tbody tr th:only-of-type {\n",
       "        vertical-align: middle;\n",
       "    }\n",
       "\n",
       "    .dataframe tbody tr th {\n",
       "        vertical-align: top;\n",
       "    }\n",
       "\n",
       "    .dataframe thead th {\n",
       "        text-align: right;\n",
       "    }\n",
       "</style>\n",
       "<table border=\"1\" class=\"dataframe\">\n",
       "  <thead>\n",
       "    <tr style=\"text-align: right;\">\n",
       "      <th></th>\n",
       "      <th>temperature</th>\n",
       "      <th>pression</th>\n",
       "    </tr>\n",
       "  </thead>\n",
       "  <tbody>\n",
       "    <tr>\n",
       "      <th>2016-08-29 00:00:00</th>\n",
       "      <td>23.00</td>\n",
       "      <td>NaN</td>\n",
       "    </tr>\n",
       "    <tr>\n",
       "      <th>2016-08-30 06:00:00</th>\n",
       "      <td>22.75</td>\n",
       "      <td>NaN</td>\n",
       "    </tr>\n",
       "    <tr>\n",
       "      <th>2016-08-31 12:00:00</th>\n",
       "      <td>20.00</td>\n",
       "      <td>1.071389</td>\n",
       "    </tr>\n",
       "    <tr>\n",
       "      <th>2016-09-01 18:00:00</th>\n",
       "      <td>22.50</td>\n",
       "      <td>1.082424</td>\n",
       "    </tr>\n",
       "    <tr>\n",
       "      <th>2016-09-03 00:00:00</th>\n",
       "      <td>22.00</td>\n",
       "      <td>1.066863</td>\n",
       "    </tr>\n",
       "    <tr>\n",
       "      <th>2016-09-04 06:00:00</th>\n",
       "      <td>20.75</td>\n",
       "      <td>1.044653</td>\n",
       "    </tr>\n",
       "    <tr>\n",
       "      <th>2016-09-05 12:00:00</th>\n",
       "      <td>20.00</td>\n",
       "      <td>1.041891</td>\n",
       "    </tr>\n",
       "  </tbody>\n",
       "</table>\n",
       "</div>"
      ],
      "text/plain": [
       "                     temperature  pression\n",
       "2016-08-29 00:00:00        23.00       NaN\n",
       "2016-08-30 06:00:00        22.75       NaN\n",
       "2016-08-31 12:00:00        20.00  1.071389\n",
       "2016-09-01 18:00:00        22.50  1.082424\n",
       "2016-09-03 00:00:00        22.00  1.066863\n",
       "2016-09-04 06:00:00        20.75  1.044653\n",
       "2016-09-05 12:00:00        20.00  1.041891"
      ]
     },
     "execution_count": 11,
     "metadata": {},
     "output_type": "execute_result"
    }
   ],
   "source": [
    "df1 = pd.DataFrame(tdf1)\n",
    "df2 = pd.DataFrame(tdf1.asfreq('30H'))\n",
    "tmp = pd.concat([df1, df2]).sort_index().interpolate(method='time').drop_duplicates()\n",
    "display(tmp)\n",
    "pd.merge(tmp, df2, how='inner', on=list(tmp.columns), left_index=True, right_index=True)"
   ]
  },
  {
   "cell_type": "markdown",
   "metadata": {},
   "source": [
    "### Grouper les données\n",
    "\n",
    "En utilisant l'index temporel il est possible de grouper les données par périodes. Pour cela on utiliser [`Grouper`](https://pandas.pydata.org/pandas-docs/version/0.23.4/generated/pandas.Grouper.html) qui\n",
    "génère les groupes de dates correspondant à la période demandée :"
   ]
  },
  {
   "cell_type": "code",
   "execution_count": 12,
   "metadata": {},
   "outputs": [
    {
     "data": {
      "text/html": [
       "<div>\n",
       "<style scoped>\n",
       "    .dataframe tbody tr th:only-of-type {\n",
       "        vertical-align: middle;\n",
       "    }\n",
       "\n",
       "    .dataframe tbody tr th {\n",
       "        vertical-align: top;\n",
       "    }\n",
       "\n",
       "    .dataframe thead th {\n",
       "        text-align: right;\n",
       "    }\n",
       "</style>\n",
       "<table border=\"1\" class=\"dataframe\">\n",
       "  <thead>\n",
       "    <tr style=\"text-align: right;\">\n",
       "      <th></th>\n",
       "      <th>temperature</th>\n",
       "      <th>pression</th>\n",
       "    </tr>\n",
       "  </thead>\n",
       "  <tbody>\n",
       "    <tr>\n",
       "      <th>2016-09-04</th>\n",
       "      <td>22</td>\n",
       "      <td>1.075803</td>\n",
       "    </tr>\n",
       "    <tr>\n",
       "      <th>2016-09-11</th>\n",
       "      <td>20</td>\n",
       "      <td>1.041891</td>\n",
       "    </tr>\n",
       "  </tbody>\n",
       "</table>\n",
       "</div>"
      ],
      "text/plain": [
       "            temperature  pression\n",
       "2016-09-04           22  1.075803\n",
       "2016-09-11           20  1.041891"
      ]
     },
     "execution_count": 12,
     "metadata": {},
     "output_type": "execute_result"
    }
   ],
   "source": [
    "tdf1.groupby(pd.Grouper(freq='W')).mean()"
   ]
  },
  {
   "cell_type": "markdown",
   "metadata": {},
   "source": [
    "## Plus\n",
    "\n",
    "Pour plus d'information sur les tableaux chronologiques on regardera la page sur les séries chronologiques :\n",
    "http://pandas.pydata.org/pandas-docs/stable/timeseries.html"
   ]
  },
  {
   "cell_type": "markdown",
   "metadata": {},
   "source": [
    "{{ PreviousNext(\"pd06 -- Merging 2 dataframes.ipynb\",\"pd08 -- Tools.ipynb\")}}"
   ]
  },
  {
   "cell_type": "code",
   "execution_count": null,
   "metadata": {},
   "outputs": [],
   "source": []
  }
 ],
 "metadata": {
  "kernelspec": {
   "display_name": "Python 3",
   "language": "python",
   "name": "python3"
  },
  "language_info": {
   "codemirror_mode": {
    "name": "ipython",
    "version": 3
   },
   "file_extension": ".py",
   "mimetype": "text/x-python",
   "name": "python",
   "nbconvert_exporter": "python",
   "pygments_lexer": "ipython3",
   "version": "3.7.2"
  },
  "nbTranslate": {
   "displayLangs": [
    "fr"
   ],
   "hotkey": "alt-t",
   "langInMainMenu": true,
   "sourceLang": "en",
   "targetLang": "fr",
   "useGoogleTranslate": true
  }
 },
 "nbformat": 4,
 "nbformat_minor": 1
}

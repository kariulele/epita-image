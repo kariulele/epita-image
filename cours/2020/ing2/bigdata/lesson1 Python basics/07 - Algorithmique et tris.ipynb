{
 "cells": [
  {
   "cell_type": "markdown",
   "metadata": {},
   "source": [
    "## L'algorithmique"
   ]
  },
  {
   "cell_type": "code",
   "execution_count": 1,
   "metadata": {},
   "outputs": [
    {
     "data": {
      "image/jpeg": "[encoded data removed]",
      "text/html": [
       "\n",
       "        <iframe\n",
       "            width=\"400\"\n",
       "            height=\"300\"\n",
       "            src=\"https://www.youtube.com/embed/6RegAtoeUuQ\"\n",
       "            frameborder=\"0\"\n",
       "            allowfullscreen\n",
       "        ></iframe>\n",
       "        "
      ],
      "text/plain": [
       "<IPython.lib.display.YouTubeVideo at 0x7ffbd0026e80>"
      ]
     },
     "execution_count": 1,
     "metadata": {},
     "output_type": "execute_result"
    }
   ],
   "source": [
    "from IPython.display import YouTubeVideo\n",
    "YouTubeVideo('6RegAtoeUuQ')"
   ]
  },
  {
   "cell_type": "markdown",
   "metadata": {},
   "source": [
    "L'art de l'algorithmique consiste à trouver les algorithmes les plus performants. En général il s'agit des plus rapides, mais cela peut aussi être les moins gourmand en mémoire ou ceux qui se parallélisent le mieux. On peut aussi se focaliser sur le comportement moyen de l'algorithme ou son comportement dans le pire des cas.\n",
    "\n",
    "Quoi qu'il en soit, pour écrire un algorithme performant, il faut savoir l'analyser. La première étape consiste à calculer sa compléxité à savoir le nombre d'opérations qu'il nécessite en fonction de la taille des données.\n",
    "\n",
    "Exemple :\n",
    "\n",
    "    l1 = range(N)\n",
    "    for i in l1:\n",
    "        res += i\n",
    "   \n",
    "est un programme qui exécute la ligne '`res += i`' N fois donc en autant opérations qu'il y a de données. Il est dit __linéaire__.\n",
    "\n",
    "    for i in l1:\n",
    "        for j in l1:\n",
    "            res += i*j\n",
    "       \n",
    "est un programme en N² opérations car il a 2 boucles de longeur N imbriquées (avec `N = len(l1)`). Il est dit __quadratique__."
   ]
  },
  {
   "cell_type": "markdown",
   "metadata": {},
   "source": [
    "### Tris"
   ]
  },
  {
   "cell_type": "markdown",
   "metadata": {},
   "source": [
    "Le but est de trier un grand tableau de nombre aléatoire de différentes façons et de calculer laquelle est la plus rapide."
   ]
  },
  {
   "cell_type": "code",
   "execution_count": 2,
   "metadata": {},
   "outputs": [
    {
     "name": "stdout",
     "output_type": "stream",
     "text": [
      "[ 6 11  1  9  1 11 11 15 12 16]\n",
      "[ 1  1  6  9 11 11 11 12 15 16]\n"
     ]
    }
   ],
   "source": [
    "import numpy as np  # la fonction de tri sort est définie dans la bibliothèque numpy\n",
    "\n",
    "max = 20\n",
    "n = 10\n",
    "donnees = np.random.randint(max,size=n)\n",
    "print(donnees)\n",
    "print(np.sort(donnees))"
   ]
  },
  {
   "cell_type": "markdown",
   "metadata": {},
   "source": [
    "### Exercice : tri à bulle \n",
    "\n",
    "Le tri à bulle parcourt tous les éléments dans l'ordre et si un élément est plus grand que son suivant, alors on les échange.\n",
    "\n",
    "Si on ne parcourt qu'une seule fois la liste, cela ne suffit pas. \n",
    "\n",
    "Écrire la fonction du tri à bulle :"
   ]
  },
  {
   "cell_type": "code",
   "execution_count": 3,
   "metadata": {},
   "outputs": [
    {
     "ename": "IndentationError",
     "evalue": "expected an indented block (<ipython-input-3-e388c49a2725>, line 5)",
     "output_type": "error",
     "traceback": [
      "\u001b[0;36m  File \u001b[0;32m\"<ipython-input-3-e388c49a2725>\"\u001b[0;36m, line \u001b[0;32m5\u001b[0m\n\u001b[0;31m    values = np.random.randint(max,size=n)\u001b[0m\n\u001b[0m         ^\u001b[0m\n\u001b[0;31mIndentationError\u001b[0m\u001b[0;31m:\u001b[0m expected an indented block\n"
     ]
    }
   ],
   "source": [
    "def bubblesort(data):\n",
    "    # votre code ici \n",
    "    \n",
    "    \n",
    "values = np.random.randint(max,size=n)   \n",
    "print(values)\n",
    "bubblesort(values)"
   ]
  },
  {
   "cell_type": "raw",
   "metadata": {},
   "source": [
    "\n",
    "\n",
    "et la solution :\n",
    "    \n",
    "    \n",
    "    \n",
    "    \n",
    "    "
   ]
  },
  {
   "cell_type": "code",
   "execution_count": 4,
   "metadata": {},
   "outputs": [
    {
     "name": "stdout",
     "output_type": "stream",
     "text": [
      "[ 0  0  3  4 14  1 10  9  5 11]\n"
     ]
    },
    {
     "data": {
      "text/plain": [
       "array([ 0,  0,  1,  3,  4,  5,  9, 10, 11, 14])"
      ]
     },
     "execution_count": 4,
     "metadata": {},
     "output_type": "execute_result"
    }
   ],
   "source": [
    "def bubblesort(data):\n",
    "    n = len(data)\n",
    "    change = True\n",
    "    for run in range(n):\n",
    "        change = False \n",
    "        for i in range(n-run-1) :  # last value is ok after one run\n",
    "            if data[i] > data[i+1] :\n",
    "                data[i], data[i+1] = data[i+1], data[i]\n",
    "                change = True\n",
    "                #print(data)     # uncomment this line if you want to see how it works\n",
    "        if change is False:\n",
    "            return data\n",
    "    \n",
    "values = np.random.randint(max,size=n)   \n",
    "print(values)\n",
    "bubblesort(values)"
   ]
  },
  {
   "cell_type": "markdown",
   "metadata": {},
   "source": [
    "Caculez la complexité du tri à bulle dans le cas où les données sont [N, N-1, N-2, ..., 3,2,1]. \n",
    "\n",
    "Cela revient à compter le nombre de fois où la ligne d'échange d'une paire de valeur sera appellée (donc le nombre de fois où la ligne print sera affichée si vous l'avez décommentée)."
   ]
  },
  {
   "cell_type": "markdown",
   "metadata": {},
   "source": [
    "### Tri rapide (Quicksort in English)"
   ]
  },
  {
   "cell_type": "markdown",
   "metadata": {},
   "source": [
    "Le tri rapide consiste à choisir un pivot et à mettre tous les éléments plus petit que le pivot dans la première partie du tableau et tous les plus grands dans la seconde partie.\n",
    "\n",
    "     [5, 4, 6, 4, 8, 4, 9, 9, 2, 1]\n",
    "\n",
    "Choisissons comme pivot la valeur au mileu à savoir la 5e c.a.d. 8. Je parcours mes données et je place les éléments en fonction de leur valeur. Cela donne :\n",
    "\n",
    "     [5, 4, 6, 4, 4, 2, 1]  8  [9, 9]\n",
    "\n",
    "maintenant il ne me reste plus qu'à trier le deux tableaux (par récursivité bien sûr).\n",
    "\n",
    "Ecrire la fonction de tri rapide:"
   ]
  },
  {
   "cell_type": "code",
   "execution_count": null,
   "metadata": {},
   "outputs": [],
   "source": [
    "def quicksort(data):\n",
    "    \n",
    "    \n",
    "values = np.random.randint(max,size=n)   \n",
    "print(values)\n",
    "quicksort(values)"
   ]
  },
  {
   "cell_type": "markdown",
   "metadata": {},
   "source": [
    "#### Exercice"
   ]
  },
  {
   "cell_type": "markdown",
   "metadata": {},
   "source": [
    "Calculez la complexité du tri rapide. \n",
    "\n",
    "Pour essayer de valider vos résultats vous pouvez chronométrer vos programmes avec la fonction de `time` de Python en faisant varier la taille des tableaux donnés à la fonction."
   ]
  },
  {
   "cell_type": "code",
   "execution_count": 5,
   "metadata": {},
   "outputs": [
    {
     "data": {
      "text/plain": [
       "0.004206180572509766"
      ]
     },
     "execution_count": 5,
     "metadata": {},
     "output_type": "execute_result"
    }
   ],
   "source": [
    "import time # pas d'alias donc il faut écrire time.toto() pour utiliser la fonction toto de la bibliothèque time\n",
    "\n",
    "start = time.time()\n",
    "res = 0\n",
    "for i in range(10000):\n",
    "    res += i**3.4\n",
    "time.time() - start"
   ]
  },
  {
   "cell_type": "markdown",
   "metadata": {},
   "source": [
    "Mais il est plus simple et plus précis d'utiliser la commande magique `%timeit` d'iPython :"
   ]
  },
  {
   "cell_type": "code",
   "execution_count": 7,
   "metadata": {},
   "outputs": [
    {
     "name": "stdout",
     "output_type": "stream",
     "text": [
      "265 µs ± 4.6 µs per loop (mean ± std. dev. of 7 runs, 1000 loops each)\n"
     ]
    }
   ],
   "source": [
    "def quicksort(data):\n",
    "    # mes operations\n",
    "    # ...\n",
    "    np.sort(data) # là je triche\n",
    "    \n",
    "values = np.random.randint(max,size=10000)   \n",
    "%timeit quicksort(values)"
   ]
  },
  {
   "cell_type": "markdown",
   "metadata": {},
   "source": [
    "#### Que fait la bibliothèque de calcul Numpy ?"
   ]
  },
  {
   "cell_type": "markdown",
   "metadata": {},
   "source": [
    "Notons que l'aide de `np.sort` est intéressante à lire maintenant qu'on a compris qu'il y a différentes facons de trier."
   ]
  },
  {
   "cell_type": "code",
   "execution_count": 9,
   "metadata": {},
   "outputs": [
    {
     "name": "stdout",
     "output_type": "stream",
     "text": [
      "Help on function sort in module numpy.core.fromnumeric:\n",
      "\n",
      "sort(a, axis=-1, kind='quicksort', order=None)\n",
      "    Return a sorted copy of an array.\n",
      "    \n",
      "    Parameters\n",
      "    ----------\n",
      "    a : array_like\n",
      "        Array to be sorted.\n",
      "    axis : int or None, optional\n",
      "        Axis along which to sort. If None, the array is flattened before\n",
      "        sorting. The default is -1, which sorts along the last axis.\n",
      "    kind : {'quicksort', 'mergesort', 'heapsort'}, optional\n",
      "        Sorting algorithm. Default is 'quicksort'.\n",
      "    order : str or list of str, optional\n",
      "        When `a` is an array with fields defined, this argument specifies\n",
      "        which fields to compare first, second, etc.  A single field can\n",
      "        be specified as a string, and not all fields need be specified,\n",
      "        but unspecified fields will still be used, in the order in which\n",
      "        they come up in the dtype, to break ties.\n",
      "    \n",
      "    Returns\n",
      "    -------\n",
      "    sorted_array : ndarray\n",
      "        Array of the same type and shape as `a`.\n",
      "    \n",
      "    See Also\n",
      "    --------\n",
      "    ndarray.sort : Method to sort an array in-place.\n",
      "    argsort : Indirect sort.\n",
      "    lexsort : Indirect stable sort on multiple keys.\n",
      "    searchsorted : Find elements in a sorted array.\n",
      "    partition : Partial sort.\n",
      "    \n",
      "    Notes\n",
      "    -----\n",
      "    The various sorting algorithms are characterized by their average speed,\n",
      "    worst case performance, work space size, and whether they are stable. A\n",
      "    stable sort keeps items with the same key in the same relative\n",
      "    order. The three available algorithms have the following\n",
      "    properties:\n",
      "    \n",
      "    =========== ======= ============= ============ =======\n",
      "       kind      speed   worst case    work space  stable\n",
      "    =========== ======= ============= ============ =======\n",
      "    'quicksort'    1     O(n^2)            0          no\n",
      "    'mergesort'    2     O(n*log(n))      ~n/2        yes\n",
      "    'heapsort'     3     O(n*log(n))       0          no\n",
      "    =========== ======= ============= ============ =======\n",
      "    \n",
      "    All the sort algorithms make temporary copies of the data when\n",
      "    sorting along any but the last axis.  Consequently, sorting along\n",
      "    the last axis is faster and uses less space than sorting along\n",
      "    any other axis.\n",
      "    \n",
      "    The sort order for complex numbers is lexicographic. If both the real\n",
      "    and imaginary parts are non-nan then the order is determined by the\n",
      "    real parts except when they are equal, in which case the order is\n",
      "    determined by the imaginary parts.\n",
      "    \n",
      "    Previous to numpy 1.4.0 sorting real and complex arrays containing nan\n",
      "    values led to undefined behaviour. In numpy versions >= 1.4.0 nan\n",
      "    values are sorted to the end. The extended sort order is:\n",
      "    \n",
      "      * Real: [R, nan]\n",
      "      * Complex: [R + Rj, R + nanj, nan + Rj, nan + nanj]\n",
      "    \n",
      "    where R is a non-nan real value. Complex values with the same nan\n",
      "    placements are sorted according to the non-nan part if it exists.\n",
      "    Non-nan values are sorted as before.\n",
      "    \n",
      "    .. versionadded:: 1.12.0\n",
      "    \n",
      "    quicksort has been changed to an introsort which will switch\n",
      "    heapsort when it does not make enough progress. This makes its\n",
      "    worst case O(n*log(n)).\n",
      "    \n",
      "    Examples\n",
      "    --------\n",
      "    >>> a = np.array([[1,4],[3,1]])\n",
      "    >>> np.sort(a)                # sort along the last axis\n",
      "    array([[1, 4],\n",
      "           [1, 3]])\n",
      "    >>> np.sort(a, axis=None)     # sort the flattened array\n",
      "    array([1, 1, 3, 4])\n",
      "    >>> np.sort(a, axis=0)        # sort along the first axis\n",
      "    array([[1, 1],\n",
      "           [3, 4]])\n",
      "    \n",
      "    Use the `order` keyword to specify a field to use when sorting a\n",
      "    structured array:\n",
      "    \n",
      "    >>> dtype = [('name', 'S10'), ('height', float), ('age', int)]\n",
      "    >>> values = [('Arthur', 1.8, 41), ('Lancelot', 1.9, 38),\n",
      "    ...           ('Galahad', 1.7, 38)]\n",
      "    >>> a = np.array(values, dtype=dtype)       # create a structured array\n",
      "    >>> np.sort(a, order='height')                        # doctest: +SKIP\n",
      "    array([('Galahad', 1.7, 38), ('Arthur', 1.8, 41),\n",
      "           ('Lancelot', 1.8999999999999999, 38)],\n",
      "          dtype=[('name', '|S10'), ('height', '<f8'), ('age', '<i4')])\n",
      "    \n",
      "    Sort by age, then height if ages are equal:\n",
      "    \n",
      "    >>> np.sort(a, order=['age', 'height'])               # doctest: +SKIP\n",
      "    array([('Galahad', 1.7, 38), ('Lancelot', 1.8999999999999999, 38),\n",
      "           ('Arthur', 1.8, 41)],\n",
      "          dtype=[('name', '|S10'), ('height', '<f8'), ('age', '<i4')])\n",
      "\n"
     ]
    }
   ],
   "source": [
    "help(np.sort)"
   ]
  },
  {
   "cell_type": "markdown",
   "metadata": {
    "variables": {
     " PreviousNext(\"06 - Premiers programmes.ipynb\", \"../lesson2 Deeper in Python/01 - Variables en mémoire.ipynb\") ": "&nbsp; &nbsp; &nbsp; &nbsp; &nbsp; &nbsp; &nbsp; &nbsp; &nbsp; &nbsp; &nbsp; &nbsp; &nbsp; &nbsp; &nbsp; &nbsp; &nbsp; &nbsp; &nbsp; &nbsp; &nbsp; &nbsp; &nbsp; &nbsp; &nbsp; &nbsp; &nbsp; &nbsp; &nbsp; &nbsp; &nbsp; &nbsp; &nbsp; &nbsp; &nbsp; &nbsp; &nbsp; &nbsp; &nbsp; &nbsp; &nbsp; &nbsp; &nbsp; &nbsp; &nbsp; &nbsp; &nbsp; &nbsp; &nbsp; &nbsp; &nbsp; &nbsp; &nbsp; &nbsp; &nbsp; &nbsp; &nbsp; &nbsp; &nbsp; &nbsp; &nbsp; &nbsp; &nbsp; &nbsp; &nbsp; &nbsp; &nbsp; &nbsp; &nbsp; &nbsp; &nbsp; &nbsp; &nbsp; &nbsp; &nbsp; &nbsp; &nbsp; &nbsp; &nbsp; &nbsp; &nbsp; &nbsp; &nbsp; &nbsp; &nbsp; &nbsp; &nbsp; &nbsp; &nbsp; &nbsp; &nbsp; &nbsp; &nbsp; &nbsp; &nbsp; &nbsp; &nbsp; &nbsp; &nbsp; &nbsp; &nbsp; &nbsp; &nbsp; &nbsp; &nbsp; &nbsp; &nbsp; &nbsp; &nbsp; &nbsp; &nbsp; &nbsp; &nbsp; &nbsp; &nbsp; &nbsp; &nbsp; &nbsp; &nbsp; &nbsp; &nbsp; &nbsp; &nbsp; &nbsp; &nbsp; &nbsp; &nbsp; &nbsp; &nbsp; &nbsp; &nbsp; &nbsp; &nbsp; &nbsp; &nbsp; &nbsp; &nbsp; &nbsp; &nbsp; &nbsp; &nbsp; &nbsp; &nbsp; &nbsp; &nbsp; &nbsp; &nbsp; &nbsp; &nbsp; &nbsp; &nbsp; &nbsp; &nbsp; &nbsp; &nbsp; &nbsp; &nbsp; &nbsp; &nbsp; &nbsp; &nbsp; &nbsp; &nbsp; &nbsp; &nbsp; &nbsp; &nbsp; &nbsp; &nbsp; &nbsp; &nbsp; &nbsp; &nbsp; &nbsp; &nbsp; &nbsp; &nbsp; &nbsp; &nbsp; &nbsp; &nbsp; &nbsp; &nbsp; &nbsp; &nbsp; &nbsp; &nbsp; &nbsp; &nbsp; &nbsp; &nbsp; &nbsp; &nbsp; &nbsp; &nbsp; &nbsp; &nbsp; &nbsp; &nbsp; &nbsp; <br/><center><a href=\"06 - Premiers programmes.ipynb\">06 - Premiers programmes</a>&nbsp; ← <a href=\"http://python3.mooc.lrde.epita.fr:8888/tree/lesson1 Python basics\" style=\"text-decoration:none\"> △ </a> → &nbsp;<a href=\"../lesson2 Deeper in Python/01 - Variables en mémoire.ipynb\">01 - Variables en mémoire</a></center><br/>&nbsp;"
    }
   },
   "source": [
    "{{ PreviousNext(\"06 - Premiers programmes.ipynb\", \"../lesson2 Deeper in Python/01 - Variables en mémoire.ipynb\") }}\n"
   ]
  },
  {
   "cell_type": "markdown",
   "metadata": {},
   "source": [
    "Le cours suivant entre dans certains détails du fonctionnement de Python. Il est possible de sauter cette partie \n",
    "dans un premier temps pour aller directement regarder les bibliothèques de calcul scientifique et continuer avec\n",
    "<a href=\"../lesson4 Numpy/np01 Numpy Introduction.ipynb\">Numpy</a>."
   ]
  }
 ],
 "metadata": {
  "kernelspec": {
   "display_name": "Python 3",
   "language": "python",
   "name": "python3"
  },
  "language_info": {
   "codemirror_mode": {
    "name": "ipython",
    "version": 3
   },
   "file_extension": ".py",
   "mimetype": "text/x-python",
   "name": "python",
   "nbconvert_exporter": "python",
   "pygments_lexer": "ipython3",
   "version": "3.6.6"
  },
  "nbTranslate": {
   "displayLangs": [
    "en",
    "fr"
   ],
   "hotkey": "alt-t",
   "langInMainMenu": true,
   "sourceLang": "fr",
   "targetLang": "en",
   "useGoogleTranslate": true
  }
 },
 "nbformat": 4,
 "nbformat_minor": 1
}

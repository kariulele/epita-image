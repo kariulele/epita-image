{
 "cells": [
  {
   "cell_type": "markdown",
   "metadata": {
    "lang": "fr"
   },
   "source": [
    "# Les types"
   ]
  },
  {
   "cell_type": "markdown",
   "metadata": {},
   "source": [
    "Python dispose de types de variables prédéfinis. On verra plus tard comment définir de nouveaux types qu'on appelle objets.\n",
    "\n",
    "Il est possible de connaitre le type d'une variable en utilisant la fonction `type()` :"
   ]
  },
  {
   "cell_type": "code",
   "execution_count": 1,
   "metadata": {},
   "outputs": [
    {
     "name": "stdout",
     "output_type": "stream",
     "text": [
      "<class 'int'>\n",
      "<class 'complex'>\n"
     ]
    }
   ],
   "source": [
    "a=3\n",
    "print(type(a))\n",
    "b=1+1j\n",
    "print(type(b))"
   ]
  },
  {
   "cell_type": "markdown",
   "metadata": {},
   "source": [
    "Notez qu'un type est plus qu'une facon de stocker une valeur. Il comprend aussi des fonctions qui permettent de le\n",
    "manipuler. Ces fonctions sont appelées __méthodes__ dans la typologie des langages objets. Dans cette même typologie\n",
    "les champs comme la valeur réelle et imaginaire d'un complexe, sont appelés __attributs__.\n",
    "\n",
    "Pour un savoir plus sur un type, on utilise `help()` que l'on a déjà vu. Il existe aussi `dir()` qui donne la liste brute des\n",
    "méthodes et attributs. Regardons ce que nous dit l'aide sur `b` :"
   ]
  },
  {
   "cell_type": "code",
   "execution_count": 2,
   "metadata": {},
   "outputs": [
    {
     "name": "stdout",
     "output_type": "stream",
     "text": [
      "Help on complex object:\n",
      "\n",
      "class complex(object)\n",
      " |  complex(real[, imag]) -> complex number\n",
      " |  \n",
      " |  Create a complex number from a real part and an optional imaginary part.\n",
      " |  This is equivalent to (real + imag*1j) where imag defaults to 0.\n",
      " |  \n",
      " |  Methods defined here:\n",
      " |  \n",
      " |  __abs__(self, /)\n",
      " |      abs(self)\n",
      " |  \n",
      " |  __add__(self, value, /)\n",
      " |      Return self+value.\n",
      " |  \n",
      " |  __bool__(self, /)\n",
      " |      self != 0\n",
      " |  \n",
      " |  __divmod__(self, value, /)\n",
      " |      Return divmod(self, value).\n",
      " |  \n",
      " |  __eq__(self, value, /)\n",
      " |      Return self==value.\n",
      " |  \n",
      " |  __float__(self, /)\n",
      " |      float(self)\n",
      " |  \n",
      " |  __floordiv__(self, value, /)\n",
      " |      Return self//value.\n",
      " |  \n",
      " |  __format__(...)\n",
      " |      complex.__format__() -> str\n",
      " |      \n",
      " |      Convert to a string according to format_spec.\n",
      " |  \n",
      " |  __ge__(self, value, /)\n",
      " |      Return self>=value.\n",
      " |  \n",
      " |  __getattribute__(self, name, /)\n",
      " |      Return getattr(self, name).\n",
      " |  \n",
      " |  __getnewargs__(...)\n",
      " |  \n",
      " |  __gt__(self, value, /)\n",
      " |      Return self>value.\n",
      " |  \n",
      " |  __hash__(self, /)\n",
      " |      Return hash(self).\n",
      " |  \n",
      " |  __int__(self, /)\n",
      " |      int(self)\n",
      " |  \n",
      " |  __le__(self, value, /)\n",
      " |      Return self<=value.\n",
      " |  \n",
      " |  __lt__(self, value, /)\n",
      " |      Return self<value.\n",
      " |  \n",
      " |  __mod__(self, value, /)\n",
      " |      Return self%value.\n",
      " |  \n",
      " |  __mul__(self, value, /)\n",
      " |      Return self*value.\n",
      " |  \n",
      " |  __ne__(self, value, /)\n",
      " |      Return self!=value.\n",
      " |  \n",
      " |  __neg__(self, /)\n",
      " |      -self\n",
      " |  \n",
      " |  __new__(*args, **kwargs) from builtins.type\n",
      " |      Create and return a new object.  See help(type) for accurate signature.\n",
      " |  \n",
      " |  __pos__(self, /)\n",
      " |      +self\n",
      " |  \n",
      " |  __pow__(self, value, mod=None, /)\n",
      " |      Return pow(self, value, mod).\n",
      " |  \n",
      " |  __radd__(self, value, /)\n",
      " |      Return value+self.\n",
      " |  \n",
      " |  __rdivmod__(self, value, /)\n",
      " |      Return divmod(value, self).\n",
      " |  \n",
      " |  __repr__(self, /)\n",
      " |      Return repr(self).\n",
      " |  \n",
      " |  __rfloordiv__(self, value, /)\n",
      " |      Return value//self.\n",
      " |  \n",
      " |  __rmod__(self, value, /)\n",
      " |      Return value%self.\n",
      " |  \n",
      " |  __rmul__(self, value, /)\n",
      " |      Return value*self.\n",
      " |  \n",
      " |  __rpow__(self, value, mod=None, /)\n",
      " |      Return pow(value, self, mod).\n",
      " |  \n",
      " |  __rsub__(self, value, /)\n",
      " |      Return value-self.\n",
      " |  \n",
      " |  __rtruediv__(self, value, /)\n",
      " |      Return value/self.\n",
      " |  \n",
      " |  __str__(self, /)\n",
      " |      Return str(self).\n",
      " |  \n",
      " |  __sub__(self, value, /)\n",
      " |      Return self-value.\n",
      " |  \n",
      " |  __truediv__(self, value, /)\n",
      " |      Return self/value.\n",
      " |  \n",
      " |  conjugate(...)\n",
      " |      complex.conjugate() -> complex\n",
      " |      \n",
      " |      Return the complex conjugate of its argument. (3-4j).conjugate() == 3+4j.\n",
      " |  \n",
      " |  ----------------------------------------------------------------------\n",
      " |  Data descriptors defined here:\n",
      " |  \n",
      " |  imag\n",
      " |      the imaginary part of a complex number\n",
      " |  \n",
      " |  real\n",
      " |      the real part of a complex number\n",
      "\n"
     ]
    }
   ],
   "source": [
    "help(b) # b est un complexe, donc help(b) affiche l'aide des nombres complexes\n",
    "        # cliquez dans la partie gauche du résultat pour réduire la cellule résultat\n",
    "        # double clic pour cacher la cellule résultat"
   ]
  },
  {
   "cell_type": "markdown",
   "metadata": {},
   "source": [
    "Les méthodes ne s'utilisent pas comme les fonctions. Puisqu'elles sont rattachées à un type,\n",
    "on les attache à la variable sur laquelle ont veut les appliquer avec un . en liaison :"
   ]
  },
  {
   "cell_type": "code",
   "execution_count": 3,
   "metadata": {},
   "outputs": [
    {
     "data": {
      "text/plain": [
       "(1-1j)"
      ]
     },
     "execution_count": 3,
     "metadata": {},
     "output_type": "execute_result"
    }
   ],
   "source": [
    "b.conjugate() # et non conjugate(b) qui serait une fonction qui prend un complexe en argument"
   ]
  },
  {
   "cell_type": "markdown",
   "metadata": {},
   "source": [
    "On voit dans l'aide que presque toutes les méthodes commencent par `__` comme   `__pow__`. Il s'agit de méthodes qui ne doivent pas être utilisées directement\n",
    "mais qui sont reliées à des opérateurs ou à certains contextes comme l'indique l'aide. Ainsi `__pow__` correspond à la puissance c.a.d. à l'opérateur `**` :"
   ]
  },
  {
   "cell_type": "code",
   "execution_count": 4,
   "metadata": {},
   "outputs": [
    {
     "name": "stdout",
     "output_type": "stream",
     "text": [
      "2j\n",
      "2j\n"
     ]
    }
   ],
   "source": [
    "print(b**2)          # appelle en fait b.__pow__(2)\n",
    "print(b.__pow__(2))"
   ]
  },
  {
   "cell_type": "markdown",
   "metadata": {},
   "source": [
    "Les attributs s'appellent comme les méthodes mais n'étant que des champs, il n'y a pas de parenthèses :"
   ]
  },
  {
   "cell_type": "code",
   "execution_count": 5,
   "metadata": {},
   "outputs": [
    {
     "data": {
      "text/plain": [
       "1.0"
      ]
     },
     "execution_count": 5,
     "metadata": {},
     "output_type": "execute_result"
    }
   ],
   "source": [
    "b.real"
   ]
  },
  {
   "cell_type": "markdown",
   "metadata": {},
   "source": [
    "### Conversion des types"
   ]
  },
  {
   "cell_type": "markdown",
   "metadata": {},
   "source": [
    "Il est possible de changer le type d'une variable en choisissant explicitement le nouveau type :"
   ]
  },
  {
   "cell_type": "code",
   "execution_count": 6,
   "metadata": {},
   "outputs": [
    {
     "name": "stdout",
     "output_type": "stream",
     "text": [
      "3 <class 'int'>\n",
      "3.0 <class 'float'>\n",
      "(3+0j) <class 'complex'>\n"
     ]
    }
   ],
   "source": [
    "x = 3\n",
    "print(x, type(x))\n",
    "x = float(x)\n",
    "print(x, type (x))\n",
    "y = complex(x)\n",
    "print(y, type(y))"
   ]
  },
  {
   "cell_type": "markdown",
   "metadata": {},
   "source": [
    "On notera que le type complexe a une méthode `__int__` qui est justement celle utilisée pour transformer `b` en un entier :"
   ]
  },
  {
   "cell_type": "code",
   "execution_count": 7,
   "metadata": {},
   "outputs": [
    {
     "ename": "TypeError",
     "evalue": "can't convert complex to int",
     "output_type": "error",
     "traceback": [
      "\u001b[0;31m---------------------------------------------------------------------------\u001b[0m",
      "\u001b[0;31mTypeError\u001b[0m                                 Traceback (most recent call last)",
      "\u001b[0;32m<ipython-input-7-07ae29993d50>\u001b[0m in \u001b[0;36m<module>\u001b[0;34m\u001b[0m\n\u001b[0;32m----> 1\u001b[0;31m \u001b[0mint\u001b[0m\u001b[0;34m(\u001b[0m\u001b[0mb\u001b[0m\u001b[0;34m)\u001b[0m\u001b[0;34m\u001b[0m\u001b[0;34m\u001b[0m\u001b[0m\n\u001b[0m",
      "\u001b[0;31mTypeError\u001b[0m: can't convert complex to int"
     ]
    }
   ],
   "source": [
    "int(b)"
   ]
  },
  {
   "cell_type": "markdown",
   "metadata": {},
   "source": [
    "Cette méthode a été écrite pour générer une erreur avec un message explicite."
   ]
  },
  {
   "cell_type": "markdown",
   "metadata": {},
   "source": [
    "On a vu lors du cours sur les premiers calculs les types de base : entier, réel et complexe. \n",
    "Python offre d'autres types de base et l'écosystème de Python en offre encore plus."
   ]
  },
  {
   "cell_type": "markdown",
   "metadata": {},
   "source": [
    "## Les chaînes de caractère"
   ]
  },
  {
   "cell_type": "markdown",
   "metadata": {},
   "source": [
    "Python est particulièrement agréable pour manipuler des chaînes de caractères.\n",
    "\n",
    "Une chaîne de caractères s'écrit entre deux doubles quotes `\"` ou  deux simples quotes `'` (on utilisera l'un si l'autre est présent dans la chaîne de caratères que l'on veut écrire)."
   ]
  },
  {
   "cell_type": "code",
   "execution_count": 8,
   "metadata": {},
   "outputs": [
    {
     "name": "stdout",
     "output_type": "stream",
     "text": [
      "Olivier 7\n",
      "son surnom est Olivier l'ancien\n"
     ]
    }
   ],
   "source": [
    "prenom = 'Olivier'\n",
    "print(prenom, len(prenom))          # len() pour length donne la taille d'une chaîne de caractères\n",
    "surnom = prenom + ' ' + \"l'ancien\"  # + est la concaténation pour les chaîne de caractères\n",
    "print(\"son surnom est\", surnom)"
   ]
  },
  {
   "cell_type": "markdown",
   "metadata": {},
   "source": [
    "Il est possible d'inclure des valeurs dans une chaîne de caractère. Pour cela la méthode historique\n",
    "utilise une lettre clef en fonction du type de la valeur :\n",
    "\n",
    "<ul>\n",
    "    <li>`%s` pour les strings (chaînes de caractères), </li>\n",
    "    <li>`%d` pour les digits (entiers),</li>\n",
    "    <li>`%f` pour les floats (réels).</li>\n",
    "</ul>\n",
    "\n",
    "Ainsi <tt>\"Bonjour %s, je vous attends depuis %d minutes\"</tt> est une chaîne de caractère qui veut 2 arguments, un <tt>string</tt> et un <tt>digit</tt>."
   ]
  },
  {
   "cell_type": "code",
   "execution_count": 9,
   "metadata": {},
   "outputs": [
    {
     "name": "stdout",
     "output_type": "stream",
     "text": [
      "son prénom est Olivier, ce qui fait 7 lettres\n"
     ]
    }
   ],
   "source": [
    "phrase1 = \"son prénom est %s, ce qui fait %d lettres\" % (prenom, len(prenom))\n",
    "print(phrase1)"
   ]
  },
  {
   "cell_type": "markdown",
   "metadata": {},
   "source": [
    "Un des attraits est la possibilité de formatage précis de l'affichage des valeurs :"
   ]
  },
  {
   "cell_type": "code",
   "execution_count": 10,
   "metadata": {},
   "outputs": [
    {
     "name": "stdout",
     "output_type": "stream",
     "text": [
      "1/3 sur 10 colonnes avec 5 chiffres après la virgule >   0.33333<\n",
      "La même chose mais aligné à gauche                   >0.33333   <\n",
      "Comme premier mais avec des 0 à la place des espaces >0000.33333<\n",
      "2 puissance 10 = 1.02E+03 = 400 en hexadécimal\n"
     ]
    }
   ],
   "source": [
    "print(\"1/3 sur 10 colonnes avec 5 chiffres après la virgule >%10.5f<\" % (1./3))\n",
    "print(\"La même chose mais aligné à gauche                   >%-10.5f<\" % (1./3))\n",
    "print(\"Comme premier mais avec des 0 à la place des espaces >%010.5f<\" % (1./3))\n",
    "print(\"%s = %.2E = %X en hexadécimal\" % ('2 puissance 10', 2**10, 2**10))"
   ]
  },
  {
   "cell_type": "markdown",
   "metadata": {},
   "source": [
    "On regardera en détail dans le cours [lesson2 Deeper in Python/03 - Formatting](../lesson2 Deeper in Python/03 - Formatting.ipynb) la signification précise de ces lignes cabalistique ainsi que la nouvelle méthode d'insertion de valeurs dans une chaîne de caractère."
   ]
  },
  {
   "cell_type": "markdown",
   "metadata": {},
   "source": [
    "#### Manipulations\n",
    "\n",
    "Parmi les fonctions utiles avec les chaînes de caractères, notons `split` qui découpe la chaîne en mots avec le séparateur de notre choix (espace par défaut)."
   ]
  },
  {
   "cell_type": "code",
   "execution_count": 11,
   "metadata": {},
   "outputs": [
    {
     "name": "stdout",
     "output_type": "stream",
     "text": [
      "['Voila', 'une', 'jolie', 'phrase', 'que', \"l'on\", 'va', 'couper.']\n",
      "['Voila un', ' joli', ' phras', ' qu', \" l'on va coup\", 'r.']\n"
     ]
    }
   ],
   "source": [
    "phrase = \"Voila une jolie phrase que l'on va couper.\"\n",
    "print(phrase.split())    # la valeur par défaut pour couper est l'espace\n",
    "print(phrase.split('e'))"
   ]
  },
  {
   "cell_type": "markdown",
   "metadata": {},
   "source": [
    "Le résultat est une liste qui est justement le prochain type que l'on va regarder."
   ]
  },
  {
   "cell_type": "markdown",
   "metadata": {},
   "source": [
    "#### Les expressions régulières (re)\n",
    "\n",
    "Pour aller plus loin avec les chaînes de caratères il faut utiliser [les expressions régulières](https://fr.wikipedia.org/wiki/Expression_r%C3%A9guli%C3%A8re) qui proviennent des fins fonds de l'informatique et que Python utilise comme tous les languages modernes.\n",
    "\n",
    "Par exemple voici comment rechercher les mots qui comprennent a,e ou i suivi de deux l :"
   ]
  },
  {
   "cell_type": "code",
   "execution_count": 12,
   "metadata": {},
   "outputs": [
    {
     "data": {
      "text/plain": [
       "['filles', 'rebelles', 'balle']"
      ]
     },
     "execution_count": 12,
     "metadata": {},
     "output_type": "execute_result"
    }
   ],
   "source": [
    "import re  # la bibliothèque des regulars expressions\n",
    "\n",
    "blabla = \"J'aime les filles rebelles qui jouent à la balle.\"\n",
    "re.findall(\"\\w*[a|e|i]ll\\w*\", blabla)   \n",
    "\n",
    "# c'est \"\\w*[a|e|i]ll\\w*\" qui est appelé expression regulière"
   ]
  },
  {
   "cell_type": "markdown",
   "metadata": {},
   "source": [
    "La maîtrise des expressions régulières n'est pas dans l'objet du cours mais il est bon de savoir qu'elles existent lorsqu'on doit faire des manipulations avancées sur des chaînes de caractère (pour savoir à quoi correspond `\\w` regardez [ici](https://docs.python.org/3/library/re.html))."
   ]
  },
  {
   "cell_type": "markdown",
   "metadata": {},
   "source": [
    "## Les listes"
   ]
  },
  {
   "cell_type": "markdown",
   "metadata": {},
   "source": [
    "Une liste contient un ensemble de valeurs indexées. Une liste est définie entre crochets. Un liste vide est [ ]."
   ]
  },
  {
   "cell_type": "code",
   "execution_count": 13,
   "metadata": {},
   "outputs": [
    {
     "name": "stdout",
     "output_type": "stream",
     "text": [
      "[1, 2, 3, 4, 5, 6, 7, 8]\n"
     ]
    },
    {
     "data": {
      "text/plain": [
       "8"
      ]
     },
     "execution_count": 13,
     "metadata": {},
     "output_type": "execute_result"
    }
   ],
   "source": [
    "a=[1,2,3,4,5,6,7,8]\n",
    "print(a)\n",
    "len(a) # len() pour length donne la taille d'une liste"
   ]
  },
  {
   "cell_type": "markdown",
   "metadata": {},
   "source": [
    "On peut avoir des listes de n'importe quoi, des listes de listes, des listes d'éléments hétérogènes :"
   ]
  },
  {
   "cell_type": "code",
   "execution_count": 14,
   "metadata": {},
   "outputs": [
    {
     "data": {
      "text/plain": [
       "3"
      ]
     },
     "execution_count": 14,
     "metadata": {},
     "output_type": "execute_result"
    }
   ],
   "source": [
    "b=[ [\"Pomme\", -21, \"Banane\"], [\"euh\", 5.34, 6.56+4j], 42]\n",
    "len(b)"
   ]
  },
  {
   "cell_type": "markdown",
   "metadata": {},
   "source": [
    "#### Extraction\n",
    "\n",
    "Extraire une valeur ou une sous-liste d'une liste se fait à l'aide des crochets et potentiellement 3 valeurs séparées par deux points : \n",
    "\n",
    "`[début : fin : indentation]`"
   ]
  },
  {
   "cell_type": "code",
   "execution_count": 15,
   "metadata": {},
   "outputs": [
    {
     "name": "stdout",
     "output_type": "stream",
     "text": [
      "a[1] =  2\n",
      "a[-1] =  8\n",
      "a[2:4] =  [3, 4]\n",
      "a[3:-3] =  [4, 5]\n",
      "a[5:] =  [6, 7, 8]\n",
      "a[:-2] =  [1, 2, 3, 4, 5, 6]\n",
      "a[::2] =  [1, 3, 5, 7]\n",
      "a[1::2] =  [2, 4, 6, 8]\n"
     ]
    }
   ],
   "source": [
    "print(\"a[1] = \", a[1])     # le premier indice est 0\n",
    "print(\"a[-1] = \", a[-1])   # -1 est le premier indice en partant de la fin (et non -0 :-)\n",
    "print(\"a[2:4] = \", a[2:4]) # retourne une liste (le dernier élément est exclus)\n",
    "print(\"a[3:-3] = \", a[3:-3])\n",
    "print(\"a[5:] = \", a[5:])   # jusqu'à la fin\n",
    "print(\"a[:-2] = \", a[:-2]) # depuis le début\n",
    "print(\"a[::2] = \", a[::2]) # tous les 2 éléments !\n",
    "print(\"a[1::2] = \", a[1::2])"
   ]
  },
  {
   "cell_type": "markdown",
   "metadata": {},
   "source": [
    "#### Ajout et retrait\n",
    "\n",
    "* `append` ajoute un élément en fin de liste\n",
    "* `insert` insert un élement à la i-ème position\n",
    "* `pop` retire l'élément à la i-ème position (et retourne sa valeur)\n",
    "* `remove` retire le premier élément qui vaut l'argument donné\n",
    "\n",
    "On définit un tableau vide c ainsi `c = []`. C'est utile pour pouvoir y ajouter des éléments par la suite."
   ]
  },
  {
   "cell_type": "code",
   "execution_count": 16,
   "metadata": {},
   "outputs": [
    {
     "name": "stdout",
     "output_type": "stream",
     "text": [
      "[1, 2, 2, 3, 8]\n",
      "[1, 33, 2, 2, 3, 8]\n",
      "[1, 33, 2, 2, 3]\n",
      "[1, 33, 2, 3]\n"
     ]
    }
   ],
   "source": [
    "c=[1,2,2,3]\n",
    "c.append(8) \n",
    "print(c)\n",
    "c.insert(1, 33)\n",
    "print(c)\n",
    "c.pop(-1)\n",
    "print(c)\n",
    "c.remove(2)\n",
    "print(c)"
   ]
  },
  {
   "cell_type": "markdown",
   "metadata": {},
   "source": [
    "#### Autres méthodes\n",
    "\n",
    "* `index` permet de trouver une valeur, elle retourne la première position qui contient la valeur\n",
    "* `count` permet de savoir combien de fois une valeur apparait dans la liste"
   ]
  },
  {
   "cell_type": "code",
   "execution_count": 17,
   "metadata": {},
   "outputs": [
    {
     "name": "stdout",
     "output_type": "stream",
     "text": [
      "1\n",
      "2\n"
     ]
    }
   ],
   "source": [
    "c = [2, 4, 4, 2, 0]\n",
    "print(c.index(4))  \n",
    "print(c.count(4))"
   ]
  },
  {
   "cell_type": "markdown",
   "metadata": {},
   "source": [
    "* `sort` trie une liste\n",
    "* `reverse` l'inverse"
   ]
  },
  {
   "cell_type": "code",
   "execution_count": 18,
   "metadata": {
    "scrolled": true
   },
   "outputs": [
    {
     "name": "stdout",
     "output_type": "stream",
     "text": [
      "[0, 2, 2, 4, 4]\n",
      "[4, 4, 2, 2, 0]\n"
     ]
    }
   ],
   "source": [
    "c.sort()\n",
    "print(c)\n",
    "c.reverse()\n",
    "print(c)"
   ]
  },
  {
   "cell_type": "markdown",
   "metadata": {},
   "source": [
    "#### Manipulation de listes"
   ]
  },
  {
   "cell_type": "raw",
   "metadata": {},
   "source": [
    "Les opérateurs + et * sur les listes font de la concaténation :"
   ]
  },
  {
   "cell_type": "code",
   "execution_count": 19,
   "metadata": {},
   "outputs": [
    {
     "name": "stdout",
     "output_type": "stream",
     "text": [
      "[1, 2, 3, 4, 3, 4]\n",
      "[1, 2, 3, 4, 1, 2, 3, 4, 1, 2, 3, 4]\n"
     ]
    }
   ],
   "source": [
    "c = [1,2,3,4]\n",
    "print(c+c[2:])\n",
    "print(3*c)"
   ]
  },
  {
   "cell_type": "markdown",
   "metadata": {},
   "source": [
    "Dans un cadre scientifique, on utilisera plutôt les tableaux (`array`) de Numpy (on verra en détail Numpy plus tard). Pour les tableaux + et * sont les opérateurs mathématiques usuels et non de concaténation."
   ]
  },
  {
   "cell_type": "code",
   "execution_count": 20,
   "metadata": {},
   "outputs": [
    {
     "data": {
      "text/plain": [
       "array([ 3,  6,  9, 12])"
      ]
     },
     "execution_count": 20,
     "metadata": {},
     "output_type": "execute_result"
    }
   ],
   "source": [
    "from numpy import array\n",
    "\n",
    "d = array([1,2,3,4])\n",
    "3*d"
   ]
  },
  {
   "cell_type": "markdown",
   "metadata": {},
   "source": [
    "#### Une chaîne de caractère est une liste"
   ]
  },
  {
   "cell_type": "code",
   "execution_count": 21,
   "metadata": {},
   "outputs": [
    {
     "name": "stdout",
     "output_type": "stream",
     "text": [
      "Pat\n"
     ]
    },
    {
     "data": {
      "text/plain": [
       "'PatriciaPatricia'"
      ]
     },
     "execution_count": 21,
     "metadata": {},
     "output_type": "execute_result"
    }
   ],
   "source": [
    "a = \"Patricia\"\n",
    "print(a[:3])\n",
    "2*a"
   ]
  },
  {
   "cell_type": "markdown",
   "metadata": {},
   "source": [
    "## Les dictionnaires"
   ]
  },
  {
   "cell_type": "markdown",
   "metadata": {},
   "source": [
    "Le dictionnaire permet de stocker un mot clef et ce qui va avec (un mot et sa définition par exemple)."
   ]
  },
  {
   "cell_type": "code",
   "execution_count": 22,
   "metadata": {},
   "outputs": [
    {
     "name": "stdout",
     "output_type": "stream",
     "text": [
      "23\n",
      "22\n"
     ]
    }
   ],
   "source": [
    "age = {\"Pierre\" : 23, \"Jeanne\" : 21, \"Richard\" : 20, \"Sylvie\" : 23, \"Claire\" : 24}\n",
    "print(age[\"Sylvie\"])\n",
    "age['Pierre'] = 22  # change la valeur de Pierre\n",
    "print(age['Pierre'])"
   ]
  },
  {
   "cell_type": "markdown",
   "metadata": {},
   "source": [
    "Un dictionnaire n'a pas d'ordre. Ainsi vouloir le 3e élément n'a pas de sens tout comme le trier."
   ]
  },
  {
   "cell_type": "code",
   "execution_count": 23,
   "metadata": {},
   "outputs": [
    {
     "name": "stdout",
     "output_type": "stream",
     "text": [
      "{'Pierre': 22, 'Jeanne': 21, 'Richard': 20, 'Sylvie': 23, 'Claire': 24}\n",
      "5\n"
     ]
    }
   ],
   "source": [
    "print(age)\n",
    "print(len(age)) # par contre il a bien une longeur"
   ]
  },
  {
   "cell_type": "markdown",
   "metadata": {},
   "source": [
    "On ajoute ou retire un élément ainsi :"
   ]
  },
  {
   "cell_type": "code",
   "execution_count": 24,
   "metadata": {},
   "outputs": [
    {
     "name": "stdout",
     "output_type": "stream",
     "text": [
      "{'Pierre': 22, 'Jeanne': 21, 'Richard': 20, 'Sylvie': 23, 'Claire': 24, 'Olivier': 26}\n",
      "{'Pierre': 22, 'Jeanne': 21, 'Richard': 20, 'Sylvie': 23, 'Claire': 24}\n"
     ]
    }
   ],
   "source": [
    "age['Olivier'] = 26  # attention, si Olivier existe, alors cela change sa valeur\n",
    "print(age)\n",
    "age.pop('Olivier')\n",
    "print(age)"
   ]
  },
  {
   "cell_type": "markdown",
   "metadata": {},
   "source": [
    "On verra avec les boucles comment parcourir un dictionnaire."
   ]
  },
  {
   "cell_type": "markdown",
   "metadata": {},
   "source": [
    "## Les n-uplets (tuples in english)"
   ]
  },
  {
   "cell_type": "markdown",
   "metadata": {},
   "source": [
    "Les n-utplets sont des listes qu'on ne peut plus changer. Il s'agit donc de constantes, un concept utile car il offre la garantie que la variable a toujours la valeur initiale."
   ]
  },
  {
   "cell_type": "code",
   "execution_count": 26,
   "metadata": {},
   "outputs": [
    {
     "ename": "TypeError",
     "evalue": "'tuple' object does not support item assignment",
     "output_type": "error",
     "traceback": [
      "\u001b[0;31m---------------------------------------------------------------------------\u001b[0m",
      "\u001b[0;31mTypeError\u001b[0m                                 Traceback (most recent call last)",
      "\u001b[0;32m<ipython-input-26-08ad1c80014e>\u001b[0m in \u001b[0;36m<module>\u001b[0;34m\u001b[0m\n\u001b[1;32m      1\u001b[0m \u001b[0;31m# on utilise les parenthèses pour définir les \"tuples\"\u001b[0m\u001b[0;34m\u001b[0m\u001b[0;34m\u001b[0m\u001b[0;34m\u001b[0m\u001b[0m\n\u001b[1;32m      2\u001b[0m \u001b[0msemaine\u001b[0m \u001b[0;34m=\u001b[0m \u001b[0;34m(\u001b[0m\u001b[0;34m'lundi'\u001b[0m\u001b[0;34m,\u001b[0m\u001b[0;34m'mardi'\u001b[0m\u001b[0;34m,\u001b[0m\u001b[0;34m'mercredi'\u001b[0m\u001b[0;34m,\u001b[0m\u001b[0;34m'jeudi'\u001b[0m\u001b[0;34m,\u001b[0m\u001b[0;34m'vendredi'\u001b[0m\u001b[0;34m,\u001b[0m\u001b[0;34m'samedi'\u001b[0m\u001b[0;34m,\u001b[0m\u001b[0;34m'dimanche'\u001b[0m\u001b[0;34m)\u001b[0m\u001b[0;34m\u001b[0m\u001b[0;34m\u001b[0m\u001b[0m\n\u001b[0;32m----> 3\u001b[0;31m \u001b[0msemaine\u001b[0m\u001b[0;34m[\u001b[0m\u001b[0;36m0\u001b[0m\u001b[0;34m]\u001b[0m \u001b[0;34m=\u001b[0m \u001b[0;34m'monday'\u001b[0m\u001b[0;34m\u001b[0m\u001b[0;34m\u001b[0m\u001b[0m\n\u001b[0m",
      "\u001b[0;31mTypeError\u001b[0m: 'tuple' object does not support item assignment"
     ]
    }
   ],
   "source": [
    "# on utilise les parenthèses pour définir les \"tuples\"\n",
    "semaine = ('lundi','mardi','mercredi','jeudi','vendredi','samedi','dimanche') \n",
    "semaine[0] = 'monday'"
   ]
  },
  {
   "cell_type": "code",
   "execution_count": 27,
   "metadata": {},
   "outputs": [
    {
     "name": "stdout",
     "output_type": "stream",
     "text": [
      "['lundi', 'mardi', 'mercredi', 'jeudi', 'vendredi', 'samedi', 'dimanche']\n",
      "['monday', 'mardi', 'mercredi', 'jeudi', 'vendredi', 'samedi', 'dimanche']\n"
     ]
    }
   ],
   "source": [
    "week = list(semaine)  # on peut convertir le type d'un objet en un autre ainsi\n",
    "print(week)\n",
    "week[0]= 'monday'\n",
    "print(week)"
   ]
  },
  {
   "cell_type": "markdown",
   "metadata": {},
   "source": [
    "Notons qu'il n'existe pas la notion de constante en Python pour les variables contrairement à de nombreux autres langages.\n"
   ]
  },
  {
   "cell_type": "markdown",
   "metadata": {
    "variables": {
     " PreviousNext(\"01 - Les variables.ipynb\",\"03 - Tests et boucles.ipynb\") ": "&nbsp; &nbsp; &nbsp; &nbsp; &nbsp; &nbsp; &nbsp; &nbsp; &nbsp; &nbsp; &nbsp; &nbsp; &nbsp; &nbsp; &nbsp; &nbsp; &nbsp; &nbsp; &nbsp; &nbsp; &nbsp; &nbsp; &nbsp; &nbsp; &nbsp; &nbsp; &nbsp; &nbsp; &nbsp; &nbsp; &nbsp; &nbsp; &nbsp; &nbsp; &nbsp; &nbsp; &nbsp; &nbsp; &nbsp; &nbsp; &nbsp; &nbsp; &nbsp; &nbsp; &nbsp; &nbsp; &nbsp; &nbsp; &nbsp; &nbsp; &nbsp; &nbsp; &nbsp; &nbsp; &nbsp; &nbsp; &nbsp; &nbsp; &nbsp; &nbsp; &nbsp; &nbsp; &nbsp; &nbsp; &nbsp; &nbsp; &nbsp; &nbsp; &nbsp; &nbsp; &nbsp; &nbsp; &nbsp; &nbsp; &nbsp; &nbsp; &nbsp; &nbsp; &nbsp; &nbsp; &nbsp; &nbsp; &nbsp; &nbsp; &nbsp; &nbsp; &nbsp; &nbsp; &nbsp; &nbsp; &nbsp; &nbsp; &nbsp; &nbsp; &nbsp; &nbsp; &nbsp; &nbsp; &nbsp; &nbsp; &nbsp; &nbsp; &nbsp; &nbsp; &nbsp; &nbsp; &nbsp; &nbsp; &nbsp; &nbsp; &nbsp; &nbsp; &nbsp; &nbsp; &nbsp; &nbsp; &nbsp; &nbsp; &nbsp; &nbsp; &nbsp; &nbsp; &nbsp; &nbsp; &nbsp; &nbsp; &nbsp; &nbsp; &nbsp; &nbsp; &nbsp; &nbsp; &nbsp; &nbsp; &nbsp; &nbsp; &nbsp; &nbsp; &nbsp; &nbsp; &nbsp; &nbsp; &nbsp; &nbsp; &nbsp; &nbsp; &nbsp; &nbsp; &nbsp; &nbsp; &nbsp; &nbsp; &nbsp; &nbsp; &nbsp; &nbsp; &nbsp; &nbsp; &nbsp; &nbsp; &nbsp; &nbsp; &nbsp; &nbsp; &nbsp; &nbsp; &nbsp; &nbsp; &nbsp; &nbsp; &nbsp; &nbsp; &nbsp; &nbsp; &nbsp; &nbsp; &nbsp; &nbsp; &nbsp; &nbsp; &nbsp; &nbsp; &nbsp; &nbsp; &nbsp; &nbsp; &nbsp; &nbsp; &nbsp; &nbsp; &nbsp; &nbsp; &nbsp; &nbsp; &nbsp; &nbsp; &nbsp; &nbsp; &nbsp; &nbsp; <br/><center><a href=\"01 - Les variables.ipynb\">01 - Les variables</a>&nbsp; ← <a href=\"http://python3.mooc.lrde.epita.fr:8888/tree/lesson1 Python basics\" style=\"text-decoration:none\"> △ </a> → &nbsp;<a href=\"03 - Tests et boucles.ipynb\">03 - Tests et boucles</a></center><br/>&nbsp;"
    }
   },
   "source": [
    "{{ PreviousNext(\"01 - Les variables.ipynb\",\"03 - Tests et boucles.ipynb\") }}"
   ]
  },
  {
   "cell_type": "code",
   "execution_count": null,
   "metadata": {},
   "outputs": [],
   "source": []
  }
 ],
 "metadata": {
  "kernelspec": {
   "display_name": "Python 3",
   "language": "python",
   "name": "python3"
  },
  "language_info": {
   "codemirror_mode": {
    "name": "ipython",
    "version": 3
   },
   "file_extension": ".py",
   "mimetype": "text/x-python",
   "name": "python",
   "nbconvert_exporter": "python",
   "pygments_lexer": "ipython3",
   "version": "3.6.7"
  },
  "nbTranslate": {
   "displayLangs": [
    "fr"
   ],
   "hotkey": "alt-t",
   "langInMainMenu": true,
   "sourceLang": "fr",
   "targetLang": "en",
   "useGoogleTranslate": true
  }
 },
 "nbformat": 4,
 "nbformat_minor": 1
}

{
 "cells": [
  {
   "cell_type": "markdown",
   "metadata": {},
   "source": [
    "# Les fonctions"
   ]
  },
  {
   "cell_type": "markdown",
   "metadata": {},
   "source": [
    "Les fonctions sont à la base de la programmation. A partir d'une certaine taille, sans fonction il est quasiment impossible d'écrire un programme compréhensible (on a déjà pu mesurer l'utilité de toutes les fonctions que l'on a utilisées).\n",
    "\n",
    "Une fonction se caractérise par :\n",
    "\n",
    "  * son nom\n",
    "  * son ou ses arguments\n",
    "  * sa ou ses valeurs de retour\n",
    "  \n",
    "Du point de vue syntaxique, on utilise le mot clef `def` pour définir une fonction :"
   ]
  },
  {
   "cell_type": "code",
   "execution_count": 1,
   "metadata": {},
   "outputs": [
    {
     "data": {
      "text/plain": [
       "25"
      ]
     },
     "execution_count": 1,
     "metadata": {},
     "output_type": "execute_result"
    }
   ],
   "source": [
    "def carre(x):    # carre est le nom, x est l'arguement\n",
    "    return x*x   # la valeur de retour est ce qui suit return, donc x*x ici\n",
    "\n",
    "carre(5)"
   ]
  },
  {
   "cell_type": "code",
   "execution_count": 2,
   "metadata": {},
   "outputs": [
    {
     "name": "stdout",
     "output_type": "stream",
     "text": [
      "deux\n",
      "(2, 'deux', 'two')\n"
     ]
    }
   ],
   "source": [
    "def dos():                    # pas d'argment\n",
    "    return 2, \"deux\", \"two\"   # 3 valeurs de retour\n",
    "\n",
    "a,b,c = dos()                 # les parenthèses restent obligatoire même sans arguments\n",
    "print(b)                      # sinon c'est une variable et plus une fonction\n",
    "x = dos()\n",
    "print(x)"
   ]
  },
  {
   "cell_type": "markdown",
   "metadata": {},
   "source": [
    "La fonction suivante est plus impressionnante mais elle n'est aussi qu'une simple fonction."
   ]
  },
  {
   "cell_type": "code",
   "execution_count": 3,
   "metadata": {},
   "outputs": [
    {
     "data": {
      "text/plain": [
       "[2, 3, 5, 7, 11, 13, 17, 19, 23, 29, 31, 37, 41, 43, 47]"
      ]
     },
     "execution_count": 3,
     "metadata": {},
     "output_type": "execute_result"
    }
   ],
   "source": [
    "def eratosthene(n):\n",
    "    '''\n",
    "    Le crible d'Eratosthène donne l'ensemble des nombres premiers inférieurs à une valeur.\n",
    "    '''\n",
    "    liste  = list(range(2, n))\n",
    "    index = 0\n",
    "    nombre = liste[index]\n",
    "    while nombre**2 <= n:\n",
    "        for i in liste[index + 1: ]:\n",
    "            if i % nombre == 0:\n",
    "                liste.remove(i)\n",
    "        index += 1\n",
    "        nombre = liste[index]\n",
    "    return liste\n",
    "\n",
    "eratosthene(50)"
   ]
  },
  {
   "cell_type": "markdown",
   "metadata": {},
   "source": [
    "Notons le commentaire entre `'''` qui décrit la fonction. Les commentaires sont très importants et ne doivent pas être négligés, ils servent aux autres, ils vous servent lorsque vous revenez sur votre code."
   ]
  },
  {
   "cell_type": "markdown",
   "metadata": {},
   "source": [
    "### Valeurs par défaut"
   ]
  },
  {
   "cell_type": "markdown",
   "metadata": {},
   "source": [
    "Il est possible de choisir des valeurs par défaut pour une fonction. Elles seront retenues si on ne les donne pas à l'usage :"
   ]
  },
  {
   "cell_type": "code",
   "execution_count": 4,
   "metadata": {},
   "outputs": [
    {
     "name": "stdout",
     "output_type": "stream",
     "text": [
      "Z b c\n",
      "Z Y c\n",
      "Z Y X\n",
      "Z b Q\n"
     ]
    },
    {
     "ename": "TypeError",
     "evalue": "affiche() missing 1 required positional argument: 'a'",
     "output_type": "error",
     "traceback": [
      "\u001b[0;31m---------------------------------------------------------------------------\u001b[0m",
      "\u001b[0;31mTypeError\u001b[0m                                 Traceback (most recent call last)",
      "\u001b[0;32m<ipython-input-4-bf88a272a66e>\u001b[0m in \u001b[0;36m<module>\u001b[0;34m()\u001b[0m\n\u001b[1;32m      7\u001b[0m \u001b[0maffiche\u001b[0m\u001b[0;34m(\u001b[0m\u001b[0;34m\"Z\"\u001b[0m\u001b[0;34m,\u001b[0m\u001b[0;34m\"Y\"\u001b[0m\u001b[0;34m,\u001b[0m\u001b[0;34m\"X\"\u001b[0m\u001b[0;34m)\u001b[0m\u001b[0;34m\u001b[0m\u001b[0m\n\u001b[1;32m      8\u001b[0m \u001b[0maffiche\u001b[0m\u001b[0;34m(\u001b[0m\u001b[0;34m\"Z\"\u001b[0m\u001b[0;34m,\u001b[0m\u001b[0mc\u001b[0m\u001b[0;34m=\u001b[0m\u001b[0;34m\"Q\"\u001b[0m\u001b[0;34m)\u001b[0m   \u001b[0;31m# on peut indiquer explicitement quel argument a quelle valeur\u001b[0m\u001b[0;34m\u001b[0m\u001b[0m\n\u001b[0;32m----> 9\u001b[0;31m \u001b[0maffiche\u001b[0m\u001b[0;34m(\u001b[0m\u001b[0mb\u001b[0m\u001b[0;34m=\u001b[0m\u001b[0;34m\"M\"\u001b[0m\u001b[0;34m)\u001b[0m       \u001b[0;31m# erreur, il manque a comme indiqué\u001b[0m\u001b[0;34m\u001b[0m\u001b[0m\n\u001b[0m",
      "\u001b[0;31mTypeError\u001b[0m: affiche() missing 1 required positional argument: 'a'"
     ]
    }
   ],
   "source": [
    "def affiche(a, b = \"b\", c = \"c\"): # les variables qui peuvent avoir une valeur par défaut \n",
    "                                  #sont obligatoirement les dernières\n",
    "    print(a,b,c)\n",
    "    \n",
    "affiche(\"Z\")\n",
    "affiche(\"Z\",\"Y\")\n",
    "affiche(\"Z\",\"Y\",\"X\")\n",
    "affiche(\"Z\",c=\"Q\")   # on peut indiquer explicitement quel argument a quelle valeur\n",
    "affiche(b=\"M\")       # erreur, il manque a comme indiqué"
   ]
  },
  {
   "cell_type": "markdown",
   "metadata": {},
   "source": [
    "### Fonction récursive"
   ]
  },
  {
   "cell_type": "markdown",
   "metadata": {},
   "source": [
    "   * Bonjour dit la fée, je vais exhausser tes trois voeux, quels sont-ils ?\n",
    "   * Alors... je désire parler courament le Python, n'avoir que des élèves captivants et... 3 voeux de plus.\n",
    "\n",
    "C'est le principe de la récursivité, la fonction s'appelle elle même. Avec la récursivité l'écriture de la suite de Fibonnacci est très simple :"
   ]
  },
  {
   "cell_type": "code",
   "execution_count": 5,
   "metadata": {},
   "outputs": [
    {
     "data": {
      "text/plain": [
       "89"
      ]
     },
     "execution_count": 5,
     "metadata": {},
     "output_type": "execute_result"
    }
   ],
   "source": [
    "def fibonnacci(n):\n",
    "    if (n == 0) or (n == 1) :\n",
    "        return 1\n",
    "    else :\n",
    "        return fibonnacci(n-1) + fibonnacci(n-2)\n",
    "    \n",
    "fibonnacci(10)"
   ]
  },
  {
   "cell_type": "markdown",
   "metadata": {},
   "source": [
    "Cette écriture est élégante et plus compacte. Elle a néanmoins deux inconvénients :\n",
    "\n",
    "   * le premier appel de la fonction, ne sera fermé que lorsque le dernier le sera. Cela veut dire qu'avec factoriel(100) on a, à un moment, 100 fonctions qui ont commencé et qui sont toujours ouvertes. Avec de très grand nombre, cela peut devenir un problème pour la machine.\n",
    "   * elle va calculer 2 fois fibonnacci(n-2) et chaque terme inférieur"
   ]
  },
  {
   "cell_type": "markdown",
   "metadata": {},
   "source": [
    "#### Problèmes pas gérés..."
   ]
  },
  {
   "cell_type": "markdown",
   "metadata": {},
   "source": [
    "Notons que notre programme ne gère pas le cas où la valeur données est négative ou un réel non entier. C'est mal, il faut toujours essayer de penser à tous les cas tordus possibles. Tôt ou tard, ils arriveront.\n",
    "<p>\n",
    "Pour cela on utilise beaucoup les exceptions que l'on verra plus tard."
   ]
  },
  {
   "cell_type": "markdown",
   "metadata": {},
   "source": [
    "#### Exercice"
   ]
  },
  {
   "cell_type": "markdown",
   "metadata": {},
   "source": [
    "Ecrire deux fois la fonction factoriel, avec et sans la récursivité"
   ]
  },
  {
   "cell_type": "code",
   "execution_count": null,
   "metadata": {
    "collapsed": true
   },
   "outputs": [],
   "source": [
    "def \n",
    "\n",
    "\n",
    "factoriel_r(5)"
   ]
  },
  {
   "cell_type": "code",
   "execution_count": null,
   "metadata": {
    "collapsed": true
   },
   "outputs": [],
   "source": [
    "def\n",
    "\n",
    "\n",
    "factoriel(5)"
   ]
  },
  {
   "cell_type": "raw",
   "metadata": {},
   "source": [
    "\n",
    "et la solution :\n",
    "\n",
    "\n",
    "\n",
    "    \n",
    "    \n",
    "    \n",
    "    \n",
    "    \n",
    "    \n",
    "    \n",
    "    "
   ]
  },
  {
   "cell_type": "code",
   "execution_count": null,
   "metadata": {},
   "outputs": [],
   "source": [
    "def factoriel_r(n) :\n",
    "    if n <= 1 :\n",
    "        return 1\n",
    "    else :\n",
    "        return n * factoriel_r(n-1)\n",
    "    \n",
    "factoriel_r(5)"
   ]
  },
  {
   "cell_type": "code",
   "execution_count": null,
   "metadata": {},
   "outputs": [],
   "source": [
    "def factoriel(n) :\n",
    "    res = 1\n",
    "    for i in range(2,n+1) :\n",
    "        res *= i\n",
    "    return res\n",
    "\n",
    "factoriel(5)"
   ]
  },
  {
   "cell_type": "markdown",
   "metadata": {
    "collapsed": true,
    "variables": {
     " PreviousNext(\"03 - Tests et boucles.ipynb\", \"05 - Erreurs et exceptions.ipynb\") ": "&nbsp; &nbsp; &nbsp; &nbsp; &nbsp; &nbsp; &nbsp; &nbsp; &nbsp; &nbsp; &nbsp; &nbsp; &nbsp; &nbsp; &nbsp; &nbsp; &nbsp; &nbsp; &nbsp; &nbsp; &nbsp; &nbsp; &nbsp; &nbsp; &nbsp; &nbsp; &nbsp; &nbsp; &nbsp; &nbsp; &nbsp; &nbsp; &nbsp; &nbsp; &nbsp; &nbsp; &nbsp; &nbsp; &nbsp; &nbsp; &nbsp; &nbsp; &nbsp; &nbsp; &nbsp; &nbsp; &nbsp; &nbsp; &nbsp; &nbsp; &nbsp; &nbsp; &nbsp; &nbsp; &nbsp; &nbsp; &nbsp; &nbsp; &nbsp; &nbsp; &nbsp; &nbsp; &nbsp; &nbsp; &nbsp; &nbsp; &nbsp; &nbsp; &nbsp; &nbsp; &nbsp; &nbsp; &nbsp; &nbsp; &nbsp; &nbsp; &nbsp; &nbsp; &nbsp; &nbsp; &nbsp; &nbsp; &nbsp; &nbsp; &nbsp; &nbsp; &nbsp; &nbsp; &nbsp; &nbsp; &nbsp; &nbsp; &nbsp; &nbsp; &nbsp; &nbsp; &nbsp; &nbsp; &nbsp; &nbsp; &nbsp; &nbsp; &nbsp; &nbsp; &nbsp; &nbsp; &nbsp; &nbsp; &nbsp; &nbsp; &nbsp; &nbsp; &nbsp; &nbsp; &nbsp; &nbsp; &nbsp; &nbsp; &nbsp; &nbsp; &nbsp; &nbsp; &nbsp; &nbsp; &nbsp; &nbsp; &nbsp; &nbsp; &nbsp; &nbsp; &nbsp; &nbsp; &nbsp; &nbsp; &nbsp; &nbsp; &nbsp; &nbsp; &nbsp; &nbsp; &nbsp; &nbsp; &nbsp; &nbsp; &nbsp; &nbsp; &nbsp; &nbsp; &nbsp; &nbsp; &nbsp; &nbsp; &nbsp; &nbsp; &nbsp; &nbsp; &nbsp; &nbsp; &nbsp; &nbsp; &nbsp; &nbsp; &nbsp; &nbsp; &nbsp; &nbsp; &nbsp; &nbsp; &nbsp; &nbsp; &nbsp; &nbsp; &nbsp; &nbsp; &nbsp; &nbsp; &nbsp; &nbsp; &nbsp; &nbsp; &nbsp; &nbsp; &nbsp; &nbsp; &nbsp; &nbsp; &nbsp; &nbsp; &nbsp; &nbsp; &nbsp; &nbsp; &nbsp; &nbsp; &nbsp; &nbsp; &nbsp; &nbsp; &nbsp; &nbsp; <br/><center><a href=\"03 - Tests et boucles.ipynb\">03 - Tests et boucles</a>&nbsp; ← <a href=\"http://python3.mooc.lrde.epita.fr:8888/tree/lesson1 Python basics\" style=\"text-decoration:none\"> △ </a> → &nbsp;<a href=\"05 - Erreurs et exceptions.ipynb\">05 - Erreurs et exceptions</a></center><br/>&nbsp;"
    }
   },
   "source": [
    "{{ PreviousNext(\"03 - Tests et boucles.ipynb\", \"05 - Erreurs et exceptions.ipynb\") }}"
   ]
  }
 ],
 "metadata": {
  "kernelspec": {
   "display_name": "Python 3",
   "language": "python",
   "name": "python3"
  },
  "language_info": {
   "codemirror_mode": {
    "name": "ipython",
    "version": 3
   },
   "file_extension": ".py",
   "mimetype": "text/x-python",
   "name": "python",
   "nbconvert_exporter": "python",
   "pygments_lexer": "ipython3",
   "version": "3.6.6"
  },
  "nbTranslate": {
   "displayLangs": [
    "en",
    "fr"
   ],
   "hotkey": "alt-t",
   "langInMainMenu": true,
   "sourceLang": "fr",
   "targetLang": "en",
   "useGoogleTranslate": true
  }
 },
 "nbformat": 4,
 "nbformat_minor": 1
}

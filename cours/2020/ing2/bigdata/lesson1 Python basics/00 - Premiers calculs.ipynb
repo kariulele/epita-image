{
 "cells": [
  {
   "cell_type": "markdown",
   "metadata": {
    "lang": "fr"
   },
   "source": [
    "**Note** Avant toute chose, veuillez choisir votre langue dans le menu `Langs` (attention à ne pas avoir les 2 langues en même temps).\n",
    "\n",
    "**Note** First of all, please choose your language from the `Langs` menu (be careful not to have both languages at the same time)."
   ]
  },
  {
   "cell_type": "markdown",
   "metadata": {
    "lang": "en"
   },
   "source": [
    "**Note** Avant toute chose, veuillez choisir votre langue dans le menu `Langs` (attention à ne pas avoir les 2 langues en même temps).\n",
    "\n",
    "**Note** First of all, please choose your language from the `Langs` menu (be careful not to have both languages at the same time)."
   ]
  },
  {
   "cell_type": "markdown",
   "metadata": {
    "lang": "fr"
   },
   "source": [
    "## La calculatrice Python\n",
    "\n",
    "Le langage de programmation Python peut être utilisé de facon interactive à savoir que lorsqu'on tape une commande, Python l'exécute immédiatement et affiche la réponse :"
   ]
  },
  {
   "cell_type": "markdown",
   "metadata": {
    "lang": "en"
   },
   "source": [
    "## Python as a calculator\n",
    "\n",
    "The Python programming language can be used interactively to know that when you type a command, Python executes it immediately and displays the answer:"
   ]
  },
  {
   "cell_type": "code",
   "execution_count": 1,
   "metadata": {},
   "outputs": [
    {
     "data": {
      "text/plain": [
       "2"
      ]
     },
     "execution_count": 1,
     "metadata": {},
     "output_type": "execute_result"
    }
   ],
   "source": [
    "1+1"
   ]
  },
  {
   "cell_type": "markdown",
   "metadata": {
    "lang": "fr"
   },
   "source": [
    "Note :\n",
    "\n",
    "* Pour modifier l'exemple précédant, cliquez dans la zone grise en face de `In` (appelée cellule). \n",
    "* Pour que Python recalcule le résultat faites `<Shift><Enter>`. \n",
    "* Pour voir le code source d'une cellule texte, double cliquez dedans."
   ]
  },
  {
   "cell_type": "markdown",
   "metadata": {
    "lang": "en"
   },
   "source": [
    "Note:\n",
    "\n",
    "* To modify the previous example, click in the gray area next to `In` (called cell).\n",
    "* To ask Python to recalculate the result do `<Shift><Enter>`.\n",
    "* To see the source code of a text cell, double click in it."
   ]
  },
  {
   "cell_type": "code",
   "execution_count": 2,
   "metadata": {},
   "outputs": [
    {
     "name": "stdout",
     "output_type": "stream",
     "text": [
      "15\n",
      "7.0\n",
      "2\n"
     ]
    }
   ],
   "source": [
    "print(1 + 7*2)\n",
    "print(49**0.5)\n",
    "print(7 % 5)"
   ]
  },
  {
   "cell_type": "markdown",
   "metadata": {
    "lang": "fr"
   },
   "source": [
    "La commande `print` permet d'afficher un résultat ce qui est différent du résultat de la cellule qui ne serait que la dernière commande (d'ailleurs la celle ci-dessus n'a pas de `Out`).\n",
    "Python propose par défaut les opérateurs de base (dont les opérateurs `**` pour la puissance et `%` pour le modulo).\n",
    "\n",
    "Pour des fonctions mathématiques plus avancées il faut importer des bibliothèques (on verra plus tard ce que sont les bibliothèques). On commence avec la bibliothèque scientifique `NumPy`:"
   ]
  },
  {
   "cell_type": "markdown",
   "metadata": {
    "lang": "en"
   },
   "source": [
    "The `print` command allows to display a result which is different from the result of the cell (which is the result of the last command).\n",
    "\n",
    "Python has basic operators (including the `**` operators for power and `%` for the modulo).\n",
    "For more advanced mathematical functions we must import libraries (we will see later what libraries are). We start with the scientific library `NumPy`:"
   ]
  },
  {
   "cell_type": "code",
   "execution_count": 3,
   "metadata": {},
   "outputs": [
    {
     "name": "stdout",
     "output_type": "stream",
     "text": [
      "0.0015926529164868282\n",
      "1.2246467991473532e-16\n",
      "1.0\n"
     ]
    }
   ],
   "source": [
    "from numpy import * \n",
    "print(sin(3.14))\n",
    "print(sin(pi))\n",
    "print(log(e))"
   ]
  },
  {
   "cell_type": "code",
   "execution_count": 4,
   "metadata": {},
   "outputs": [
    {
     "data": {
      "text/plain": [
       "4.0"
      ]
     },
     "execution_count": 4,
     "metadata": {},
     "output_type": "execute_result"
    }
   ],
   "source": [
    "log2(16)"
   ]
  },
  {
   "cell_type": "markdown",
   "metadata": {
    "lang": "fr"
   },
   "source": [
    "Pour avoir la documentation sur une fonction utilisez `?` (spécifique à iPython). En simple Python on fait `help(log)`. Vous devez lancer la cellule (`<shift><enter>`) pour voir le résultat dans une sous-fenêtre en bas de la page (cliquez sur la croix pour la fermer)."
   ]
  },
  {
   "cell_type": "markdown",
   "metadata": {
    "lang": "en"
   },
   "source": [
    "To have documentation on a function use `?` (specific to iPython). In regular Python we do\n",
    "`help (log)`. You must run the cell (`<shift><enter>`) to see the result in a window at the bottom of the page (click on the cross to close it)."
   ]
  },
  {
   "cell_type": "code",
   "execution_count": 5,
   "metadata": {},
   "outputs": [],
   "source": [
    "?log"
   ]
  },
  {
   "cell_type": "markdown",
   "metadata": {
    "lang": "fr"
   },
   "source": [
    "### Complexes\n",
    "\n",
    "Les complexes existent mais le nombre imaginaire est `j` et il faut écrire `1j` et non simplement `j` :"
   ]
  },
  {
   "cell_type": "markdown",
   "metadata": {
    "lang": "en"
   },
   "source": [
    "### Complexes\n",
    "\n",
    "Complexes exist but the imaginary number is `j` and you have to write` 1j` and not just `j`:"
   ]
  },
  {
   "cell_type": "code",
   "execution_count": 6,
   "metadata": {},
   "outputs": [
    {
     "data": {
      "text/plain": [
       "(-1+0j)"
      ]
     },
     "execution_count": 6,
     "metadata": {},
     "output_type": "execute_result"
    }
   ],
   "source": [
    "1j**2"
   ]
  },
  {
   "cell_type": "code",
   "execution_count": 7,
   "metadata": {},
   "outputs": [
    {
     "data": {
      "text/plain": [
       "(0.7071067811865476+0.7071067811865476j)"
      ]
     },
     "execution_count": 7,
     "metadata": {},
     "output_type": "execute_result"
    }
   ],
   "source": [
    "sqrt(1j)"
   ]
  },
  {
   "cell_type": "code",
   "execution_count": 8,
   "metadata": {},
   "outputs": [
    {
     "data": {
      "text/plain": [
       "(-1+1.2246467991473532e-16j)"
      ]
     },
     "execution_count": 8,
     "metadata": {},
     "output_type": "execute_result"
    }
   ],
   "source": [
    "e**(pi*1j)"
   ]
  },
  {
   "cell_type": "markdown",
   "metadata": {
    "lang": "fr"
   },
   "source": [
    "On notera l'erreur d'arrondi dans le calcul d'$e^{i \\pi}$ pour la partie imaginaire."
   ]
  },
  {
   "cell_type": "markdown",
   "metadata": {
    "lang": "en"
   },
   "source": [
    "Note the rounding error in the $e^{i \\pi}$ calculation for the imaginary part."
   ]
  },
  {
   "cell_type": "markdown",
   "metadata": {
    "lang": "fr"
   },
   "source": [
    "### L'ordre de priorité des opérateurs\n",
    "\n",
    "L'ordre de priorité des opérateurs est :\n",
    "\n",
    "1.  `**` la puissance\n",
    "2.  `-x`, `+x` l'opérateur unitaire moins ou plus\n",
    "3.  `*`, `/`, `//` (`//` étant la division entière)\n",
    "4.  `%` le modulo\n",
    "5.  `+`, `-`"
   ]
  },
  {
   "cell_type": "markdown",
   "metadata": {
    "lang": "en"
   },
   "source": [
    "### The order of priority of the operators\n",
    "\n",
    "The order of priority of the operators is:\n",
    "\n",
    "1. `**` the power\n",
    "2. `-x`,` + x` the unit operator minus or plus\n",
    "3. `*`, `/`, `//` (`//` being the entire division)\n",
    "4. `%` the modulo\n",
    "5. `+`, `-`"
   ]
  },
  {
   "cell_type": "code",
   "execution_count": 9,
   "metadata": {},
   "outputs": [
    {
     "name": "stdout",
     "output_type": "stream",
     "text": [
      "-9\n"
     ]
    }
   ],
   "source": [
    "print(-3**2)"
   ]
  },
  {
   "cell_type": "markdown",
   "metadata": {
    "lang": "fr"
   },
   "source": [
    "### Erreurs\n",
    "\n",
    "Enfin, on surveille les messages d'erreurs pour corriger son code :"
   ]
  },
  {
   "cell_type": "markdown",
   "metadata": {
    "lang": "en"
   },
   "source": [
    "### Errors\n",
    "\n",
    "Finally, we check the error messages to correct the code:"
   ]
  },
  {
   "cell_type": "code",
   "execution_count": 10,
   "metadata": {
    "lang": "fr"
   },
   "outputs": [
    {
     "name": "stdout",
     "output_type": "stream",
     "text": [
      "Let divide by zero:\n"
     ]
    },
    {
     "ename": "ZeroDivisionError",
     "evalue": "division by zero",
     "output_type": "error",
     "traceback": [
      "\u001b[0;31m---------------------------------------------------------------------------\u001b[0m",
      "\u001b[0;31mZeroDivisionError\u001b[0m                         Traceback (most recent call last)",
      "\u001b[0;32m<ipython-input-10-f5ef62ef1fa7>\u001b[0m in \u001b[0;36m<module>\u001b[0;34m()\u001b[0m\n\u001b[1;32m      1\u001b[0m \u001b[0mprint\u001b[0m\u001b[0;34m(\u001b[0m\u001b[0;34m\"Let divide by zero:\"\u001b[0m\u001b[0;34m)\u001b[0m\u001b[0;34m\u001b[0m\u001b[0m\n\u001b[0;32m----> 2\u001b[0;31m \u001b[0mx\u001b[0m \u001b[0;34m=\u001b[0m \u001b[0;36m1\u001b[0m\u001b[0;34m/\u001b[0m\u001b[0;36m0\u001b[0m\u001b[0;34m\u001b[0m\u001b[0m\n\u001b[0m\u001b[1;32m      3\u001b[0m \u001b[0mprint\u001b[0m\u001b[0;34m(\u001b[0m\u001b[0;34m\"This line is not going to be printed because the error breaks the run\"\u001b[0m\u001b[0;34m)\u001b[0m\u001b[0;34m\u001b[0m\u001b[0m\n",
      "\u001b[0;31mZeroDivisionError\u001b[0m: division by zero"
     ]
    }
   ],
   "source": [
    "print(\"Let divide by zero:\")\n",
    "x = 1/0\n",
    "print(\"This line is not going to be printed because the error breaks the run\")"
   ]
  },
  {
   "cell_type": "markdown",
   "metadata": {
    "variables": {
     " PreviousNext(\"../lesson0 Introduction/Introduction.ipynb\", \"01 - Les variables.ipynb\") ": "&nbsp; &nbsp; &nbsp; &nbsp; &nbsp; &nbsp; &nbsp; &nbsp; &nbsp; &nbsp; &nbsp; &nbsp; &nbsp; &nbsp; &nbsp; &nbsp; &nbsp; &nbsp; &nbsp; &nbsp; &nbsp; &nbsp; &nbsp; &nbsp; &nbsp; &nbsp; &nbsp; &nbsp; &nbsp; &nbsp; &nbsp; &nbsp; &nbsp; &nbsp; &nbsp; &nbsp; &nbsp; &nbsp; &nbsp; &nbsp; &nbsp; &nbsp; &nbsp; &nbsp; &nbsp; &nbsp; &nbsp; &nbsp; &nbsp; &nbsp; &nbsp; &nbsp; &nbsp; &nbsp; &nbsp; &nbsp; &nbsp; &nbsp; &nbsp; &nbsp; &nbsp; &nbsp; &nbsp; &nbsp; &nbsp; &nbsp; &nbsp; &nbsp; &nbsp; &nbsp; &nbsp; &nbsp; &nbsp; &nbsp; &nbsp; &nbsp; &nbsp; &nbsp; &nbsp; &nbsp; &nbsp; &nbsp; &nbsp; &nbsp; &nbsp; &nbsp; &nbsp; &nbsp; &nbsp; &nbsp; &nbsp; &nbsp; &nbsp; &nbsp; &nbsp; &nbsp; &nbsp; &nbsp; &nbsp; &nbsp; &nbsp; &nbsp; &nbsp; &nbsp; &nbsp; &nbsp; &nbsp; &nbsp; &nbsp; &nbsp; &nbsp; &nbsp; &nbsp; &nbsp; &nbsp; &nbsp; &nbsp; &nbsp; &nbsp; &nbsp; &nbsp; &nbsp; &nbsp; &nbsp; &nbsp; &nbsp; &nbsp; &nbsp; &nbsp; &nbsp; &nbsp; &nbsp; &nbsp; &nbsp; &nbsp; &nbsp; &nbsp; &nbsp; &nbsp; &nbsp; &nbsp; &nbsp; &nbsp; &nbsp; &nbsp; &nbsp; &nbsp; &nbsp; &nbsp; &nbsp; &nbsp; &nbsp; &nbsp; &nbsp; &nbsp; &nbsp; &nbsp; &nbsp; &nbsp; &nbsp; &nbsp; &nbsp; &nbsp; &nbsp; &nbsp; &nbsp; &nbsp; &nbsp; &nbsp; &nbsp; &nbsp; &nbsp; &nbsp; &nbsp; &nbsp; &nbsp; &nbsp; &nbsp; &nbsp; &nbsp; &nbsp; &nbsp; &nbsp; &nbsp; &nbsp; &nbsp; &nbsp; &nbsp; &nbsp; &nbsp; &nbsp; &nbsp; &nbsp; &nbsp; &nbsp; &nbsp; &nbsp; &nbsp; &nbsp; &nbsp; <br/><center><a href=\"../lesson0 Introduction/Introduction.ipynb\">Introduction</a>&nbsp; ← <a href=\"http://python3.mooc.lrde.epita.fr:8888/tree/lesson1 Python basics\" style=\"text-decoration:none\"> △ </a> → &nbsp;<a href=\"01 - Les variables.ipynb\">01 - Les variables</a></center><br/>&nbsp;"
    }
   },
   "source": [
    "{{ PreviousNext(\"../lesson0 Introduction/Introduction.ipynb\", \"01 - Les variables.ipynb\") }}"
   ]
  }
 ],
 "metadata": {
  "kernelspec": {
   "display_name": "Python 3",
   "language": "python",
   "name": "python3"
  },
  "language_info": {
   "codemirror_mode": {
    "name": "ipython",
    "version": 3
   },
   "file_extension": ".py",
   "mimetype": "text/x-python",
   "name": "python",
   "nbconvert_exporter": "python",
   "pygments_lexer": "ipython3",
   "version": "3.6.6"
  },
  "nbTranslate": {
   "displayLangs": [
    "fr"
   ],
   "hotkey": "alt-t",
   "langInMainMenu": true,
   "sourceLang": "fr",
   "targetLang": "en",
   "useGoogleTranslate": true
  }
 },
 "nbformat": 4,
 "nbformat_minor": 1
}

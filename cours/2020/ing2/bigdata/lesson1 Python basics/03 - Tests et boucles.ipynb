{
 "cells": [
  {
   "cell_type": "markdown",
   "metadata": {},
   "source": [
    "## Logique booléenne"
   ]
  },
  {
   "cell_type": "code",
   "execution_count": 1,
   "metadata": {},
   "outputs": [
    {
     "data": {
      "image/jpeg": "[encoded data removed]",
      "text/html": [
       "\n",
       "        <iframe\n",
       "            width=\"400\"\n",
       "            height=\"300\"\n",
       "            src=\"https://www.youtube.com/embed/4RCtiy6F_M4\"\n",
       "            frameborder=\"0\"\n",
       "            allowfullscreen\n",
       "        ></iframe>\n",
       "        "
      ],
      "text/plain": [
       "<IPython.lib.display.YouTubeVideo at 0x7fb3150e0e80>"
      ]
     },
     "execution_count": 1,
     "metadata": {},
     "output_type": "execute_result"
    }
   ],
   "source": [
    "from IPython.display import YouTubeVideo  # il y a des petites différences avec la feuille\n",
    "YouTubeVideo('4RCtiy6F_M4')"
   ]
  },
  {
   "cell_type": "markdown",
   "metadata": {},
   "source": [
    "La logique booléenne utilise les mots clefs __True__ et __False__ en Python pour indiquer qu'un test est vrai ou faux.\n",
    "\n",
    "Attention à l'__ordre de priorité des opérateurs__. On a du plus prioritaire au moins prioritaire :\n",
    "\n",
    "1.  les [ ] et ( ) liés aux types comme les listes, dictionnaires, tuples\n",
    "2.  ** la puissance\n",
    "3.  -x, +x l'opérator unitaire moins ou plus\n",
    "4.  *, /, //\n",
    "5.  %\n",
    "6.  +, -\n",
    "7.  in, not in, is, is not, <, <=, >=, <>, !=\n",
    "8.  not x\n",
    "9.  and\n",
    "10. or"
   ]
  },
  {
   "cell_type": "code",
   "execution_count": 2,
   "metadata": {},
   "outputs": [
    {
     "name": "stdout",
     "output_type": "stream",
     "text": [
      "False\n",
      "True\n",
      "True\n",
      "False\n"
     ]
    },
    {
     "data": {
      "text/plain": [
       "False"
      ]
     },
     "execution_count": 2,
     "metadata": {},
     "output_type": "execute_result"
    }
   ],
   "source": [
    "print (1 == 3)\n",
    "print (1 == 1)\n",
    "print (2 == 2) or (1 == 2) and (3 == 2)\n",
    "print (1 == 2) or (2 == 2) and (3 == 2)"
   ]
  },
  {
   "cell_type": "markdown",
   "metadata": {},
   "source": [
    "Dans les deux derniers cas on voit bien que le __and__ est calculé __avant__ le __or__.\n",
    "\n",
    "A propos, que vaut `2-2**3%2` ?"
   ]
  },
  {
   "cell_type": "code",
   "execution_count": 3,
   "metadata": {},
   "outputs": [
    {
     "data": {
      "text/plain": [
       "2"
      ]
     },
     "execution_count": 3,
     "metadata": {},
     "output_type": "execute_result"
    }
   ],
   "source": [
    "2-2**3%2"
   ]
  },
  {
   "cell_type": "markdown",
   "metadata": {},
   "source": [
    "### Tests"
   ]
  },
  {
   "cell_type": "markdown",
   "metadata": {},
   "source": [
    "La logique booléenne permet de faire des tests :"
   ]
  },
  {
   "cell_type": "code",
   "execution_count": 4,
   "metadata": {},
   "outputs": [
    {
     "name": "stdout",
     "output_type": "stream",
     "text": [
      "2 et 3 sont différents\n"
     ]
    }
   ],
   "source": [
    "if 2 == 3:\n",
    "    print(\"incroyable\")  # notre 1ère indentation, c'est émouvant\n",
    "else:\n",
    "    print(\"2 et 3 sont différents\")"
   ]
  },
  {
   "cell_type": "markdown",
   "metadata": {},
   "source": [
    "-----------------\n",
    "__Indentations__  (`<-- Très important`)\n",
    "\n",
    "\n",
    "Python utilise l'indentation pour définir les blocs d'instructions. Dès lors qu'une commande va agir sur un bloc d'instruction, elle finie par 2 points, `:`, et le bloc qui la suit est indenté.\n",
    "\n",
    "C'est une grande originalité de Python aussi faites très attention à __vos indentations__ car elles __sont significatives__.\n",
    "\n",
    "L'étiquette veut qu'une indentation soit 4 espaces.\n",
    "\n",
    "--------------------"
   ]
  },
  {
   "cell_type": "markdown",
   "metadata": {},
   "source": [
    "Attention, tout ce qui n'est pas False ou égal à 0 est vrai :"
   ]
  },
  {
   "cell_type": "code",
   "execution_count": 5,
   "metadata": {},
   "outputs": [
    {
     "name": "stdout",
     "output_type": "stream",
     "text": [
      "vrai\n"
     ]
    }
   ],
   "source": [
    "un_demi = 0.5\n",
    "if un_demi:\n",
    "    print(\"vrai\")\n",
    "else:\n",
    "    print(\"faux\")"
   ]
  },
  {
   "cell_type": "markdown",
   "metadata": {},
   "source": [
    "mais cela ne veut pas dire que 0.5 est True :"
   ]
  },
  {
   "cell_type": "code",
   "execution_count": 6,
   "metadata": {},
   "outputs": [
    {
     "name": "stdout",
     "output_type": "stream",
     "text": [
      "False\n",
      "True\n"
     ]
    }
   ],
   "source": [
    "print(0.5 == True)\n",
    "print(1 == True)  # pour des raisons historiques"
   ]
  },
  {
   "cell_type": "markdown",
   "metadata": {},
   "source": [
    "Les parenthèses du test ne sont pas obligatoires (mais aident à la lisibilité)."
   ]
  },
  {
   "cell_type": "code",
   "execution_count": 7,
   "metadata": {},
   "outputs": [
    {
     "name": "stdout",
     "output_type": "stream",
     "text": [
      "test bon\n",
      "très bon\n"
     ]
    }
   ],
   "source": [
    "if True or not 2 - 3 > 1 and 8 % 2 == 1:\n",
    "    print(\"test bon\")\n",
    "    print(\"très bon\") # une seconde ligne dans le bloc pour montrer qu'on peut !\n",
    "else :\n",
    "    print(\"test mauvais\")\n",
    "    print(\"très mauvais\")"
   ]
  },
  {
   "cell_type": "markdown",
   "metadata": {},
   "source": [
    "Pour la lisibilité on peut écrire sur plusieurs lignes en finissant une ligne par `\\` (ce symbole indique que la ligne continue)"
   ]
  },
  {
   "cell_type": "code",
   "execution_count": 8,
   "metadata": {},
   "outputs": [
    {
     "name": "stdout",
     "output_type": "stream",
     "text": [
      "test mauvais\n"
     ]
    }
   ],
   "source": [
    "if 2 == (3 or 2) \\\n",
    "   and 8 in [2,4,6,8]:\n",
    "    print(\"test bon\")\n",
    "else:\n",
    "    print(\"test mauvais\")"
   ]
  },
  {
   "cell_type": "markdown",
   "metadata": {},
   "source": [
    "Notons que le premier test est faux car l'opérateur or retourne la première valeur non False ou non nulle donc 3 ici."
   ]
  },
  {
   "cell_type": "code",
   "execution_count": 9,
   "metadata": {},
   "outputs": [
    {
     "name": "stdout",
     "output_type": "stream",
     "text": [
      "0\n",
      "2\n",
      "3\n"
     ]
    }
   ],
   "source": [
    "print(0 and 1) # si la 1ere condition est fausse, and n'a pas besoin d'evaluer la seconde\n",
    "print(3 and 2) # ici and est obligé de vérifier toutes les conditions\n",
    "print(3 or 2)  # or ne vérifie pas la seconde condition si la première est bonne"
   ]
  },
  {
   "cell_type": "markdown",
   "metadata": {},
   "source": [
    "On teste l'appartenance avec `in` :"
   ]
  },
  {
   "cell_type": "code",
   "execution_count": 10,
   "metadata": {},
   "outputs": [
    {
     "name": "stdout",
     "output_type": "stream",
     "text": [
      "False\n",
      "True\n",
      "True\n"
     ]
    }
   ],
   "source": [
    "a = [1,2,3]       # liste\n",
    "print(0 in a)\n",
    "b = {42 : \"explication\", 51 : \"pastis\", 666 : \"bête\"}  # dictionnaire\n",
    "print(666 in b)\n",
    "print(\"ja\" in \"jambon\")  # chaîne de caratères"
   ]
  },
  {
   "cell_type": "markdown",
   "metadata": {},
   "source": [
    "## Les boucles"
   ]
  },
  {
   "cell_type": "code",
   "execution_count": 11,
   "metadata": {},
   "outputs": [
    {
     "data": {
      "image/jpeg": "[encoded data removed]",
      "text/html": [
       "\n",
       "        <iframe\n",
       "            width=\"400\"\n",
       "            height=\"300\"\n",
       "            src=\"https://www.youtube.com/embed/xPe1jNYYlqY\"\n",
       "            frameborder=\"0\"\n",
       "            allowfullscreen\n",
       "        ></iframe>\n",
       "        "
      ],
      "text/plain": [
       "<IPython.lib.display.YouTubeVideo at 0x7fb3147d1390>"
      ]
     },
     "execution_count": 11,
     "metadata": {},
     "output_type": "execute_result"
    }
   ],
   "source": [
    "YouTubeVideo('xPe1jNYYlqY')"
   ]
  },
  {
   "cell_type": "markdown",
   "metadata": {},
   "source": [
    "### Boucles avec for"
   ]
  },
  {
   "cell_type": "markdown",
   "metadata": {},
   "source": [
    "Les types `list, dict, tuple` et `string` sont itérables à savoir qu'il est possible de les parcourir avec le mot clef `in` :"
   ]
  },
  {
   "cell_type": "code",
   "execution_count": 12,
   "metadata": {
    "scrolled": true
   },
   "outputs": [
    {
     "name": "stdout",
     "output_type": "stream",
     "text": [
      "1\n",
      "---\n",
      "4\n",
      "---\n",
      "25\n",
      "---\n",
      "100\n",
      "---\n"
     ]
    }
   ],
   "source": [
    "elements = [1,2,5,10] # une liste donc un type itérable\n",
    "for e in elements :\n",
    "    print(e*e)\n",
    "    print(\"---\")"
   ]
  },
  {
   "cell_type": "markdown",
   "metadata": {},
   "source": [
    "Parfois, mais pas souvent, on a besoin au sein de la boucle de savoir quel est l'indice de l'élement sur lequel on travail. On peut pour cela utiliser `enumerate` qui retourne deux valeurs :\n",
    "\n",
    "* l'indice i dans la boucle\n",
    "* la i-ème valeur"
   ]
  },
  {
   "cell_type": "code",
   "execution_count": 13,
   "metadata": {},
   "outputs": [
    {
     "name": "stdout",
     "output_type": "stream",
     "text": [
      "0 1\n",
      "1 2\n",
      "2 5\n",
      "3 10\n"
     ]
    }
   ],
   "source": [
    "for i,e in enumerate(elements):  # puisqu'enumerate retourne 2 valeurs, il faut 2 variables\n",
    "    print(i,e)"
   ]
  },
  {
   "cell_type": "markdown",
   "metadata": {},
   "source": [
    "Il est également possible d'utiliser la fonction `range` pour avoir les indices et ensuite chercher la i-ème valeur avec `elements[i]`. Dans les anciens temps c'était la seule facon de faire, donc on faisait ainsi mais les temps on changé aussi il n'est plus utile d'introduire un indice que l'on fait varier et d'appeler la i-ème valeur d'élément qui est une opération longue :"
   ]
  },
  {
   "cell_type": "code",
   "execution_count": 14,
   "metadata": {},
   "outputs": [
    {
     "name": "stdout",
     "output_type": "stream",
     "text": [
      "1\n",
      "4\n",
      "25\n",
      "100\n",
      "1\n",
      "4\n",
      "25\n",
      "100\n"
     ]
    }
   ],
   "source": [
    "elements = [1,2,5,10]\n",
    "\n",
    "for i in range(len(elements)):\n",
    "    print(elements[i]*elements[i])\n",
    "    \n",
    "# est plus lourd, moins lisible et moins efficace que\n",
    "\n",
    "for e in elements:\n",
    "    print(e*e)"
   ]
  },
  {
   "cell_type": "markdown",
   "metadata": {},
   "source": [
    "Par contre `range`  peut servir à créer une liste :"
   ]
  },
  {
   "cell_type": "code",
   "execution_count": 15,
   "metadata": {},
   "outputs": [
    {
     "name": "stdout",
     "output_type": "stream",
     "text": [
      "[0, 1, 4, 9, 16]\n"
     ]
    }
   ],
   "source": [
    "res = []\n",
    "for i in range(5):\n",
    "    res.append(i*i)\n",
    "print(res)"
   ]
  },
  {
   "cell_type": "markdown",
   "metadata": {},
   "source": [
    "Il est possible de remplir directement une liste ou un dictionnaire avec la syntaxe suivante :"
   ]
  },
  {
   "cell_type": "code",
   "execution_count": 16,
   "metadata": {},
   "outputs": [
    {
     "name": "stdout",
     "output_type": "stream",
     "text": [
      "[1, 4, 9, 16]\n",
      "16\n"
     ]
    }
   ],
   "source": [
    "res = [i*i for i in range(1,5)]  # La facon élégante. Notez le range avec 2 arguments, début et fin.\n",
    "print(res)\n",
    "print(res[3])"
   ]
  },
  {
   "cell_type": "code",
   "execution_count": 17,
   "metadata": {},
   "outputs": [
    {
     "name": "stdout",
     "output_type": "stream",
     "text": [
      "{1: 1, 2: 4, 3: 9, 4: 16}\n",
      "9\n"
     ]
    }
   ],
   "source": [
    "res = {x : (x)**2 for x in range(1,5)}\n",
    "print(res)\n",
    "print(res[3]) # notez la différence avec la liste, ici 3 est la clef et non l'indice"
   ]
  },
  {
   "cell_type": "markdown",
   "metadata": {},
   "source": [
    "On peut parcourir un dictionnaire comme tout type itérable. On parcourt les clefs du dictionnaire par défaut :"
   ]
  },
  {
   "cell_type": "code",
   "execution_count": 18,
   "metadata": {},
   "outputs": [
    {
     "name": "stdout",
     "output_type": "stream",
     "text": [
      "1 1\n",
      "2 4\n",
      "3 9\n",
      "4 16\n"
     ]
    }
   ],
   "source": [
    "for i in res:\n",
    "    print(i, res[i])"
   ]
  },
  {
   "cell_type": "code",
   "execution_count": 19,
   "metadata": {},
   "outputs": [
    {
     "name": "stdout",
     "output_type": "stream",
     "text": [
      "(1, 1)\n",
      "(2, 4)\n",
      "(3, 9)\n",
      "(4, 16)\n"
     ]
    }
   ],
   "source": [
    "for i in res.items():  # items() retourne les pairs (clef, valeur)\n",
    "    print(i)"
   ]
  },
  {
   "cell_type": "markdown",
   "metadata": {},
   "source": [
    "### Boucle avec while"
   ]
  },
  {
   "cell_type": "code",
   "execution_count": 20,
   "metadata": {},
   "outputs": [
    {
     "name": "stdout",
     "output_type": "stream",
     "text": [
      "travail\n",
      "travail\n",
      "travail\n",
      "travail\n",
      "travail\n",
      "retraite\n"
     ]
    }
   ],
   "source": [
    "age = 24\n",
    "while age < 65 :  # si on met != comme test, on part dans une boucle infinie (et la machine souffre)\n",
    "    print(\"travail\")\n",
    "    age += 10\n",
    "print(\"retraite\")"
   ]
  },
  {
   "cell_type": "markdown",
   "metadata": {},
   "source": [
    "Vous pouvez vous entrainer à faire une boucle infinie\n",
    "\n",
    "  * sur votre machine dans un terminal (crtl-c pour arrêter la boucle)\n",
    "  * ici mais alors SVP utilisez le bouton ▶ pour lancer le calcul et ⬛ à coté pour l'arrêter __VITE__."
   ]
  },
  {
   "cell_type": "markdown",
   "metadata": {},
   "source": [
    "### Break et Continue"
   ]
  },
  {
   "cell_type": "markdown",
   "metadata": {},
   "source": [
    "Il existe une facon de sortir immédiatement d'une boucle : utiliser le mot clef `break` :"
   ]
  },
  {
   "cell_type": "code",
   "execution_count": 21,
   "metadata": {},
   "outputs": [
    {
     "name": "stdout",
     "output_type": "stream",
     "text": [
      "travail\n",
      "travail\n",
      "travail\n",
      "travail\n",
      "travail\n",
      "travail\n",
      "travail\n",
      "travail\n",
      "travail\n",
      "travail\n",
      "travail\n",
      "travail\n",
      "travail\n",
      "oulala je suis mort !\n",
      "retraite\n"
     ]
    }
   ],
   "source": [
    "age = 24\n",
    "while age != 65 :  # va faire une boucle infinie\n",
    "    print(\"travail\")\n",
    "    age += 10\n",
    "    if age > 150:\n",
    "        print(\"oulala je suis mort !\")\n",
    "        break         # sortie immédiate de la boucle\n",
    "        print(\"!!!\")  # ne sera jamais affiché\n",
    "print(\"retraite\")"
   ]
  },
  {
   "cell_type": "markdown",
   "metadata": {},
   "source": [
    "Parfois on ne désire pas sortir de la boucle mais seulement passer immédiatement à l'itération suivante. Pour cela on utilise `continue` :"
   ]
  },
  {
   "cell_type": "code",
   "execution_count": 22,
   "metadata": {},
   "outputs": [
    {
     "name": "stdout",
     "output_type": "stream",
     "text": [
      "1 est impair\n",
      "3 est impair\n",
      "5 est impair\n",
      "7 est impair\n",
      "9 est impair\n"
     ]
    }
   ],
   "source": [
    "for i in range(10):  # et oui, break et continue fonctionnent aussi pour les boucles for\n",
    "    if i % 2 == 0:\n",
    "        continue\n",
    "    print(\"%d est impair\" % i)"
   ]
  },
  {
   "cell_type": "markdown",
   "metadata": {
    "variables": {
     " PreviousNext(\"02 - Les types.ipynb\", \"04 - Les fonctions.ipynb\") ": "&nbsp; &nbsp; &nbsp; &nbsp; &nbsp; &nbsp; &nbsp; &nbsp; &nbsp; &nbsp; &nbsp; &nbsp; &nbsp; &nbsp; &nbsp; &nbsp; &nbsp; &nbsp; &nbsp; &nbsp; &nbsp; &nbsp; &nbsp; &nbsp; &nbsp; &nbsp; &nbsp; &nbsp; &nbsp; &nbsp; &nbsp; &nbsp; &nbsp; &nbsp; &nbsp; &nbsp; &nbsp; &nbsp; &nbsp; &nbsp; &nbsp; &nbsp; &nbsp; &nbsp; &nbsp; &nbsp; &nbsp; &nbsp; &nbsp; &nbsp; &nbsp; &nbsp; &nbsp; &nbsp; &nbsp; &nbsp; &nbsp; &nbsp; &nbsp; &nbsp; &nbsp; &nbsp; &nbsp; &nbsp; &nbsp; &nbsp; &nbsp; &nbsp; &nbsp; &nbsp; &nbsp; &nbsp; &nbsp; &nbsp; &nbsp; &nbsp; &nbsp; &nbsp; &nbsp; &nbsp; &nbsp; &nbsp; &nbsp; &nbsp; &nbsp; &nbsp; &nbsp; &nbsp; &nbsp; &nbsp; &nbsp; &nbsp; &nbsp; &nbsp; &nbsp; &nbsp; &nbsp; &nbsp; &nbsp; &nbsp; &nbsp; &nbsp; &nbsp; &nbsp; &nbsp; &nbsp; &nbsp; &nbsp; &nbsp; &nbsp; &nbsp; &nbsp; &nbsp; &nbsp; &nbsp; &nbsp; &nbsp; &nbsp; &nbsp; &nbsp; &nbsp; &nbsp; &nbsp; &nbsp; &nbsp; &nbsp; &nbsp; &nbsp; &nbsp; &nbsp; &nbsp; &nbsp; &nbsp; &nbsp; &nbsp; &nbsp; &nbsp; &nbsp; &nbsp; &nbsp; &nbsp; &nbsp; &nbsp; &nbsp; &nbsp; &nbsp; &nbsp; &nbsp; &nbsp; &nbsp; &nbsp; &nbsp; &nbsp; &nbsp; &nbsp; &nbsp; &nbsp; &nbsp; &nbsp; &nbsp; &nbsp; &nbsp; &nbsp; &nbsp; &nbsp; &nbsp; &nbsp; &nbsp; &nbsp; &nbsp; &nbsp; &nbsp; &nbsp; &nbsp; &nbsp; &nbsp; &nbsp; &nbsp; &nbsp; &nbsp; &nbsp; &nbsp; &nbsp; &nbsp; &nbsp; &nbsp; &nbsp; &nbsp; &nbsp; &nbsp; &nbsp; &nbsp; &nbsp; &nbsp; &nbsp; &nbsp; &nbsp; &nbsp; &nbsp; &nbsp; <br/><center><a href=\"02 - Les types.ipynb\">02 - Les types</a>&nbsp; ← <a href=\"http://python3.mooc.lrde.epita.fr:8888/tree/lesson1 Python basics\" style=\"text-decoration:none\"> △ </a> → &nbsp;<a href=\"04 - Les fonctions.ipynb\">04 - Les fonctions</a></center><br/>&nbsp;"
    }
   },
   "source": [
    "{{ PreviousNext(\"02 - Les types.ipynb\", \"04 - Les fonctions.ipynb\") }}"
   ]
  }
 ],
 "metadata": {
  "kernelspec": {
   "display_name": "Python 3",
   "language": "python",
   "name": "python3"
  },
  "language_info": {
   "codemirror_mode": {
    "name": "ipython",
    "version": 3
   },
   "file_extension": ".py",
   "mimetype": "text/x-python",
   "name": "python",
   "nbconvert_exporter": "python",
   "pygments_lexer": "ipython3",
   "version": "3.6.6"
  },
  "nbTranslate": {
   "displayLangs": [
    "en",
    "fr"
   ],
   "hotkey": "alt-t",
   "langInMainMenu": true,
   "sourceLang": "fr",
   "targetLang": "en",
   "useGoogleTranslate": true
  }
 },
 "nbformat": 4,
 "nbformat_minor": 1
}

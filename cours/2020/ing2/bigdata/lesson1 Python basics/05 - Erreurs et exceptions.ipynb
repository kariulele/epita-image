{
 "cells": [
  {
   "cell_type": "markdown",
   "metadata": {},
   "source": [
    "# Gérer les erreurs\n",
    "\n",
    "Lorsqu'on écrit un programme on peut déjà prévoir des problème possibles, par exemple si ma fonction moyenne récupère une liste vide alors son nombre d'éléments est 0 et la somme des valeurs divisée par 0 va poser un problème. \n",
    "\n",
    "Pour gérer les cas problématiques on peut les tester avec `if` mais que fait-on lorsqu'on repère une erreur ? On arrête le programme ? On corrige l'erreur ? On l'ignore ? Tout dépend où on repère l'erreur dans le programme.\n",
    "\n",
    "Pensez par exemple à la fonction division qui récupère 0 au dénominateur. Que peut-elle faire ? Elle ne sait pas pourquoi on vient de faire une division. Dans le cas de la moyenne d'une liste de valeur, elle ne sait pas que 0 est la longeur de la liste vide.\n",
    "\n",
    "La résolution d'une erreur est très dépendante du contexte mais souvent on n'a pas le contexte là où on détecte l'erreur, alors que faire ?\n",
    "\n",
    "## raise Exception\n",
    "\n",
    "Python, comme d'autres langages, utilise la notion d'`Exception` pour remonter un problème. Ainsi on indique à celui qui a appelé la fonction qu'on a détecté une erreur, à lui de se débrouiller."
   ]
  },
  {
   "cell_type": "code",
   "execution_count": 1,
   "metadata": {},
   "outputs": [],
   "source": [
    "def pas_un(x):\n",
    "    if x == 1:\n",
    "        raise Exception(\"On avait dit pas un !\")"
   ]
  },
  {
   "cell_type": "code",
   "execution_count": 2,
   "metadata": {},
   "outputs": [
    {
     "ename": "Exception",
     "evalue": "On avait dit pas un !",
     "output_type": "error",
     "traceback": [
      "\u001b[0;31m---------------------------------------------------------------------------\u001b[0m",
      "\u001b[0;31mException\u001b[0m                                 Traceback (most recent call last)",
      "\u001b[0;32m<ipython-input-2-9b9988560184>\u001b[0m in \u001b[0;36m<module>\u001b[0;34m()\u001b[0m\n\u001b[0;32m----> 1\u001b[0;31m \u001b[0mpas_un\u001b[0m\u001b[0;34m(\u001b[0m\u001b[0;36m1\u001b[0m\u001b[0;34m)\u001b[0m\u001b[0;34m\u001b[0m\u001b[0m\n\u001b[0m\u001b[1;32m      2\u001b[0m \u001b[0mprint\u001b[0m\u001b[0;34m(\u001b[0m\u001b[0;34m\"fin\"\u001b[0m\u001b[0;34m)\u001b[0m\u001b[0;34m\u001b[0m\u001b[0m\n",
      "\u001b[0;32m<ipython-input-1-37b1697fdcae>\u001b[0m in \u001b[0;36mpas_un\u001b[0;34m(x)\u001b[0m\n\u001b[1;32m      1\u001b[0m \u001b[0;32mdef\u001b[0m \u001b[0mpas_un\u001b[0m\u001b[0;34m(\u001b[0m\u001b[0mx\u001b[0m\u001b[0;34m)\u001b[0m\u001b[0;34m:\u001b[0m\u001b[0;34m\u001b[0m\u001b[0m\n\u001b[1;32m      2\u001b[0m     \u001b[0;32mif\u001b[0m \u001b[0mx\u001b[0m \u001b[0;34m==\u001b[0m \u001b[0;36m1\u001b[0m\u001b[0;34m:\u001b[0m\u001b[0;34m\u001b[0m\u001b[0m\n\u001b[0;32m----> 3\u001b[0;31m         \u001b[0;32mraise\u001b[0m \u001b[0mException\u001b[0m\u001b[0;34m(\u001b[0m\u001b[0;34m\"On avait dit pas un !\"\u001b[0m\u001b[0;34m)\u001b[0m\u001b[0;34m\u001b[0m\u001b[0m\n\u001b[0m",
      "\u001b[0;31mException\u001b[0m: On avait dit pas un !"
     ]
    }
   ],
   "source": [
    "pas_un(1)\n",
    "print(\"fin\")"
   ]
  },
  {
   "cell_type": "markdown",
   "metadata": {},
   "source": [
    "on note que le `print(\"fin\")` n'a pas eu lieu car on a fait remonter une exception mais comme personne n'a géré l'exception, Python a décidé d'arrêter l'execution du programme.\n",
    "\n",
    "Voici comment on gère les exceptions.\n",
    "\n",
    "## try ... except\n",
    "\n",
    "On rattrape une erreur au niveau supérieur avec le mot clef `except` qui suit un bloc `try` :"
   ]
  },
  {
   "cell_type": "code",
   "execution_count": 3,
   "metadata": {},
   "outputs": [
    {
     "name": "stdout",
     "output_type": "stream",
     "text": [
      "Argh, une exception, on va l'ignorer\n",
      "fin\n"
     ]
    }
   ],
   "source": [
    "try:\n",
    "    pas_un(1)\n",
    "    print(\"Tout va bien\")\n",
    "except:\n",
    "    print(\"Argh, une exception, on va l'ignorer\")\n",
    "print(\"fin\")"
   ]
  },
  {
   "cell_type": "markdown",
   "metadata": {},
   "source": [
    "On a géré l'exception dans le bloc `except` en affichant un message et c'est tout. On pourrait bien sûr faire d'autres choses comme corriger l'erreur, lancer une autre fonction qui interroge l'utilisateur, etc.\n",
    "\n",
    "### Pourquoi try et pas if ?\n",
    "\n",
    "L'intérêt d'utiliser `try` est de protéger toutes les instructions qui seront dans le bloc du `try` y compris les appels à des fonctions que l'on a pas écrites. Si une erreur apparait là bas, elle sera soit gérée en interne et on ne la verra pas, ou bien elle sera remontée et à nous de la gérer.\n",
    "\n",
    "Avec `if` il faudrait pouvoir anticiper toutes les erreurs possibles ce qui devient rapidement impossible lorsqu'on appelle des fonctions compliquées ou écrites par d'autres.\n",
    "\n",
    "## Différentes exceptions\n",
    "\n",
    "Lorsqu'on fait remonter une exception, il est utile d'indiquer le type d'exception afin que celui qui la gère puisse s'adapter : une erreur due à division par zéro ce n'est pas la même chose qu'une erreur due à un fichier manquant. Indiquer `raise Exception` n'est pas suffisant, même si on écrit un commentaire utile, les commentaires n'étant pas interprétés par le langage.\n",
    "\n",
    "Aussi on lève différents types d'exception."
   ]
  },
  {
   "cell_type": "code",
   "execution_count": 4,
   "metadata": {},
   "outputs": [
    {
     "ename": "ZeroDivisionError",
     "evalue": "division by zero",
     "output_type": "error",
     "traceback": [
      "\u001b[0;31m---------------------------------------------------------------------------\u001b[0m",
      "\u001b[0;31mZeroDivisionError\u001b[0m                         Traceback (most recent call last)",
      "\u001b[0;32m<ipython-input-4-e8326a161779>\u001b[0m in \u001b[0;36m<module>\u001b[0;34m()\u001b[0m\n\u001b[0;32m----> 1\u001b[0;31m \u001b[0;36m2\u001b[0m\u001b[0;34m/\u001b[0m\u001b[0;36m0\u001b[0m\u001b[0;34m\u001b[0m\u001b[0m\n\u001b[0m",
      "\u001b[0;31mZeroDivisionError\u001b[0m: division by zero"
     ]
    }
   ],
   "source": [
    "2/0"
   ]
  },
  {
   "cell_type": "code",
   "execution_count": 5,
   "metadata": {},
   "outputs": [
    {
     "ename": "FileNotFoundError",
     "evalue": "[Errno 2] No such file or directory: 'fichier_inconnu'",
     "output_type": "error",
     "traceback": [
      "\u001b[0;31m---------------------------------------------------------------------------\u001b[0m",
      "\u001b[0;31mFileNotFoundError\u001b[0m                         Traceback (most recent call last)",
      "\u001b[0;32m<ipython-input-5-1a622ad3e8e3>\u001b[0m in \u001b[0;36m<module>\u001b[0;34m()\u001b[0m\n\u001b[0;32m----> 1\u001b[0;31m \u001b[0mopen\u001b[0m\u001b[0;34m(\u001b[0m\u001b[0;34m\"fichier_inconnu\"\u001b[0m\u001b[0;34m)\u001b[0m\u001b[0;34m\u001b[0m\u001b[0m\n\u001b[0m",
      "\u001b[0;31mFileNotFoundError\u001b[0m: [Errno 2] No such file or directory: 'fichier_inconnu'"
     ]
    }
   ],
   "source": [
    "open(\"fichier_inconnu\")"
   ]
  },
  {
   "cell_type": "markdown",
   "metadata": {},
   "source": [
    "et voila l'exception `ZeroDivisionError` et l'exception `FileNotFoundError`. Ce qui est après les : est l'explication pour l'humain mais pour le code on utilise le nom de l'exception :"
   ]
  },
  {
   "cell_type": "code",
   "execution_count": 6,
   "metadata": {},
   "outputs": [
    {
     "name": "stdout",
     "output_type": "stream",
     "text": [
      "on a attrapé une division par 0, on fixe res à 1\n"
     ]
    },
    {
     "data": {
      "text/plain": [
       "1"
      ]
     },
     "execution_count": 6,
     "metadata": {},
     "output_type": "execute_result"
    }
   ],
   "source": [
    "try:\n",
    "    res =  2/0       # changez la ligne commentée\n",
    "    # open(\"toto\")\n",
    "except ZeroDivisionError:\n",
    "    print (\"on a attrapé une division par 0, on fixe res à 1\")\n",
    "    res = 1\n",
    "except:\n",
    "    print(\"on a attrapé une exception qui n'est pas une division par 0, on la faire remonter\")\n",
    "    raise\n",
    "res"
   ]
  },
  {
   "cell_type": "markdown",
   "metadata": {},
   "source": [
    "On gère différents types d'exception avec des blocs `except` qui se suivent. Dès lors qu'un bloc est activé, tous les blocs suivants sont ignorés. Lorsqu'on ne spécifie pas le type de l'exception, alors on récupère toutes les exceptions.\n",
    "\n",
    "En pratique on découvre à l'usage les exceptions que peuvent lever les bibliothèques que l'on utilise et ensuite on les prend en compte dans son code.\n",
    "\n",
    "## Finalement\n",
    "\n",
    "Si on désire que des instructions soient excecutés quelque soit le type d'erreur, qu'elle soit gérée ou pas, alors\n",
    "on introduit un bloc `finally` qui sera toujours executé et qui peut permettre ainsi que mettre les choses en ordre avant l'explosion finale."
   ]
  },
  {
   "cell_type": "code",
   "execution_count": 7,
   "metadata": {},
   "outputs": [
    {
     "name": "stdout",
     "output_type": "stream",
     "text": [
      "Quoi qu'il arrive, le fichier a été fermé !\n"
     ]
    },
    {
     "ename": "TypeError",
     "evalue": "must be str, not int",
     "output_type": "error",
     "traceback": [
      "\u001b[0;31m---------------------------------------------------------------------------\u001b[0m",
      "\u001b[0;31mTypeError\u001b[0m                                 Traceback (most recent call last)",
      "\u001b[0;32m<ipython-input-7-e5903f8cdabb>\u001b[0m in \u001b[0;36m<module>\u001b[0;34m()\u001b[0m\n\u001b[1;32m      1\u001b[0m \u001b[0;32mtry\u001b[0m\u001b[0;34m:\u001b[0m\u001b[0;34m\u001b[0m\u001b[0m\n\u001b[1;32m      2\u001b[0m     \u001b[0mfichier\u001b[0m \u001b[0;34m=\u001b[0m \u001b[0mopen\u001b[0m\u001b[0;34m(\u001b[0m\u001b[0;34m\"data/notes\"\u001b[0m\u001b[0;34m)\u001b[0m\u001b[0;34m\u001b[0m\u001b[0m\n\u001b[0;32m----> 3\u001b[0;31m     \u001b[0;34m\"a\"\u001b[0m \u001b[0;34m+\u001b[0m \u001b[0;36m3\u001b[0m\u001b[0;34m\u001b[0m\u001b[0m\n\u001b[0m\u001b[1;32m      4\u001b[0m \u001b[0;32mexcept\u001b[0m \u001b[0mFileNotFoundError\u001b[0m\u001b[0;34m:\u001b[0m\u001b[0;34m\u001b[0m\u001b[0m\n\u001b[1;32m      5\u001b[0m     \u001b[0mprint\u001b[0m\u001b[0;34m(\u001b[0m\u001b[0;34m\"Où est le fichier ?\"\u001b[0m\u001b[0;34m)\u001b[0m\u001b[0;34m\u001b[0m\u001b[0m\n",
      "\u001b[0;31mTypeError\u001b[0m: must be str, not int"
     ]
    }
   ],
   "source": [
    "try:\n",
    "    fichier = open(\"data/notes\")\n",
    "    \"a\" + 3\n",
    "except FileNotFoundError:\n",
    "    print(\"Où est le fichier ?\")\n",
    "finally:\n",
    "    fichier.close()\n",
    "    print(\"Quoi qu'il arrive, le fichier a été fermé !\")"
   ]
  },
  {
   "cell_type": "markdown",
   "metadata": {},
   "source": [
    "## What else?\n",
    "\n",
    "Il existe un cas peu courant, donc optionel pour un débutant mais si un jour vous vous trouvez bloqué, revenez ici, c'est peut-être la solution. On veut écrire du code (g(x) ci-dessous)\n",
    "\n",
    "\n",
    "  * qui doit s'exécuter après le `try` d'un bloc (f(x) ci-dessous)\n",
    "  * qui doit s'exécuter seulement s'il n'y a pas eu d'exeception lors du `try`\n",
    "  * dont les exceptions ne doivent pas être interceptées par ce `try`\n",
    "\n",
    "Pour faire cela on utilise `else` après le ou les `except` :"
   ]
  },
  {
   "cell_type": "code",
   "execution_count": 8,
   "metadata": {},
   "outputs": [
    {
     "ename": "SyntaxError",
     "evalue": "unexpected EOF while parsing (<ipython-input-8-25150932ae41>, line 9)",
     "output_type": "error",
     "traceback": [
      "\u001b[0;36m  File \u001b[0;32m\"<ipython-input-8-25150932ae41>\"\u001b[0;36m, line \u001b[0;32m9\u001b[0m\n\u001b[0;31m    # attrape les exceptions de g(x) ou de e(x)\u001b[0m\n\u001b[0m                                               ^\u001b[0m\n\u001b[0;31mSyntaxError\u001b[0m\u001b[0;31m:\u001b[0m unexpected EOF while parsing\n"
     ]
    }
   ],
   "source": [
    "try:\n",
    "    try:\n",
    "        f(x)\n",
    "    except:\n",
    "        e(x) # attrape les exceptions de f(x)\n",
    "    else:\n",
    "        g(x) # s'execute que si f(x) ne génère pas d'exception\n",
    "except:\n",
    "    # attrape les exceptions de g(x) ou de e(x)"
   ]
  },
  {
   "cell_type": "markdown",
   "metadata": {},
   "source": [
    "Notons que l'on peut avoir un `finally` après le `else` pour conclure le `try` qu'il y ait eu des exceptions ou pas."
   ]
  },
  {
   "cell_type": "markdown",
   "metadata": {},
   "source": [
    "## Plus loin\n",
    "\n",
    "Il est possible de définir son type d'exception et ainsi de gérer de nouveaux cas. On verra comment faire cela lorsqu'on aura vu la notion d'objet."
   ]
  },
  {
   "cell_type": "markdown",
   "metadata": {
    "variables": {
     " PreviousNext(\"04 - Les fonctions.ipynb\", \"06 - Premiers programmes.ipynb\") ": "&nbsp; &nbsp; &nbsp; &nbsp; &nbsp; &nbsp; &nbsp; &nbsp; &nbsp; &nbsp; &nbsp; &nbsp; &nbsp; &nbsp; &nbsp; &nbsp; &nbsp; &nbsp; &nbsp; &nbsp; &nbsp; &nbsp; &nbsp; &nbsp; &nbsp; &nbsp; &nbsp; &nbsp; &nbsp; &nbsp; &nbsp; &nbsp; &nbsp; &nbsp; &nbsp; &nbsp; &nbsp; &nbsp; &nbsp; &nbsp; &nbsp; &nbsp; &nbsp; &nbsp; &nbsp; &nbsp; &nbsp; &nbsp; &nbsp; &nbsp; &nbsp; &nbsp; &nbsp; &nbsp; &nbsp; &nbsp; &nbsp; &nbsp; &nbsp; &nbsp; &nbsp; &nbsp; &nbsp; &nbsp; &nbsp; &nbsp; &nbsp; &nbsp; &nbsp; &nbsp; &nbsp; &nbsp; &nbsp; &nbsp; &nbsp; &nbsp; &nbsp; &nbsp; &nbsp; &nbsp; &nbsp; &nbsp; &nbsp; &nbsp; &nbsp; &nbsp; &nbsp; &nbsp; &nbsp; &nbsp; &nbsp; &nbsp; &nbsp; &nbsp; &nbsp; &nbsp; &nbsp; &nbsp; &nbsp; &nbsp; &nbsp; &nbsp; &nbsp; &nbsp; &nbsp; &nbsp; &nbsp; &nbsp; &nbsp; &nbsp; &nbsp; &nbsp; &nbsp; &nbsp; &nbsp; &nbsp; &nbsp; &nbsp; &nbsp; &nbsp; &nbsp; &nbsp; &nbsp; &nbsp; &nbsp; &nbsp; &nbsp; &nbsp; &nbsp; &nbsp; &nbsp; &nbsp; &nbsp; &nbsp; &nbsp; &nbsp; &nbsp; &nbsp; &nbsp; &nbsp; &nbsp; &nbsp; &nbsp; &nbsp; &nbsp; &nbsp; &nbsp; &nbsp; &nbsp; &nbsp; &nbsp; &nbsp; &nbsp; &nbsp; &nbsp; &nbsp; &nbsp; &nbsp; &nbsp; &nbsp; &nbsp; &nbsp; &nbsp; &nbsp; &nbsp; &nbsp; &nbsp; &nbsp; &nbsp; &nbsp; &nbsp; &nbsp; &nbsp; &nbsp; &nbsp; &nbsp; &nbsp; &nbsp; &nbsp; &nbsp; &nbsp; &nbsp; &nbsp; &nbsp; &nbsp; &nbsp; &nbsp; &nbsp; &nbsp; &nbsp; &nbsp; &nbsp; &nbsp; &nbsp; &nbsp; &nbsp; &nbsp; &nbsp; &nbsp; &nbsp; <br/><center><a href=\"04 - Les fonctions.ipynb\">04 - Les fonctions</a>&nbsp; ← <a href=\"http://python3.mooc.lrde.epita.fr:8888/tree/lesson1 Python basics\" style=\"text-decoration:none\"> △ </a> → &nbsp;<a href=\"06 - Premiers programmes.ipynb\">06 - Premiers programmes</a></center><br/>&nbsp;"
    }
   },
   "source": [
    "{{ PreviousNext(\"04 - Les fonctions.ipynb\", \"06 - Premiers programmes.ipynb\") }}"
   ]
  }
 ],
 "metadata": {
  "kernelspec": {
   "display_name": "Python 3",
   "language": "python",
   "name": "python3"
  },
  "language_info": {
   "codemirror_mode": {
    "name": "ipython",
    "version": 3
   },
   "file_extension": ".py",
   "mimetype": "text/x-python",
   "name": "python",
   "nbconvert_exporter": "python",
   "pygments_lexer": "ipython3",
   "version": "3.6.6"
  },
  "nbTranslate": {
   "displayLangs": [
    "en",
    "fr"
   ],
   "hotkey": "alt-t",
   "langInMainMenu": true,
   "sourceLang": "fr",
   "targetLang": "en",
   "useGoogleTranslate": true
  }
 },
 "nbformat": 4,
 "nbformat_minor": 1
}

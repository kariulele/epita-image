{
 "cells": [
  {
   "cell_type": "markdown",
   "metadata": {},
   "source": [
    "## SciPy pour Scientific Python"
   ]
  },
  {
   "cell_type": "markdown",
   "metadata": {},
   "source": [
    "[SciPy](https://docs.scipy.org/doc/scipy/reference/index.html) enrichit NumPy sur lequel il s'appuie. Il offre entre autre des outils\n",
    "\n",
    "  * de statistique\n",
    "  * d'optimisation\n",
    "  * l'intégration numérique\n",
    "  * de calcul matriciel\n",
    "  * de transformation de Fourier\n",
    "  * de traitement du signal\n",
    "  * de traitement d'image\n",
    "  * de résolution d'équations différentielles\n",
    "    "
   ]
  },
  {
   "cell_type": "markdown",
   "metadata": {},
   "source": [
    "### Integrales \n",
    "\n",
    "Les intégrales numériques sont définies dans le sous-paquet [scipy.integrate](https://docs.scipy.org/doc/scipy/reference/tutorial/integrate.html).\n",
    "\n",
    "Pour intégrer numériquement une fonction entre deux points, on peut utiliser `quad` :"
   ]
  },
  {
   "cell_type": "code",
   "execution_count": 1,
   "metadata": {},
   "outputs": [
    {
     "name": "stdout",
     "output_type": "stream",
     "text": [
      "(2.666666666666667, 2.960594732333751e-14)\n",
      "Right result: 2.6666666666666665\n"
     ]
    }
   ],
   "source": [
    "import scipy.integrate as S\n",
    "\n",
    "def f(x):\n",
    "    return x**2\n",
    "\n",
    "print(S.quad(f, 0, 2))\n",
    "print(\"Right result:\", 2**3/3)"
   ]
  },
  {
   "cell_type": "markdown",
   "metadata": {},
   "source": [
    "La seconde valeur retournée par `quad` est l'estimation de l'erreur.\n",
    "\n",
    "On peut aussi utilise `inf` de Numpy pour définir une limite infinie :"
   ]
  },
  {
   "cell_type": "code",
   "execution_count": 2,
   "metadata": {},
   "outputs": [
    {
     "data": {
      "text/plain": [
       "(1.0, 1.1102230246251565e-14)"
      ]
     },
     "execution_count": 2,
     "metadata": {},
     "output_type": "execute_result"
    }
   ],
   "source": [
    "import numpy as np\n",
    "\n",
    "def f(x):\n",
    "    return 1/x**2\n",
    "\n",
    "S.quad(f, 1, np.inf)"
   ]
  },
  {
   "cell_type": "markdown",
   "metadata": {},
   "source": [
    "### Fonction lambda"
   ]
  },
  {
   "cell_type": "markdown",
   "metadata": {},
   "source": [
    "Il existe un racourci pour définir une fonction, raccourci qui plaira aux matheux et qui est bien pratique quand on doit donner une fonction en argument. Pour cela on utilise le mot clef `lambda` :"
   ]
  },
  {
   "cell_type": "code",
   "execution_count": 3,
   "metadata": {},
   "outputs": [
    {
     "data": {
      "text/plain": [
       "0.01"
      ]
     },
     "execution_count": 3,
     "metadata": {},
     "output_type": "execute_result"
    }
   ],
   "source": [
    "f = lambda x : 1/x**2  # same function as the one in the previous cell. In such case def is more explicit than lambda\n",
    "f(10)"
   ]
  },
  {
   "cell_type": "markdown",
   "metadata": {},
   "source": [
    "On peut aussi définir la fonction pour un usage unique et voici comment on utilise les lambdas \n",
    "comme argument de fonction :"
   ]
  },
  {
   "cell_type": "code",
   "execution_count": 4,
   "metadata": {},
   "outputs": [
    {
     "data": {
      "text/plain": [
       "(0.0, 5.551208455924673e-15)"
      ]
     },
     "execution_count": 4,
     "metadata": {},
     "output_type": "execute_result"
    }
   ],
   "source": [
    "S.quad(lambda x: x**3, -1, 1)"
   ]
  },
  {
   "cell_type": "markdown",
   "metadata": {},
   "source": [
    "### Intégrale double\n",
    "\n",
    "On peut calculer directement une intégrale double avec <a href=\"http://docs.scipy.org/doc/scipy/reference/generated/scipy.integrate.dblquad.html\">`dblquad`</a>.\n",
    "\n",
    "Dans ce cas \n",
    "\n",
    "* la fonction a deux arguments, y et x (de l'intérieur vers l'extérieur)\n",
    "* la première intégrale (extérieure) est en x avec ses bornes des réels\n",
    "* le seconde intégrale (intérieure) est en y avec ses bornes qui dépendent de x et donc définies par des fonctions de x\n"
   ]
  },
  {
   "cell_type": "code",
   "execution_count": 5,
   "metadata": {},
   "outputs": [
    {
     "data": {
      "text/latex": [
       "$$\\int_{-2}^{2} \\; \\int_{-2}^x \\; y\\; dy\\; dx = -5.333333$$"
      ],
      "text/plain": [
       "<IPython.core.display.Math object>"
      ]
     },
     "metadata": {},
     "output_type": "display_data"
    }
   ],
   "source": [
    "i = S.dblquad(lambda y,x : y,              # function\n",
    "              -2, 2,                       # x limits\n",
    "              lambda x:-2, lambda x:x)[0]  # y limits\n",
    "\n",
    "from IPython.display import Math\n",
    "display(Math(r\"\\int_{-2}^{2} \\; \\int_{-2}^x \\; y\\; dy\\; dx = %f\" % i)) "
   ]
  },
  {
   "cell_type": "markdown",
   "metadata": {},
   "source": [
    "L'intégrale triple se calcule avec [`tplquad`](https://docs.scipy.org/doc/scipy/reference/generated/scipy.integrate.tplquad.html)."
   ]
  },
  {
   "cell_type": "markdown",
   "metadata": {},
   "source": [
    "### Calculer une fonction intégrale"
   ]
  },
  {
   "cell_type": "markdown",
   "metadata": {},
   "source": [
    "En cumulant les intégrales de 0 à $\\epsilon$, de $\\epsilon$ à $2 \\epsilon$... on obtient un tableau de valeur de la fonction intégrée qui permet d'obtenir la fonction intégrale $F$ de la fonction donnée $f$\n",
    "\n",
    "$$\n",
    "F(x) = \\int f(\\xi) \\, d\\xi = \\int_0^x f(\\xi) \\, d\\xi\n",
    "$$\n",
    "avec $F(0) = 0$  sachant que F est définie à une constante près.\n",
    "\n",
    "Pour cela on utilise la fonction [`cumtrapz`](https://docs.scipy.org/doc/scipy/reference/generated/scipy.integrate.cumtrapz.html) (cumulation d'intégrations par la méthode des trapèzes)."
   ]
  },
  {
   "cell_type": "code",
   "execution_count": 6,
   "metadata": {},
   "outputs": [],
   "source": [
    "x = np.linspace(0, 4, num=20)        #   x\n",
    "y = 1 + x**2                         # f(x)\n",
    "y_int = S.cumtrapz(y, x, initial=0)  # F(x)"
   ]
  },
  {
   "cell_type": "markdown",
   "metadata": {},
   "source": [
    "__Note__ : On va tracer une courbe pour valider notre résultat et pour cela on importe matplotlib. Il n'est pas nécessaire de comprendre comment on trace une courbe pour l'instant mais si vous êtes curieux, vous pouvez regarder le début de la première leçon du chapitre 7."
   ]
  },
  {
   "cell_type": "code",
   "execution_count": 7,
   "metadata": {},
   "outputs": [],
   "source": [
    "%matplotlib inline\n",
    "%config InlineBackend.figure_format = 'retina'\n",
    "\n",
    "import matplotlib.pyplot as plt"
   ]
  },
  {
   "cell_type": "code",
   "execution_count": 8,
   "metadata": {},
   "outputs": [
    {
     "data": {
      "text/plain": [
       "<matplotlib.legend.Legend at 0x7fc3250158d0>"
      ]
     },
     "execution_count": 8,
     "metadata": {},
     "output_type": "execute_result"
    },
    {
     "data": {
      "image/png": "[encoded data removed]",
      "text/plain": [
       "<Figure size 432x288 with 1 Axes>"
      ]
     },
     "metadata": {
      "image/png": {
       "height": 250,
       "width": 370
      }
     },
     "output_type": "display_data"
    }
   ],
   "source": [
    "plt.plot(x, y_int, 'r',label=u\"Approximation\", linewidth=3)\n",
    "plt.plot(x, x + x**3/3., 'ko', label=u\"Exact\")\n",
    "plt.legend()"
   ]
  },
  {
   "cell_type": "markdown",
   "metadata": {
    "variables": {
     " PreviousNext(\"../lesson4 Numpy/np04 Notation Einstein.ipynb\", \"sp02 ODE.ipynb\")": "&nbsp; &nbsp; &nbsp; &nbsp; &nbsp; &nbsp; &nbsp; &nbsp; &nbsp; &nbsp; &nbsp; &nbsp; &nbsp; &nbsp; &nbsp; &nbsp; &nbsp; &nbsp; &nbsp; &nbsp; &nbsp; &nbsp; &nbsp; &nbsp; &nbsp; &nbsp; &nbsp; &nbsp; &nbsp; &nbsp; &nbsp; &nbsp; &nbsp; &nbsp; &nbsp; &nbsp; &nbsp; &nbsp; &nbsp; &nbsp; &nbsp; &nbsp; &nbsp; &nbsp; &nbsp; &nbsp; &nbsp; &nbsp; &nbsp; &nbsp; &nbsp; &nbsp; &nbsp; &nbsp; &nbsp; &nbsp; &nbsp; &nbsp; &nbsp; &nbsp; &nbsp; &nbsp; &nbsp; &nbsp; &nbsp; &nbsp; &nbsp; &nbsp; &nbsp; &nbsp; &nbsp; &nbsp; &nbsp; &nbsp; &nbsp; &nbsp; &nbsp; &nbsp; &nbsp; &nbsp; &nbsp; &nbsp; &nbsp; &nbsp; &nbsp; &nbsp; &nbsp; &nbsp; &nbsp; &nbsp; &nbsp; &nbsp; &nbsp; &nbsp; &nbsp; &nbsp; &nbsp; &nbsp; &nbsp; &nbsp; &nbsp; &nbsp; &nbsp; &nbsp; &nbsp; &nbsp; &nbsp; &nbsp; &nbsp; &nbsp; &nbsp; &nbsp; &nbsp; &nbsp; &nbsp; &nbsp; &nbsp; &nbsp; &nbsp; &nbsp; &nbsp; &nbsp; &nbsp; &nbsp; &nbsp; &nbsp; &nbsp; &nbsp; &nbsp; &nbsp; &nbsp; &nbsp; &nbsp; &nbsp; &nbsp; &nbsp; &nbsp; &nbsp; &nbsp; &nbsp; &nbsp; &nbsp; &nbsp; &nbsp; &nbsp; &nbsp; &nbsp; &nbsp; &nbsp; &nbsp; &nbsp; &nbsp; &nbsp; &nbsp; &nbsp; &nbsp; &nbsp; &nbsp; &nbsp; &nbsp; &nbsp; &nbsp; &nbsp; &nbsp; &nbsp; &nbsp; &nbsp; &nbsp; &nbsp; &nbsp; &nbsp; &nbsp; &nbsp; &nbsp; &nbsp; &nbsp; &nbsp; &nbsp; &nbsp; &nbsp; &nbsp; &nbsp; &nbsp; &nbsp; &nbsp; &nbsp; &nbsp; &nbsp; &nbsp; &nbsp; &nbsp; &nbsp; &nbsp; &nbsp; &nbsp; &nbsp; &nbsp; &nbsp; &nbsp; &nbsp; <br/><center><a href=\"../lesson4 Numpy/np04 Notation Einstein.ipynb\">np04 Notation Einstein</a>&nbsp; ← <a href=\"http://python3.mooc.lrde.epita.fr:8888/tree/lesson5 Scipy\" style=\"text-decoration:none\"> △ </a> → &nbsp;<a href=\"sp02 ODE.ipynb\">sp02 ODE</a></center><br/>&nbsp;"
    }
   },
   "source": [
    "{{ PreviousNext(\"../lesson4 Numpy/np04 Notation Einstein.ipynb\", \"sp02 ODE.ipynb\")}}"
   ]
  }
 ],
 "metadata": {
  "kernelspec": {
   "display_name": "Python 3",
   "language": "python",
   "name": "python3"
  },
  "language_info": {
   "codemirror_mode": {
    "name": "ipython",
    "version": 3
   },
   "file_extension": ".py",
   "mimetype": "text/x-python",
   "name": "python",
   "nbconvert_exporter": "python",
   "pygments_lexer": "ipython3",
   "version": "3.6.6"
  },
  "nbTranslate": {
   "displayLangs": [
    "en",
    "fr"
   ],
   "hotkey": "alt-t",
   "langInMainMenu": true,
   "sourceLang": "fr",
   "targetLang": "en",
   "useGoogleTranslate": true
  }
 },
 "nbformat": 4,
 "nbformat_minor": 1
}

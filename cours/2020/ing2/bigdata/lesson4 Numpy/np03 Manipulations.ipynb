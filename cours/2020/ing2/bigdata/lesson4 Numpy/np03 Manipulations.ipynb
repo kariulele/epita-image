{
 "cells": [
  {
   "cell_type": "markdown",
   "metadata": {},
   "source": [
    "Dans les [manipulations d'un tableau](https://docs.scipy.org/doc/numpy-1.15.1/reference/routines.array-manipulation.html) on comprend :\n",
    "\n",
    "* la réorganisation (réindexation) du tableau\n",
    "* l'aggrégation de 2 tableaux ou plus\n",
    "* le découpage d'un tableau en 2 ou plus\n",
    "\n",
    "mais avant de regarder ces points, regardons comment Numpy présente les\n",
    "dimensions d'un tableau multidimensionel avec la notion d'axes."
   ]
  },
  {
   "cell_type": "markdown",
   "metadata": {},
   "source": [
    "## Les axes\n",
    "\n",
    "Un tableau a des axes qui correspondent aux axes d'un repère dans l'espace. L'ordre des axes\n",
    "est celui de l'inclusion des crochets. En 2D un tableau de tableau est un tableau de lignes avec\n",
    "chaque ligne qui est un tableau 1D de valeurs. L'ordre est donc lignes puis colonnes (contrairement à l'axes $(x,y)$ dans\n",
    "l'espace).\n",
    "\n",
    "De très nombreuses opérations sur les tableaux se font suivant un des axes du tableau aussi il est important de \n",
    "comprendre ce que sont les axes.\n",
    "\n",
    "Regardons sur un exemple"
   ]
  },
  {
   "cell_type": "code",
   "execution_count": 1,
   "metadata": {},
   "outputs": [
    {
     "data": {
      "text/plain": [
       "array([[0, 1, 2],\n",
       "       [3, 4, 5]])"
      ]
     },
     "execution_count": 1,
     "metadata": {},
     "output_type": "execute_result"
    }
   ],
   "source": [
    "import numpy as np\n",
    "\n",
    "a = np.arange(6).reshape(2,3)\n",
    "a"
   ]
  },
  {
   "cell_type": "markdown",
   "metadata": {},
   "source": [
    "Faire la sommes des valeurs suivant l'axe 1 revient à additionner ce qui varie suivant l'axe 1 donc dans la direction des colonnes (à savoir le contenu de chaque ligne). L'axe 0 serait suivant les lignes (donc la somme du contenu de chaque colonne)."
   ]
  },
  {
   "cell_type": "code",
   "execution_count": 2,
   "metadata": {},
   "outputs": [
    {
     "data": {
      "text/plain": [
       "array([ 3, 12])"
      ]
     },
     "execution_count": 2,
     "metadata": {},
     "output_type": "execute_result"
    }
   ],
   "source": [
    "a.sum(axis=1)   # 0+1+2 = 3 and 3+4+5 = 12"
   ]
  },
  {
   "cell_type": "markdown",
   "metadata": {},
   "source": [
    "Un autre facon de voir les axes est de les considérer comme des __axes de projection__. Si je projette un objet 3D\n",
    "suivant l'axe des $x$, le résultat est un objet 2D en $(y,z)$.\n",
    "\n",
    "Si je somme sur l'axe 0 un tableau de dimension (2,3,4) cela veut dire que je perds la dimension 0 et donc la dimension du résultat est (3,4). Pour chaque case\n",
    "de ce tableau résultat on a additionné 2 valeurs puisque la dimension 0 du tableau était 2."
   ]
  },
  {
   "cell_type": "code",
   "execution_count": 3,
   "metadata": {},
   "outputs": [
    {
     "data": {
      "text/plain": [
       "array([[  0,  13,  28,  45],\n",
       "       [ 64,  85, 108, 133],\n",
       "       [160, 189, 220, 253]])"
      ]
     },
     "execution_count": 3,
     "metadata": {},
     "output_type": "execute_result"
    }
   ],
   "source": [
    "a = np.arange(24).reshape(2,3,4)\n",
    "a.prod(axis=0)"
   ]
  },
  {
   "cell_type": "markdown",
   "metadata": {},
   "source": [
    "#### Quelques fonctions qui supportent les axes\n",
    "\n",
    "Toutes les fonctions qui s'appliquent à un ensemble de valeur pour produire un résultat\n",
    "doivent pouvoir utiliser de concept d'axe (je ne les ai pas toutes\n",
    "vérifiées mais n'hésitez pas à m'indiquer un contre-exemple). On a les fonctions mathémaiques suivantes :\n",
    "\n",
    "* arithmétiques : `sum`, `prod`, `cumsum`, `cumprod` \n",
    "* statistiques : `max`, `min`, `mean` (moyenne), `average` (moyenne pondérée), `std` (écart type), `var`, `median`, `percentile`, `quantile`\n",
    "* autres : `gradiant`, `diff`, `fft`\n",
    "\n",
    "De plus il est possible de trier les valeurs d'un tableau suivant l'axe de son choix avec `sort`.\n",
    "Par contre on ne peut les mélanger, avec [`shuffle`](https://docs.scipy.org/doc/numpy-1.15.1/reference/generated/numpy.random.shuffle.html#numpy.random.shuffle), que suivant l'axe 0.\n",
    "\n",
    "#### Appliquer sa fonction suivant un axe\n",
    "\n",
    "La fonction [`apply_along_axis`](https://docs.scipy.org/doc/numpy-1.15.1/reference/generated/numpy.apply_along_axis.html)\n",
    "permet d'appliquer la fonction de son choix à un tableau suivant un axe :"
   ]
  },
  {
   "cell_type": "code",
   "execution_count": 4,
   "metadata": {},
   "outputs": [
    {
     "data": {
      "text/plain": [
       "array([-3,  4])"
      ]
     },
     "execution_count": 4,
     "metadata": {},
     "output_type": "execute_result"
    }
   ],
   "source": [
    "def last_minus_first(a):\n",
    "    return a[-1] - a[0]\n",
    "\n",
    "a= np.array([[5,4,2],[3,1,7]])\n",
    "np.apply_along_axis(last_minus_first, axis=1, arr=a)"
   ]
  },
  {
   "cell_type": "markdown",
   "metadata": {},
   "source": [
    "#### Appliquer une fonction suivant plusieurs axes\n",
    "\n",
    "Certaines opérations peuvent prendre une liste d'axes et non un seul axe. \n",
    "\n",
    "Il est également peut utiliser la fonction [`apply_over_axes`](https://docs.scipy.org/doc/numpy-1.15.1/reference/generated/numpy.apply_over_axes.html#numpy.apply_over_axes) pour lui indiquer quelle\n",
    "fonction doit être appliquées suivant les axes donnés."
   ]
  },
  {
   "cell_type": "code",
   "execution_count": 5,
   "metadata": {},
   "outputs": [
    {
     "name": "stdout",
     "output_type": "stream",
     "text": [
      "a.max \n",
      " [20 21 22 23] \n",
      "\n",
      "a.max keepdim \n",
      " [[[20 21 22 23]]] \n",
      "\n",
      "apply max \n",
      " [[[20 21 22 23]]] \n",
      "\n"
     ]
    }
   ],
   "source": [
    "a = np.arange(24).reshape(2,3,4)\n",
    "print('a.max \\n', a.max(axis=(0,1)), '\\n') \n",
    "print('a.max keepdim \\n', a.max(axis=(0,1), keepdims=True), '\\n') \n",
    "print('apply max \\n', np.apply_over_axes(np.max, a, axes=(0,1)), '\\n')"
   ]
  },
  {
   "cell_type": "code",
   "execution_count": 6,
   "metadata": {},
   "outputs": [
    {
     "data": {
      "text/plain": [
       "array([[[ 8,  9, 10, 11]],\n",
       "\n",
       "       [[20, 21, 22, 23]]])"
      ]
     },
     "execution_count": 6,
     "metadata": {},
     "output_type": "execute_result"
    }
   ],
   "source": [
    "np.apply_over_axes(np.max, a, axes=(1,))"
   ]
  },
  {
   "cell_type": "markdown",
   "metadata": {},
   "source": [
    "## Réorganisation d'un tableau\n",
    "\n",
    "On a déjà vu `reshape` pour changer la forme d'un tableau, `flatten` pour l'applatir en 1 dimension, regardons\n",
    "d'autres fonctions de manipulation des tableaux.\n",
    "\n",
    "#### `moveaxis` déplace un axe\n",
    "\n",
    "Imaginons que j'ai deux classes d'élèves avec pour chaque classe les notes de 4 élèves dans trois matières. Pour\n",
    "qu'on visualise bien, la première classe n'a que des note impaire et la seconde que des notes paires. Quand aux\n",
    "matières les élèves ont tous en dessous de 10 pour la première et au dessus de 10 pour la 3e.\n",
    "\n",
    "La fonction `moveaxis` permet de déplacer un axe. Si ainsi je désire que les matières deviennent le premier axe\n",
    "afin d'en faire ressortir les notes, je déplace l'axe 2 à la position 0, les axes 0 et 1 devenant les axes 1 et 2 :"
   ]
  },
  {
   "cell_type": "code",
   "execution_count": 7,
   "metadata": {},
   "outputs": [
    {
     "name": "stdout",
     "output_type": "stream",
     "text": [
      "a.shape =  (2, 4, 3) \n",
      "\n",
      "[[[ 3 11 17]\n",
      "  [ 7  7 15]\n",
      "  [ 5  9 11]\n",
      "  [ 1 17 15]]\n",
      "\n",
      " [[ 6 12 14]\n",
      "  [ 8 10 12]\n",
      "  [ 6 12 16]\n",
      "  [ 2  6 12]]] \n",
      "\n",
      "b.shape =  (3, 2, 4)\n"
     ]
    },
    {
     "data": {
      "text/plain": [
       "array([[[ 3,  7,  5,  1],\n",
       "        [ 6,  8,  6,  2]],\n",
       "\n",
       "       [[11,  7,  9, 17],\n",
       "        [12, 10, 12,  6]],\n",
       "\n",
       "       [[17, 15, 11, 15],\n",
       "        [14, 12, 16, 12]]])"
      ]
     },
     "execution_count": 7,
     "metadata": {},
     "output_type": "execute_result"
    }
   ],
   "source": [
    "a = np.array([[[3,11,17],[7,7,15],[5,9,11],[1,17,15]],    # grades of the 4 students of class #1 for each topic\n",
    "              [[6,12,14],[8,10,12],[6,12,16],[2,6,12]]])  # grades of the 4 students of class #2 for each topic\n",
    "print('a.shape = ',a.shape, '\\n')\n",
    "print(a, '\\n')\n",
    "b = np.moveaxis(a,2,0) \n",
    "print('b.shape = ',b.shape)\n",
    "b"
   ]
  },
  {
   "cell_type": "markdown",
   "metadata": {},
   "source": [
    "#### `swapaxes` échange 2 axes\n",
    "\n",
    "Plutôt que d'insérer un axe à une nouvelle position et faire glisser les autres, on peut vouloir en échanger deux.\n",
    "Voici comme avoir les notes pour chaque classe et pour chaque matière : "
   ]
  },
  {
   "cell_type": "code",
   "execution_count": 8,
   "metadata": {},
   "outputs": [
    {
     "data": {
      "text/plain": [
       "array([[[ 3,  7,  5,  1],\n",
       "        [11,  7,  9, 17],\n",
       "        [17, 15, 11, 15]],\n",
       "\n",
       "       [[ 6,  8,  6,  2],\n",
       "        [12, 10, 12,  6],\n",
       "        [14, 12, 16, 12]]])"
      ]
     },
     "execution_count": 8,
     "metadata": {},
     "output_type": "execute_result"
    }
   ],
   "source": [
    "a.swapaxes(1,2)"
   ]
  },
  {
   "cell_type": "markdown",
   "metadata": {},
   "source": [
    "#### Changer l'ordre des éléments d'un tableau\n",
    "\n",
    "On peut inverser les valeurs d'un tableau suivant un axe avec [`flip`](https://docs.scipy.org/doc/numpy-1.15.1/reference/generated/numpy.flip.html#numpy.flip)\n",
    "ce qui peut aussi être fait en l'indiquant au niveau des indices.  Ainsi `np.flip(a, n)` est équivalent à \n",
    "`a[:,:,..,::-1,:,...,:]` avec `::-1` en $n$-ième position.\n",
    "\n",
    "On peut faire glisser les valeurs suivant un axe avec `roll` en spécifiant de combien on les fait glisser :"
   ]
  },
  {
   "cell_type": "code",
   "execution_count": 9,
   "metadata": {},
   "outputs": [
    {
     "data": {
      "text/plain": [
       "array([[2, 3, 0, 1],\n",
       "       [6, 7, 4, 5]])"
      ]
     },
     "execution_count": 9,
     "metadata": {},
     "output_type": "execute_result"
    }
   ],
   "source": [
    "a = np.arange(8).reshape([2,4])\n",
    "np.roll(a, 2, axis=1)              # roll elements by 2 along axis 1"
   ]
  },
  {
   "cell_type": "markdown",
   "metadata": {},
   "source": [
    "## Aggrégation\n",
    "\n",
    "#### Concaténation\n",
    "\n",
    "La fonction de base est [`concatenate`](https://docs.scipy.org/doc/numpy-1.15.0/reference/generated/numpy.concatenate.html) en indiquant l'axe choisi pour la concaténation. C'est à mon avis la méthode\n",
    "la plus sûre et elle marche quelque soit la dimension.\n",
    "\n",
    "Cela étant on peut utiliser pour des tableaux 2D ou 3D :\n",
    "\n",
    "* `vstack` ou `row_stack` pour la concaténation vertical \n",
    "* `hstack` ou `column_stack` pour la concaténation horizontal\n",
    "* `dstack` pour la concaténation en profondeur (_deep_).\n",
    "\n",
    "Toutes ces fonctions prennent une liste de tableaux à concaténer comme argument. Bien sûr les tailles des tableaux doivent être compatibles."
   ]
  },
  {
   "cell_type": "code",
   "execution_count": 10,
   "metadata": {},
   "outputs": [
    {
     "name": "stdout",
     "output_type": "stream",
     "text": [
      "[[0. 1. 2.]\n",
      " [3. 4. 5.]\n",
      " [1. 1. 1.]\n",
      " [1. 1. 1.]] \n",
      "\n",
      "[[0. 1. 2. 1. 1. 1.]\n",
      " [3. 4. 5. 1. 1. 1.]]\n"
     ]
    }
   ],
   "source": [
    "a = np.arange(6).reshape(2,3)\n",
    "b = np.ones((2,3))\n",
    "\n",
    "print(np.concatenate((a,b), axis=0), '\\n')   # same than vstack\n",
    "print(np.hstack((a,b)))                      # same than concatenate with axis=1"
   ]
  },
  {
   "cell_type": "markdown",
   "metadata": {},
   "source": [
    "#### Empilage\n",
    "\n",
    "A la différence de la concaténation, l'empilage ajoute une dimension.\n",
    "Empiler est utile pour stocker un paquet de tableaux 2D, des images par exemple, dans un tableau 3D. \n",
    "On utilise la fonction [`stack`](https://docs.scipy.org/doc/numpy-1.15.1/reference/generated/numpy.stack.html)."
   ]
  },
  {
   "cell_type": "code",
   "execution_count": 11,
   "metadata": {},
   "outputs": [
    {
     "data": {
      "text/plain": [
       "array([[[0., 1., 2.],\n",
       "        [3., 4., 5.]],\n",
       "\n",
       "       [[1., 1., 1.],\n",
       "        [1., 1., 1.]]])"
      ]
     },
     "execution_count": 11,
     "metadata": {},
     "output_type": "execute_result"
    }
   ],
   "source": [
    "a = np.arange(6).reshape(2,3)\n",
    "b = np.ones((2,3))\n",
    "\n",
    "c = np.stack((a,b))   #  c[0] is a\n",
    "c"
   ]
  },
  {
   "cell_type": "markdown",
   "metadata": {},
   "source": [
    "Notez que `stack` a une option `axis` pour indiquer la direction dans laquelle on désire stocker les tableaux données."
   ]
  },
  {
   "cell_type": "markdown",
   "metadata": {},
   "source": [
    "## Découpage\n",
    "\n",
    "Après la concaténation, le découpage avec [`split`](https://docs.scipy.org/doc/numpy-1.15.1/reference/generated/numpy.split.html#numpy.split) qui demande comme arguments :\n",
    "\n",
    "* le tableau à découper\n",
    "* en combien de morceaux ou à quels indices\n",
    "* la direction (l'axe)\n",
    "\n",
    "Pour retrouver nos deux tableaux qui ont généré le résultat de la cellule précédante on coupe en 2 suivant l'axe 0 :"
   ]
  },
  {
   "cell_type": "code",
   "execution_count": 12,
   "metadata": {},
   "outputs": [
    {
     "name": "stdout",
     "output_type": "stream",
     "text": [
      "[[[0. 1. 2.]\n",
      "  [3. 4. 5.]]] \n",
      "\n",
      "[[[1. 1. 1.]\n",
      "  [1. 1. 1.]]]\n"
     ]
    }
   ],
   "source": [
    "e,f = np.split(c,2,0)\n",
    "print(e, '\\n')\n",
    "print(f)"
   ]
  },
  {
   "cell_type": "markdown",
   "metadata": {},
   "source": [
    "Il existe aussi `hsplit`, `vsplit` et `dsplit` pour découper suivant les axes 0, 1 et 2.\n",
    "\n",
    "## Pandas\n",
    "\n",
    "On retrouvera ces manipulations avec Pandas qui est le super tableur de Python et donc qui travaille aussi sur des \n",
    "structures en forme de tableau mais sans la contrainte que toutes les valeurs soient du même type."
   ]
  },
  {
   "cell_type": "markdown",
   "metadata": {},
   "source": [
    "{{ PreviousNext(\"np02 Filtres.ipynb\", \"np04 Calcul matriciel.ipynb\")}}"
   ]
  },
  {
   "cell_type": "code",
   "execution_count": null,
   "metadata": {},
   "outputs": [],
   "source": []
  }
 ],
 "metadata": {
  "kernelspec": {
   "display_name": "Python 3",
   "language": "python",
   "name": "python3"
  },
  "language_info": {
   "codemirror_mode": {
    "name": "ipython",
    "version": 3
   },
   "file_extension": ".py",
   "mimetype": "text/x-python",
   "name": "python",
   "nbconvert_exporter": "python",
   "pygments_lexer": "ipython3",
   "version": "3.6.7"
  },
  "nbTranslate": {
   "displayLangs": [
    "en",
    "fr"
   ],
   "hotkey": "alt-t",
   "langInMainMenu": true,
   "sourceLang": "fr",
   "targetLang": "en",
   "useGoogleTranslate": true
  }
 },
 "nbformat": 4,
 "nbformat_minor": 2
}

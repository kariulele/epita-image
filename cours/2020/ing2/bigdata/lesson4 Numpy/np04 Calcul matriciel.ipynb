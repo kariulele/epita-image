{
 "cells": [
  {
   "cell_type": "markdown",
   "metadata": {},
   "source": [
    "# Calcul matriciel\n",
    "\n",
    "Numpy intègre le calcul matriciel (linear algebra) dans sa bibliothèque [numpy.linalg](https://docs.scipy.org/doc/numpy/reference/routines.linalg.html) mais [Scipy](https://docs.scipy.org/doc/scipy-1.1.0/reference/tutorial/linalg.html) aussi et mieux à savoir avec plus de fonctions et couplée à BLAS/LAPACK ce qui garanti une exécution nettement plus rapide si Numpy n'a pas été compilé avec cette option. Malheureusement il existe\n",
    "deux fonctions dans la version que Numpy que Scipy n'a pas : `matrix_rank` et `cond` pour le conditionnement même s'il\n",
    "existe une autre méthode dans ce dernier cas.\n",
    "\n",
    "Aussi on utilise la version [linalg de Scipy](https://docs.scipy.org/doc/scipy/reference/linalg.html) mais parfois vous devrez passer à la version de Numpy..."
   ]
  },
  {
   "cell_type": "code",
   "execution_count": 1,
   "metadata": {},
   "outputs": [],
   "source": [
    "import numpy as np\n",
    "import scipy.linalg as lin\n",
    "np.set_printoptions(precision=3)"
   ]
  },
  {
   "cell_type": "markdown",
   "metadata": {
    "collapsed": true
   },
   "source": [
    "### Opérations de base\n",
    "\n",
    "On a vu que les opérateurs +, -, \\* et /  sont appliqués terme à terme ce qui est juste pour + et - dans le cadre du calcul matriciel mais pas pour \\* et /.\n",
    "\n",
    "* Le __produit scalaire__ utilise la méthode `dot`\n",
    "* La division que l'on peut imaginer comme \n",
    "   * la __résolution__ d'un système matriciel utilise la fonction `solve`\n",
    "   * le calcul de l'__inverse__ de la matrice utilise la fonction `inv`"
   ]
  },
  {
   "cell_type": "code",
   "execution_count": 2,
   "metadata": {},
   "outputs": [
    {
     "name": "stdout",
     "output_type": "stream",
     "text": [
      "multiplication terme à terme : \n",
      " [[ 1  4]\n",
      " [ 9 16]]\n",
      "produit matriciel : \n",
      " [[ 7 10]\n",
      " [15 22]]\n"
     ]
    }
   ],
   "source": [
    "A = np.array([[1,2],[3,4]])\n",
    "print(\"multiplication terme à terme : \\n\",A * A) # tous les opérateurs sont appliqués terme à terme\n",
    "print(\"produit matriciel : \\n\", A.dot(A))        # A @ A can be used too"
   ]
  },
  {
   "cell_type": "markdown",
   "metadata": {},
   "source": [
    "Résolution de système matriciel :"
   ]
  },
  {
   "cell_type": "code",
   "execution_count": 3,
   "metadata": {},
   "outputs": [
    {
     "name": "stdout",
     "output_type": "stream",
     "text": [
      "x =  [3. 7.]\n",
      "verfication :  [17. 37.]\n"
     ]
    }
   ],
   "source": [
    "b = np.array([17,37])\n",
    "x = lin.solve(A, b) # bien mieux que de calculer la matrice inverse (plus rapide et plus stable)\n",
    "print(\"x = \", x)\n",
    "print(\"verfication : \", A.dot(x))"
   ]
  },
  {
   "cell_type": "markdown",
   "metadata": {},
   "source": [
    "Mais si on le désire vraiment, on peut calculer la matrice inverse :"
   ]
  },
  {
   "cell_type": "code",
   "execution_count": 4,
   "metadata": {},
   "outputs": [
    {
     "name": "stdout",
     "output_type": "stream",
     "text": [
      "A⁻¹ :\n",
      " [[-2.   1. ]\n",
      " [ 1.5 -0.5]]\n",
      "x =  [3. 7.]\n"
     ]
    }
   ],
   "source": [
    "print(\"A⁻¹ :\\n\", lin.inv(A))       # la matrice inverse\n",
    "print(\"x = \", lin.inv(A).dot(b))"
   ]
  },
  {
   "cell_type": "markdown",
   "metadata": {},
   "source": [
    "Enfin __la transposée__ est simplement `T` :"
   ]
  },
  {
   "cell_type": "code",
   "execution_count": 5,
   "metadata": {},
   "outputs": [
    {
     "data": {
      "text/plain": [
       "array([[1, 3],\n",
       "       [2, 4]])"
      ]
     },
     "execution_count": 5,
     "metadata": {},
     "output_type": "execute_result"
    }
   ],
   "source": [
    "A.T"
   ]
  },
  {
   "cell_type": "markdown",
   "metadata": {},
   "source": [
    "### Opérations sur la matrice\n",
    "\n",
    "La bibliothèque offre des fonctions de\n",
    "\n",
    "* décomposition (LU, Choleski, QR, SVD...)\n",
    "* valeurs et vecteurs propres\n",
    "* norme, déterminant, conditionnement et rang"
   ]
  },
  {
   "cell_type": "code",
   "execution_count": 6,
   "metadata": {},
   "outputs": [
    {
     "name": "stdout",
     "output_type": "stream",
     "text": [
      "[[-0.316 -0.949]\n",
      " [-0.949  0.316]] \n",
      "\n",
      " [[-3.162 -4.427]\n",
      " [ 0.    -0.632]]\n",
      "\n",
      "Vérification :\n",
      " [[1. 2.]\n",
      " [3. 4.]]\n"
     ]
    }
   ],
   "source": [
    "Q,R = lin.qr(A)   # Q est orthogonale, R est triangulaire supérieur\n",
    "print(Q, '\\n\\n', R)\n",
    "print(\"\\nVérification :\\n\", Q.dot(R))"
   ]
  },
  {
   "cell_type": "markdown",
   "metadata": {},
   "source": [
    "#### Valeurs propres et vecteurs propres"
   ]
  },
  {
   "cell_type": "code",
   "execution_count": 7,
   "metadata": {},
   "outputs": [
    {
     "data": {
      "text/plain": [
       "(array([-0.372+0.j,  5.372+0.j]), array([[-0.825, -0.416],\n",
       "        [ 0.566, -0.909]]))"
      ]
     },
     "execution_count": 7,
     "metadata": {},
     "output_type": "execute_result"
    }
   ],
   "source": [
    "lin.eig(A) # donne les valeurs propres et les vecteurs propres de A"
   ]
  },
  {
   "cell_type": "markdown",
   "metadata": {},
   "source": [
    "#### Déterminant, norme etc. "
   ]
  },
  {
   "cell_type": "code",
   "execution_count": 8,
   "metadata": {},
   "outputs": [
    {
     "name": "stdout",
     "output_type": "stream",
     "text": [
      "Déterminant : -2.0\n",
      "Norme 2 : 5.477225575051661 \n",
      "Norme 1 : 6.0\n",
      "Conditionnement : 5.511586677311218\n"
     ]
    }
   ],
   "source": [
    "print(\"Déterminant :\", lin.det(A))\n",
    "print(\"Norme 2 :\", lin.norm(A), \"\\nNorme 1 :\", lin.norm(A, 1) )\n",
    "print(\"Conditionnement :\", lin.expm_cond(A))  # utilise la norme 2, pour d'autres norme il faut utiliser numpy.linalg !"
   ]
  },
  {
   "cell_type": "markdown",
   "metadata": {},
   "source": [
    "### Calculs matriciels avancés\n",
    "\n",
    "Il est possible de calculer l'exponentiel d'une matrice et à partir de là, son log, sinus, cosinus... On a donc :\n",
    "\n",
    "* `lin.expm(A)`\n",
    "* `lin.logm(A)`\n",
    "* `lin.sinm(A)`\n",
    "* `lin.cosm(A)`\n",
    "* `lin.tanm(A)`\n",
    "* `lin.sinhm(A)`\n",
    "* `lin.coshm(A)`\n",
    "* `lin.tanhm(A)`"
   ]
  },
  {
   "cell_type": "code",
   "execution_count": 9,
   "metadata": {},
   "outputs": [
    {
     "data": {
      "text/plain": [
       "array([[2.718, 0.   , 0.   ],\n",
       "       [0.   , 2.718, 0.   ],\n",
       "       [0.   , 0.   , 2.718]])"
      ]
     },
     "execution_count": 9,
     "metadata": {},
     "output_type": "execute_result"
    }
   ],
   "source": [
    "lin.expm(np.identity(3))"
   ]
  },
  {
   "cell_type": "markdown",
   "metadata": {
    "variables": {
     " PreviousNext(\"np03 Manipulations.ipynb\", \"np05 Notation Einstein.ipynb\")": "&nbsp; &nbsp; &nbsp; &nbsp; &nbsp; &nbsp; &nbsp; &nbsp; &nbsp; &nbsp; &nbsp; &nbsp; &nbsp; &nbsp; &nbsp; &nbsp; &nbsp; &nbsp; &nbsp; &nbsp; &nbsp; &nbsp; &nbsp; &nbsp; &nbsp; &nbsp; &nbsp; &nbsp; &nbsp; &nbsp; &nbsp; &nbsp; &nbsp; &nbsp; &nbsp; &nbsp; &nbsp; &nbsp; &nbsp; &nbsp; &nbsp; &nbsp; &nbsp; &nbsp; &nbsp; &nbsp; &nbsp; &nbsp; &nbsp; &nbsp; &nbsp; &nbsp; &nbsp; &nbsp; &nbsp; &nbsp; &nbsp; &nbsp; &nbsp; &nbsp; &nbsp; &nbsp; &nbsp; &nbsp; &nbsp; &nbsp; &nbsp; &nbsp; &nbsp; &nbsp; &nbsp; &nbsp; &nbsp; &nbsp; &nbsp; &nbsp; &nbsp; &nbsp; &nbsp; &nbsp; &nbsp; &nbsp; &nbsp; &nbsp; &nbsp; &nbsp; &nbsp; &nbsp; &nbsp; &nbsp; &nbsp; &nbsp; &nbsp; &nbsp; &nbsp; &nbsp; &nbsp; &nbsp; &nbsp; &nbsp; &nbsp; &nbsp; &nbsp; &nbsp; &nbsp; &nbsp; &nbsp; &nbsp; &nbsp; &nbsp; &nbsp; &nbsp; &nbsp; &nbsp; &nbsp; &nbsp; &nbsp; &nbsp; &nbsp; &nbsp; &nbsp; &nbsp; &nbsp; &nbsp; &nbsp; &nbsp; &nbsp; &nbsp; &nbsp; &nbsp; &nbsp; &nbsp; &nbsp; &nbsp; &nbsp; &nbsp; &nbsp; &nbsp; &nbsp; &nbsp; &nbsp; &nbsp; &nbsp; &nbsp; &nbsp; &nbsp; &nbsp; &nbsp; &nbsp; &nbsp; &nbsp; &nbsp; &nbsp; &nbsp; &nbsp; &nbsp; &nbsp; &nbsp; &nbsp; &nbsp; &nbsp; &nbsp; &nbsp; &nbsp; &nbsp; &nbsp; &nbsp; &nbsp; &nbsp; &nbsp; &nbsp; &nbsp; &nbsp; &nbsp; &nbsp; &nbsp; &nbsp; &nbsp; &nbsp; &nbsp; &nbsp; &nbsp; &nbsp; &nbsp; &nbsp; &nbsp; &nbsp; &nbsp; &nbsp; &nbsp; &nbsp; &nbsp; &nbsp; &nbsp; &nbsp; &nbsp; &nbsp; &nbsp; &nbsp; &nbsp; <br/><center><a href=\"np03 Manipulations.ipynb\">np03 Manipulations</a>&nbsp; ← <a href=\"http://python3.mooc.lrde.epita.fr:8888/tree/lesson4 Numpy\" style=\"text-decoration:none\"> △ </a> → &nbsp;<a href=\"np05 Notation Einstein.ipynb\">np05 Notation Einstein</a></center><br/>&nbsp;"
    }
   },
   "source": [
    "{{ PreviousNext(\"np03 Manipulations.ipynb\", \"np05 Notation Einstein.ipynb\")}}"
   ]
  },
  {
   "cell_type": "code",
   "execution_count": null,
   "metadata": {},
   "outputs": [],
   "source": []
  }
 ],
 "metadata": {
  "kernelspec": {
   "display_name": "Python 3",
   "language": "python",
   "name": "python3"
  },
  "language_info": {
   "codemirror_mode": {
    "name": "ipython",
    "version": 3
   },
   "file_extension": ".py",
   "mimetype": "text/x-python",
   "name": "python",
   "nbconvert_exporter": "python",
   "pygments_lexer": "ipython3",
   "version": "3.6.7"
  },
  "nbTranslate": {
   "displayLangs": [
    "en",
    "fr"
   ],
   "hotkey": "alt-t",
   "langInMainMenu": true,
   "sourceLang": "fr",
   "targetLang": "en",
   "useGoogleTranslate": true
  }
 },
 "nbformat": 4,
 "nbformat_minor": 1
}

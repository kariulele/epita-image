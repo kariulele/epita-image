{
 "cells": [
  {
   "cell_type": "markdown",
   "metadata": {
    "collapsed": true,
    "lang": "fr"
   },
   "source": [
    "# NumPy - N-dimensional Array manipulations library\n",
    "\n",
    "[NumPy](https://docs.scipy.org/doc/numpy/user/index.html) est une première boite à outils pour le développement de programme scientifique. Cette\n",
    "bibliothèque offre en particulier des tableaux multidimentionels simple à manipuler et **performants** (ce qui n'est pas le cas des listes de Python)."
   ]
  },
  {
   "cell_type": "markdown",
   "metadata": {
    "lang": "en"
   },
   "source": [
    "# NumPy - N-dimensional Array manipulations library\n",
    "\n",
    "[NumPy](https://docs.scipy.org/doc/numpy/user/index.html) is a toolkit for scientific program development. It\n",
    "provides multidimensional arrays that are simple to manipulate and **efficient** (which Python lists are not)."
   ]
  },
  {
   "cell_type": "code",
   "execution_count": 1,
   "metadata": {},
   "outputs": [],
   "source": [
    "import numpy as np  # np is the convention"
   ]
  },
  {
   "cell_type": "markdown",
   "metadata": {
    "lang": "fr"
   },
   "source": [
    "A la différence des listes, __les tableaux ont toutes leurs valeurs du même type__.\n",
    "\n",
    "## Création d'un tableau"
   ]
  },
  {
   "cell_type": "markdown",
   "metadata": {
    "lang": "en"
   },
   "source": [
    "Unlike lists, __tables have all their values of the same type__.\n",
    "\n",
    "## Creating an array"
   ]
  },
  {
   "cell_type": "code",
   "execution_count": 2,
   "metadata": {},
   "outputs": [
    {
     "name": "stdout",
     "output_type": "stream",
     "text": [
      "[[1 2 3]\n",
      " [4 5 7]]\n",
      "shape:  (2, 3)\n",
      "type:  <class 'numpy.int64'>\n"
     ]
    }
   ],
   "source": [
    "a = np.array([[1,2,3], [4,5,7]]) # 2D array built from a list\n",
    "print(a)\n",
    "print(\"shape: \",a.shape)\n",
    "print(\"type: \",type(a[0,0]))"
   ]
  },
  {
   "cell_type": "markdown",
   "metadata": {
    "lang": "fr"
   },
   "source": [
    "### dtype : le choix des armes\n",
    "\n",
    "Lorsqu'on fait du calcul scientifique il est important de choisir le type des tableaux afin d'optimiser la mémoire, les erreurs, la vitesse.\n",
    "\n",
    "NumPy propose les types suivants :\n",
    "\n",
    "<table border=\"1\" class=\"docutils\">\n",
    "<colgroup>\n",
    "<col width=\"15%\" />\n",
    "<col width=\"85%\" />\n",
    "</colgroup>\n",
    "<thead valign=\"bottom\">\n",
    "<tr class=\"row-odd\"><th class=\"head\">Data type</th>\n",
    "<th class=\"head\">Description</th>\n",
    "</tr>\n",
    "</thead>\n",
    "<tbody valign=\"top\">\n",
    "<tr class=\"row-even\"><td>bool</td>\n",
    "<td>Boolean (True or False) stored as a byte</td>\n",
    "</tr>\n",
    "<tr class=\"row-odd\"><td>int</td>\n",
    "<td>Platform integer (normally either <tt class=\"docutils literal\"><span class=\"pre\">int32</span></tt> or <tt class=\"docutils literal\"><span class=\"pre\">int64</span></tt>)</td>\n",
    "</tr>\n",
    "<tr class=\"row-even\"><td>int8</td>\n",
    "<td>Byte (-128 to 127)</td>\n",
    "</tr>\n",
    "<tr class=\"row-odd\"><td>int16</td>\n",
    "<td>Integer (-32768 to 32767)</td>\n",
    "</tr>\n",
    "<tr class=\"row-even\"><td>int32</td>\n",
    "<td>Integer (-2147483648 to 2147483647)</td>\n",
    "</tr>\n",
    "<tr class=\"row-odd\"><td>int64</td>\n",
    "<td>Integer (9223372036854775808 to 9223372036854775807)</td>\n",
    "</tr>\n",
    "<tr class=\"row-even\"><td>uint8</td>\n",
    "<td>Unsigned integer (0 to 255)</td>\n",
    "</tr>\n",
    "<tr class=\"row-odd\"><td>uint16</td>\n",
    "<td>Unsigned integer (0 to 65535)</td>\n",
    "</tr>\n",
    "<tr class=\"row-even\"><td>uint32</td>\n",
    "<td>Unsigned integer (0 to 4294967295)</td>\n",
    "</tr>\n",
    "<tr class=\"row-odd\"><td>uint64</td>\n",
    "<td>Unsigned integer (0 to 18446744073709551615)</td>\n",
    "</tr>\n",
    "<tr class=\"row-even\"><td>float</td>\n",
    "<td>Shorthand for <tt class=\"docutils literal\"><span class=\"pre\">float64</span></tt>.</td>\n",
    "</tr>\n",
    "<tr class=\"row-odd\"><td>float16</td>\n",
    "<td>Half precision float: sign bit, 5 bits exponent,\n",
    "10 bits mantissa</td>\n",
    "</tr>\n",
    "<tr class=\"row-even\"><td>float32</td>\n",
    "<td>Single precision float: sign bit, 8 bits exponent,\n",
    "23 bits mantissa</td>\n",
    "</tr>\n",
    "<tr class=\"row-odd\"><td>float64</td>\n",
    "<td>Double precision float: sign bit, 11 bits exponent,\n",
    "52 bits mantissa</td>\n",
    "</tr>\n",
    "<tr class=\"row-even\"><td>complex</td>\n",
    "<td>Shorthand for <tt class=\"docutils literal\"><span class=\"pre\">complex128</span></tt>.</td>\n",
    "</tr>\n",
    "<tr class=\"row-odd\"><td>complex64</td>\n",
    "<td>Complex number, represented by two 32-bit floats (real\n",
    "and imaginary components)</td>\n",
    "</tr>\n",
    "<tr class=\"row-even\"><td>complex128</td>\n",
    "<td>Complex number, represented by two 64-bit floats (real\n",
    "and imaginary components)</td>\n",
    "</tr>\n",
    "</tbody>\n",
    "</table>"
   ]
  },
  {
   "cell_type": "markdown",
   "metadata": {
    "lang": "en"
   },
   "source": [
    "#### dtype: the choice of weapons\n",
    "\n",
    "When doing scientific calculation it is important to choose the type of tables to optimize memory, errors, speed.\n",
    "\n",
    "NumPy offers the following types:\n",
    "\n",
    "<table border=\"1\" class=\"docutils\">\n",
    "<colgroup>\n",
    "<col width=\"15%\" />\n",
    "<col width=\"85%\" />\n",
    "</colgroup>\n",
    "<thead valign=\"bottom\">\n",
    "<tr class=\"row-odd\"><th class=\"head\">Data type</th>\n",
    "<th class=\"head\">Description</th>\n",
    "</tr>\n",
    "</thead>\n",
    "<tbody valign=\"top\">\n",
    "<tr class=\"row-even\"><td>bool</td>\n",
    "<td>Boolean (True or False) stored as a byte</td>\n",
    "</tr>\n",
    "<tr class=\"row-odd\"><td>int</td>\n",
    "<td>Platform integer (usually either <tt class=\"docutils literal\"><span class=\"pre\">int32</span></tt> or <tt class=\"docutils literal\"><span class=\"pre\">int64</span></tt>) </td>\n",
    "</tr>\n",
    "<tr class=\"row-even\"><td>int8</td>\n",
    "<td>Byte (-128 to 127) </td>\n",
    "</tr>\n",
    "<tr class=\"row-odd\"><td>int16</td>\n",
    "<td>Integer (-32768 to 32767) </td>\n",
    "</tr>\n",
    "<tr class=\"row-even\"><td>int32</td>\n",
    "<td>Integer (-2147483648 to 2147483647) </td>\n",
    "</tr>\n",
    "<tr class=\"row-odd\"><td>int64</td>\n",
    "<td>Integer (9223372036854775808 to 9223372036854775807) </td>\n",
    "</tr>\n",
    "<tr class=\"row-even\"><td>uint8</td>\n",
    "<td>Unsigned integer (0 to 255) </td>\n",
    "</tr>\n",
    "<tr class=\"row-odd\"><td>uint16</td>\n",
    "<td>Unsigned integer (0 to 65535) </td>\n",
    "</tr>\n",
    "<tr class=\"row-even\"><td>uint32</td>\n",
    "<td>Unsigned integer (0 to 4294967295) </td>\n",
    "</tr>\n",
    "<tr class=\"row-odd\"><td>uint64</td>\n",
    "<td>Unsigned integer (0 to 18446744073709551615) </td>\n",
    "</tr>\n",
    "<tr class=\"row-even\"><td>float</td>\n",
    "<td>Shorthand for <tt class=\"docutils literal\"><span class=\"pre\">float64</span></tt>.</td>\n",
    "</tr>\n",
    "<tr class=\"row-odd\"><td>float16</td>\n",
    "<td>Half precision float: sign bit, 5 bits exponent,\n",
    "10-bit mantissa</td>\n",
    "</tr>\n",
    "<tr class=\"row-even\"><td>float32</td>\n",
    "<td>Single precision float: sign bit, 8 bits exponent,\n",
    "23-bit mantissa</td>\n",
    "</tr>\n",
    "<tr class=\"row-odd\"><td>float64</td>\n",
    "<td>Double precision float: sign bit, 11 bits exponent,\n",
    "52-bit mantissa</td>\n",
    "</tr>\n",
    "<tr class=\"row-even\"><td>complex</td>\n",
    "<td>Shorthand for <tt class=\"docutils literal\"><span class=\"pre\">complex128</span></tt>.</td>\n",
    "</tr>\n",
    "<tr class=\"row-odd\"><td>complex64</td>\n",
    "<td>Complex number, represented by two 32-bit floats (real\n",
    "and imaginary components) </td>\n",
    "</tr>\n",
    "<tr class=\"row-even\"><td>complex128</td>\n",
    "<td>Complex number, represented by two 64-bit floats (real\n",
    "and imaginary components) </td>\n",
    "</tr>\n",
    "</tbody>\n",
    "</table>"
   ]
  },
  {
   "cell_type": "code",
   "execution_count": 3,
   "metadata": {},
   "outputs": [
    {
     "name": "stdout",
     "output_type": "stream",
     "text": [
      "x = [0 1 2 3] uint8\n",
      "x = [254   1   2   3] uint8\n",
      "y = [254.   1.   2.   3.] float32\n"
     ]
    }
   ],
   "source": [
    "x = np.arange(4, dtype= np.uint8)  # arange is the numpy version of range to produce an array\n",
    "print(\"x =\", x, x.dtype)\n",
    "\n",
    "x[0] = -2                          # 0 - 2 = max -1 for unsigned int\n",
    "print(\"x =\", x, x.dtype)\n",
    "\n",
    "y = np.float32(x)\n",
    "print(\"y =\", y, y.dtype)"
   ]
  },
  {
   "cell_type": "markdown",
   "metadata": {
    "lang": "fr"
   },
   "source": [
    "On peut connaitre la taille mémoire (en octets) qu'occupe un élément du tableau  et l'occupation de tout le tableau :"
   ]
  },
  {
   "cell_type": "markdown",
   "metadata": {
    "lang": "en"
   },
   "source": [
    "We can know the memory size (in bytes) occupied by an element of the array:"
   ]
  },
  {
   "cell_type": "code",
   "execution_count": 4,
   "metadata": {},
   "outputs": [
    {
     "name": "stdout",
     "output_type": "stream",
     "text": [
      "1\n",
      "4\n"
     ]
    },
    {
     "data": {
      "text/plain": [
       "16"
      ]
     },
     "execution_count": 4,
     "metadata": {},
     "output_type": "execute_result"
    }
   ],
   "source": [
    "print(x[0].itemsize)\n",
    "print(y[0].itemsize)\n",
    "y.nbytes"
   ]
  },
  {
   "cell_type": "markdown",
   "metadata": {
    "lang": "fr"
   },
   "source": [
    "### Méthodes prédéfinies\n",
    "\n",
    "On a déjà vu la méthode `arange` pour créer un tableau, il en existe aussi pour\n",
    "créer un tableau vide ou de la dimension de son choix avec que des 0 ou que des 1 ou ce qu'on veut.\n",
    "En fait il existe tellement de méthodes qu'on en présente qu'une petite partie ici, pour les autres voir la\n",
    "[liste des méthodes de création prédéfinies](https://docs.scipy.org/doc/numpy/reference/routines.array-creation.html)."
   ]
  },
  {
   "cell_type": "markdown",
   "metadata": {
    "lang": "en"
   },
   "source": [
    "#### Predefined methods\n",
    "\n",
    "There is also the possibility to create an empty or predefined array of the dimension of your choice using\n",
    "[predefined creation methods](https://docs.scipy.org/doc/numpy/reference/routines.array-creation.html):"
   ]
  },
  {
   "cell_type": "code",
   "execution_count": 5,
   "metadata": {},
   "outputs": [
    {
     "name": "stdout",
     "output_type": "stream",
     "text": [
      "Empty float:\n",
      " [[9.7715434e-317 0.0000000e+000]\n",
      " [0.0000000e+000 0.0000000e+000]]\n",
      "Float zeros:\n",
      " [[0. 0.]\n",
      " [0. 0.]]\n",
      "Complex ones:\n",
      " [[1.+0.j 1.+0.j 1.+0.j]\n",
      " [1.+0.j 1.+0.j 1.+0.j]]\n",
      "Full of 3.2:\n",
      " [[3.2 3.2]\n",
      " [3.2 3.2]]\n",
      "La matrice suivant est affichée partiellement car trop grande : \n",
      "[[1. 0. 0. ... 0. 0. 0.]\n",
      " [0. 1. 0. ... 0. 0. 0.]\n",
      " [0. 0. 1. ... 0. 0. 0.]\n",
      " ...\n",
      " [0. 0. 0. ... 1. 0. 0.]\n",
      " [0. 0. 0. ... 0. 1. 0.]\n",
      " [0. 0. 0. ... 0. 0. 1.]]\n"
     ]
    }
   ],
   "source": [
    "a = np.empty((2,2), dtype=float)  # empty do not set any value, it is faster\n",
    "print(\"Empty float:\\n\", a)\n",
    "\n",
    "print(\"Float zeros:\\n\", np.zeros((2,2), dtype=float))   # matrix filled with 0\n",
    "\n",
    "print(\"Complex ones:\\n\", np.ones((2,3), dtype=complex))  # matrix filled with 1\n",
    "\n",
    "print(\"Full of 3.2:\\n\", np.full((2,2), 3.2))\n",
    "\n",
    "print(\"La matrice suivant est affichée partiellement car trop grande : \")\n",
    "print(np.identity(1000))              # identity matrix"
   ]
  },
  {
   "cell_type": "markdown",
   "metadata": {
    "lang": "fr"
   },
   "source": [
    "### Avec des valeurs aléatoires\n",
    "\n",
    "La sous-bibliothèque [`np.random`](https://docs.scipy.org/doc/numpy/reference/routines.random.html) offre des méthodes pour générer des tableaux de valeurs aléatoires."
   ]
  },
  {
   "cell_type": "markdown",
   "metadata": {
    "lang": "en"
   },
   "source": [
    "#### With random values\n",
    "\n",
    "The sub-library [`np.random`](https://docs.scipy.org/doc/numpy/reference/routines.random.html) provides methods for generating arrays of random values."
   ]
  },
  {
   "cell_type": "code",
   "execution_count": 6,
   "metadata": {},
   "outputs": [
    {
     "name": "stdout",
     "output_type": "stream",
     "text": [
      "Random integers < 10:\n",
      " [[4 3 1 7]\n",
      " [6 5 6 6]\n",
      " [8 8 4 2]]\n",
      "Random reals between 0 and 1 :\n",
      " [[0.42735661 0.74622255 0.97059569 0.01341849]\n",
      " [0.74336338 0.37379756 0.00773447 0.34732429]\n",
      " [0.39666865 0.75020803 0.10339106 0.94909208]]\n"
     ]
    }
   ],
   "source": [
    "print(\"Random integers < 10:\\n\", np.random.randint(10, size=(3,4))) # can also choose a min\n",
    "\n",
    "print(\"Random reals between 0 and 1 :\\n\", np.random.random(size=(3,4)))"
   ]
  },
  {
   "cell_type": "markdown",
   "metadata": {
    "lang": "fr"
   },
   "source": [
    "On peut choisir la loi de distribution (loi uniforme par défaut)."
   ]
  },
  {
   "cell_type": "markdown",
   "metadata": {
    "lang": "en"
   },
   "source": [
    "We can choose the law of distribution (uniform law by default)."
   ]
  },
  {
   "cell_type": "code",
   "execution_count": 7,
   "metadata": {},
   "outputs": [
    {
     "data": {
      "text/plain": [
       "array([[2.51893035, 7.15679333, 3.29174901],\n",
       "       [2.31984661, 4.37205006, 1.86995428]])"
      ]
     },
     "execution_count": 7,
     "metadata": {},
     "output_type": "execute_result"
    }
   ],
   "source": [
    "loc = 3\n",
    "scale = 1.5\n",
    "np.random.normal(loc, scale, size=(2,3))  # Gauss distribution"
   ]
  },
  {
   "cell_type": "markdown",
   "metadata": {},
   "source": [
    "### En redéfinissant sa forme\n",
    "\n",
    "Un cas classique pour faire des tests est de créer un petit tableau multidimensionnelle avec des valeurs différentes.\n",
    "Pour cela le plus simple est de mettre 1,2,3... N dans les cases de notre tableau de forme (3,4) par exemple. \n",
    "Cela se fait avec `arange` qu'on a déjà vu pour générer les valeurs et `reshape` pour avoir la forme voulue :"
   ]
  },
  {
   "cell_type": "code",
   "execution_count": 8,
   "metadata": {},
   "outputs": [
    {
     "data": {
      "text/plain": [
       "array([[ 0,  1,  2,  3],\n",
       "       [ 4,  5,  6,  7],\n",
       "       [ 8,  9, 10, 11]])"
      ]
     },
     "execution_count": 8,
     "metadata": {},
     "output_type": "execute_result"
    }
   ],
   "source": [
    "np.arange(3*4).reshape((3,4))"
   ]
  },
  {
   "cell_type": "markdown",
   "metadata": {},
   "source": [
    "Attention, c'est toujours la dernière dimension qui varie le plus vite. En 3D cela ne correspond pas à la manière humaine de remplir un cube (on a tendance à faire des empilements de tableaux 2D). À l'usage cela ne pose pas de problème, c'est\n",
    "seulement bizarre lorsqu'on fait des tests pour voir.\n",
    "\n",
    "```\n",
    " humain     Numpy\n",
    "   ┌─┬─┐      ┌─┬─┐ \n",
    "┌─┬─┐│5│   ┌─┬─┐│3│\n",
    "│0│1│┼─┤   │0│2│┼─┤\n",
    "├─┼─┤│7│   ├─┼─┤│7│\n",
    "│2│3│┴─┘   │4│6│┴─┘\n",
    "└─┴─┘      └─┴─┘  \n",
    "```          "
   ]
  },
  {
   "cell_type": "code",
   "execution_count": 9,
   "metadata": {},
   "outputs": [
    {
     "data": {
      "text/plain": [
       "array([[[0, 1],\n",
       "        [2, 3]],\n",
       "\n",
       "       [[4, 5],\n",
       "        [6, 7]]])"
      ]
     },
     "execution_count": 9,
     "metadata": {},
     "output_type": "execute_result"
    }
   ],
   "source": [
    "np.arange(8).reshape(2,2,2)  # first 2D array is for first row (i=0), second for second row (i=1)"
   ]
  },
  {
   "cell_type": "markdown",
   "metadata": {},
   "source": [
    "Note : l'inverse de reshape est `flatten()` qui transforme un tableau à plusieurs dimension en un tableau à 1 dimension."
   ]
  },
  {
   "cell_type": "markdown",
   "metadata": {},
   "source": [
    "### En mélangeant les valeurs\n",
    "\n",
    "Si on veut travailler avec les valeurs d'un tableau prises dans un ordre aléatoire alors on peut mélanger\n",
    "le tableau avec `np.random.permutation`. Attention la permutation est sur les éléments du tableau donc des tableaux\n",
    "si le tableau est à plusieurs dimensions."
   ]
  },
  {
   "cell_type": "code",
   "execution_count": 10,
   "metadata": {},
   "outputs": [
    {
     "data": {
      "text/plain": [
       "array([[ 4,  5,  6,  7],\n",
       "       [ 8,  9, 10, 11],\n",
       "       [ 0,  1,  2,  3]])"
      ]
     },
     "execution_count": 10,
     "metadata": {},
     "output_type": "execute_result"
    }
   ],
   "source": [
    "data = np.arange(12).reshape(3,4)\n",
    "np.random.permutation(data) # permutes lines only"
   ]
  },
  {
   "cell_type": "markdown",
   "metadata": {},
   "source": [
    "Si on veut mélanger toutes les valeurs il faut applatir le tableau et lui redonner sa forme :"
   ]
  },
  {
   "cell_type": "code",
   "execution_count": 11,
   "metadata": {},
   "outputs": [
    {
     "data": {
      "text/plain": [
       "array([[ 7, 11,  5,  4],\n",
       "       [10,  1,  2,  0],\n",
       "       [ 6,  9,  3,  8]])"
      ]
     },
     "execution_count": 11,
     "metadata": {},
     "output_type": "execute_result"
    }
   ],
   "source": [
    "np.random.permutation(data.flatten()).reshape(data.shape)"
   ]
  },
  {
   "cell_type": "markdown",
   "metadata": {
    "lang": "fr"
   },
   "source": [
    "### Avec sa fonction\n",
    "\n",
    "On peut aussi créer un tableau avec une fonction qui donne la valeur du tableau pour chaque indice (i,j) :"
   ]
  },
  {
   "cell_type": "markdown",
   "metadata": {
    "lang": "en"
   },
   "source": [
    "#### With its own function\n",
    "\n",
    "We can also create an array with a function that gives the value of the array for each index (i, j):"
   ]
  },
  {
   "cell_type": "code",
   "execution_count": 12,
   "metadata": {},
   "outputs": [
    {
     "data": {
      "text/plain": [
       "array([[ 0, -1, -2, -3],\n",
       "       [ 2,  1,  0, -1],\n",
       "       [ 4,  3,  2,  1]])"
      ]
     },
     "execution_count": 12,
     "metadata": {},
     "output_type": "execute_result"
    }
   ],
   "source": [
    "def f(i,j):\n",
    "    return 2*i - j\n",
    "\n",
    "np.fromfunction(f, shape=(3,4), dtype=int)"
   ]
  },
  {
   "cell_type": "markdown",
   "metadata": {
    "lang": "fr"
   },
   "source": [
    "## Opérations de base\n",
    "\n",
    "Numpy permet d'appliquer les opérations uselles à tous les éléments des tableaux :"
   ]
  },
  {
   "cell_type": "markdown",
   "metadata": {
    "lang": "en"
   },
   "source": [
    "## Basic Operations\n",
    "\n",
    "Numpy makes it possible to apply the usual operations to all the elements of the array:"
   ]
  },
  {
   "cell_type": "code",
   "execution_count": 13,
   "metadata": {},
   "outputs": [
    {
     "name": "stdout",
     "output_type": "stream",
     "text": [
      "a :\n",
      " [[1 2]\n",
      " [4 5]]\n",
      "2a + Id :\n",
      " [[ 3.  4.]\n",
      " [ 8. 11.]]\n",
      "x² (not the matrix product) :\n",
      " [[ 1  4]\n",
      " [16 25]]\n"
     ]
    }
   ],
   "source": [
    "a = np.array([[1,2], [4,5]])\n",
    "print(\"a :\\n\", a)\n",
    "print(\"2a + Id :\\n\", 2*a + np.identity(2))\n",
    "print(u\"x² (not the matrix product) :\\n\", a*a)"
   ]
  },
  {
   "cell_type": "markdown",
   "metadata": {
    "lang": "fr"
   },
   "source": [
    "On dispose aussi des fonctions trigonométriques et autres fonctions mathématiques usuelles."
   ]
  },
  {
   "cell_type": "markdown",
   "metadata": {
    "lang": "en"
   },
   "source": [
    "Trigonometric functions and other usual mathematical functions are also available."
   ]
  },
  {
   "cell_type": "code",
   "execution_count": 14,
   "metadata": {},
   "outputs": [
    {
     "data": {
      "text/plain": [
       "array([[ 0.841,  0.909],\n",
       "       [-0.757, -0.959]])"
      ]
     },
     "execution_count": 14,
     "metadata": {},
     "output_type": "execute_result"
    }
   ],
   "source": [
    "np.set_printoptions(precision=3)  # set printing precision for reals\n",
    "np.sin(a)"
   ]
  },
  {
   "cell_type": "markdown",
   "metadata": {
    "lang": "en"
   },
   "source": [
    "We can also do advanced operations: [stackoverflow numpy-reshape-and-partition-2d-array-to-3d](http://stackoverflow.com/questions/31686989/numpy-reshape-and-partition-2d- array-to-3d)\n",
    "\n",
    "![2D3D](https://i.stack.imgur.com/OUjlv.png)\n",
    "\n",
    "But this type of manipulation is more the area of predilection of Pandas that we will see later.\n",
    "\n",
    "There are other manipulations described [here](https://docs.scipy.org/doc/numpy/reference/routines.array-manipulation.html) including merging or clipping."
   ]
  },
  {
   "cell_type": "markdown",
   "metadata": {
    "lang": "fr"
   },
   "source": [
    "## Parcourir un tableau\n",
    "\n",
    "Le facon naturelle pour parcourir tous les éléments d'un tableau à plusieur dimension est de faire une boucle pour chaque dimension :"
   ]
  },
  {
   "cell_type": "markdown",
   "metadata": {
    "lang": "en"
   },
   "source": [
    "## Browse an array\n",
    "\n",
    "The natural way to browse all the elements of a multi-dimensional array is to make a loop for each dimension:"
   ]
  },
  {
   "cell_type": "code",
   "execution_count": 15,
   "metadata": {},
   "outputs": [
    {
     "name": "stdout",
     "output_type": "stream",
     "text": [
      "  0  1\n",
      "  2  3\n",
      "  4  5\n"
     ]
    }
   ],
   "source": [
    "a = np.arange(6).reshape(3,2)\n",
    "for ligne in a:\n",
    "    for element in ligne:\n",
    "        print(\" \", element, end=\"\")  # end=\"\" avoid the return after each print\n",
    "    print()"
   ]
  },
  {
   "cell_type": "markdown",
   "metadata": {
    "lang": "fr"
   },
   "source": [
    "On a vu dans la manipulation de la forme d'un tableau qu'on peut l'applatir, mais plutôt que d'utiliser `flatten()` qui fabrique un tableau en 1 dimension, on préfère utiliser un __itérateur__ qui permet de parcourir tous les éléments du tableau. Cet itérateur s'appelle dans notre cas `flat` :"
   ]
  },
  {
   "cell_type": "markdown",
   "metadata": {
    "lang": "en"
   },
   "source": [
    "We've seen how to manipulate the shape of a table that can be flattened, but rather than using `flatten()` which makes a 1-dimensional array, we prefer to use an __iterator__ which browses all the elements of the table. This iterator to browse all element of the array is `flat`:"
   ]
  },
  {
   "cell_type": "code",
   "execution_count": 16,
   "metadata": {},
   "outputs": [
    {
     "name": "stdout",
     "output_type": "stream",
     "text": [
      "0\n",
      "1\n",
      "2\n",
      "3\n",
      "4\n",
      "5\n"
     ]
    }
   ],
   "source": [
    "for v in a.flat:\n",
    "    print(v)"
   ]
  },
  {
   "cell_type": "markdown",
   "metadata": {
    "lang": "fr"
   },
   "source": [
    "Il est aussi possible de faire une boucle sur les indices mais c'est nettement moins performant."
   ]
  },
  {
   "cell_type": "markdown",
   "metadata": {
    "lang": "en"
   },
   "source": [
    "It is also possible to make a loop on the indices but it is clearly less powerful."
   ]
  },
  {
   "cell_type": "code",
   "execution_count": 17,
   "metadata": {},
   "outputs": [
    {
     "name": "stdout",
     "output_type": "stream",
     "text": [
      "0\n",
      "1\n",
      "2\n",
      "3\n",
      "4\n",
      "5\n"
     ]
    }
   ],
   "source": [
    "for i in range(len(a)):\n",
    "    for j in range(len(a[i])):\n",
    "        print(a[i,j])"
   ]
  },
  {
   "cell_type": "markdown",
   "metadata": {
    "lang": "fr"
   },
   "source": [
    "## Travailler en vectoriel\n",
    "\n",
    "Faire des boucles correspond souvent à la facon de penser de ceux qui programment depuis longtemps mais ce n'est pas efficace en Python. Il est préférable \n",
    "de travailler directement sur le tableau. Ainsi plutôt que de faire la boucle\n",
    "\n",
    "```\n",
    "for i in range(len(x)):\n",
    "   z[i] = x[i] + y[i]\n",
    "```\n",
    "\n",
    "on fera\n",
    "\n",
    "```\n",
    "z = x + y\n",
    "```\n",
    "   \n",
    "Non seulement c'est plus lisible mais c'est aussi plus rapide."
   ]
  },
  {
   "cell_type": "markdown",
   "metadata": {
    "lang": "en"
   },
   "source": [
    "## Think vector\n",
    "\n",
    "Making loops is often our way of thinking but it is not effective. It is better to\n",
    "to work directly on the whole array. So rather than making the loop\n",
    "\n",
    "```\n",
    "for i in range (len (x)):\n",
    "   z[i] = x[i] + y[i]\n",
    "```\n",
    "\n",
    "we will do\n",
    "\n",
    "```\n",
    "z = x + y\n",
    "```\n",
    "   \n",
    "Not only is it more readable but it is also faster."
   ]
  },
  {
   "cell_type": "code",
   "execution_count": 18,
   "metadata": {},
   "outputs": [
    {
     "name": "stdout",
     "output_type": "stream",
     "text": [
      "52.3 ms ± 427 µs per loop (mean ± std. dev. of 7 runs, 10 loops each)\n",
      "43.2 ms ± 700 µs per loop (mean ± std. dev. of 7 runs, 10 loops each)\n",
      "99.5 µs ± 273 ns per loop (mean ± std. dev. of 7 runs, 10000 loops each)\n"
     ]
    }
   ],
   "source": [
    "def double_loop(a):\n",
    "    for i in range(a.shape[0]):\n",
    "        for j in range(a.shape[1]):\n",
    "            a[i,j] = np.sqrt(a[i,j])\n",
    "\n",
    "def iterate(a):\n",
    "    for x in a.flat:\n",
    "        x = np.sqrt(x)\n",
    "\n",
    "b = np.random.random(size=(200,200))\n",
    "a = b.copy()                      # we need a copy to be sure to use the same data each time\n",
    "%timeit double_loop(a)\n",
    "\n",
    "a = b.copy()       \n",
    "%timeit iterate(a)\n",
    "\n",
    "a = b.copy()\n",
    "%timeit np.sqrt(a)   # vectorial operation, 500 times faster"
   ]
  },
  {
   "cell_type": "markdown",
   "metadata": {},
   "source": [
    "{{ PreviousNext(\"../lesson3 Object Python/11 Decorators.ipynb\", \"np02 Filtres.ipynb\")}}"
   ]
  },
  {
   "cell_type": "code",
   "execution_count": null,
   "metadata": {},
   "outputs": [],
   "source": []
  }
 ],
 "metadata": {
  "kernelspec": {
   "display_name": "Python 3",
   "language": "python",
   "name": "python3"
  },
  "language_info": {
   "codemirror_mode": {
    "name": "ipython",
    "version": 3
   },
   "file_extension": ".py",
   "mimetype": "text/x-python",
   "name": "python",
   "nbconvert_exporter": "python",
   "pygments_lexer": "ipython3",
   "version": "3.7.1"
  },
  "nbTranslate": {
   "displayLangs": [
    "fr"
   ],
   "hotkey": "alt-t",
   "langInMainMenu": true,
   "sourceLang": "fr",
   "targetLang": "en",
   "useGoogleTranslate": true
  }
 },
 "nbformat": 4,
 "nbformat_minor": 1
}

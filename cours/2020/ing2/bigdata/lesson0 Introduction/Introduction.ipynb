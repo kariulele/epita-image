{
 "cells": [
  {
   "cell_type": "markdown",
   "metadata": {},
   "source": [
    "**Note** Avant toute chose, veuillez choisir votre langue dans le menu `Langs` (attention à ne pas avoir les 2 langues en même temps).\n",
    "\n",
    "**Note** First of all, please choose your language from the `Langs` menu (be careful not to have both languages at the same time)."
   ]
  },
  {
   "cell_type": "markdown",
   "metadata": {
    "lang": "fr"
   },
   "source": [
    "-----------------\n",
    "\n",
    "__Ce cours est une mise à jour majeure de l'ancien avec de nombreux ajouts mais sans le calcul symbolique. Les vidéos sont malheureusement les anciennes, de nouvelles sont prévues.__\n",
    "\n",
    "__Pour l'instant ce cours est encore en construction, veuillez ne pas diffuser cette adresse svp__\n",
    "\n",
    "-----------------\n",
    "\n",
    "# Introduction\n",
    "\n",
    "Ce cours peut être utilisé pour deux cas d'apprentissage :\n",
    "\n",
    "* pour faire du calcul scientifique avec Python et dans ce cas on peut sauter le chapitre 6 et ne pas regarder les bibliothèques graphiques qui dépendent de Pandas (Seaborn et Cufflinks)\n",
    "* pour manipuler des données (big data) et dans ce cas on peut sauter les chapitres 5 et ne regarder que la première feuille du chapitre 4\n",
    "\n",
    "Les chapitres 2 et 3 sont pour les curieux qui désirent mieux connaitre Python. Ils ne sont pas nécessaires pour\n",
    "la suite et peuvent être sauté dans un premier temps. En résumé on a \n",
    "\n",
    "|Calcul scientifique |Big data |\n",
    "|--------------------|---------|\n",
    "|1 - Les bases de Python |1 - Les bases de Python |\n",
    "|4 - Numpy               |4 - Numpy |\n",
    "|5 - Scipy               |6 - Pandas |\n",
    "|7 - Graphiques          |7 - Graphiques |\n",
    "|2 et 3 en bonus         | 2 et 3 en bonus |\n",
    "\n",
    "Python offre de nombreuses bibliothèques scientifiques qui l'enrichissent et lui permette d'être l'une des toutes meilleures boite à outils pour le scientifique. Pour ce cours nous utiliserons les bibliothèques suivante :\n",
    "\n",
    "![dep bibliothèques](dep_libraries.svg)"
   ]
  },
  {
   "cell_type": "markdown",
   "metadata": {
    "lang": "en"
   },
   "source": [
    "-----------------\n",
    "\n",
    "__This course is a major update of the old one with many additions but without the symbolic calculus. Videos are unfortunately the old ones, new ones are planned.__\n",
    "\n",
    "__For the moment this course is still under construction, please do not distribute this address__\n",
    "\n",
    "-----------------\n",
    "\n",
    "# Introduction\n",
    "\n",
    "This course can be used for two learning cases:\n",
    "\n",
    "* to do scientific computing with Python and in this case we can skip chapter 6 and part of chapter 7 related to Pandas (Seaborn and Cufflinks)\n",
    "* to manipulate data (big data) and in this case we can skip chapters 5 and look only at the first sheet of chapter 4\n",
    "\n",
    "Python offers many scientific libraries that enrich it and allow it to be one of the best toolbox for the scientist. For this course we will use the following libraries:\n",
    "\n",
    "![dep bibliothèques](dep_libraries.svg)"
   ]
  },
  {
   "cell_type": "markdown",
   "metadata": {
    "lang": "fr"
   },
   "source": [
    "Les bibliothèques s'appuient sur celles en dessous d'elles.\n",
    "On a de bas en haut :\n",
    "    \n",
    "* __Python__ qui est le langage avec déjà un paquet de structures et d'algorithmes bien utiles\n",
    "* __Numpy__ qui ajoute la notion de tableau performant et les algorithmes pour travailler sur ces tableaux\n",
    "* __Matplotlib__ la bibliothèque historique de tracer de courbes\n",
    "* __Plotly__ une bibliothèque de tracer de courbes dynamiques qui à le vent en poupe\n",
    "* __Scipy__ un ensemble d'algorithme qui enrichisse Numpy et offre un grand nombre d'outils pour le scientifique\n",
    "* __Pandas__ le super tableur qui permet de manipuler des très grands tableaux complexes\n",
    "* __Seaborn__ que l'on peut voir comme une extension de Matplotlib en y ajoutant un rendu plus léché et des graphiques statistiques\n",
    "* __Cufflinks__ qui fait le pont entre Pandas et Plotly pour permettre de visualiser simplement ses données stockées dans les structures de Pandas\n",
    "\n",
    "Les couleurs correspondent au type de la bibliothèque :\n",
    "\n",
    "* marron : nouvelle structure de données\n",
    "* jaune : ensemble d'algorithmes\n",
    "* bleu : bibliothèque graphique\n",
    "\n",
    "Dans ce cours on utilise les versions suivantes des bibliothèques :\n",
    "\n",
    "* Python 3.6.5\n",
    "* Numpy 1.14.5\n",
    "* Scipy 1.0.1\n",
    "* Matplotlib 2.2.2\n",
    "* Pandas 0.23.3 (avec la toute dernière version de Pandas DataReader `pip install git+https://github.com/pydata/pandas-datareader`)\n",
    "* Seaborn 0.8.1\n",
    "* Plotly 2.7.0 et Cufflinks 0.13.0 (la version 3.0.0 de Plotly pose des problèmes à Cufflinks)"
   ]
  },
  {
   "cell_type": "markdown",
   "metadata": {
    "lang": "en"
   },
   "source": [
    "Libraries rely on those beneath them.\n",
    "We have from bottom to top:\n",
    "    \n",
    "* __Python__  the language with already very useful structures and algorithms\n",
    "* __Numpy__  adds the notion of high performance table and algorithms to work on these tables\n",
    "* __Matplotlib__ is the historical library to draw curves\n",
    "* __Plotly__ is a rising library to plot dynamic curves\n",
    "* __Scipy__ an algorithm set that enriches Numpy and offers a large amount of tools needed by scientists\n",
    "* __Pandas__ the super spreadsheet that handles very large complex tables\n",
    "* __Seaborn__ an extension of Matplotlib adding a nicer rendering and statistical graphs\n",
    "* __Cufflinks__ bridges the gap between Pandas and Plotly to make it easy to visualize data stored in Pandas structures\n",
    "\n",
    "The colors correspond to the type of the library:\n",
    "\n",
    "* brown: new data structure\n",
    "* yellow: set of algorithms\n",
    "* blue: graphic library\n",
    "\n",
    "In this course we use the following versions of the libraries:\n",
    "\n",
    "* Python 3.6.5\n",
    "* Numpy 1.14.5\n",
    "* Scipy 1.0.1\n",
    "* Matplotlib 2.2.2\n",
    "* Pandas 0.23.3 (with the latest version of Pandas DataReader `pip install git + https://github.com/pydata/ pandas-datareader`)\n",
    "* Seaborn 0.8.1\n",
    "* Plotly 2.7.0 and Cufflinks 0.13.0 (version 3.0.0 of Plotly causes problems with Cufflinks)"
   ]
  },
  {
   "cell_type": "markdown",
   "metadata": {
    "lang": "fr"
   },
   "source": [
    "La maitrise de ces outils permet au scientifique de travailler ses données et de les présenter en quelques lignes de code très expressives."
   ]
  },
  {
   "cell_type": "markdown",
   "metadata": {
    "variables": {
     " PreviousNext('/','../lesson1 Python basics/00 - Premiers calculs.ipynb') ": "&nbsp; &nbsp; &nbsp; &nbsp; &nbsp; &nbsp; &nbsp; &nbsp; &nbsp; &nbsp; &nbsp; &nbsp; &nbsp; &nbsp; &nbsp; &nbsp; &nbsp; &nbsp; &nbsp; &nbsp; &nbsp; &nbsp; &nbsp; &nbsp; &nbsp; &nbsp; &nbsp; &nbsp; &nbsp; &nbsp; &nbsp; &nbsp; &nbsp; &nbsp; &nbsp; &nbsp; &nbsp; &nbsp; &nbsp; &nbsp; &nbsp; &nbsp; &nbsp; &nbsp; &nbsp; &nbsp; &nbsp; &nbsp; &nbsp; &nbsp; &nbsp; &nbsp; &nbsp; &nbsp; &nbsp; &nbsp; &nbsp; &nbsp; &nbsp; &nbsp; &nbsp; &nbsp; &nbsp; &nbsp; &nbsp; &nbsp; &nbsp; &nbsp; &nbsp; &nbsp; &nbsp; &nbsp; &nbsp; &nbsp; &nbsp; &nbsp; &nbsp; &nbsp; &nbsp; &nbsp; &nbsp; &nbsp; &nbsp; &nbsp; &nbsp; &nbsp; &nbsp; &nbsp; &nbsp; &nbsp; &nbsp; &nbsp; &nbsp; &nbsp; &nbsp; &nbsp; &nbsp; &nbsp; &nbsp; &nbsp; &nbsp; &nbsp; &nbsp; &nbsp; &nbsp; &nbsp; &nbsp; &nbsp; &nbsp; &nbsp; &nbsp; &nbsp; &nbsp; &nbsp; &nbsp; &nbsp; &nbsp; &nbsp; &nbsp; &nbsp; &nbsp; &nbsp; &nbsp; &nbsp; &nbsp; &nbsp; &nbsp; &nbsp; &nbsp; &nbsp; &nbsp; &nbsp; &nbsp; &nbsp; &nbsp; &nbsp; &nbsp; &nbsp; &nbsp; &nbsp; &nbsp; &nbsp; &nbsp; &nbsp; &nbsp; &nbsp; &nbsp; &nbsp; &nbsp; &nbsp; &nbsp; &nbsp; &nbsp; &nbsp; &nbsp; &nbsp; &nbsp; &nbsp; &nbsp; &nbsp; &nbsp; &nbsp; &nbsp; &nbsp; &nbsp; &nbsp; &nbsp; &nbsp; &nbsp; &nbsp; &nbsp; &nbsp; &nbsp; &nbsp; &nbsp; &nbsp; &nbsp; &nbsp; &nbsp; &nbsp; &nbsp; &nbsp; &nbsp; &nbsp; &nbsp; &nbsp; &nbsp; &nbsp; &nbsp; &nbsp; &nbsp; &nbsp; &nbsp; &nbsp; &nbsp; &nbsp; &nbsp; &nbsp; &nbsp; &nbsp; <br/><center><a href=\"/\"></a>&nbsp; ← <a href=\"http://python3.mooc.lrde.epita.fr:8888/tree/lesson0 Introduction\" style=\"text-decoration:none\"> △ </a> → &nbsp;<a href=\"../lesson1 Python basics/00 - Premiers calculs.ipynb\">00 - Premiers calculs</a></center><br/>&nbsp;"
    }
   },
   "source": [
    "{{ PreviousNext('/','../lesson1 Python basics/00 - Premiers calculs.ipynb') }}"
   ]
  },
  {
   "cell_type": "code",
   "execution_count": null,
   "metadata": {},
   "outputs": [],
   "source": []
  }
 ],
 "metadata": {
  "kernelspec": {
   "display_name": "Python 3",
   "language": "python",
   "name": "python3"
  },
  "language_info": {
   "codemirror_mode": {
    "name": "ipython",
    "version": 3
   },
   "file_extension": ".py",
   "mimetype": "text/x-python",
   "name": "python",
   "nbconvert_exporter": "python",
   "pygments_lexer": "ipython3",
   "version": "3.8.1"
  },
  "nbTranslate": {
   "displayLangs": [
    "fr"
   ],
   "hotkey": "alt-t",
   "langInMainMenu": true,
   "sourceLang": "fr",
   "targetLang": "en",
   "useGoogleTranslate": true
  }
 },
 "nbformat": 4,
 "nbformat_minor": 2
}

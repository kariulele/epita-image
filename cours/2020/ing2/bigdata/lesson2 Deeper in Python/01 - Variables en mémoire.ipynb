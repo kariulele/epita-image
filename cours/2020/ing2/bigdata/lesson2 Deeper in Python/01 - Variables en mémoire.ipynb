{
 "cells": [
  {
   "cell_type": "markdown",
   "metadata": {},
   "source": [
    "## Copy par valeur ou par référence\n",
    "\n",
    "Lorsqu'on fait `b = a` Python \n",
    "\n",
    "* recopie la valeur de `a` si son type est simple (réel, entier...) \n",
    "* recopie l'adresse mémoire de `a` (qui est un pointeur) si le type est complexe (liste, dictionnaire...)\n",
    "\n",
    "Voici 4 petits exemples qui illustrent cela avec des explications détaillées ensuite :"
   ]
  },
  {
   "cell_type": "code",
   "execution_count": 2,
   "metadata": {},
   "outputs": [
    {
     "name": "stdout",
     "output_type": "stream",
     "text": [
      "3 4\n"
     ]
    }
   ],
   "source": [
    "a=3\n",
    "b=a\n",
    "b=4\n",
    "print(a, b)"
   ]
  },
  {
   "cell_type": "markdown",
   "metadata": {},
   "source": [
    "Si ce premier vous a semblé normal (il l'est), alors que penser du suivant ?\n",
    "\n",
    "On modifie y et x est aussi modifié :"
   ]
  },
  {
   "cell_type": "code",
   "execution_count": 3,
   "metadata": {},
   "outputs": [
    {
     "name": "stdout",
     "output_type": "stream",
     "text": [
      "[8, 2, 3, 4] [8, 2, 3, 4]\n"
     ]
    }
   ],
   "source": [
    "x = [1,2,3,4]\n",
    "y = x\n",
    "y[0] = 8\n",
    "print(x,y)"
   ]
  },
  {
   "cell_type": "markdown",
   "metadata": {},
   "source": [
    "Autre comportement surprenant :"
   ]
  },
  {
   "cell_type": "code",
   "execution_count": 4,
   "metadata": {},
   "outputs": [
    {
     "name": "stdout",
     "output_type": "stream",
     "text": [
      "[1, 2, 3, 4]\n"
     ]
    }
   ],
   "source": [
    "x = [1,2,3,4]\n",
    "for val in x:\n",
    "    val += 1\n",
    "print(x)"
   ]
  },
  {
   "cell_type": "markdown",
   "metadata": {},
   "source": [
    "On a tout modifié et rien n'a été pris en compte!\n",
    "\n",
    "Alors que pour le prochain, les modifications sont bien prises en compte..."
   ]
  },
  {
   "cell_type": "code",
   "execution_count": 5,
   "metadata": {},
   "outputs": [
    {
     "name": "stdout",
     "output_type": "stream",
     "text": [
      "[[1, 2, 8], [3, 4, 8]]\n"
     ]
    }
   ],
   "source": [
    "dl = [ [1,2], [3,4] ]\n",
    "for val in dl:\n",
    "    val += [8]\n",
    "print(dl)"
   ]
  },
  {
   "cell_type": "markdown",
   "metadata": {},
   "source": [
    "## Pointeurs et références"
   ]
  },
  {
   "cell_type": "markdown",
   "metadata": {},
   "source": [
    "#### Type compliqué (liste, dictionnaire...)\n",
    "\n",
    "La mémoire d'un ordinateur peut être vue comme un grand vecteur où chaque case du vecteur à une adresse (adresse mémoire). Lorsque je crée une liste, `[1,2,3,4]`, Python trouve un espace mémoire libre assez grand pour la stocker de facon contigue. \n",
    "\n",
    "![pointeur](images/pointeur.svg)\n",
    "\n",
    "\n",
    "Lorsque j'assigne cette liste à x, `x=[1,2,3,4]`, alors Python stocke dans x l'adresse mémoire où est stockée la liste (16 dans le dessin ci-dessous). Si ensuite je fais `x=y`, il stocke dans y la valeur de x à savoir l'adresse mémoire de notre liste. Aussi lorsque je modifie la première valeur de y, `y[0]=8`, c'est sans surprise que x est aussi modifié puisqu'ils font tous les deux référence à la même adresse mémoire (on\n",
    "dit qu'ils pointent sur la même adresse mémoire).\n",
    "\n"
   ]
  },
  {
   "cell_type": "markdown",
   "metadata": {},
   "source": [
    "On vient donc d'expliquer le deuxième cas, mais alors comment expliquer le premier cas.\n",
    "\n",
    "#### Type simple (entier, réel...)\n",
    "\n",
    "Stocker un type simple comme un entier ou un réel ne prend que 4 ou 8 octets. Une adresse mémoire occupe 4 octets. Aussi sotcker l'adresse mémoire d'un type simple de 4 octets n'a pas de sens puisque cela reviendrait à occuper 8 octets (4 pour le pointeur, 4 pour la valeur). Dans ce cas on stocke directement la valeur de x dans x (et non l'adresse où se trouve la valeur de x).\n",
    "\n",
    "Ainsi `b=a` est une copie de la valeur de a dans b. Les zones mémoires de a et b sont différentes.\n",
    "\n",
    "Modifier b n'a donc pas d'impact sur la valeur de x.\n",
    "\n",
    "Cela explique l'exemple **3**. Lorsqu'on fait `for val in x` on copie dans `val` la valeur du n-ième élément de `x` et donc modifier la valeur de `val` avec `val += 1` n'a pas d'impact sur le n-ième élement\n",
    "de `x`.\n",
    "\n",
    "Dans l'exemple **4** le n-ième élement de `x` est une liste, donc `val` est un pointeur vers cette liste et modifier `val` modifie le n-ième élément de `x`."
   ]
  },
  {
   "cell_type": "markdown",
   "metadata": {},
   "source": [
    "### Solutions pour modifier une liste\n",
    "\n",
    "Pour changer une liste globalement, le plus propre est de créer une nouvelle liste à partir de l'ancienne :"
   ]
  },
  {
   "cell_type": "code",
   "execution_count": 6,
   "metadata": {},
   "outputs": [
    {
     "name": "stdout",
     "output_type": "stream",
     "text": [
      "[2, 3, 4, 5]\n"
     ]
    }
   ],
   "source": [
    "x = [1,2,3,4]\n",
    "x = [val+1 for val in x]\n",
    "print(x)"
   ]
  },
  {
   "cell_type": "markdown",
   "metadata": {},
   "source": [
    "La solution naturelle pour les anciens du C ou du C++ est :"
   ]
  },
  {
   "cell_type": "code",
   "execution_count": 7,
   "metadata": {},
   "outputs": [
    {
     "name": "stdout",
     "output_type": "stream",
     "text": [
      "[2, 3, 4, 5]\n"
     ]
    }
   ],
   "source": [
    "x = [1,2,3,4]\n",
    "for i in range(len(x)):\n",
    "    x[i] += 1\n",
    "print(x)"
   ]
  },
  {
   "cell_type": "markdown",
   "metadata": {},
   "source": [
    "Mais, outre le fait que cette solution est moins élégante (donc moins lisible), elle est surtout plus lente :"
   ]
  },
  {
   "cell_type": "code",
   "execution_count": 8,
   "metadata": {},
   "outputs": [
    {
     "name": "stdout",
     "output_type": "stream",
     "text": [
      "45.7 µs ± 559 ns per loop (mean ± std. dev. of 7 runs, 10000 loops each)\n",
      "86.8 µs ± 2.01 µs per loop (mean ± std. dev. of 7 runs, 10000 loops each)\n"
     ]
    }
   ],
   "source": [
    "def fa(x):\n",
    "    return [val+1 for val in x]\n",
    "\n",
    "def si(x):\n",
    "    for i in range(len(x)):\n",
    "        x[i] += 1\n",
    "    return x\n",
    " \n",
    "x = list(range(1000))\n",
    "%timeit fa(x)\n",
    "%timeit si(x)"
   ]
  },
  {
   "cell_type": "markdown",
   "metadata": {},
   "source": [
    "On verra qu'avec Numpy on évite même les boucles pour travailler sur l'ensemble de la liste (`x = x + 1` par exemple avec x un tableau)"
   ]
  },
  {
   "cell_type": "markdown",
   "metadata": {
    "variables": {
     " PreviousNext(\"../lesson1 Python basics/07 - Algorithmique et tris.ipynb\", \"02 - La porté des variables.ipynb\") ": "&nbsp; &nbsp; &nbsp; &nbsp; &nbsp; &nbsp; &nbsp; &nbsp; &nbsp; &nbsp; &nbsp; &nbsp; &nbsp; &nbsp; &nbsp; &nbsp; &nbsp; &nbsp; &nbsp; &nbsp; &nbsp; &nbsp; &nbsp; &nbsp; &nbsp; &nbsp; &nbsp; &nbsp; &nbsp; &nbsp; &nbsp; &nbsp; &nbsp; &nbsp; &nbsp; &nbsp; &nbsp; &nbsp; &nbsp; &nbsp; &nbsp; &nbsp; &nbsp; &nbsp; &nbsp; &nbsp; &nbsp; &nbsp; &nbsp; &nbsp; &nbsp; &nbsp; &nbsp; &nbsp; &nbsp; &nbsp; &nbsp; &nbsp; &nbsp; &nbsp; &nbsp; &nbsp; &nbsp; &nbsp; &nbsp; &nbsp; &nbsp; &nbsp; &nbsp; &nbsp; &nbsp; &nbsp; &nbsp; &nbsp; &nbsp; &nbsp; &nbsp; &nbsp; &nbsp; &nbsp; &nbsp; &nbsp; &nbsp; &nbsp; &nbsp; &nbsp; &nbsp; &nbsp; &nbsp; &nbsp; &nbsp; &nbsp; &nbsp; &nbsp; &nbsp; &nbsp; &nbsp; &nbsp; &nbsp; &nbsp; &nbsp; &nbsp; &nbsp; &nbsp; &nbsp; &nbsp; &nbsp; &nbsp; &nbsp; &nbsp; &nbsp; &nbsp; &nbsp; &nbsp; &nbsp; &nbsp; &nbsp; &nbsp; &nbsp; &nbsp; &nbsp; &nbsp; &nbsp; &nbsp; &nbsp; &nbsp; &nbsp; &nbsp; &nbsp; &nbsp; &nbsp; &nbsp; &nbsp; &nbsp; &nbsp; &nbsp; &nbsp; &nbsp; &nbsp; &nbsp; &nbsp; &nbsp; &nbsp; &nbsp; &nbsp; &nbsp; &nbsp; &nbsp; &nbsp; &nbsp; &nbsp; &nbsp; &nbsp; &nbsp; &nbsp; &nbsp; &nbsp; &nbsp; &nbsp; &nbsp; &nbsp; &nbsp; &nbsp; &nbsp; &nbsp; &nbsp; &nbsp; &nbsp; &nbsp; &nbsp; &nbsp; &nbsp; &nbsp; &nbsp; &nbsp; &nbsp; &nbsp; &nbsp; &nbsp; &nbsp; &nbsp; &nbsp; &nbsp; &nbsp; &nbsp; &nbsp; &nbsp; &nbsp; &nbsp; &nbsp; &nbsp; &nbsp; &nbsp; &nbsp; &nbsp; &nbsp; &nbsp; &nbsp; &nbsp; &nbsp; <br/><center><a href=\"../lesson1 Python basics/07 - Algorithmique et tris.ipynb\">07 - Algorithmique et tris</a>&nbsp; ← <a href=\"http://python3.mooc.lrde.epita.fr:8888/tree/lesson2 Deeper in Python\" style=\"text-decoration:none\"> △ </a> → &nbsp;<a href=\"02 - La porté des variables.ipynb\">02 - La porté des variables</a></center><br/>&nbsp;"
    }
   },
   "source": [
    "{{ PreviousNext(\"../lesson1 Python basics/07 - Algorithmique et tris.ipynb\", \"02 - La porté des variables.ipynb\") }}"
   ]
  }
 ],
 "metadata": {
  "kernelspec": {
   "display_name": "Python 3",
   "language": "python",
   "name": "python3"
  },
  "language_info": {
   "codemirror_mode": {
    "name": "ipython",
    "version": 3
   },
   "file_extension": ".py",
   "mimetype": "text/x-python",
   "name": "python",
   "nbconvert_exporter": "python",
   "pygments_lexer": "ipython3",
   "version": "3.6.6"
  },
  "nbTranslate": {
   "displayLangs": [
    "en",
    "fr"
   ],
   "hotkey": "alt-t",
   "langInMainMenu": true,
   "sourceLang": "fr",
   "targetLang": "en",
   "useGoogleTranslate": true
  }
 },
 "nbformat": 4,
 "nbformat_minor": 1
}

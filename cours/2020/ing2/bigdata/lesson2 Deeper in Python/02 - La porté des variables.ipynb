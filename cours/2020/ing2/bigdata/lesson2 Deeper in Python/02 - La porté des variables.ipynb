{
 "cells": [
  {
   "cell_type": "markdown",
   "metadata": {},
   "source": [
    "### Portée des variables\n",
    "\n",
    "La durée de vie d'une variable commence lorsqu'elle est déclarée (à gauche d'un signe =) et finie à la fin du bloc où elle a été déclarée.\n",
    "                                                                  \n",
    "Elle est visible à l'intérieur des sous-blocs du bloc.\n",
    "\n",
    "Elle est visible à l'intérieur des fonctions qui sont appelée dans son bloc (c'est récursif).\n",
    "\n",
    "Si un sous-bloc ou une fonction définie une variable du même nom, alors elle n'est plus visible jusqu'à la mort de la nouvelle variable (c'est la nouvelle variable qui est visible).\n",
    "\n",
    "On appelle variables globales les variables qui sont dans le plus grand bloc (celui qui inclut tous les autres). Elles sont visibles de partout (sauf cas ci-dessus)."
   ]
  },
  {
   "cell_type": "code",
   "execution_count": 1,
   "metadata": {},
   "outputs": [
    {
     "name": "stdout",
     "output_type": "stream",
     "text": [
      "1 3\n",
      "2 10 11\n",
      "1\n"
     ]
    }
   ],
   "source": [
    "def f(x):\n",
    "    print(a,x)  # a global défini juste avant l'appel f(3)\n",
    "    \n",
    "def g(x):\n",
    "    a = 2        # création d'un nouveau a\n",
    "    print(a,b,x) # prend le a le plus local, donc celui de g(x)\n",
    "\n",
    "a = 1\n",
    "f(3)\n",
    "b = 10  # si cette ligne est commentée, g(x) va avoir un problème lors de l'affichage de b\n",
    "g(11)\n",
    "print(a) # seul le a global est visible ici\n",
    "b = 12"
   ]
  },
  {
   "cell_type": "code",
   "execution_count": 2,
   "metadata": {},
   "outputs": [
    {
     "name": "stdout",
     "output_type": "stream",
     "text": [
      "10 2 3\n",
      "1 12\n"
     ]
    }
   ],
   "source": [
    "def f1(x):\n",
    "    def f2(x):\n",
    "        a = 10\n",
    "        b = 2\n",
    "        print(a,b,x)  # il s'agit du a de f2 et non celui de f1\n",
    "    a = 1\n",
    "    f2(x+1)\n",
    "    print(a,b)  # ici b n'existe plus, il est mort à la fin de f2(x)\n",
    "f1(2)"
   ]
  },
  {
   "cell_type": "code",
   "execution_count": 3,
   "metadata": {},
   "outputs": [
    {
     "ename": "UnboundLocalError",
     "evalue": "local variable 'a' referenced before assignment",
     "output_type": "error",
     "traceback": [
      "\u001b[0;31m---------------------------------------------------------------------------\u001b[0m",
      "\u001b[0;31mUnboundLocalError\u001b[0m                         Traceback (most recent call last)",
      "\u001b[0;32m<ipython-input-3-bdb9286d9173>\u001b[0m in \u001b[0;36m<module>\u001b[0;34m()\u001b[0m\n\u001b[1;32m      8\u001b[0m     \u001b[0mprint\u001b[0m\u001b[0;34m(\u001b[0m\u001b[0ma\u001b[0m\u001b[0;34m)\u001b[0m\u001b[0;34m\u001b[0m\u001b[0m\n\u001b[1;32m      9\u001b[0m \u001b[0;34m\u001b[0m\u001b[0m\n\u001b[0;32m---> 10\u001b[0;31m \u001b[0mf1\u001b[0m\u001b[0;34m(\u001b[0m\u001b[0;36m4\u001b[0m\u001b[0;34m)\u001b[0m\u001b[0;34m\u001b[0m\u001b[0m\n\u001b[0m",
      "\u001b[0;32m<ipython-input-3-bdb9286d9173>\u001b[0m in \u001b[0;36mf1\u001b[0;34m(x)\u001b[0m\n\u001b[1;32m      5\u001b[0m                   \u001b[0;31m# En effet le 2e a fait référence au a créé juste avant sur la même ligne\u001b[0m\u001b[0;34m\u001b[0m\u001b[0;34m\u001b[0m\u001b[0m\n\u001b[1;32m      6\u001b[0m         \u001b[0mprint\u001b[0m\u001b[0;34m(\u001b[0m\u001b[0ma\u001b[0m\u001b[0;34m,\u001b[0m\u001b[0mx\u001b[0m\u001b[0;34m)\u001b[0m\u001b[0;34m\u001b[0m\u001b[0m\n\u001b[0;32m----> 7\u001b[0;31m     \u001b[0mf2\u001b[0m\u001b[0;34m(\u001b[0m\u001b[0mx\u001b[0m\u001b[0;34m+\u001b[0m\u001b[0;36m1\u001b[0m\u001b[0;34m)\u001b[0m\u001b[0;34m\u001b[0m\u001b[0m\n\u001b[0m\u001b[1;32m      8\u001b[0m     \u001b[0mprint\u001b[0m\u001b[0;34m(\u001b[0m\u001b[0ma\u001b[0m\u001b[0;34m)\u001b[0m\u001b[0;34m\u001b[0m\u001b[0m\n\u001b[1;32m      9\u001b[0m \u001b[0;34m\u001b[0m\u001b[0m\n",
      "\u001b[0;32m<ipython-input-3-bdb9286d9173>\u001b[0m in \u001b[0;36mf2\u001b[0;34m(x)\u001b[0m\n\u001b[1;32m      2\u001b[0m     \u001b[0ma\u001b[0m \u001b[0;34m=\u001b[0m \u001b[0;36m1\u001b[0m\u001b[0;34m\u001b[0m\u001b[0m\n\u001b[1;32m      3\u001b[0m     \u001b[0;32mdef\u001b[0m \u001b[0mf2\u001b[0m\u001b[0;34m(\u001b[0m\u001b[0mx\u001b[0m\u001b[0;34m)\u001b[0m\u001b[0;34m:\u001b[0m\u001b[0;34m\u001b[0m\u001b[0m\n\u001b[0;32m----> 4\u001b[0;31m         \u001b[0ma\u001b[0m \u001b[0;34m=\u001b[0m \u001b[0ma\u001b[0m \u001b[0;34m+\u001b[0m \u001b[0;36m1\u001b[0m \u001b[0;31m# erreur, j'utilise a locale à f2 (à droite du =) avant de l'avoir initialisé\u001b[0m\u001b[0;34m\u001b[0m\u001b[0m\n\u001b[0m\u001b[1;32m      5\u001b[0m                   \u001b[0;31m# En effet le 2e a fait référence au a créé juste avant sur la même ligne\u001b[0m\u001b[0;34m\u001b[0m\u001b[0;34m\u001b[0m\u001b[0m\n\u001b[1;32m      6\u001b[0m         \u001b[0mprint\u001b[0m\u001b[0;34m(\u001b[0m\u001b[0ma\u001b[0m\u001b[0;34m,\u001b[0m\u001b[0mx\u001b[0m\u001b[0;34m)\u001b[0m\u001b[0;34m\u001b[0m\u001b[0m\n",
      "\u001b[0;31mUnboundLocalError\u001b[0m: local variable 'a' referenced before assignment"
     ]
    }
   ],
   "source": [
    "def f1(x):\n",
    "    a = 1\n",
    "    def f2(x):\n",
    "        a = a + 1 # erreur, j'utilise a locale à f2 (à droite du =) avant de l'avoir initialisé\n",
    "                  # En effet le 2e a fait référence au a créé juste avant sur la même ligne\n",
    "        print(a,x)\n",
    "    f2(x+1)\n",
    "    print(a)\n",
    "\n",
    "f1(4)"
   ]
  },
  {
   "cell_type": "markdown",
   "metadata": {},
   "source": [
    "### nonlocal\n",
    "\n",
    "Il existe le mot clef `nonlocal` qui permet d'indiquer que l'on fait référence à une variable d'un niveau supérieur. Ainsi dans l'exemple ci-dessus\n",
    "\n",
    "     def f2(x):\n",
    "        nonlocal a\n",
    "        \n",
    "fonctionnerait car alors le `a` aurait été celui de `f1`"
   ]
  },
  {
   "cell_type": "code",
   "execution_count": 4,
   "metadata": {},
   "outputs": [
    {
     "name": "stdout",
     "output_type": "stream",
     "text": [
      "2 5\n",
      "2\n"
     ]
    }
   ],
   "source": [
    "def f1(x):\n",
    "    a = 1\n",
    "    def f2(x):\n",
    "        nonlocal a\n",
    "        a = a + 1 \n",
    "        print(a,x)\n",
    "    f2(x+1)\n",
    "    print(a) # a été modifiée dans f2\n",
    "\n",
    "f1(4)"
   ]
  },
  {
   "cell_type": "markdown",
   "metadata": {},
   "source": [
    "Utiliser `nonlocal` doit être fait avec discernement (comprendre **à éviter**). Dans notre cas il serait nettement préférable de passer `a` en argument de `f2` et de récupérer la nouvelle valeur. "
   ]
  },
  {
   "cell_type": "markdown",
   "metadata": {},
   "source": [
    "### global\n",
    "\n",
    "Il existe aussi le mot clef `global` qui permet de définir une variable globale au sein d'une fonction.\n",
    "C'est là encore une **mauvaise idée** dans 99% des cas. Outre le fait qu'avoir des variables globales est à\n",
    "éviter, définir une variable globale au sein d'une fonction risque d'entrer en collision avec une autre\n",
    "fonction qui définie la même variable globale :"
   ]
  },
  {
   "cell_type": "code",
   "execution_count": 5,
   "metadata": {},
   "outputs": [
    {
     "data": {
      "text/plain": [
       "20"
      ]
     },
     "execution_count": 5,
     "metadata": {},
     "output_type": "execute_result"
    }
   ],
   "source": [
    "def f1():\n",
    "    global x\n",
    "    x = 10\n",
    "    \n",
    "def fois2(x):\n",
    "    return 2*x\n",
    "    \n",
    "x = 0\n",
    "f1()\n",
    "fois2(x)"
   ]
  },
  {
   "cell_type": "markdown",
   "metadata": {},
   "source": [
    "Celui qui a écrit le programme principal va être surpris puisque la signature de la fonction `f1` ne laisse pas entendre qu'elle touche à la variable `x`.\n",
    "\n",
    "Celui qui a écrit la fonction `f1` voulait stocker `x` globalement et n'a probablement pas pensé qu'on utiliserait ce nom de variable ailleurs. \n",
    "\n",
    "Si vous avez besoin de variables globales utilisées par différentes fonctions, la bonne solution consiste à faire votre bibliothèque avec ces variables et vos fonctions (voir les [Modules](https://docs.python.org/3/tutorial/modules.html), tout dans un fichier, et les [Paquets](http://www.network-theory.co.uk/docs/pytut/Packages.html), une arboresence de fichiers pour tout ranger)."
   ]
  },
  {
   "cell_type": "markdown",
   "metadata": {
    "variables": {
     " PreviousNext(\"01 - Variables en mémoire.ipynb\", \"03 - Formatting.ipynb\")": "&nbsp; &nbsp; &nbsp; &nbsp; &nbsp; &nbsp; &nbsp; &nbsp; &nbsp; &nbsp; &nbsp; &nbsp; &nbsp; &nbsp; &nbsp; &nbsp; &nbsp; &nbsp; &nbsp; &nbsp; &nbsp; &nbsp; &nbsp; &nbsp; &nbsp; &nbsp; &nbsp; &nbsp; &nbsp; &nbsp; &nbsp; &nbsp; &nbsp; &nbsp; &nbsp; &nbsp; &nbsp; &nbsp; &nbsp; &nbsp; &nbsp; &nbsp; &nbsp; &nbsp; &nbsp; &nbsp; &nbsp; &nbsp; &nbsp; &nbsp; &nbsp; &nbsp; &nbsp; &nbsp; &nbsp; &nbsp; &nbsp; &nbsp; &nbsp; &nbsp; &nbsp; &nbsp; &nbsp; &nbsp; &nbsp; &nbsp; &nbsp; &nbsp; &nbsp; &nbsp; &nbsp; &nbsp; &nbsp; &nbsp; &nbsp; &nbsp; &nbsp; &nbsp; &nbsp; &nbsp; &nbsp; &nbsp; &nbsp; &nbsp; &nbsp; &nbsp; &nbsp; &nbsp; &nbsp; &nbsp; &nbsp; &nbsp; &nbsp; &nbsp; &nbsp; &nbsp; &nbsp; &nbsp; &nbsp; &nbsp; &nbsp; &nbsp; &nbsp; &nbsp; &nbsp; &nbsp; &nbsp; &nbsp; &nbsp; &nbsp; &nbsp; &nbsp; &nbsp; &nbsp; &nbsp; &nbsp; &nbsp; &nbsp; &nbsp; &nbsp; &nbsp; &nbsp; &nbsp; &nbsp; &nbsp; &nbsp; &nbsp; &nbsp; &nbsp; &nbsp; &nbsp; &nbsp; &nbsp; &nbsp; &nbsp; &nbsp; &nbsp; &nbsp; &nbsp; &nbsp; &nbsp; &nbsp; &nbsp; &nbsp; &nbsp; &nbsp; &nbsp; &nbsp; &nbsp; &nbsp; &nbsp; &nbsp; &nbsp; &nbsp; &nbsp; &nbsp; &nbsp; &nbsp; &nbsp; &nbsp; &nbsp; &nbsp; &nbsp; &nbsp; &nbsp; &nbsp; &nbsp; &nbsp; &nbsp; &nbsp; &nbsp; &nbsp; &nbsp; &nbsp; &nbsp; &nbsp; &nbsp; &nbsp; &nbsp; &nbsp; &nbsp; &nbsp; &nbsp; &nbsp; &nbsp; &nbsp; &nbsp; &nbsp; &nbsp; &nbsp; &nbsp; &nbsp; &nbsp; &nbsp; &nbsp; &nbsp; &nbsp; &nbsp; &nbsp; &nbsp; <br/><center><a href=\"01 - Variables en mémoire.ipynb\">01 - Variables en mémoire</a>&nbsp; ← <a href=\"http://python3.mooc.lrde.epita.fr:8888/tree/lesson2 Deeper in Python\" style=\"text-decoration:none\"> △ </a> → &nbsp;<a href=\"03 - Formatting.ipynb\">03 - Formatting</a></center><br/>&nbsp;"
    }
   },
   "source": [
    "{{ PreviousNext(\"01 - Variables en mémoire.ipynb\", \"03 - Formatting.ipynb\")}}"
   ]
  }
 ],
 "metadata": {
  "kernelspec": {
   "display_name": "Python 3",
   "language": "python",
   "name": "python3"
  },
  "language_info": {
   "codemirror_mode": {
    "name": "ipython",
    "version": 3
   },
   "file_extension": ".py",
   "mimetype": "text/x-python",
   "name": "python",
   "nbconvert_exporter": "python",
   "pygments_lexer": "ipython3",
   "version": "3.6.6"
  },
  "nbTranslate": {
   "displayLangs": [
    "en",
    "fr"
   ],
   "hotkey": "alt-t",
   "langInMainMenu": true,
   "sourceLang": "fr",
   "targetLang": "en",
   "useGoogleTranslate": true
  }
 },
 "nbformat": 4,
 "nbformat_minor": 1
}

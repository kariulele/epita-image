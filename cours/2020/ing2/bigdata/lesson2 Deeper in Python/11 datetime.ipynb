{
 "cells": [
  {
   "cell_type": "markdown",
   "metadata": {
    "lang": "fr"
   },
   "source": [
    "# Introduction à DateTime\n",
    "\n",
    "Définir ce qu'est une date est toujours un peu compliqué. En dessous de la seconde on compte en base 10, puis pour les secondes et minutes on compte en base 60, pour les heures on passe en base 24 et ensuite pour les jours cela peut varier suivant les ans. Pour être encore plus précis il existe des années durant lesquelles on ajoute 1 seconde entre le 31 décembre à minuit et le 1er janvier à 0h. À cela il faut ajouter la notion de fuseaux horaires. Bref créer un objet DateTime est compliqué et malheureusement l'utilisation de l'est aussi un peu.\n",
    "\n",
    "1. [Définir une date/heure](# création)\n",
    "2. [Définir un intervale de temps](# timedelta)"
   ]
  },
  {
   "cell_type": "markdown",
   "metadata": {
    "lang": "en"
   },
   "source": [
    "# Introduction to DateTime\n",
    "\n",
    "Defining what a date is is always a little complicated. Below the second one counts in base 10, then for the seconds and minutes one counts in base 60, for the hours one passes in base 24 and then for the days that can vary according to the years. To be even more specific there are years during which we add 1 second between December 31 at midnight and January 1 at 0h. To this must be added the notion of time zones. In short, creating a DateTime object is complicated and unfortunately the use of it is also a bit.\n",
    "\n",
    "1. [Set a datetime](# creation)\n",
    "2. [Set a time interval](# timedelta)"
   ]
  },
  {
   "cell_type": "markdown",
   "metadata": {
    "lang": "fr"
   },
   "source": [
    "<a id='creation'></a>\n",
    "## Définir une date/heure\n",
    "\n",
    "Pour commencer il faut charger la bibliothèque [`datetime`](https://docs.python.org/3.6/library/datetime.html). Dans cette bibliothèque le premier objet qui nous intéresse est `datetime`."
   ]
  },
  {
   "cell_type": "markdown",
   "metadata": {
    "lang": "en"
   },
   "source": [
    "<a id='creation'></a>\n",
    "## Define a datetime\n",
    "\n",
    "First you have to load the [`datetime`](https://docs.python.org/3.6/library/datetime.html) library. In this library, the first object of interest is `datetime`."
   ]
  },
  {
   "cell_type": "code",
   "execution_count": 1,
   "metadata": {},
   "outputs": [
    {
     "name": "stdout",
     "output_type": "stream",
     "text": [
      "bastille day: 1789-07-14 00:00:00\n",
      "now it is: 2019-02-01 10:44:56.224485\n"
     ]
    },
    {
     "data": {
      "text/plain": [
       "True"
      ]
     },
     "execution_count": 1,
     "metadata": {},
     "output_type": "execute_result"
    }
   ],
   "source": [
    "import datetime\n",
    "\n",
    "bastille_day = datetime.datetime(1789,7,14)\n",
    "\n",
    "print('bastille day:', bastille_day)\n",
    "print('now it is:', datetime.datetime.now())\n",
    "\n",
    "bastille_day < datetime.datetime.now()"
   ]
  },
  {
   "cell_type": "markdown",
   "metadata": {
    "lang": "fr"
   },
   "source": [
    "On peut aussi utiliser des chaînes de caractères ce qui est utile lorsqu'on lit un fichier. Pour cela on utilise\n",
    "la bibliothèque [`dateutil`](http://labix.org/python-dateutil) qui est une extension de `datetime` :"
   ]
  },
  {
   "cell_type": "markdown",
   "metadata": {
    "lang": "en"
   },
   "source": [
    "We can also use character strings which is useful when reading a file. For that we use\n",
    "the [`dateutil`](http://labix.org/python-dateutil) library which is an extension of `datetime`:"
   ]
  },
  {
   "cell_type": "code",
   "execution_count": 2,
   "metadata": {},
   "outputs": [
    {
     "name": "stdout",
     "output_type": "stream",
     "text": [
      "Get information:\n",
      "1789 1 23\n",
      "\n",
      "Extract date and time:\n",
      "1789-07-14 --- 15:30:00\n"
     ]
    }
   ],
   "source": [
    "import dateutil\n",
    "\n",
    "bastille_day = dateutil.parser.parse('14/07/1789')\n",
    "bastille_attack = dateutil.parser.parse('1789-07-14 15:30:00')  \n",
    "bastille_attack = dateutil.parser.parse('1789-07-14T15:30:00')  # ISO 8601\n",
    "xmas_NY = dateutil.parser.parse('2018-12-24 23:59:59-05:00')    # UTC - 5\n",
    "\n",
    "print('Get information:')\n",
    "print(bastille_day.year, bastille_attack.weekday(), xmas_NY.hour)\n",
    "print('\\nExtract date and time:')\n",
    "print(bastille_attack.date(), '---', bastille_attack.time())"
   ]
  },
  {
   "cell_type": "markdown",
   "metadata": {
    "lang": "fr"
   },
   "source": [
    "Il est possible de lire  et écrire des dates dans des formats quelconque en indiquant le format avec les directives décrites dans [strftime-strptime-behavior]( https://docs.python.org/3/library/datetime.html#strftime-strptime-behavior) de la documentation."
   ]
  },
  {
   "cell_type": "markdown",
   "metadata": {
    "lang": "en"
   },
   "source": [
    "It is possible to read and write dates in any format by specifying the format with the directives described in [strftime-strptime-behavior](https://docs.python.org/3/library/datetime.html#strftime- strptime-behavior) of the documentation."
   ]
  },
  {
   "cell_type": "code",
   "execution_count": 3,
   "metadata": {},
   "outputs": [
    {
     "data": {
      "text/plain": [
       "datetime.datetime(2017, 3, 1, 22, 3)"
      ]
     },
     "execution_count": 3,
     "metadata": {},
     "output_type": "execute_result"
    }
   ],
   "source": [
    "# string parse time\n",
    "datetime.datetime.strptime('03/01/17, 10h03 PM', '%m/%d/%y, %Ih%M %p')"
   ]
  },
  {
   "cell_type": "code",
   "execution_count": 4,
   "metadata": {},
   "outputs": [
    {
     "data": {
      "text/plain": [
       "'It is Monday the 24th of December of the year 2018.'"
      ]
     },
     "execution_count": 4,
     "metadata": {},
     "output_type": "execute_result"
    }
   ],
   "source": [
    "# string from time\n",
    "datetime.datetime.strftime(xmas_NY, 'It is %A the %dth of %B of the year %Y.')"
   ]
  },
  {
   "cell_type": "markdown",
   "metadata": {
    "lang": "fr"
   },
   "source": [
    "Note : _parfois on importe datetime avec l'alias dt (`import datetime as dt`) mais cela peut poser des problèmes car `dt` est parfois utilisé comme variable pour définir un intervale de temps. Donc on redéfinit `dt` sans s'en rendre compte et tout est cassé._"
   ]
  },
  {
   "cell_type": "markdown",
   "metadata": {
    "lang": "en"
   },
   "source": [
    "Note: _sometimes we import datetime with the alias dt (`import datetime as dt`) but this can cause problems because `dt` is sometimes used as a variable to define a time interval. So redefining `dt` without realizing it may breaks everything._"
   ]
  },
  {
   "cell_type": "markdown",
   "metadata": {
    "lang": "fr"
   },
   "source": [
    "Il est aussi possible de connaitre le jour de la semaine ou la semaine de l'année d'une date :"
   ]
  },
  {
   "cell_type": "markdown",
   "metadata": {
    "lang": "en"
   },
   "source": [
    "It is also possible to know the day of the week or the week of the year of a date:"
   ]
  },
  {
   "cell_type": "code",
   "execution_count": 5,
   "metadata": {},
   "outputs": [
    {
     "name": "stdout",
     "output_type": "stream",
     "text": [
      "1\n",
      "2\n"
     ]
    }
   ],
   "source": [
    "print(bastille_day.weekday())     # Tuesday (Monday is 0)\n",
    "print(bastille_day.isoweekday())  # Tuesday (Monday is 1)"
   ]
  },
  {
   "cell_type": "code",
   "execution_count": 6,
   "metadata": {},
   "outputs": [
    {
     "data": {
      "text/plain": [
       "(1789, 29, 2)"
      ]
     },
     "execution_count": 6,
     "metadata": {},
     "output_type": "execute_result"
    }
   ],
   "source": [
    "bastille_day.isocalendar()  # year, week of the year, day of the week"
   ]
  },
  {
   "cell_type": "markdown",
   "metadata": {
    "lang": "fr"
   },
   "source": [
    "<a id='timedelta'></a>\n",
    "## Intervale de temps\n",
    "\n",
    "Additionner deux dates n'a pas de sens par contre ajouter du temps à une date en a. Aussi nous utilisons un intervale de temps ou `timedelta`."
   ]
  },
  {
   "cell_type": "markdown",
   "metadata": {
    "lang": "en"
   },
   "source": [
    "<a id='timedelta'></a>\n",
    "## Interval of time\n",
    "\n",
    "Adding two dates does not make sense, one should add a period of time to a date. To do so we use `timedelta`."
   ]
  },
  {
   "cell_type": "code",
   "execution_count": 7,
   "metadata": {},
   "outputs": [
    {
     "name": "stdout",
     "output_type": "stream",
     "text": [
      "Battle duration: 1:30:00 or 5400.0 seconds\n",
      "Battle end: 1789-07-14 17:00:00\n"
     ]
    }
   ],
   "source": [
    "battle_duration = datetime.timedelta(hours=1, minutes=30) # we cannot add more than days\n",
    "print('Battle duration: %s or %s seconds' % (battle_duration, battle_duration.total_seconds()))\n",
    "\n",
    "end_bastille_attack = bastille_attack + battle_duration\n",
    "print('Battle end:', end_bastille_attack)"
   ]
  },
  {
   "cell_type": "code",
   "execution_count": 8,
   "metadata": {},
   "outputs": [
    {
     "data": {
      "text/plain": [
       "datetime.timedelta(1, 21600)"
      ]
     },
     "execution_count": 8,
     "metadata": {},
     "output_type": "execute_result"
    }
   ],
   "source": [
    "20 * battle_duration  # 30 hours = 1 day and 21600 seconds"
   ]
  },
  {
   "cell_type": "markdown",
   "metadata": {
    "lang": "fr"
   },
   "source": [
    "Pour ajouter un mois ou un an, il faut utiliser `relativedelta` de `dateutil.relativedelta`. Attention à bien mettre le 's' à la fin de months ou years sinon c'est considéré comme une information absolue\n",
    "à savoir `month=2` veut dire février."
   ]
  },
  {
   "cell_type": "markdown",
   "metadata": {
    "lang": "en"
   },
   "source": [
    "To add a month or a year, you need to use `relativedelta` from `dateutil.relativedelta`. Be careful to put the 's' at the end of months or years otherwise it is considered an absolute information\n",
    "i.e. `month = 2` means February."
   ]
  },
  {
   "cell_type": "code",
   "execution_count": 9,
   "metadata": {},
   "outputs": [
    {
     "name": "stdout",
     "output_type": "stream",
     "text": [
      "1789-08-14 15:30:00\n"
     ]
    }
   ],
   "source": [
    "print(bastille_attack + dateutil.relativedelta.relativedelta(months=1))"
   ]
  },
  {
   "cell_type": "markdown",
   "metadata": {
    "lang": "fr"
   },
   "source": [
    "On doit toujours manipuler ensemble des dates de même type, avec fuseau horaire (aware) ou sans (naive)."
   ]
  },
  {
   "cell_type": "markdown",
   "metadata": {
    "lang": "en"
   },
   "source": [
    "One must always handle together dates of the same type, with time zone (aware) or without (naive)."
   ]
  },
  {
   "cell_type": "code",
   "execution_count": 10,
   "metadata": {},
   "outputs": [
    {
     "data": {
      "text/plain": [
       "datetime.timedelta(-39, 69302, 501128)"
      ]
     },
     "execution_count": 10,
     "metadata": {},
     "output_type": "execute_result"
    }
   ],
   "source": [
    "now_UTC = datetime.datetime.now(datetime.timezone.utc)\n",
    "xmas_NY - now_UTC  # result is (days, seconds, microseconds)"
   ]
  },
  {
   "cell_type": "markdown",
   "metadata": {
    "lang": "fr"
   },
   "source": [
    "Attention : ajouter un intervale de temps à une heure n'a pas de sens car si on dépasse minuit on devrait changer de jour mais l'objet `time` n'a pas la notion de jour :"
   ]
  },
  {
   "cell_type": "markdown",
   "metadata": {
    "lang": "en"
   },
   "source": [
    "Warning: adding a period of time to a time does not make sense because if we pass beyond midnight we should change the day but the object `time` does not have the notion of day:"
   ]
  },
  {
   "cell_type": "code",
   "execution_count": 11,
   "metadata": {},
   "outputs": [
    {
     "ename": "TypeError",
     "evalue": "unsupported operand type(s) for +: 'datetime.time' and 'datetime.timedelta'",
     "output_type": "error",
     "traceback": [
      "\u001b[0;31m---------------------------------------------------------------------------\u001b[0m",
      "\u001b[0;31mTypeError\u001b[0m                                 Traceback (most recent call last)",
      "\u001b[0;32m<ipython-input-11-5ccb98975b56>\u001b[0m in \u001b[0;36m<module>\u001b[0;34m()\u001b[0m\n\u001b[0;32m----> 1\u001b[0;31m \u001b[0mbastille_attack\u001b[0m\u001b[0;34m.\u001b[0m\u001b[0mtime\u001b[0m\u001b[0;34m(\u001b[0m\u001b[0;34m)\u001b[0m \u001b[0;34m+\u001b[0m \u001b[0mbattle_duration\u001b[0m\u001b[0;34m\u001b[0m\u001b[0;34m\u001b[0m\u001b[0m\n\u001b[0m",
      "\u001b[0;31mTypeError\u001b[0m: unsupported operand type(s) for +: 'datetime.time' and 'datetime.timedelta'"
     ]
    }
   ],
   "source": [
    "bastille_attack.time() + battle_duration"
   ]
  },
  {
   "cell_type": "markdown",
   "metadata": {
    "lang": "fr"
   },
   "source": [
    "En résumé on peut faire :\n",
    "\n",
    "* `timedelta1 + timedelta2`\n",
    "* `timedelta1 - timedelta2`\n",
    "* `timedelta1 / timedelta2`\n",
    "* `timedelta1 % timedelta2`\n",
    "* `i * timedelta1`\n",
    "\n",
    "\n",
    "* `datetime2 = datetime1 + timedelta1`\n",
    "* `datetime2 = datetime1 - timedelta1`\n",
    "* `timedelta1 = datetime2 - datetime1`"
   ]
  },
  {
   "cell_type": "markdown",
   "metadata": {
    "lang": "en"
   },
   "source": [
    "In summary we can do:\n",
    "\n",
    "* `timedelta1 + timedelta2`* `timedelta1 - timedelta2`\n",
    "* `timedelta1 / timedelta2`* `timedelta1% timedelta2`\n",
    "* `i* timedelta1`\n",
    "\n",
    "\n",
    "* `datetime2 = datetime1 + timedelta1`\n",
    "* `datetime2 = datetime1 - timedelta1`\n",
    "* `timedelta1 = datetime2 - datetime1`"
   ]
  },
  {
   "cell_type": "markdown",
   "metadata": {
    "lang": "fr"
   },
   "source": [
    "## Epoch time\n",
    "\n",
    "Sous Unix la date est comptée en seconde depuis le 1er janvier 1970 temps universel (UTC). Ainsi une date est un réel et il devient très simple de faire des opérations sur les dates.\n",
    "\n",
    "Ce système de date est dans la bibliothèque `time`."
   ]
  },
  {
   "cell_type": "markdown",
   "metadata": {
    "lang": "en"
   },
   "source": [
    "## Epoch time\n",
    "\n",
    "Under Unix the date is counted in seconds since January 1, 1970 Universal Time (UTC). So a date is a real and it becomes very simple to do operations on dates.\n",
    "\n",
    "This date system is in the `time` library."
   ]
  },
  {
   "cell_type": "code",
   "execution_count": 12,
   "metadata": {},
   "outputs": [
    {
     "name": "stdout",
     "output_type": "stream",
     "text": [
      "1549014322.679779\n",
      "Fri Feb  1 10:45:22 2019\n",
      "time.struct_time(tm_year=2019, tm_mon=2, tm_mday=1, tm_hour=10, tm_min=45, tm_sec=22, tm_wday=4, tm_yday=32, tm_isdst=0)\n",
      "time.struct_time(tm_year=2019, tm_mon=2, tm_mday=1, tm_hour=9, tm_min=45, tm_sec=22, tm_wday=4, tm_yday=32, tm_isdst=0)\n"
     ]
    }
   ],
   "source": [
    "import time\n",
    "\n",
    "print(time.time())\n",
    "print(time.ctime())\n",
    "print(time.localtime())\n",
    "print(time.gmtime())"
   ]
  },
  {
   "cell_type": "code",
   "execution_count": 13,
   "metadata": {},
   "outputs": [
    {
     "data": {
      "text/plain": [
       "time.struct_time(tm_year=2000, tm_mon=1, tm_mday=1, tm_hour=0, tm_min=0, tm_sec=0, tm_wday=5, tm_yday=1, tm_isdst=-1)"
      ]
     },
     "execution_count": 13,
     "metadata": {},
     "output_type": "execute_result"
    }
   ],
   "source": [
    "epoch_Y2K = time.strptime('01/01/2000', '%m/%d/%Y')  # Beware, this is localtime\n",
    "epoch_Y2K"
   ]
  },
  {
   "cell_type": "code",
   "execution_count": 14,
   "metadata": {},
   "outputs": [
    {
     "name": "stdout",
     "output_type": "stream",
     "text": [
      "946681200.0\n",
      "946684800\n"
     ]
    }
   ],
   "source": [
    "import calendar\n",
    "\n",
    "print(time.mktime(epoch_Y2K))     # expressed in localtime\n",
    "print(calendar.timegm(epoch_Y2K)) # expressed in UTC"
   ]
  },
  {
   "cell_type": "markdown",
   "metadata": {
    "lang": "fr"
   },
   "source": [
    "S'il est tentant d'utiliser ce temps en secondes pour sa simplicité, il a aussi ses limites. Ainsi tracer une courbe en fonction de dates en secondes est illisible alors qu'avec `datetime` les bibliothèques graphiques interprètent correctement les dates et font de jolis tracés."
   ]
  },
  {
   "cell_type": "markdown",
   "metadata": {
    "lang": "en"
   },
   "source": [
    "If it is tempting to use this time in seconds for its simplicity, it also has its limits. For example drawing a curve depending on dates in seconds is unreadable while with `datetime` graphics libraries correctly interpret the dates and make pretty plots."
   ]
  },
  {
   "cell_type": "markdown",
   "metadata": {
    "lang": "fr"
   },
   "source": [
    "## Numpy et le temps\n",
    "\n",
    "Numpy, que l'on verra plus tard, est une bibliothèque qui a aussi son système de temps. Lorsqu'on intègre des dates définies par `datetime` c'est relativement transparent ce qui fait qu'on peut utiliser Numpy sans entrer dans son système de date. Si maintenant on désire faire des calculs qui font intervenir le temps alors il faut s'y mettre car Numpy\n",
    "aura converti les datetime qu'on lui aura fournis en son format.\n",
    "\n",
    "[Numpy datetime](https://docs.scipy.org/doc/numpy-1.15.0/reference/arrays.datetime.html) propose donc :\n",
    "\n",
    "* numpy.datetime64  (64 car sur 64 bits et parcque datetime était déjà pris)\n",
    "* numpy.timedelta64\n",
    "\n",
    "Une fois cela dit le reste marche comme pour datetime :"
   ]
  },
  {
   "cell_type": "markdown",
   "metadata": {
    "lang": "en"
   },
   "source": [
    "## Numpy and time\n",
    "\n",
    "Numpy, which we will see later, is a library which also has its time system. When integrating dates defined by `datetime` it is relatively transparent so that you can use Numpy without understanding its own date system. However if we want to make calculations that involve time, then we have to use Numpy's dates because Numpy\n",
    "will have converted the datetime that will have been provided in its format.\n",
    "\n",
    "[Numpy datetime] (https://docs.scipy.org/doc/numpy-1.15.0/reference/arrays.datetime.html) proposes:\n",
    "\n",
    "* numpy.datetime64 (64 because on 64 bits and datetime array was already taken)\n",
    "* numpy.timedelta64\n",
    "\n",
    "Once that says the rest works as for datetime:"
   ]
  },
  {
   "cell_type": "code",
   "execution_count": 15,
   "metadata": {},
   "outputs": [
    {
     "data": {
      "text/plain": [
       "numpy.datetime64('2005-02-25T03:30')"
      ]
     },
     "execution_count": 15,
     "metadata": {},
     "output_type": "execute_result"
    }
   ],
   "source": [
    "import numpy as np\n",
    "\n",
    "np.datetime64('2005-02-25T03:30')"
   ]
  },
  {
   "cell_type": "code",
   "execution_count": 16,
   "metadata": {},
   "outputs": [
    {
     "data": {
      "text/plain": [
       "numpy.datetime64('2009-01-21')"
      ]
     },
     "execution_count": 16,
     "metadata": {},
     "output_type": "execute_result"
    }
   ],
   "source": [
    "np.datetime64('2009') + np.timedelta64(20, 'D')"
   ]
  },
  {
   "cell_type": "markdown",
   "metadata": {
    "lang": "fr"
   },
   "source": [
    "avec comme convention pour indiquer un interval de temps :\n",
    "    \n",
    "| code | sens |\n",
    "|----|----|\n",
    "| Y |  an |\n",
    "| M | mois |\n",
    "| W | semaine |\n",
    "| D | jour |\n",
    "| h | heure |\n",
    "| m | minute |\n",
    "| s | seconde |\n",
    "| ms | milliseconde |\n",
    "\n",
    "Cette convention sert aussi à définir des types plus grossier de date. Ainsi `datetime64[D]` est une date au jour près et \n",
    "`datetime64[m]` à la minute près. Cela est utilisé lorsqu'on définit un `dtype` dans Numpy (pour arrondir une date ou pour avoir un ensemble de dates homogènes par exemples)."
   ]
  },
  {
   "cell_type": "markdown",
   "metadata": {
    "lang": "en"
   },
   "source": [
    "with as convention to indicate a time interval:\n",
    "    \n",
    "| code | meaning |\n",
    "| ---- | ---- |\n",
    "| Y | year |\n",
    "| M | month |\n",
    "| W | week |\n",
    "| D | day |\n",
    "| h | time |\n",
    "| m | minute |\n",
    "| s | second |\n",
    "| ms | millisecond |\n",
    "\n",
    "This convention is also used to define coarser types of date. So `datetime64 [D]` is a date to the day and\n",
    "`datetime64 [m]` to the minute. This is used when defining a `dtype` in Numpy (to round a date or to have a set of homogeneous dates by examples)."
   ]
  },
  {
   "cell_type": "markdown",
   "metadata": {
    "variables": {
     " PreviousNext(\"10 sys - under the hood.ipynb\", \"12 xml.ipynb\")": "&nbsp; &nbsp; &nbsp; &nbsp; &nbsp; &nbsp; &nbsp; &nbsp; &nbsp; &nbsp; &nbsp; &nbsp; &nbsp; &nbsp; &nbsp; &nbsp; &nbsp; &nbsp; &nbsp; &nbsp; &nbsp; &nbsp; &nbsp; &nbsp; &nbsp; &nbsp; &nbsp; &nbsp; &nbsp; &nbsp; &nbsp; &nbsp; &nbsp; &nbsp; &nbsp; &nbsp; &nbsp; &nbsp; &nbsp; &nbsp; &nbsp; &nbsp; &nbsp; &nbsp; &nbsp; &nbsp; &nbsp; &nbsp; &nbsp; &nbsp; &nbsp; &nbsp; &nbsp; &nbsp; &nbsp; &nbsp; &nbsp; &nbsp; &nbsp; &nbsp; &nbsp; &nbsp; &nbsp; &nbsp; &nbsp; &nbsp; &nbsp; &nbsp; &nbsp; &nbsp; &nbsp; &nbsp; &nbsp; &nbsp; &nbsp; &nbsp; &nbsp; &nbsp; &nbsp; &nbsp; &nbsp; &nbsp; &nbsp; &nbsp; &nbsp; &nbsp; &nbsp; &nbsp; &nbsp; &nbsp; &nbsp; &nbsp; &nbsp; &nbsp; &nbsp; &nbsp; &nbsp; &nbsp; &nbsp; &nbsp; &nbsp; &nbsp; &nbsp; &nbsp; &nbsp; &nbsp; &nbsp; &nbsp; &nbsp; &nbsp; &nbsp; &nbsp; &nbsp; &nbsp; &nbsp; &nbsp; &nbsp; &nbsp; &nbsp; &nbsp; &nbsp; &nbsp; &nbsp; &nbsp; &nbsp; &nbsp; &nbsp; &nbsp; &nbsp; &nbsp; &nbsp; &nbsp; &nbsp; &nbsp; &nbsp; &nbsp; &nbsp; &nbsp; &nbsp; &nbsp; &nbsp; &nbsp; &nbsp; &nbsp; &nbsp; &nbsp; &nbsp; &nbsp; &nbsp; &nbsp; &nbsp; &nbsp; &nbsp; &nbsp; &nbsp; &nbsp; &nbsp; &nbsp; &nbsp; &nbsp; &nbsp; &nbsp; &nbsp; &nbsp; &nbsp; &nbsp; &nbsp; &nbsp; &nbsp; &nbsp; &nbsp; &nbsp; &nbsp; &nbsp; &nbsp; &nbsp; &nbsp; &nbsp; &nbsp; &nbsp; &nbsp; &nbsp; &nbsp; &nbsp; &nbsp; &nbsp; &nbsp; &nbsp; &nbsp; &nbsp; &nbsp; &nbsp; &nbsp; &nbsp; &nbsp; &nbsp; &nbsp; &nbsp; &nbsp; &nbsp; <br/><center><a href=\"10 sys - under the hood.ipynb\">10 sys - under the hood</a>&nbsp; ← <a href=\"http://python3.mooc.lrde.epita.fr:8888/tree/lesson2 Deeper in Python\" style=\"text-decoration:none\"> △ </a> → &nbsp;<a href=\"12 xml.ipynb\">12 xml</a></center><br/>&nbsp;"
    }
   },
   "source": [
    "{{ PreviousNext(\"10 sys - under the hood.ipynb\", \"12 xml.ipynb\")}}"
   ]
  },
  {
   "cell_type": "code",
   "execution_count": null,
   "metadata": {},
   "outputs": [],
   "source": []
  }
 ],
 "metadata": {
  "kernelspec": {
   "display_name": "Python 3",
   "language": "python",
   "name": "python3"
  },
  "language_info": {
   "codemirror_mode": {
    "name": "ipython",
    "version": 3
   },
   "file_extension": ".py",
   "mimetype": "text/x-python",
   "name": "python",
   "nbconvert_exporter": "python",
   "pygments_lexer": "ipython3",
   "version": "3.6.7"
  },
  "nbTranslate": {
   "displayLangs": [
    "fr"
   ],
   "hotkey": "alt-t",
   "langInMainMenu": true,
   "sourceLang": "fr",
   "targetLang": "en",
   "useGoogleTranslate": true
  }
 },
 "nbformat": 4,
 "nbformat_minor": 2
}

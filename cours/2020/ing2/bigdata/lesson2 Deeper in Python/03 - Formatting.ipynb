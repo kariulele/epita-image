{
 "cells": [
  {
   "cell_type": "markdown",
   "metadata": {
    "lang": "en"
   },
   "source": [
    "# 3 ways to format a string\n",
    "\n",
    "Here is an example of this 3 ways to include data in a string:\n",
    "\n",
    "```\n",
    "name = 'John'\n",
    "age = 25\n",
    "\n",
    "\"My name is %s, I am %d.\" % (name, age)            # % way\n",
    "\"My name is {n}, I am {a}.\".format(n=name, a=age)  # format way\n",
    "f\"My name is {name}, I am {age}.\"                  # f way\n",
    "```\n",
    "\n",
    "They all display:\n",
    "`My name is John, I am 25.`\n",
    "\n",
    "The second goal of formatting it to display data as you want. We will see how to do that."
   ]
  },
  {
   "cell_type": "markdown",
   "metadata": {
    "lang": "fr"
   },
   "source": [
    "# 3 façons de formater une chaîne\n",
    "\n",
    "Voici un exemple de ces trois façons d'introduire des données dans une chaîne de caractère:\n",
    "\n",
    "```\n",
    "name = 'John'\n",
    "âge = 25\n",
    "\n",
    "\"Je m'appelle %s, j'ai %d ans.\" % (nom, âge)               # façon %\n",
    "\"Je m'appelle {n}, j'ai {a} ans.\".format(n = nom, a = âge) # façon format\n",
    "f \"Je m'appelle {nom}, j'ai {âge} ans.\"                    # façon f\n",
    "```\n",
    "\n",
    "Elles affichent toutes: `Je m'appelle John, j'ai 25 ans.`\n",
    "\n",
    "Le second but du formatage est de pouvoir afficher les données comme nous le voulons. Nous allons voir comment faire cela."
   ]
  },
  {
   "cell_type": "markdown",
   "metadata": {
    "lang": "en"
   },
   "source": [
    "## The % way\n",
    "\n",
    "This is the original way of formatting in Python. It is powerful but restricted to:\n",
    "* int\n",
    "* float\n",
    "* string\n",
    "\n",
    "You can use any other type as long it can be converted to a string:"
   ]
  },
  {
   "cell_type": "markdown",
   "metadata": {
    "lang": "fr"
   },
   "source": [
    "## Avec le %\n",
    "\n",
    "C'est la façon originale de formater en Python. Elle est puissante mais limitée aux types :\n",
    "\n",
    "* int\n",
    "* float\n",
    "* string\n",
    "\n",
    "Vous pouvez utiliser n'importe autre type tant qu'il peut être converti en chaîne de caractères :"
   ]
  },
  {
   "cell_type": "code",
   "execution_count": 1,
   "metadata": {},
   "outputs": [
    {
     "name": "stdout",
     "output_type": "stream",
     "text": [
      "The list [1, 2, 3] is small\n"
     ]
    }
   ],
   "source": [
    "print(\"The list %s is small\" % [1,2,3])"
   ]
  },
  {
   "cell_type": "markdown",
   "metadata": {
    "lang": "en"
   },
   "source": [
    "If something cannot be converting to an int, float or string, you cannot print it this way (it does not happen often).\n",
    "\n",
    "\n",
    "### Formating with the % way\n",
    "\n",
    "#### Numericals\n",
    "\n",
    "Since we don't want to see accounting in the same way than scientific data, even if the computer store them in the same way, let explain it to Python to get what we want:"
   ]
  },
  {
   "cell_type": "markdown",
   "metadata": {
    "lang": "fr"
   },
   "source": [
    "Si quelque chose ne peut pas être converti en int, float ou string, vous ne pouvez pas l'imprimer de cette façon (cela n'arrive pas souvent).\n",
    "\n",
    "\n",
    "### Formater avec le %\n",
    "\n",
    "#### Numériques\n",
    "\n",
    "Puisque nous ne voulons pas visualiser la comptabilité de la même manière que des données scientifiques, et ce même si l'ordinateur les stocke de la même manière, expliquons-le à Python pour obtenir ce que nous voulons:"
   ]
  },
  {
   "cell_type": "code",
   "execution_count": 2,
   "metadata": {},
   "outputs": [
    {
     "name": "stdout",
     "output_type": "stream",
     "text": [
      "My portfollio value is +1200.00 €\n",
      "Avogadro constant is 6.022E+23 mol⁻¹\n"
     ]
    }
   ],
   "source": [
    "x = 1200\n",
    "y = 6.022140857E23\n",
    "print(\"My portfollio value is %+.2f €\" % x)\n",
    "print(\"Avogadro constant is %.3E mol⁻¹\" % y)"
   ]
  },
  {
   "cell_type": "markdown",
   "metadata": {
    "lang": "en"
   },
   "source": [
    "As you guessed, the value replace the part of the string with `%...f` (for floating format) or `%...E` (for scientific notation) by the argument after the `%` after the string.\n",
    "\n",
    "If there is more than one place to be replaced in the string, then you should give a tuple of values as argument (see\n",
    "first exemple with John).\n",
    "\n",
    "Here is a summary of the rules of formatting for integer (with 'd' as digit) and floats:\n",
    "\n",
    "| Format string | Result | Explanation |\n",
    "|:--------------|:-------|:------------|\n",
    "| `'%3d' % 2` | `'  2'` | we book at least 3 spaces |\n",
    "| `'%3d' % 12345` | `'12345'` |  |\n",
    "| `'%*d' % (3, 2)` | `'  2'` | get # of space + value from argument |\n",
    "| `'%-3d' % 2` | `'2  '` | 3 space value left aligned |\n",
    "| `'%03d' % 2` | `'002'` | fill spaces with 0 |\n",
    "| `'% d' % 2` | `' 2'` | a space for sign and the value |\n",
    "| `'%+d' % 2` | `'+2'` | sign and value |\n",
    "| `'%+3d' % -2` | `' -2'` | |\n",
    "| `'%.4f' % 2` | `'2.0000'` | 4 digits after the dot |\n",
    "| `'%.*f' % (4, 2)` | `'2.0000'` | get # of digits after the dot from arg |\n",
    "| `'%10.4f' % 2` | `'    2.0000'` | 10 spaces, 4 digits after dot |\n",
    "| `'%010.4f' % 2` | `'00002.0000'` | same as previous but filled with 0 |\n",
    "| `'%0*.*f' % (10, 4, 2)` | `'00002.0000'` | |\n",
    "\n",
    "The end letter of the format string can be:\n",
    "\n",
    "| Letter | Meanning |\n",
    "|:------:|:---------|\n",
    "| d | Signed integer decimal. |\n",
    "| i | Signed integer decimal. |\n",
    "| o | Unsigned octal. |\n",
    "| u | Unsigned decimal. |\n",
    "| x | Unsigned hexadecimal (lowercase). |\n",
    "| X | Unsigned hexadecimal (uppercase). |\n",
    "| e | Floating point exponential format (lowercase). |\n",
    "| E | Floating point exponential format (uppercase). |\n",
    "| f | Floating point decimal format. |\n",
    "| F | Floating point decimal format. |\n",
    "| g | Same as \"e\" if exponent is greater than -4 or less than precision, \"f\" otherwise. |\n",
    "| G | Same as \"E\" if exponent is greater than -4 or less than precision, \"F\" otherwise. |\n",
    "| c | Single character (accepts integer or single character string). |\n",
    "| r | String (converts any python object using repr()). |\n",
    "| s | String (converts any python object using str()). |\n",
    "| % | No argument is converted, results in a \"%\" character in the result. (The complete specification is %%.) |"
   ]
  },
  {
   "cell_type": "markdown",
   "metadata": {
    "lang": "fr"
   },
   "source": [
    "Comme vous l'avez deviné, la valeur qui remplace la partie de la chaîne `%...f` (pour un réel, float,) ou `%...E` (pour la notation scientifique) est l'argument après le `%` après la chaîne.\n",
    "\n",
    "S'il y a plus d'un endroit à remplacer dans la chaîne, vous devez alors donner un n-uplet de valeurs en argument (voir\n",
    "premier exemple avec John).\n",
    "\n",
    "Voici un résumé des règles de formatage pour un entier (**d**igit) et pour un réel (**f**loat):\n",
    "\n",
    "| Chaîne de format | Résultat | Explication |\n",
    "|: -------------- |: ------- |: ------------ |\n",
    "| `'%3d'% 2` | `'  2'` | réserve au moins 3 cases |\n",
    "| `'%3d'% 12345` |` '12345'` | |\n",
    "| `'%*d'% (3, 2)` | `'  2'` | nb de cases + valeur en argument |\n",
    "| `'%-3d'% 2` | ` '2  ' `| 3 cases et valeur alignée à gauche |\n",
    "| `'%03d'% 2` | ` '002'` | 3 cases et remplissage avec 0 |\n",
    "| `'% d'% 2`   | `' 2'` | une case pour le signe de la valeur |\n",
    "| `'%+d'% 2` | `'+2'` | Signe  et valeur |\n",
    "| `'%+ 3d'% -2` |` ' -2'` | |\n",
    "| `'%.4f'% 2` |` '2.0000'` | 4 chiffres après la virgule |\n",
    "| `'%.* f'% (4, 2)` | `'2.0000'` | nb de chiffres après la virgule + valeur en arg |\n",
    "| `'%10.4f'% 2` |` '2.0000'` | 10 cases, 4 chiffres après la virgule |\n",
    "| `'%010.4f'% 2` |` '00002.0000'` | comme précédent mais rempli avec 0 |\n",
    "| `'%0*.* f'% (10, 4, 2)` | `'00002.0000'` | tout dans l'argument|\n",
    "\n",
    "La lettre de fin de la chaîne de format peut être:\n",
    "\n",
    "| Lettre | Signification |\n",
    "|: ------: |: --------- |\n",
    "| d | Entier décimal signé. |\n",
    "| i | Entier décimal. |\n",
    "| o | octal non signé. |\n",
    "| u | Décimal non signé. |\n",
    "| x | hexadécimal non signé (minuscule). |\n",
    "| X | hexadécimal non signé (majuscule). |\n",
    "| e | Format exponentiel à virgule flottante (minuscule). |\n",
    "| E | Format exponentiel à virgule flottante (majuscule). |\n",
    "| f | Format décimal à virgule flottante. |\n",
    "| F | Format décimal à virgule flottante. |\n",
    "| g | Identique à \"e\" si l'exposant est supérieur à -4 ou inférieur à la précision, \"f\" sinon. |\n",
    "| G | Identique à \"E\" si l'exposant est supérieur à -4 ou inférieur à la précision, \"F\" sinon. |\n",
    "| c | Caractère unique (accepte un entier ou une chaîne de caractères unique). |\n",
    "| r | String (convertit tout objet python à l'aide de repr ()). |\n",
    "| s | String (convertit tout objet python en utilisant str ()). |\n",
    "| % | Aucun argument n'est converti, ce qui entraîne un caractère \"%\" dans le résultat. (La spécification complète est %%.) |"
   ]
  },
  {
   "cell_type": "markdown",
   "metadata": {
    "lang": "en"
   },
   "source": [
    "#### String\n",
    "\n",
    "Even strings may need to be formatted to display something nice. See how names are left-justified and trunked if too long:"
   ]
  },
  {
   "cell_type": "markdown",
   "metadata": {
    "lang": "fr"
   },
   "source": [
    "#### Chaîne de caractère\n",
    "\n",
    "Même les chaînes de caractère peuvent nécessiter d'être formatées. Voyez comment les noms sont justifiés à gauche et coupés si trop longs:"
   ]
  },
  {
   "cell_type": "code",
   "execution_count": 3,
   "metadata": {},
   "outputs": [
    {
     "name": "stdout",
     "output_type": "stream",
     "text": [
      "Alice       has 12.5/20\n",
      "Alexandre   has 16.0/20\n",
      "Bob         has 11.0/20\n",
      "AVeryVeryL  has  5.0/20\n"
     ]
    }
   ],
   "source": [
    "math_exam = {'Alice':12.5, 'Alexandre':16, 'Bob':11, 'AVeryVeryLongName':5}\n",
    "\n",
    "for n,m in math_exam.items():\n",
    "    print(\"%-11.10s has %4.1f/20\" % (n,m))"
   ]
  },
  {
   "cell_type": "markdown",
   "metadata": {
    "lang": "en"
   },
   "source": [
    "where `%-11.10s` means:\n",
    "* %: begin format\n",
    "* s: a string (ends format too)\n",
    "* 11: attribute 11 spaces min\n",
    "* .10: make it 10 chars max\n",
    "* -: left-justified"
   ]
  },
  {
   "cell_type": "markdown",
   "metadata": {
    "lang": "fr"
   },
   "source": [
    "où `% -11.10s` signifie:\n",
    "\n",
    "* % : commence le format\n",
    "* s : une chaîne de caractère (termine aussi le format)\n",
    "* 11 : attribue 11 cases au minimum\n",
    "* .10 : autorise 10 caractères maximum\n",
    "* -: justifie à gauche"
   ]
  },
  {
   "cell_type": "markdown",
   "metadata": {
    "lang": "en"
   },
   "source": [
    "## The f way\n",
    "\n",
    "When you know the % format, the f format is easy. All you have to do is to replace `'%3.1d' % x` by `f'{x:3.1d}'` which is \n",
    "\n",
    "* more compact, \n",
    "* easier to read since the variable and its format are together\n",
    "* without argument after the string\n",
    "\n",
    "Our previous exemple is now:"
   ]
  },
  {
   "cell_type": "markdown",
   "metadata": {
    "lang": "fr"
   },
   "source": [
    "## La méthode f\n",
    "\n",
    "Lorsque vous connaissez le formatage avec le %, le formatage f est simple. Il suffit de remplacer `'%3.1d' % x` par `f'{x: 3.1d}'` ce qui est\n",
    "\n",
    "* plus compact,\n",
    "* plus facile à lire puisque la variable et son format sont ensemble\n",
    "* sans argument après la chaîne\n",
    "\n",
    "Il n'est pas obligatoire d'indiquer le type de la valeur si on ne désire pas de formatage spécial (cf l'exemple en haut de la page).\n",
    "\n",
    "Avec la méthode f l'exemple précédent est maintenant:"
   ]
  },
  {
   "cell_type": "code",
   "execution_count": 4,
   "metadata": {},
   "outputs": [
    {
     "name": "stdout",
     "output_type": "stream",
     "text": [
      "Alice       has 12.5/20\n",
      "Alexandre   has 16.0/20\n",
      "Bob         has 11.0/20\n",
      "AVeryVeryL  has  5.0/20\n"
     ]
    }
   ],
   "source": [
    "for n,m in math_exam.items():\n",
    "    print(f\"{n:<11.10s} has {m:4.1f}/20\")"
   ]
  },
  {
   "cell_type": "markdown",
   "metadata": {
    "lang": "en"
   },
   "source": [
    "Note that the we already get an exception to the just replace rule. Left justification is `<` and not anymore `-` (right is `>` and center is `^`).\n",
    "\n",
    "The value can be any math operation or complex operation:"
   ]
  },
  {
   "cell_type": "markdown",
   "metadata": {
    "lang": "fr"
   },
   "source": [
    "Notez que nous avons déjà une exception à la règle de remplacement. L'alignement à gauche est `<` et non `-` (à droite c'est `>` et centré est` ^ `).\n",
    "\n",
    "Enfin, on peut mettre n'importe quelle opération mathématique ou opération complexe en tant que valeur:"
   ]
  },
  {
   "cell_type": "code",
   "execution_count": 5,
   "metadata": {},
   "outputs": [
    {
     "data": {
      "text/plain": [
       "'Square root of 2 is 1.4142'"
      ]
     },
     "execution_count": 5,
     "metadata": {},
     "output_type": "execute_result"
    }
   ],
   "source": [
    "import math\n",
    "x = 2\n",
    "f\"Square root of {x} is {math.sqrt(x):.4f}\""
   ]
  },
  {
   "cell_type": "markdown",
   "metadata": {
    "lang": "en"
   },
   "source": [
    "An f string can also be with a `'''` for text on many lignes (note the return, `\\n`, which becomes a new\n",
    "line when printed)."
   ]
  },
  {
   "cell_type": "markdown",
   "metadata": {
    "lang": "fr"
   },
   "source": [
    "Une chaîne f peut aussi être avec un `'''` pour le texte sur plusieurs lignes (notez le retour, `\\n`, qui devient une nouvelle ligne lorsqu'on l'imprime)."
   ]
  },
  {
   "cell_type": "code",
   "execution_count": 6,
   "metadata": {},
   "outputs": [
    {
     "name": "stdout",
     "output_type": "stream",
     "text": [
      "\n",
      "a = 4\n",
      "b = 7.4\n",
      "\n"
     ]
    },
    {
     "data": {
      "text/plain": [
       "'\\na = 4\\nb = 7.4\\n'"
      ]
     },
     "execution_count": 6,
     "metadata": {},
     "output_type": "execute_result"
    }
   ],
   "source": [
    "text = f'''\n",
    "a = {2+2}\n",
    "b = {7.432:.1f}\n",
    "'''\n",
    "print(text)\n",
    "text"
   ]
  },
  {
   "cell_type": "markdown",
   "metadata": {
    "lang": "en"
   },
   "source": [
    "#### Exercice\n",
    "\n",
    "Guess the output of these cells:"
   ]
  },
  {
   "cell_type": "markdown",
   "metadata": {
    "lang": "fr"
   },
   "source": [
    "#### Exercice\n",
    "\n",
    "Devinez la sortie de ces cellules:"
   ]
  },
  {
   "cell_type": "code",
   "execution_count": null,
   "metadata": {},
   "outputs": [],
   "source": [
    "'a'+'b'+f'{10+5}'+'{20%3}'+f'str<{\"hi\":^4}>'+'d'+'e'"
   ]
  },
  {
   "cell_type": "code",
   "execution_count": null,
   "metadata": {},
   "outputs": [],
   "source": [
    "f'{list({x%3 for x in range(10)})}'"
   ]
  },
  {
   "cell_type": "markdown",
   "metadata": {
    "lang": "en"
   },
   "source": [
    "## What about the format way?\n",
    "\n",
    "The f way has been introduced in Python 3.6 and I beleive it is better than the format way, so no real need to learn the format way.\n",
    "\n",
    "However here is a description in few words:\n",
    "\n",
    "* the string structure is the same than in the f way if you name the variables\n",
    "* the real variables are arguments of the `format` method (a method of the String class)\n",
    "* you can use numbers in the string format to refer to arguments"
   ]
  },
  {
   "cell_type": "markdown",
   "metadata": {
    "lang": "fr"
   },
   "source": [
    "## Qu'en est-il du formatage avec format ?\n",
    "\n",
    "La méthode f a été introduite dans Python 3.6 et je pense qu'elle remplace avantageusement format, donc pas de réel besoin d'apprendre le formatage format.\n",
    "\n",
    "Cependant, voici une présentation en quelques mots:\n",
    "\n",
    "* la structure de la chaîne est identique à celle de f si vous nommez les variables\n",
    "* les données sont des arguments de la méthode `format` (une méthode de la classe String)\n",
    "* vous pouvez utiliser des nombres dans le format de chaîne pour faire référence aux arguments"
   ]
  },
  {
   "cell_type": "code",
   "execution_count": 10,
   "metadata": {},
   "outputs": [
    {
     "name": "stdout",
     "output_type": "stream",
     "text": [
      "The mark of John is 16.8.\n",
      "The mark of John is 16.78.\n"
     ]
    }
   ],
   "source": [
    "name = 'John'\n",
    "mark = 16.78\n",
    "\n",
    "print(\"The mark of {n} is {m:.1f}.\".format(n=name, m=mark)) \n",
    "print(\"The mark of {0} is {1}.\".format(name, mark))"
   ]
  },
  {
   "cell_type": "markdown",
   "metadata": {},
   "source": [
    "{{ PreviousNext(\"02 - La porté des variables.ipynb\", \"04 - Generators.ipynb\")}}"
   ]
  }
 ],
 "metadata": {
  "kernelspec": {
   "display_name": "Python 3",
   "language": "python",
   "name": "python3"
  },
  "language_info": {
   "codemirror_mode": {
    "name": "ipython",
    "version": 3
   },
   "file_extension": ".py",
   "mimetype": "text/x-python",
   "name": "python",
   "nbconvert_exporter": "python",
   "pygments_lexer": "ipython3",
   "version": "3.6.7"
  },
  "nbTranslate": {
   "displayLangs": [
    "fr"
   ],
   "hotkey": "alt-t",
   "langInMainMenu": true,
   "sourceLang": "en",
   "targetLang": "fr",
   "useGoogleTranslate": true
  }
 },
 "nbformat": 4,
 "nbformat_minor": 1
}

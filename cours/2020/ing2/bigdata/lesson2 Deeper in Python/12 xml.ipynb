{
 "cells": [
  {
   "cell_type": "markdown",
   "metadata": {},
   "source": [
    "# XML\n",
    "\n",
    "XML est un système d'encodage de données largement répandu qui peut être lu par un humain tout comme par un programme. Il est assez verbeux et certainement pas adapté au stockage de très grandes données, cependant on le rencontre assez souvent pour devoir tôt ou tard s'y attaquer. Voici la bibliothèque [`xml` de Python](https://docs.python.org/3/library/xml.html) qui permet de simplifier le processus.\n",
    "\n",
    "Le but n'est pas d'expliquer XML ici mais de récupérer dans un fichier XML les données qui nous intéresse. Pour cela on va utiliser le fichier XML des prix des carburants à la pompe (cf https://www.prix-carburants.gouv.fr/rubrique/opendata/ )."
   ]
  },
  {
   "cell_type": "code",
   "execution_count": 1,
   "metadata": {},
   "outputs": [
    {
     "name": "stdout",
     "output_type": "stream",
     "text": [
      "<?xml version=\"1.0\" encoding=\"ISO-8859-1\" standalone=\"yes\"?>\r\n",
      "<pdv_liste>\r\n",
      "  <pdv id=\"1000001\" latitude=\"4620114\" longitude=\"519791\" cp=\"01000\" pop=\"R\">\r\n",
      "    <adresse>596 AVENUE DE TREVOUX</adresse>\r\n",
      "    <ville>SAINT-DENIS-L�S-BOURG</ville>\r\n",
      "    <services>\r\n",
      "      <service>Station de gonflage</service>\r\n",
      "      <service>Vente de gaz domestique (Butane, Propane)</service>\r\n",
      "      <service>Automate CB</service>\r\n",
      "    </services>\r\n",
      "    <prix nom=\"Gazole\" id=\"1\" maj=\"2018-08-25T09:56:54\" valeur=\"1425\"/>\r\n",
      "    <prix nom=\"SP95\" id=\"2\" maj=\"2018-08-25T09:56:55\" valeur=\"1508\"/>\r\n",
      "    <prix nom=\"SP98\" id=\"6\" maj=\"2018-08-25T09:56:55\" valeur=\"1549\"/>\r\n",
      "    <rupture id=\"5\" nom=\"E10\" debut=\"2015-02-09T16:19:00\" fin=\"\"/>\r\n",
      "    <rupture id=\"3\" nom=\"E85\" debut=\"2017-09-16T09:50:23\" fin=\"\"/>\r\n",
      "    <rupture id=\"4\" nom=\"GPLc\" debut=\"2017-09-16T09:50:23\" fin=\"\"/>\r\n",
      "  </pdv>\r\n",
      "  <pdv id=\"1000002\" latitude=\"4621842\" longitude=\"522767\" cp=\"01000\" pop=\"R\">\r\n",
      "    <adresse>16 Avenue de Marboz</adresse>\r\n",
      "    <ville>BOURG-EN-BRESSE</ville>\r\n"
     ]
    }
   ],
   "source": [
    "!head -20 data/PrixCarburants_quotidien_20180826.xml  # let see the head of the XML file"
   ]
  },
  {
   "cell_type": "markdown",
   "metadata": {},
   "source": [
    "Disons que l'on désire récupérer l'adresse postale de toutes les stations qui vendent du sans plomb 95, SP95, et le prix. \n",
    "\n",
    "On voit que l'information est stockée dans un arbre dont la racine est `pdv_liste`.\n",
    "Les informations qui nous intéressent sont dans\n",
    "\n",
    "* chaque élément `pdv` qui est un point de vente,\n",
    "* les sous-éléments `adresse`, `ville` et `prix`\n",
    "* les attributs `cp` de l'élément `pdv` et `valeur` de `prix`\n",
    "\n",
    "On note qu'il y a plusieurs sous-élements `prix` par point de vente et qu'il faut donc choisir le bon.\n",
    "\n",
    "Le but est de ranger toutes ces informations dans un tableau ayant pour chaque ligne les champs `adresse`, `cp`, `ville`, `prix` (prix étant ici la valeur du prix)."
   ]
  },
  {
   "cell_type": "code",
   "execution_count": 2,
   "metadata": {},
   "outputs": [],
   "source": [
    "import xml.etree.ElementTree as ET\n",
    "tree = ET.parse('data/PrixCarburants_quotidien_20180826.xml')"
   ]
  },
  {
   "cell_type": "markdown",
   "metadata": {},
   "source": [
    "La racine, obtenue avec `getroot`, est le premier élément.\n",
    "\n",
    "Vérifions que notre racine s'appelle bien <tt>pdv_liste</tt> et qu'il n'y a pas d'attributs pour cet élément :"
   ]
  },
  {
   "cell_type": "code",
   "execution_count": 3,
   "metadata": {},
   "outputs": [
    {
     "name": "stdout",
     "output_type": "stream",
     "text": [
      "pdv_liste {}\n"
     ]
    }
   ],
   "source": [
    "root = tree.getroot()\n",
    "print(root.tag, root.attrib)"
   ]
  },
  {
   "cell_type": "markdown",
   "metadata": {},
   "source": [
    "En plus de récupérer son nom `tag` et ses attributs `attrib`, pour chaque élément il y a trois cas possibles :\n",
    "\n",
    "1. l'élément a des sous élements\n",
    "2. l'élément n'a pas de sous-élements, c'est une feuille, il a un contenu (un texte, un nombre)\n",
    "3. l'élément a des sous-éléments **et** aussi du contenu qui peut être avant ou après les sous élements.\n",
    "\n",
    "Les opérations possibles sont suivant les cas :\n",
    "\n",
    "1. on peut \n",
    "    * itérer sur l'élément `for x in element:`\n",
    "    * chercher un sous-élement avec `find` ou des sous-élements avec `findall`\n",
    "2. on peut récupérer la valeur de l'élement avec `text`.\n",
    "3. on peut\n",
    "    * itérer ou chercher un ou des sous-éléments\n",
    "    * récupérer la valeur avant les sous-élements avec `text`\n",
    "    * récupérer la valeur après les sous-élements avec `tail`"
   ]
  },
  {
   "cell_type": "code",
   "execution_count": 8,
   "metadata": {},
   "outputs": [
    {
     "name": "stdout",
     "output_type": "stream",
     "text": [
      "pdv\n",
      "{'id': '1000001', 'latitude': '4620114', 'longitude': '519791', 'cp': '01000', 'pop': 'R'}\n",
      "SAINT-DENIS-LèS-BOURG\n"
     ]
    },
    {
     "data": {
      "text/plain": [
       "12635"
      ]
     },
     "execution_count": 8,
     "metadata": {},
     "output_type": "execute_result"
    }
   ],
   "source": [
    "for element in root:\n",
    "    print(element.tag)\n",
    "    print(element.attrib)\n",
    "    print(element.find('ville').text)\n",
    "    break # it would be too long\n",
    "len(root)"
   ]
  },
  {
   "cell_type": "markdown",
   "metadata": {},
   "source": [
    "On peut donc écrire notre programme."
   ]
  },
  {
   "cell_type": "code",
   "execution_count": 5,
   "metadata": {},
   "outputs": [],
   "source": [
    "result = []\n",
    "\n",
    "for element in root:\n",
    "    cp = element.attrib['cp']\n",
    "    adresse = element.find('adresse').text\n",
    "    ville = element.find('ville').text\n",
    "    for p in element.findall('prix'):\n",
    "        if p.attrib['nom'] == 'SP95':\n",
    "            prix = int(p.attrib['valeur']) / 1000\n",
    "            result.append([adresse, cp, ville, prix])"
   ]
  },
  {
   "cell_type": "code",
   "execution_count": 6,
   "metadata": {},
   "outputs": [
    {
     "data": {
      "text/plain": [
       "['596 AVENUE DE TREVOUX', '01000', 'SAINT-DENIS-LèS-BOURG', 1.508]"
      ]
     },
     "execution_count": 6,
     "metadata": {},
     "output_type": "execute_result"
    }
   ],
   "source": [
    "result[0]"
   ]
  },
  {
   "cell_type": "code",
   "execution_count": 7,
   "metadata": {},
   "outputs": [
    {
     "data": {
      "text/plain": [
       "5216"
      ]
     },
     "execution_count": 7,
     "metadata": {},
     "output_type": "execute_result"
    }
   ],
   "source": [
    "len(result)"
   ]
  },
  {
   "cell_type": "markdown",
   "metadata": {},
   "source": [
    "On voit que seules 5216 stations sur les 12635 vendent du SP95. Cela est du au fait que le SP95-E10 (E10 dans notre fichier) remplace doucement le SP95."
   ]
  },
  {
   "cell_type": "markdown",
   "metadata": {},
   "source": [
    "### Plus\n",
    "\n",
    "Cette présentation n'est qu'une introduction à XML sous Python. Pour plus d'information comme \n",
    "\n",
    "* éviter les failles de sécurité en lisant un fichier XML récupéré sur le web,\n",
    "* écrire un fichier XML,\n",
    "* utiliser un schéma qui décrit le XML,\n",
    "* et d'autres points.\n",
    "\n",
    "regarder [la documentation et d'autres bibliothèques plus riches](https://wiki.python.org/moin/PythonXml)."
   ]
  },
  {
   "cell_type": "markdown",
   "metadata": {
    "variables": {
     " PreviousNext(\"11 datetime.ipynb\", \"../lesson3 Object Python/01 Classes and objects.ipynb\")": "&nbsp; &nbsp; &nbsp; &nbsp; &nbsp; &nbsp; &nbsp; &nbsp; &nbsp; &nbsp; &nbsp; &nbsp; &nbsp; &nbsp; &nbsp; &nbsp; &nbsp; &nbsp; &nbsp; &nbsp; &nbsp; &nbsp; &nbsp; &nbsp; &nbsp; &nbsp; &nbsp; &nbsp; &nbsp; &nbsp; &nbsp; &nbsp; &nbsp; &nbsp; &nbsp; &nbsp; &nbsp; &nbsp; &nbsp; &nbsp; &nbsp; &nbsp; &nbsp; &nbsp; &nbsp; &nbsp; &nbsp; &nbsp; &nbsp; &nbsp; &nbsp; &nbsp; &nbsp; &nbsp; &nbsp; &nbsp; &nbsp; &nbsp; &nbsp; &nbsp; &nbsp; &nbsp; &nbsp; &nbsp; &nbsp; &nbsp; &nbsp; &nbsp; &nbsp; &nbsp; &nbsp; &nbsp; &nbsp; &nbsp; &nbsp; &nbsp; &nbsp; &nbsp; &nbsp; &nbsp; &nbsp; &nbsp; &nbsp; &nbsp; &nbsp; &nbsp; &nbsp; &nbsp; &nbsp; &nbsp; &nbsp; &nbsp; &nbsp; &nbsp; &nbsp; &nbsp; &nbsp; &nbsp; &nbsp; &nbsp; &nbsp; &nbsp; &nbsp; &nbsp; &nbsp; &nbsp; &nbsp; &nbsp; &nbsp; &nbsp; &nbsp; &nbsp; &nbsp; &nbsp; &nbsp; &nbsp; &nbsp; &nbsp; &nbsp; &nbsp; &nbsp; &nbsp; &nbsp; &nbsp; &nbsp; &nbsp; &nbsp; &nbsp; &nbsp; &nbsp; &nbsp; &nbsp; &nbsp; &nbsp; &nbsp; &nbsp; &nbsp; &nbsp; &nbsp; &nbsp; &nbsp; &nbsp; &nbsp; &nbsp; &nbsp; &nbsp; &nbsp; &nbsp; &nbsp; &nbsp; &nbsp; &nbsp; &nbsp; &nbsp; &nbsp; &nbsp; &nbsp; &nbsp; &nbsp; &nbsp; &nbsp; &nbsp; &nbsp; &nbsp; &nbsp; &nbsp; &nbsp; &nbsp; &nbsp; &nbsp; &nbsp; &nbsp; &nbsp; &nbsp; &nbsp; &nbsp; &nbsp; &nbsp; &nbsp; &nbsp; &nbsp; &nbsp; &nbsp; &nbsp; &nbsp; &nbsp; &nbsp; &nbsp; &nbsp; &nbsp; &nbsp; &nbsp; &nbsp; &nbsp; &nbsp; &nbsp; &nbsp; &nbsp; &nbsp; &nbsp; <br/><center><a href=\"11 datetime.ipynb\">11 datetime</a>&nbsp; ← <a href=\"http://python3.mooc.lrde.epita.fr:8888/tree/lesson2 Deeper in Python\" style=\"text-decoration:none\"> △ </a> → &nbsp;<a href=\"../lesson3 Object Python/01 Classes and objects.ipynb\">01 Classes and objects</a></center><br/>&nbsp;"
    }
   },
   "source": [
    "{{ PreviousNext(\"11 datetime.ipynb\", \"../lesson3 Object Python/01 Classes and objects.ipynb\")}}"
   ]
  },
  {
   "cell_type": "code",
   "execution_count": null,
   "metadata": {},
   "outputs": [],
   "source": []
  }
 ],
 "metadata": {
  "kernelspec": {
   "display_name": "Python 3",
   "language": "python",
   "name": "python3"
  },
  "language_info": {
   "codemirror_mode": {
    "name": "ipython",
    "version": 3
   },
   "file_extension": ".py",
   "mimetype": "text/x-python",
   "name": "python",
   "nbconvert_exporter": "python",
   "pygments_lexer": "ipython3",
   "version": "3.6.6"
  },
  "nbTranslate": {
   "displayLangs": [
    "en",
    "fr"
   ],
   "hotkey": "alt-t",
   "langInMainMenu": true,
   "sourceLang": "fr",
   "targetLang": "en",
   "useGoogleTranslate": true
  }
 },
 "nbformat": 4,
 "nbformat_minor": 2
}

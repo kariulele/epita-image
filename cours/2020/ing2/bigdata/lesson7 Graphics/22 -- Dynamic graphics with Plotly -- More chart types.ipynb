{
 "cells": [
  {
   "cell_type": "markdown",
   "metadata": {},
   "source": [
    "On ne va pas regarder en détail chaque type de graphique car cela reviendrait à faire le site de Plotly. Voici une selection de graphiques qui peuvent avoir leur intérêt dans le cadre de ce cours. N'hésitez pas à aller sur \n",
    "[le site web de Plotly](https://plot.ly/python/) si vous ne trouvez pas ce que vous cherchez ici.\n",
    "\n",
    "## Graphiques scientifiques\n",
    "\n",
    "\n",
    "| Fonction | Image | Fonction | Image |\n",
    "|:---------|:-----:|:---------|:-----:|\n",
    "| [quiver](https://plot.ly/python/quiver-plots/) | <img width='500px' src='images/quiver.png'/> | [streamline](https://plot.ly/python/streamline-plots/) | <img width='500px' src='images/streamline.png'/> |\n",
    "| [contour](https://plot.ly/python/contour-plots/) | <img width='500px' src='images/contour.png'/> | [ternary contour](https://plot.ly/python/ternary-contour/) | <img width='500px' src='images/ternary.png'/> |\n",
    "| [Scatterpolar](https://plot.ly/python/polar-chart/) | <img width='500px' src='images/scatterpolar.png'/> | [chord-diagram](https://plot.ly/python/filled-chord-diagram/) | <img width='500px' src='images/chord-diagram.png'/> |\n",
    "\n",
    "Pour une liste plus complète, voir https://plot.ly/python/scientific-charts/."
   ]
  },
  {
   "cell_type": "markdown",
   "metadata": {},
   "source": [
    "## Graphiques statistiques\n",
    "\n",
    "| Fonction | Image | Fonction | Image |\n",
    "|:---------|:-----:|:---------|:-----:|\n",
    "| [2D density](https://plot.ly/python/2d-density-plots/) | <img width='500px' src='images/2d-density.png'/> | [distplot](https://plot.ly/python/distplot/) | <img width='500px' src='images/distplot.png'/> |\n",
    "| [heatmaps](https://plot.ly/python/heatmaps/)  and [annotated heatmaps](https://plot.ly/python/annotated_heatmap/) | <img width='500px' src='images/heatmap.png'/> | [violin](https://plot.ly/python/violin-plot/) |  <img width='500px' src='images/violin.png'/> |\n",
    "\n"
   ]
  },
  {
   "cell_type": "markdown",
   "metadata": {},
   "source": [
    "## Graphiques financiers\n",
    "\n",
    "| Fonction | Image | Fonction | Image |\n",
    "|:---------|:-----:|:---------|:-----:|\n",
    "| [candlestick](https://plot.ly/python/candlestick-charts/) | <img width='500px' src='images/candlestick.png'/> | [ohlc](https://plot.ly/python/ohlc-charts/) | <img width='500px' src='images/ohlc.png'/> |\n"
   ]
  },
  {
   "cell_type": "markdown",
   "metadata": {},
   "source": [
    "## Divers\n",
    "\n",
    "| Fonction | Image | Fonction | Image |\n",
    "|:---------|:-----:|:---------|:-----:|\n",
    "| [bullet](https://plot.ly/python/bullet-charts/) | <img width='500px' src='images/bullet.png'/> | [gantt](https://plot.ly/python/gantt/) | <img width='500px' src='images/gantt.png'/> |\n",
    "| [table](https://plot.ly/python/figure-factory/table/) | <img width='500px' src='images/table.png'/> | | | \n"
   ]
  },
  {
   "cell_type": "markdown",
   "metadata": {
    "variables": {
     " PreviousNext(\"21 -- Dynamic graphics with Plotly -- Scatter and bubbles.ipynb\", \"23 -- Dynamic graphics with Plotly -- Subplots.ipynb\")": "&nbsp; &nbsp; &nbsp; &nbsp; &nbsp; &nbsp; &nbsp; &nbsp; &nbsp; &nbsp; &nbsp; &nbsp; &nbsp; &nbsp; &nbsp; &nbsp; &nbsp; &nbsp; &nbsp; &nbsp; &nbsp; &nbsp; &nbsp; &nbsp; &nbsp; &nbsp; &nbsp; &nbsp; &nbsp; &nbsp; &nbsp; &nbsp; &nbsp; &nbsp; &nbsp; &nbsp; &nbsp; &nbsp; &nbsp; &nbsp; &nbsp; &nbsp; &nbsp; &nbsp; &nbsp; &nbsp; &nbsp; &nbsp; &nbsp; &nbsp; &nbsp; &nbsp; &nbsp; &nbsp; &nbsp; &nbsp; &nbsp; &nbsp; &nbsp; &nbsp; &nbsp; &nbsp; &nbsp; &nbsp; &nbsp; &nbsp; &nbsp; &nbsp; &nbsp; &nbsp; &nbsp; &nbsp; &nbsp; &nbsp; &nbsp; &nbsp; &nbsp; &nbsp; &nbsp; &nbsp; &nbsp; &nbsp; &nbsp; &nbsp; &nbsp; &nbsp; &nbsp; &nbsp; &nbsp; &nbsp; &nbsp; &nbsp; &nbsp; &nbsp; &nbsp; &nbsp; &nbsp; &nbsp; &nbsp; &nbsp; &nbsp; &nbsp; &nbsp; &nbsp; &nbsp; &nbsp; &nbsp; &nbsp; &nbsp; &nbsp; &nbsp; &nbsp; &nbsp; &nbsp; &nbsp; &nbsp; &nbsp; &nbsp; &nbsp; &nbsp; &nbsp; &nbsp; &nbsp; &nbsp; &nbsp; &nbsp; &nbsp; &nbsp; &nbsp; &nbsp; &nbsp; &nbsp; &nbsp; &nbsp; &nbsp; &nbsp; &nbsp; &nbsp; &nbsp; &nbsp; &nbsp; &nbsp; &nbsp; &nbsp; &nbsp; &nbsp; &nbsp; &nbsp; &nbsp; &nbsp; &nbsp; &nbsp; &nbsp; &nbsp; &nbsp; &nbsp; &nbsp; &nbsp; &nbsp; &nbsp; &nbsp; &nbsp; &nbsp; &nbsp; &nbsp; &nbsp; &nbsp; &nbsp; &nbsp; &nbsp; &nbsp; &nbsp; &nbsp; &nbsp; &nbsp; &nbsp; &nbsp; &nbsp; &nbsp; &nbsp; &nbsp; &nbsp; &nbsp; &nbsp; &nbsp; &nbsp; &nbsp; &nbsp; &nbsp; &nbsp; &nbsp; &nbsp; &nbsp; &nbsp; &nbsp; &nbsp; &nbsp; &nbsp; &nbsp; &nbsp; <br/><center><a href=\"21 -- Dynamic graphics with Plotly -- Scatter and bubbles.ipynb\">21 -- Dynamic graphics with Plotly -- Scatter and bubbles</a>&nbsp; ← <a href=\"http://python3.mooc.lrde.epita.fr:8888/tree/lesson7 Graphics\" style=\"text-decoration:none\"> △ </a> → &nbsp;<a href=\"23 -- Dynamic graphics with Plotly -- Subplots.ipynb\">23 -- Dynamic graphics with Plotly -- Subplots</a></center><br/>&nbsp;"
    }
   },
   "source": [
    "{{ PreviousNext(\"21 -- Dynamic graphics with Plotly -- Scatter and bubbles.ipynb\", \"23 -- Dynamic graphics with Plotly -- Subplots.ipynb\")}}"
   ]
  }
 ],
 "metadata": {
  "kernelspec": {
   "display_name": "Python 3",
   "language": "python",
   "name": "python3"
  },
  "language_info": {
   "codemirror_mode": {
    "name": "ipython",
    "version": 3
   },
   "file_extension": ".py",
   "mimetype": "text/x-python",
   "name": "python",
   "nbconvert_exporter": "python",
   "pygments_lexer": "ipython3",
   "version": "3.6.6"
  },
  "nbTranslate": {
   "displayLangs": [
    "en",
    "fr"
   ],
   "hotkey": "alt-t",
   "langInMainMenu": true,
   "sourceLang": "fr",
   "targetLang": "en",
   "useGoogleTranslate": true
  }
 },
 "nbformat": 4,
 "nbformat_minor": 2
}

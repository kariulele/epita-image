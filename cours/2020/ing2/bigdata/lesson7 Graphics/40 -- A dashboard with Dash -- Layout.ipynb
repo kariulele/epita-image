{
 "cells": [
  {
   "cell_type": "markdown",
   "metadata": {},
   "source": [
    "## Un tableau de bord\n",
    "\n",
    "On connait la puissance d'un petit dessin vs un long discours\n",
    "et on a vu qu'en affichant les bons graphes on peut faire ressortir des informations de données. \n",
    "On va regarder maintenant comment assembler ces graphes et ajouter des curseurs qui permettent\n",
    "de les contrôler pour chercher une information ou surveiller un flux de données par exemple.\n",
    "\n",
    "Pour cela on fabrique son tableau de bord qui est un mélange de\n",
    "\n",
    "* HTML pour la partie mise en page\n",
    "* Plotly pour les graphes\n",
    "* [Dash](https://dash.plot.ly/) pour les composants d'interaction comme les curseurs, menus... et pour l'assemblage du tout.\n",
    "\n",
    "#### On sort de Jupyter Notebook\n",
    "\n",
    "L'écriture d'un tableau de bord se fait dans un/des fichier Python que l'on execute pour démarrer le serveur web qui présente le tableau de bord dans son navigateur. Aussi il ne faut pas essayer d'executer les cellules dans cette page, cela ne marchera pas.\n",
    "\n",
    "### Installation de Dash sur sa machine\n",
    "\n",
    "Comme indiqué ci-dessus cette partie utilise Dash qui n'est pas intégré dans Jupyter Notebook. Aussi cela demande\n",
    "que vous installiez tout ce qui est nécessaire sur votre machine comme indiqué [ici](https://dash.plot.ly/installation).\n",
    "\n",
    "### Mise en forme du tableau de bord\n",
    "\n",
    "Dash propose un [tutorial](https://dash.plot.ly/) bien fait que je suis. \n",
    "Le premier exemple en est extrait, voir [ici](https://dash.plot.ly/getting-started).\n",
    "\n",
    "Pour ce premier exemple on met \n",
    "\n",
    "* un titre de niveau 1\n",
    "* du texte en HTML\n",
    "* un graphe Plotly :"
   ]
  },
  {
   "cell_type": "code",
   "execution_count": null,
   "metadata": {},
   "outputs": [],
   "source": [
    "# -*- coding: utf-8 -*-\n",
    "import dash\n",
    "import dash_core_components as dcc\n",
    "import dash_html_components as html\n",
    "\n",
    "app = dash.Dash()\n",
    "\n",
    "app.layout = html.Div(children=[\n",
    "    html.H1(children='Hello Dash'),\n",
    "\n",
    "    html.Div(children='''\n",
    "        Dash: A web application framework for Python.\n",
    "    '''),\n",
    "\n",
    "    dcc.Graph(\n",
    "        figure={ 'data': [\n",
    "                    {'x': [1, 2, 3], 'y': [4, 1, 2], 'type': 'bar', 'name': 'SF'},\n",
    "                    {'x': [1, 2, 3], 'y': [2, 4, 5], 'type': 'bar', 'name': u'Montréal'},\n",
    "                 ],\n",
    "                 'layout': { 'title': 'Dash Data Visualization' }\n",
    "        }\n",
    "    )\n",
    "])\n",
    "\n",
    "if __name__ == '__main__':\n",
    "    app.run_server(debug=True)"
   ]
  },
  {
   "cell_type": "markdown",
   "metadata": {},
   "source": [
    "On sauve ce fichier, dans `dashboard.py` par exemple, puis on l'exécuter avec `python dashboard.py`. Il indique qu'on peut voir le résultat à l'URL  `http://127.0.0.1:8050/` dans son navigateur. Voici une copie écran du résultat :\n",
    "\n",
    "![Dash 1](images/dash1.png)"
   ]
  },
  {
   "cell_type": "markdown",
   "metadata": {},
   "source": [
    "Le tableau de bord est l'objet `dash.Dash()`. On range tout dans `app.layout` et on l'exécute avec `app.run_server`.\n",
    "\n",
    "La mise en page de cet exemple comprend les éléments\n",
    "\n",
    "* `html.H1` pour afficher le titre 'Hello Dash' (notez que `children` est optionnel puisque c'est le premier argument,\n",
    "   mais cela souligne le fait qu'une page web est un arbre avec des fils (enfants) pour chaque noeud).\n",
    "* `html.Div` une section de texte,\n",
    "* `dcc.Graph` pour le graphe qui est comme ce qu'on a vue avec Plotly.\n",
    "\n",
    "On note qu'on a des composant \n",
    "\n",
    "* [Dash HTML](https://dash.plot.ly/dash-html-components) \n",
    "* [Dash Core](https://dash.plot.ly/dash-core-components)\n",
    "\n",
    "On note aussi que le graphe est toujours interactif (même si la copie d'écran ne l'est pas)."
   ]
  },
  {
   "cell_type": "markdown",
   "metadata": {
    "variables": {
     " PreviousNext(\"30 -- Maps with Folium.ipynb\", \"41 -- A dashboard with Dash -- Events.ipynb\") ": "&nbsp; &nbsp; &nbsp; &nbsp; &nbsp; &nbsp; &nbsp; &nbsp; &nbsp; &nbsp; &nbsp; &nbsp; &nbsp; &nbsp; &nbsp; &nbsp; &nbsp; &nbsp; &nbsp; &nbsp; &nbsp; &nbsp; &nbsp; &nbsp; &nbsp; &nbsp; &nbsp; &nbsp; &nbsp; &nbsp; &nbsp; &nbsp; &nbsp; &nbsp; &nbsp; &nbsp; &nbsp; &nbsp; &nbsp; &nbsp; &nbsp; &nbsp; &nbsp; &nbsp; &nbsp; &nbsp; &nbsp; &nbsp; &nbsp; &nbsp; &nbsp; &nbsp; &nbsp; &nbsp; &nbsp; &nbsp; &nbsp; &nbsp; &nbsp; &nbsp; &nbsp; &nbsp; &nbsp; &nbsp; &nbsp; &nbsp; &nbsp; &nbsp; &nbsp; &nbsp; &nbsp; &nbsp; &nbsp; &nbsp; &nbsp; &nbsp; &nbsp; &nbsp; &nbsp; &nbsp; &nbsp; &nbsp; &nbsp; &nbsp; &nbsp; &nbsp; &nbsp; &nbsp; &nbsp; &nbsp; &nbsp; &nbsp; &nbsp; &nbsp; &nbsp; &nbsp; &nbsp; &nbsp; &nbsp; &nbsp; &nbsp; &nbsp; &nbsp; &nbsp; &nbsp; &nbsp; &nbsp; &nbsp; &nbsp; &nbsp; &nbsp; &nbsp; &nbsp; &nbsp; &nbsp; &nbsp; &nbsp; &nbsp; &nbsp; &nbsp; &nbsp; &nbsp; &nbsp; &nbsp; &nbsp; &nbsp; &nbsp; &nbsp; &nbsp; &nbsp; &nbsp; &nbsp; &nbsp; &nbsp; &nbsp; &nbsp; &nbsp; &nbsp; &nbsp; &nbsp; &nbsp; &nbsp; &nbsp; &nbsp; &nbsp; &nbsp; &nbsp; &nbsp; &nbsp; &nbsp; &nbsp; &nbsp; &nbsp; &nbsp; &nbsp; &nbsp; &nbsp; &nbsp; &nbsp; &nbsp; &nbsp; &nbsp; &nbsp; &nbsp; &nbsp; &nbsp; &nbsp; &nbsp; &nbsp; &nbsp; &nbsp; &nbsp; &nbsp; &nbsp; &nbsp; &nbsp; &nbsp; &nbsp; &nbsp; &nbsp; &nbsp; &nbsp; &nbsp; &nbsp; &nbsp; &nbsp; &nbsp; &nbsp; &nbsp; &nbsp; &nbsp; &nbsp; &nbsp; &nbsp; &nbsp; &nbsp; &nbsp; &nbsp; &nbsp; &nbsp; <br/><center><a href=\"30 -- Maps with Folium.ipynb\">30 -- Maps with Folium</a>&nbsp; ← <a href=\"http://python3.mooc.lrde.epita.fr:8888/tree/lesson7 Graphics\" style=\"text-decoration:none\"> △ </a> → &nbsp;<a href=\"41 -- A dashboard with Dash -- Events.ipynb\">41 -- A dashboard with Dash -- Events</a></center><br/>&nbsp;"
    }
   },
   "source": [
    "{{ PreviousNext(\"30 -- Maps with Folium.ipynb\", \"41 -- A dashboard with Dash -- Events.ipynb\") }}"
   ]
  }
 ],
 "metadata": {
  "kernelspec": {
   "display_name": "Python 3",
   "language": "python",
   "name": "python3"
  },
  "language_info": {
   "codemirror_mode": {
    "name": "ipython",
    "version": 3
   },
   "file_extension": ".py",
   "mimetype": "text/x-python",
   "name": "python",
   "nbconvert_exporter": "python",
   "pygments_lexer": "ipython3",
   "version": "3.6.6"
  },
  "nbTranslate": {
   "displayLangs": [
    "en",
    "fr"
   ],
   "hotkey": "alt-t",
   "langInMainMenu": true,
   "sourceLang": "fr",
   "targetLang": "en",
   "useGoogleTranslate": true
  }
 },
 "nbformat": 4,
 "nbformat_minor": 2
}

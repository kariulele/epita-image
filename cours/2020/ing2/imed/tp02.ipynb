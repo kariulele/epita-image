{
 "cells": [
  {
   "cell_type": "markdown",
   "metadata": {},
   "source": [
    "# TP IMED 02: MR IMAGE SEGMENTATION AND ANALYSIS\n",
    "\n",
    "The goal of this 3-hour session is to perform classical segmentation algorithms on brain MR images and to make prediction from the segmentations. The provided code, in Python, is uncomplete and you need to complete it to run successfully the algorithms. Exercises are indicated in red. "
   ]
  },
  {
   "cell_type": "code",
   "execution_count": 68,
   "metadata": {},
   "outputs": [],
   "source": [
    "#System imports\n",
    "from __future__ import print_function\n",
    "from __future__ import division\n",
    "import os\n",
    "import glob\n",
    "import json\n",
    "import collections\n",
    "from ipywidgets import interact, interactive, fixed, interact_manual\n",
    "import ipywidgets as widgets"
   ]
  },
  {
   "cell_type": "code",
   "execution_count": 69,
   "metadata": {},
   "outputs": [],
   "source": [
    "#Extra import\n",
    "%matplotlib inline\n",
    "import numpy as np\n",
    "import nibabel as nib\n",
    "from matplotlib import pyplot as plt\n",
    "from scipy import ndimage\n",
    "import progressbar #not essential to the session"
   ]
  },
  {
   "cell_type": "markdown",
   "metadata": {},
   "source": [
    "## Segmentation\n",
    "\n",
    "We propose to work with MR images from patients with gliomas (<font color='blue'>[Menze et al., TMI, 2015]</font>). The available data for each patient consist in manual segmentation, pre-processed Gadolinium enhanced T1w and FLAIR nifti images acquired in a single time session. The pre-processing steps were the following:\n",
    "\n",
    "- rigid co-registration of each FLAIR on the T1-GDw image of the same patient, using a mutual information criterion (and ITK !),\n",
    "- T1Gd and FLAIR resampling to have 1-isotropic voxel and axial orientation,\n",
    "- brain removal.\n",
    "\n",
    "Here, the dataset has been modified to follow the BIDS convention (see https://bids.neuroimaging.io/ for more information)."
   ]
  },
  {
   "cell_type": "code",
   "execution_count": 247,
   "metadata": {},
   "outputs": [],
   "source": [
    "#Get the database directory\n",
    "datapath = os.path.join(os.path.dirname(os.getcwd()), \"DB2_short\")"
   ]
  },
  {
   "cell_type": "code",
   "execution_count": 248,
   "metadata": {
    "scrolled": true
   },
   "outputs": [
    {
     "name": "stdout",
     "output_type": "stream",
     "text": [
      "C:\\Users\\helen\\Documents\\enseignement\\epita2019\\IMED\\DB2\\sourcedata\\sub-094\\ses-01\\anat\\sub-094_ses-01_ce-GADOLINIUM_T1w.nii.gz\n"
     ]
    }
   ],
   "source": [
    "#Get the T1Gd image path from a specific subject\n",
    "sid = \"sub-094\"\n",
    "impath = os.path.join(datapath, \"sourcedata\", sid, \"ses-01\", \"anat\", \"{0}_ses-01_ce-GADOLINIUM_T1w.nii.gz\".format(sid))\n",
    "print(impath)"
   ]
  },
  {
   "cell_type": "code",
   "execution_count": 249,
   "metadata": {},
   "outputs": [
    {
     "name": "stdout",
     "output_type": "stream",
     "text": [
      "Image dimension: (240, 240, 155)\n",
      "Voxel size (mm): (1.0, 1.0, 1.0)\n"
     ]
    }
   ],
   "source": [
    "#Load the nifti image\n",
    "im = nib.load(impath)\n",
    "im_arr = im.get_data()\n",
    "\n",
    "print(\"Image dimension:\", im.shape)\n",
    "print(\"Voxel size (mm):\", im.header.get_zooms())\n",
    "sx, sy, sz = im.shape"
   ]
  },
  {
   "cell_type": "markdown",
   "metadata": {},
   "source": [
    "Let's first try to get the brain mask, here the image foreground. We propose to extract the brain mask using the Otsu thresholding method.\n",
    "\n",
    "<font color='red'>Define the Otsu's thresholding function (you may reuse a previously coded function or even use a function from a library, but make sure that it does work with 3D images).</font> "
   ]
  },
  {
   "cell_type": "code",
   "execution_count": 250,
   "metadata": {},
   "outputs": [],
   "source": [
    "#Define the Otsu thresholding function \n",
    "def otsu(im_arr, mask_arr):\n",
    "    \n",
    "    \"\"\"Otsu thresholding function  \n",
    "\n",
    "    im_arr: array,\n",
    "        the mr image array\n",
    "    mask_arr: array\n",
    "        the binary mask array\n",
    "        \n",
    "    Outputs:   \n",
    "    threshold_val: float,\n",
    "        the threshold value\n",
    "    \"\"\"\n",
    "        \n",
    "     #... To complete ...\n",
    "    \n",
    "    return threshold_val"
   ]
  },
  {
   "cell_type": "markdown",
   "metadata": {},
   "source": [
    "<font color='red'>Extract the brain mask using the 3D Otsu's method. Complete the following code cell to with post-processing steps to improve the segmentation.</font> "
   ]
  },
  {
   "cell_type": "code",
   "execution_count": 251,
   "metadata": {},
   "outputs": [
    {
     "data": {
      "application/vnd.jupyter.widget-view+json": {
       "model_id": "a8dc1a6b83a94e9d8dc258851aee6fd3",
       "version_major": 2,
       "version_minor": 0
      },
      "text/plain": [
       "interactive(children=(IntSlider(value=77, description='mr_slice', max=155), Output()), _dom_classes=('widget-i…"
      ]
     },
     "metadata": {},
     "output_type": "display_data"
    }
   ],
   "source": [
    "#Compute the brain mask using a 3D Otsu thresholding method\n",
    "thresh_val = otsu(im_arr, np.ones((sx, sy, sz)))\n",
    "brain_arr = (im_arr >= thresh_val).astype(int)\n",
    "\n",
    "# Fill the holes in the brain mask (you may use the Scipy binary_fill_holes function)\n",
    "for mr_slice in range(0, sz):\n",
    "    brain_arr[:, :, mr_slice] = ndimage.binary_fill_holes(brain_arr[:, :, mr_slice]).astype(int)\n",
    "\n",
    "def show_result(im_arr, seg_arr, mr_slice):\n",
    "    \"\"\" Superimpose the MR slice image and the segmentation contour\n",
    "    Inputs:\n",
    "    im_arr: 3D array,\n",
    "        the mr image array\n",
    "    seg_arr: 3D array\n",
    "        the binary segmentation array\n",
    "    mr_slice: int,\n",
    "        the MR slice to show\n",
    "    Outputs:   \n",
    "    threshold_val: float,\n",
    "        the threshold value   \n",
    "    \"\"\"\n",
    "    plt.imshow(im_arr[:,:,mr_slice].T, cmap=\"gray\")\n",
    "    plt.contour(seg_arr[:,:,mr_slice].T, colors=\"r\", linewidths=1, levels=[0.5, 1])\n",
    "    plt.axis('off')\n",
    "    plt.pause(0.1)\n",
    "\n",
    "#Show the result        \n",
    "interactive_plot = interactive(show_result, im_arr=fixed(im_arr), seg_arr=fixed(brain_arr), mr_slice=(0, sz, 1))\n",
    "interactive_plot "
   ]
  },
  {
   "cell_type": "markdown",
   "metadata": {},
   "source": [
    "Now we extracted the brain mask, let's find tumor markers. We hypothesize that a tumor distribution in intensity differs from the one of the healthy tissues. Thus, we are going to try entropy thresholding as a initialization step.\n",
    "\n",
    "<font color='red'>Define the maximum entropy thresholding function (make sure it works with 3D images).</font> "
   ]
  },
  {
   "cell_type": "code",
   "execution_count": 252,
   "metadata": {},
   "outputs": [],
   "source": [
    "#Define the maximum entropy thresholding function \n",
    "def max_entropy(im_arr, mask_arr):\n",
    "\n",
    "    \"\"\"Maximum entropy thresholding function \n",
    "    Inputs:\n",
    "    im_arr: array,\n",
    "        the mr image array\n",
    "    mask_arr: array\n",
    "        the binary mask array\n",
    "        \n",
    "    Outputs:   \n",
    "    threshold_val: float,\n",
    "        the threshold value\n",
    "    \"\"\"\n",
    "    \n",
    "     #... To complete ...\n",
    "    \n",
    "    return threshold_val"
   ]
  },
  {
   "cell_type": "markdown",
   "metadata": {},
   "source": [
    "<font color='red'>Get tumor markers using a 3D maximum entropy thresholding. Complete the following code cell to improve the segmentation.</font> "
   ]
  },
  {
   "cell_type": "code",
   "execution_count": 253,
   "metadata": {},
   "outputs": [
    {
     "data": {
      "application/vnd.jupyter.widget-view+json": {
       "model_id": "c6b6aa30d4e3410c91384373b35dd136",
       "version_major": 2,
       "version_minor": 0
      },
      "text/plain": [
       "interactive(children=(IntSlider(value=77, description='mr_slice', max=154), Output()), _dom_classes=('widget-i…"
      ]
     },
     "metadata": {},
     "output_type": "display_data"
    }
   ],
   "source": [
    "#Initialize the tumor segmentation with a 3D maximum entropy thresholding\n",
    "thresh_val = max_entropy(im_arr, brain_arr)\n",
    "init_seg_arr = (im_arr >= thresh_val).astype(int) \n",
    "\n",
    "#Fill the holes in the segmentation array (you may use the Scipy binary_fill_holes function)\n",
    "#... To complete ...\n",
    "    \n",
    "#Extract only the connected component of highest volume (26-connectivity) \n",
    "#You may use the Scipy label function...\n",
    "init_seg_arr =   #... To complete ...\n",
    "\n",
    "#Show the result        \n",
    "interactive_plot = interactive(show_result, im_arr=fixed(im_arr), seg_arr=fixed(init_seg_arr), mr_slice=(0, sz - 1, 1))\n",
    "interactive_plot "
   ]
  },
  {
   "cell_type": "markdown",
   "metadata": {},
   "source": [
    "The segmentation we obtained is quite good actually ! Let's try to improve it using a more sophisticated algorithm, as the Watershed algorithm <font color='blue'>[Beucher, S. and Lantuéjoul, C., 1979] </font>. \n",
    "To that purpose, you will find a simplified implementation of the Watershed algorithm in the cell below.\n",
    "\n",
    "<font color='red'>Read the code below and ensure that you understand the algorithm steps. </font> "
   ]
  },
  {
   "cell_type": "code",
   "execution_count": 260,
   "metadata": {},
   "outputs": [],
   "source": [
    "#Home made watershed with markers !\n",
    "def homemade_watershed(im_arr, mask_arr, markers_arr, se):\n",
    "    \"\"\" Watershed segmentation\n",
    "    Inputs:\n",
    "    im_arr: 2D or 3D array,\n",
    "        the mr image array\n",
    "    mask_arr: 2D or 3D array\n",
    "        the binary mask array\n",
    "    markers_arr: 2D or 3D array,\n",
    "        the labelled marker array \n",
    "    se: 3x3 or 3x3x3 array,\n",
    "        the structuring element defining the connectivity\n",
    "    Outputs:   \n",
    "    seg_arr: 2D or 3D array,\n",
    "        the segmentation array    \n",
    "    \"\"\"\n",
    "        \n",
    "    #Requantize the image array to reduce computation time and gray levels\n",
    "    im_arr = 255 * (im_arr - np.min(im_arr[mask_arr == 1])) / (np.max(im_arr[mask_arr == 1]) - np.min(im_arr[mask_arr == 1]))\n",
    "    im_arr = im_arr.astype(int)\n",
    "\n",
    "    #Sort the intensity value from lowest to highest value    \n",
    "    intensity_vals = list(np.unique(im_arr[mask_arr > 0]))\n",
    "    intensity_vals.sort()\n",
    "    #print(\"{0} grey levels to process\".format(len(intensity_vals)))\n",
    "          \n",
    "    seg_arr = np.zeros(im_arr.shape).astype(int)\n",
    "    ##remove the line below and reduce the indent if the progressbar library is not loaded\n",
    "    with progressbar.ProgressBar(max_value=len(intensity_vals), redirect_stdout=True) as bar:\n",
    "        #Go through each intensity value, sorted in ascent order\n",
    "        for cnt_k, k in enumerate(intensity_vals):\n",
    "\n",
    "            #Level set at level k\n",
    "            kls_arr = np.logical_and(mask_arr > 0, im_arr == k).astype(int)\n",
    "\n",
    "            #Union between the k level set and the previous segmentation\n",
    "            kseg_arr = np.logical_or(kls_arr, seg_arr > 0).astype(int)\n",
    "\n",
    "            #Connected components    \n",
    "            ccs_arr, nb_ccs = ndimage.label(kseg_arr, structure=se)\n",
    "\n",
    "            #Get the connected components (cc) including a marker\n",
    "            ccs_with_markers = np.unique(ccs_arr[markers_arr != 0])\n",
    "            ccs_with_markers = list(ccs_with_markers[ccs_with_markers != 0])\n",
    "\n",
    "            #For each cc with markers, check if there is only one marker included\n",
    "            for cc_id in ccs_with_markers:\n",
    "                marker_ids = np.unique(markers_arr[ccs_arr == cc_id])\n",
    "                marker_ids = list(marker_ids[marker_ids != 0])\n",
    "\n",
    "                #If so, add the whole cc area into the segmentation of the region\n",
    "                #associated with the marker\n",
    "                if len(marker_ids) == 1:\n",
    "                    seg_arr[ccs_arr == cc_id] = marker_ids[0]\n",
    "\n",
    "            #Update the progress bar \n",
    "            bar.update(cnt_k) #remove this line and reduce the indent if the progressbar library is not loaded\n",
    "            \n",
    "    return seg_arr        "
   ]
  },
  {
   "cell_type": "markdown",
   "metadata": {},
   "source": [
    "<font color='red'>Try the 2D version of the homemade watershed algorithm on the 77th axial MR slice.\n",
    "- According to the code implementation, choose wisely the function input.\n",
    "- Use 8-connectivity.    \n",
    "- Take the labelled mr slice local maxima as initial markers (use the Scipy label function to obtain a labelled image).\n",
    "- Comment the result.    \n",
    "</font> "
   ]
  },
  {
   "cell_type": "code",
   "execution_count": 256,
   "metadata": {},
   "outputs": [
    {
     "name": "stderr",
     "output_type": "stream",
     "text": [
      "  2% (49 of 1963) |                      | Elapsed Time: 0:00:00 ETA:   0:00:06"
     ]
    },
    {
     "name": "stdout",
     "output_type": "stream",
     "text": [
      "1963 grey levels to process\n"
     ]
    },
    {
     "name": "stderr",
     "output_type": "stream",
     "text": [
      "100% (1963 of 1963) |####################| Elapsed Time: 0:00:13 Time:  0:00:13\n"
     ]
    },
    {
     "data": {
      "text/plain": [
       "(-0.5, 239.5, 239.5, -0.5)"
      ]
     },
     "execution_count": 256,
     "metadata": {},
     "output_type": "execute_result"
    },
    {
     "data": {
      "image/png": "[encoded data removed]",
      "text/plain": [
       "<Figure size 432x288 with 1 Axes>"
      ]
     },
     "metadata": {
      "needs_background": "light"
     },
     "output_type": "display_data"
    }
   ],
   "source": [
    "#Test the homemade watershed on the 55th axial MR slice\n",
    "mr_slice = 69\n",
    "\n",
    "#Define the MR slice array\n",
    "slice_arr = im_arr[:, :, mr_slice]\n",
    "\n",
    "#Define the 8-connectivity array\n",
    "se =      #... To complete ...\n",
    "\n",
    "#Marker initialization\n",
    "markers_arr =  #... To complete ...\n",
    "\n",
    "#2D Watershed segmentation\n",
    "seg_arr =  homemade_watershed   #... To complete ...\n",
    "\n",
    "#Show the result on the MR slice\n",
    "plt.imshow(seg_arr.T, cmap=\"gray\")\n",
    "plt.contour(markers_arr.T, colors=\"b\", linewidths=1, levels=[0.5, 1])\n",
    "plt.axis('off')"
   ]
  },
  {
   "cell_type": "markdown",
   "metadata": {},
   "source": [
    "<font color='red'>Try the 2D version of the homemade watershed algorithm on the 76th axial MR slice.\n",
    "- According to the code implementation, choose wisely the function input.\n",
    "- Use 8-connectivity. \n",
    "- Use intern and extern tumor markers.    \n",
    "- Comment the result.    \n",
    "</font> "
   ]
  },
  {
   "cell_type": "code",
   "execution_count": 257,
   "metadata": {
    "scrolled": true
   },
   "outputs": [
    {
     "name": "stderr",
     "output_type": "stream",
     "text": [
      "  5% (100 of 1963) |#                    | Elapsed Time: 0:00:00 ETA:   0:00:03"
     ]
    },
    {
     "name": "stdout",
     "output_type": "stream",
     "text": [
      "1963 grey levels to process\n"
     ]
    },
    {
     "name": "stderr",
     "output_type": "stream",
     "text": [
      "100% (1963 of 1963) |####################| Elapsed Time: 0:00:02 Time:  0:00:02\n"
     ]
    },
    {
     "data": {
      "text/plain": [
       "(-0.5, 239.5, 239.5, -0.5)"
      ]
     },
     "execution_count": 257,
     "metadata": {},
     "output_type": "execute_result"
    },
    {
     "data": {
      "image/png": "[encoded data removed]",
      "text/plain": [
       "<Figure size 432x288 with 1 Axes>"
      ]
     },
     "metadata": {
      "needs_background": "light"
     },
     "output_type": "display_data"
    }
   ],
   "source": [
    "#Test the homemade watershed on one MR slice\n",
    "mr_slice = 69\n",
    "\n",
    "#Initialization:\n",
    "#Intern markers = initial segmentation \n",
    "#Extern markers = initial segmentation bounding box + p pixels\n",
    "p = 10\n",
    "markers_arr = np.zeros((sx, sy))\n",
    "[x, y] = np.where(init_seg_arr[:, :, mr_slice] != 0)\n",
    "bb_arr = np.zeros((sx, sy))\n",
    "bb_arr[np.min(x) - p:np.max(x) + p, np.min(y) - p:np.max(y) + p] = 1\n",
    "dist_arr = ndimage.distance_transform_edt(bb_arr).astype(int)\n",
    "markers_arr[np.logical_and(dist_arr > 0, dist_arr < 1.5)] = 2\n",
    "markers_arr[init_seg_arr[:, :, mr_slice] == 1] = 1\n",
    "\n",
    "#Define the 8-connectivity array\n",
    "se = #... To complete ...\n",
    "\n",
    "#2D Watershed segmentation\n",
    "seg_arr = homemade_watershed(#... To complete ...)\n",
    "\n",
    "#Extract the segmentation obtained from the intern markers\n",
    "seg_arr = (seg_arr == 1).astype(int)\n",
    "\n",
    "#Show the result on the 44th axial MR slice\n",
    "plt.imshow(im_arr[:, :, mr_slice].T, cmap=\"gray\")\n",
    "plt.contour(markers_arr.T, colors=\"b\", linewidths=1, levels=[1.5, 2])\n",
    "plt.contour(seg_arr.T, colors=\"r\", linewidths=1, levels=[0.5, 1])\n",
    "plt.axis('off')"
   ]
  },
  {
   "cell_type": "markdown",
   "metadata": {},
   "source": [
    "<font color='red'>Try the homemade watershed algorith on all the MR slices (2D version)\n",
    "</font> "
   ]
  },
  {
   "cell_type": "code",
   "execution_count": 261,
   "metadata": {},
   "outputs": [
    {
     "name": "stderr",
     "output_type": "stream",
     "text": [
      "100% (1568 of 1568) |####################| Elapsed Time: 0:00:02 Time:  0:00:02\n",
      "100% (1613 of 1613) |####################| Elapsed Time: 0:00:02 Time:  0:00:02\n",
      "100% (1655 of 1655) |####################| Elapsed Time: 0:00:02 Time:  0:00:02\n",
      "100% (1705 of 1705) |####################| Elapsed Time: 0:00:02 Time:  0:00:02\n",
      "100% (1762 of 1762) |####################| Elapsed Time: 0:00:02 Time:  0:00:02\n",
      "100% (1819 of 1819) |####################| Elapsed Time: 0:00:03 Time:  0:00:03\n",
      "100% (1849 of 1849) |####################| Elapsed Time: 0:00:02 Time:  0:00:02\n",
      "100% (1868 of 1868) |####################| Elapsed Time: 0:00:02 Time:  0:00:02\n",
      "100% (1897 of 1897) |####################| Elapsed Time: 0:00:02 Time:  0:00:02\n",
      "100% (1904 of 1904) |####################| Elapsed Time: 0:00:02 Time:  0:00:02\n",
      "100% (1924 of 1924) |####################| Elapsed Time: 0:00:03 Time:  0:00:03\n",
      "100% (1935 of 1935) |####################| Elapsed Time: 0:00:03 Time:  0:00:03\n",
      "100% (1942 of 1942) |####################| Elapsed Time: 0:00:03 Time:  0:00:03\n",
      "100% (1963 of 1963) |####################| Elapsed Time: 0:00:03 Time:  0:00:03\n",
      "100% (1926 of 1926) |####################| Elapsed Time: 0:00:03 Time:  0:00:03\n",
      "100% (1929 of 1929) |####################| Elapsed Time: 0:00:03 Time:  0:00:03\n",
      "100% (1946 of 1946) |####################| Elapsed Time: 0:00:03 Time:  0:00:03\n",
      "100% (1950 of 1950) |####################| Elapsed Time: 0:00:03 Time:  0:00:03\n",
      "100% (2004 of 2004) |####################| Elapsed Time: 0:00:03 Time:  0:00:03\n",
      "100% (2007 of 2007) |####################| Elapsed Time: 0:00:03 Time:  0:00:03\n",
      "100% (2014 of 2014) |####################| Elapsed Time: 0:00:03 Time:  0:00:03\n",
      "100% (2015 of 2015) |####################| Elapsed Time: 0:00:03 Time:  0:00:03\n",
      "100% (2022 of 2022) |####################| Elapsed Time: 0:00:02 Time:  0:00:02\n",
      "100% (1990 of 1990) |####################| Elapsed Time: 0:00:02 Time:  0:00:02\n",
      "100% (1981 of 1981) |####################| Elapsed Time: 0:00:03 Time:  0:00:03\n",
      "100% (1957 of 1957) |####################| Elapsed Time: 0:00:03 Time:  0:00:03\n",
      "100% (1963 of 1963) |####################| Elapsed Time: 0:00:02 Time:  0:00:02\n",
      "100% (1951 of 1951) |####################| Elapsed Time: 0:00:02 Time:  0:00:02\n",
      "100% (1935 of 1935) |####################| Elapsed Time: 0:00:02 Time:  0:00:02\n",
      "100% (1906 of 1906) |####################| Elapsed Time: 0:00:03 Time:  0:00:03\n",
      "100% (1881 of 1881) |####################| Elapsed Time: 0:00:02 Time:  0:00:02\n",
      "100% (1834 of 1834) |####################| Elapsed Time: 0:00:02 Time:  0:00:02\n",
      "100% (1815 of 1815) |####################| Elapsed Time: 0:00:02 Time:  0:00:02\n",
      "100% (1755 of 1755) |####################| Elapsed Time: 0:00:02 Time:  0:00:02\n",
      "100% (1711 of 1711) |####################| Elapsed Time: 0:00:02 Time:  0:00:02\n",
      "100% (1687 of 1687) |####################| Elapsed Time: 0:00:02 Time:  0:00:02\n",
      "100% (1669 of 1669) |####################| Elapsed Time: 0:00:02 Time:  0:00:02\n",
      "100% (1617 of 1617) |####################| Elapsed Time: 0:00:02 Time:  0:00:02\n",
      "100% (1575 of 1575) |####################| Elapsed Time: 0:00:02 Time:  0:00:02\n",
      "100% (1509 of 1509) |####################| Elapsed Time: 0:00:02 Time:  0:00:02\n",
      "100% (1397 of 1397) |####################| Elapsed Time: 0:00:02 Time:  0:00:02\n",
      "100% (1315 of 1315) |####################| Elapsed Time: 0:00:02 Time:  0:00:02\n",
      "100% (1319 of 1319) |####################| Elapsed Time: 0:00:01 Time:  0:00:01\n"
     ]
    },
    {
     "data": {
      "application/vnd.jupyter.widget-view+json": {
       "model_id": "8ef24cb9cff34a2985e7ab6d32ab6ffa",
       "version_major": 2,
       "version_minor": 0
      },
      "text/plain": [
       "interactive(children=(IntSlider(value=77, description='mr_slice', max=154), Output()), _dom_classes=('widget-i…"
      ]
     },
     "metadata": {},
     "output_type": "display_data"
    }
   ],
   "source": [
    "#2D watershed slice by slice\n",
    "\n",
    "se = #... To complete ...\n",
    "seg2d_arr = np.ones((sx, sy, sz))\n",
    "\n",
    "#Initialization\n",
    "markers_arr = np.zeros((sx, sy, sz))\n",
    "[x, y, z] = np.where(init_seg_arr != 0)\n",
    "p = 10\n",
    "bb_arr = np.zeros((sx, sy, sz))\n",
    "bb_arr[np.min(x) - p:np.max(x) + p, np.min(y) - p:np.max(y) + p, np.min(z) - p:np.max(z) + p] = 1\n",
    "dist_arr = ndimage.distance_transform_edt(bb_arr).astype(int)\n",
    "markers_arr[np.logical_and(dist_arr > 0, dist_arr < 1.5)] = 2\n",
    "markers_arr[init_seg_arr == 1] = 1\n",
    "\n",
    "#2D watershed segmentation, MR axial slice by MR axial slice\n",
    "for mr_slice in range(0, sz):\n",
    "    if np.count_nonzero(init_seg_arr[:, :, mr_slice]) > 0:    \n",
    "        seg2d_arr[:, :, mr_slice] = homemade_watershed(#... To complete ...)\n",
    "\n",
    "#Restrict the segmentation to the tumor class     \n",
    "seg2d_arr = (seg2d_arr == 1).astype(int)\n",
    "\n",
    "#Fill holes\n",
    "seg2d_arr = #... To complete ...\n",
    "            \n",
    "#Show the result        \n",
    "interactive_plot = interactive(show_result, im_arr=fixed(im_arr), seg_arr=fixed(seg2d_arr), mr_slice=(0, sz - 1, 1))\n",
    "interactive_plot"
   ]
  },
  {
   "cell_type": "markdown",
   "metadata": {},
   "source": [
    "<font color='red'>Try the homemade watershed algorith on the whole volume (3D version).\n",
    "</font> "
   ]
  },
  {
   "cell_type": "code",
   "execution_count": 262,
   "metadata": {},
   "outputs": [
    {
     "name": "stderr",
     "output_type": "stream",
     "text": [
      "100% (2832 of 2832) |####################| Elapsed Time: 0:01:20 Time:  0:01:20\n"
     ]
    },
    {
     "ename": "KeyboardInterrupt",
     "evalue": "",
     "output_type": "error",
     "traceback": [
      "\u001b[1;31m---------------------------------------------------------------------------\u001b[0m",
      "\u001b[1;31mKeyboardInterrupt\u001b[0m                         Traceback (most recent call last)",
      "\u001b[1;32m<ipython-input-262-a79fc759948c>\u001b[0m in \u001b[0;36m<module>\u001b[1;34m\u001b[0m\n\u001b[0;32m     13\u001b[0m \u001b[1;33m\u001b[0m\u001b[0m\n\u001b[0;32m     14\u001b[0m \u001b[1;31m#2D watershed algorithm\u001b[0m\u001b[1;33m\u001b[0m\u001b[1;33m\u001b[0m\u001b[1;33m\u001b[0m\u001b[0m\n\u001b[1;32m---> 15\u001b[1;33m \u001b[0mseg3d_arr\u001b[0m \u001b[1;33m=\u001b[0m \u001b[0mhomemade_watershed\u001b[0m\u001b[1;33m(\u001b[0m\u001b[1;33m-\u001b[0m\u001b[0mim_arr\u001b[0m\u001b[1;33m,\u001b[0m \u001b[0mbrain_arr\u001b[0m\u001b[1;33m,\u001b[0m \u001b[0mmarkers_arr\u001b[0m\u001b[1;33m,\u001b[0m \u001b[0mse\u001b[0m\u001b[1;33m)\u001b[0m\u001b[1;33m\u001b[0m\u001b[1;33m\u001b[0m\u001b[0m\n\u001b[0m\u001b[0;32m     16\u001b[0m \u001b[0mseg3d_arr\u001b[0m \u001b[1;33m=\u001b[0m \u001b[1;33m(\u001b[0m\u001b[0mseg3d_arr\u001b[0m \u001b[1;33m==\u001b[0m \u001b[1;36m1\u001b[0m\u001b[1;33m)\u001b[0m\u001b[1;33m.\u001b[0m\u001b[0mastype\u001b[0m\u001b[1;33m(\u001b[0m\u001b[0mint\u001b[0m\u001b[1;33m)\u001b[0m\u001b[1;33m\u001b[0m\u001b[1;33m\u001b[0m\u001b[0m\n\u001b[0;32m     17\u001b[0m \u001b[1;33m\u001b[0m\u001b[0m\n",
      "\u001b[1;32m<ipython-input-260-e11254e90d94>\u001b[0m in \u001b[0;36mhomemade_watershed\u001b[1;34m(im_arr, mask_arr, markers_arr, se)\u001b[0m\n\u001b[0;32m     38\u001b[0m \u001b[1;33m\u001b[0m\u001b[0m\n\u001b[0;32m     39\u001b[0m             \u001b[1;31m#Connected components\u001b[0m\u001b[1;33m\u001b[0m\u001b[1;33m\u001b[0m\u001b[1;33m\u001b[0m\u001b[0m\n\u001b[1;32m---> 40\u001b[1;33m             \u001b[0mccs_arr\u001b[0m\u001b[1;33m,\u001b[0m \u001b[0mnb_ccs\u001b[0m \u001b[1;33m=\u001b[0m \u001b[0mndimage\u001b[0m\u001b[1;33m.\u001b[0m\u001b[0mlabel\u001b[0m\u001b[1;33m(\u001b[0m\u001b[0mkseg_arr\u001b[0m\u001b[1;33m,\u001b[0m \u001b[0mstructure\u001b[0m\u001b[1;33m=\u001b[0m\u001b[0mse\u001b[0m\u001b[1;33m)\u001b[0m\u001b[1;33m\u001b[0m\u001b[1;33m\u001b[0m\u001b[0m\n\u001b[0m\u001b[0;32m     41\u001b[0m \u001b[1;33m\u001b[0m\u001b[0m\n\u001b[0;32m     42\u001b[0m             \u001b[1;31m#Get the connected components (cc) including a marker\u001b[0m\u001b[1;33m\u001b[0m\u001b[1;33m\u001b[0m\u001b[1;33m\u001b[0m\u001b[0m\n",
      "\u001b[1;32mc:\\users\\helen\\appdata\\local\\programs\\python\\python37\\lib\\site-packages\\scipy\\ndimage\\measurements.py\u001b[0m in \u001b[0;36mlabel\u001b[1;34m(input, structure, output)\u001b[0m\n\u001b[0;32m    186\u001b[0m \u001b[1;33m\u001b[0m\u001b[0m\n\u001b[0;32m    187\u001b[0m     \u001b[1;32mtry\u001b[0m\u001b[1;33m:\u001b[0m\u001b[1;33m\u001b[0m\u001b[1;33m\u001b[0m\u001b[0m\n\u001b[1;32m--> 188\u001b[1;33m         \u001b[0mmax_label\u001b[0m \u001b[1;33m=\u001b[0m \u001b[0m_ni_label\u001b[0m\u001b[1;33m.\u001b[0m\u001b[0m_label\u001b[0m\u001b[1;33m(\u001b[0m\u001b[0minput\u001b[0m\u001b[1;33m,\u001b[0m \u001b[0mstructure\u001b[0m\u001b[1;33m,\u001b[0m \u001b[0moutput\u001b[0m\u001b[1;33m)\u001b[0m\u001b[1;33m\u001b[0m\u001b[1;33m\u001b[0m\u001b[0m\n\u001b[0m\u001b[0;32m    189\u001b[0m     \u001b[1;32mexcept\u001b[0m \u001b[0m_ni_label\u001b[0m\u001b[1;33m.\u001b[0m\u001b[0mNeedMoreBits\u001b[0m\u001b[1;33m:\u001b[0m\u001b[1;33m\u001b[0m\u001b[1;33m\u001b[0m\u001b[0m\n\u001b[0;32m    190\u001b[0m         \u001b[1;31m# Make another attempt with enough bits, then try to cast to the\u001b[0m\u001b[1;33m\u001b[0m\u001b[1;33m\u001b[0m\u001b[1;33m\u001b[0m\u001b[0m\n",
      "\u001b[1;31mKeyboardInterrupt\u001b[0m: "
     ]
    }
   ],
   "source": [
    "#Initialization\n",
    "markers_arr = np.zeros((sx, sy, sz))\n",
    "[x, y, z] = np.where(init_seg_arr != 0)\n",
    "p = 10\n",
    "bb_arr = np.zeros((sx, sy, sz))\n",
    "bb_arr[np.min(x) - p:np.max(x) + p, np.min(y) - p:np.max(y) + p, np.min(z) - p:np.max(z) + p] = 1\n",
    "dist_arr = ndimage.distance_transform_edt(bb_arr).astype(int)\n",
    "markers_arr[np.logical_and(dist_arr > 0, dist_arr < 1.5)] = 2\n",
    "markers_arr[init_seg_arr == 1] = 1\n",
    "\n",
    "#3D connectivity array (26-connectivity)\n",
    "se = seg2d_arr = #... To complete ...\n",
    "\n",
    "\n",
    "#2D watershed algorithm\n",
    "seg3d_arr = homemade_watershed( #... To complete ...)\n",
    "\n",
    "#Get only the tumor segmentation\n",
    "seg3d_arr = (seg3d_arr == 1).astype(int)\n",
    "\n",
    "#Fill holes\n",
    "seg3d_arr = #... To complete ...\n",
    "\n",
    "#Show the result        \n",
    "interactive_plot = interactive(show_result, im_arr=fixed(im_arr), seg_arr=fixed(seg3d_arr), mr_slice=(0, sz-1, 1))\n",
    "interactive_plot"
   ]
  },
  {
   "cell_type": "markdown",
   "metadata": {},
   "source": [
    "The difference between 2D and 3D segmentation may not be easy to assess visually.\n",
    "We are going to assess the segmentation quality quantitatively.\n",
    "\n",
    "<font color='red'>For each automatic segmentation type, compute the Dice coefficient between the automatic and manual segmentation, excluding the edema. Comment.\n",
    "Same using the Hausdorff distance. \n",
    "</font> "
   ]
  },
  {
   "cell_type": "markdown",
   "metadata": {},
   "source": [
    "## Image analysis\n",
    "\n",
    "We propose here to predict the tumor grade on the whole database, given in the metadata json file. To that purpose, you need to extract useful tumor biomarkers, and them to perform classification (today we will use machine learning).\n",
    "We divide this section into three parts.\n",
    "\n",
    "First, let's have a look at the whole dataset. We are going to create two folders, one with images of patients with low grade gliomas, and one with patients of high grade gliomas. There will be one png image per patient, corresponding to the axial MR slice with the highest tumor area, and showing all the tumor label contours.\n",
    "\n",
    "<font color='red'>Compare visually the images from the two folders. What biomarker would be interesting ?\n",
    "</font> "
   ]
  },
  {
   "cell_type": "code",
   "execution_count": null,
   "metadata": {},
   "outputs": [],
   "source": [
    "#Get the dataset directory\n",
    "datadir = os.path.join(os.path.dirname(os.getcwd()), \"DB2\")\n",
    "\n",
    "#Get the path of the file associating grade to all the patients\n",
    "metadatapath = os.path.join(datadir, \"metadata.json\")\n",
    "\n",
    "#Import the clinical data\n",
    "with open(metadatapath) as json_file:\n",
    "    clinics = json.load(json_file)\n",
    "\n",
    "#Source and process directories    \n",
    "srcdir = os.path.join(datadir, \"sourcedata\")\n",
    "processdir = os.path.join(datadir, \"derivatives\")\n",
    "\n",
    "#Get all the subject ids\n",
    "sids = glob.glob1(processdir, \"sub-*\")\n",
    "\n",
    "#Create a color dictionary associated to each tumor label\n",
    "color_list = [\"r\", \"b\", \"w\", \"g\", \"k\", \"c\"]\n",
    "colors = {}\n",
    "for label, color in enumerate(color_list):\n",
    "    colors[label + 1] = color\n",
    "\n",
    "#Go through each patient \n",
    "with progressbar.ProgressBar(max_value=len(sids), redirect_stdout=True) as bar:   \n",
    "    for cnt_sid, sid in enumerate(sids):\n",
    "        #Get the MR image path\n",
    "        imfile = \"{0}_ses-01_ce-GADOLINIUM_T1w.nii.gz\".format(sid)\n",
    "        impath = os.path.join(srcdir, sid, \"ses-01\", \"anat\", imfile)\n",
    "        im = nib.load(impath)\n",
    "        im_arr = im.get_data()\n",
    "        spacings = im.header.get_zooms()\n",
    "\n",
    "        #Get the gt path\n",
    "        gtfile = \"{0}_ses-01_gt.nii.gz\".format(sid)\n",
    "        gtpath = os.path.join(processdir, sid, \"ses-01\", \"anat\", gtfile)\n",
    "        gt = nib.load(gtpath)\n",
    "        gt_arr = gt.get_data().astype(int)\n",
    "\n",
    "        #Get the axial mr slice with the highest tumor area \n",
    "        mr_slice = # ... To complete ...\n",
    "\n",
    "        #Plot the result\n",
    "        fig, ax = plt.subplots()\n",
    "        gt_slice_arr = gt_arr[:,:,mr_slice]\n",
    "        labels = np.unique(gt_arr[:,:,mr_slice])\n",
    "        labels = list(labels[labels != 0])\n",
    "        ax.imshow(im_arr[:,:,mr_slice].T, cmap=\"gray\")\n",
    "        for label in labels:\n",
    "            label_arr = (gt_slice_arr == label).astype(int)\n",
    "            ax.contour(label_arr.T, linewidths=1, levels=[0.5, 1], colors=colors[label])\n",
    "        ax.axis('off')\n",
    "        title = \"{0}_ses-01\".format(sid)\n",
    "        ax.set_title(title)\n",
    "        figdir = os.path.join(os.getcwd(), \"figs\", clinics[sid])\n",
    "        \n",
    "        #Create the figure directory with images of specific grade gliomas if necessary\n",
    "        if not os.path.isdir(figdir):\n",
    "            os.makedirs(figdir)\n",
    "        figpath = os.path.join(figdir, \"{0}.png\".format(title))\n",
    "        fig.savefig(figpath)\n",
    "        \n",
    "        #Close the figure (otherwise memory warning)\n",
    "        plt.close(fig)\n",
    "\n",
    "        #Update the progress bar  \n",
    "        bar.update(cnt_sid)\n"
   ]
  },
  {
   "cell_type": "markdown",
   "metadata": {},
   "source": [
    "Then, we need to extract tumor biomarkers.\n",
    "\n",
    "<font color='red'>Extract tumor biomarkers from the manual segmentation. Create an array, with as many lines as there are patients, and as many columns as chosen biomarkers.\n",
    "</font> "
   ]
  },
  {
   "cell_type": "markdown",
   "metadata": {},
   "source": [
    "Finally, we will launch a tumor grade classification from the chosen biomarkers. You will use the Scikit-learn library, and perform cross-validation and ROC analysis. Please find below the main example to follow:\n",
    "https://scikit-learn.org/stable/auto_examples/model_selection/plot_roc_crossval.html\n",
    "The ROC analysis will assess the prediction quality, an area under the ROC curve greater than 0.5 meaning that you predict better than chance."
   ]
  },
  {
   "cell_type": "code",
   "execution_count": null,
   "metadata": {},
   "outputs": [],
   "source": [
    "#NB: feature scaling usually improve the prediction. Perform it after each data split.\n",
    "#from sklearn import preprocessing\n",
    "#scaler = preprocessing.StandardScaler().fit(X_train)\n",
    "#X_train = scaler.transform(X_train)\n",
    "#X_test = scaler.transform(X_test)"
   ]
  }
 ],
 "metadata": {
  "kernelspec": {
   "display_name": "Python 3",
   "language": "python",
   "name": "python3"
  },
  "language_info": {
   "codemirror_mode": {
    "name": "ipython",
    "version": 3
   },
   "file_extension": ".py",
   "mimetype": "text/x-python",
   "name": "python",
   "nbconvert_exporter": "python",
   "pygments_lexer": "ipython3",
   "version": "3.7.3"
  }
 },
 "nbformat": 4,
 "nbformat_minor": 2
}
